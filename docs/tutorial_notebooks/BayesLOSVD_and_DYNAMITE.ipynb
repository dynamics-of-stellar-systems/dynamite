{
 "cells": [
  {
   "cell_type": "markdown",
   "id": "expressed-sunrise",
   "metadata": {},
   "source": [
    "# BayesLOSVD and DYNAMITE\n",
    "\n",
    "This notebook will show how to run DYNAMITE orbit-based models using [BayesLOSVD](https://github.com/jfalconbarroso/BAYES-LOSVD) output. BayesLOSVD is a Python library for the non-parametric extraction of the Line-Of-Sight Velocity Distributions (LOSVDs) in galaxies. Rather than describe the LOSVD using Gauss-Hermite expansion, BayesLOSVD represents the LOSVD in a *histogram* format.\n",
    "\n",
    "1. [An example galaxy: NGC4550](#NGC4550)\n",
    "2. [Data prepearion](#datprep)\n",
    "3. [A look at the BayesLOSVD data](#data_firstlook)\n",
    "4. [Running DYNMAITE](#run_dyn)\n",
    "\n",
    "<a id=\"NGC4550\"></a>\n",
    "## An example galaxy: NGC4550\n",
    "\n",
    "We will model the galaxy NGC4550, which has a complex LOSVD. The following is taken from Figure 7 of Falcón-Barroso & Martig 2020, showing LOSVDs extracted using BayesLOSVD at three regions,\n",
    "\n",
    "<img src=\"NGC4550_input/bayeslosvd_extractions.png\" width=\"400\">\n",
    "\n",
    "We see clearly bimodal LOSVDs in the galaxy outskirts, indicating a strong counter-rotating stellar component.\n",
    "\n",
    "<a id=\"datprep\"></a>\n",
    "## Data preparation\n",
    "\n",
    "We require the ``*_results.hdf5`` output file from BayesLOSVD. Two such files for NGC4550 have been kindly provided by Jesus Falcón-Barroso, and can be found in the directory `NGC4550_input`. They differ in the form of LOSVD regularisation used,\n",
    "- `NGC4550_SAURON-SP_results.hdf5`: using simplex regularisation\n",
    "- `NGC4550_SAURON-RW_results.hdf5`: using random walk regularisation\n",
    "\n",
    "These ``*_results.hdf5`` files contains LOSVD constraints for all spatial regions. For more details, and instructions on creating your own ``*_results.hdf5`` files, see the [BayesLOSVD](https://github.com/jfalconbarroso/BAYES-LOSVD) documentation.\n",
    "\n",
    "To prepeare this data for use in DYNAMITE, we must\n",
    "\n",
    "1. convert kinematics to Astropy ECSV file format\n",
    "2. add the PSF to the kinematics file header\n",
    "3. create the auxillary `aperture.dat` and `bins.dat` files\n",
    "4. get MGE data (in Astropy ECSV format)\n",
    "\n",
    "This can be done as follows,"
   ]
  },
  {
   "cell_type": "code",
   "execution_count": 1,
   "id": "psychological-secretariat",
   "metadata": {},
   "outputs": [
    {
     "name": "stdout",
     "output_type": "stream",
     "text": [
      "Using DYNAMITE version: 1.0.0\n"
     ]
    }
   ],
   "source": [
    "import numpy as np\n",
    "import matplotlib.pyplot as plt\n",
    "from scipy import stats\n",
    "import dynamite as dyn\n",
    "print('Using DYNAMITE version:', dyn.__version__)\n",
    "    \n",
    "BayesLOSVD = dyn.kinematics.BayesLOSVD(weight=1.,\n",
    "                                       hist_width=1,\n",
    "                                       hist_center=0,\n",
    "                                       hist_bins=0,\n",
    "                                       type='BayesLOSVD')\n",
    "infile = 'NGC4550_input/NGC4550_SAURON-SP_results.hdf5'\n",
    "outfile = 'NGC4550_input/dynamite_input/bayes_losvd_kins.ecsv'\n",
    "BayesLOSVD.write_losvds_to_ecsv_format(infile, outfile=outfile)"
   ]
  },
  {
   "cell_type": "markdown",
   "id": "knowing-presentation",
   "metadata": {},
   "source": [
    "We next add the PSF to the kinematics. The seeing - from Table 3 of [Emsellem et al 2004](https://academic.oup.com/mnras/article/352/3/721/1210712) - has FWHM of 2.1 arcsec. We convert this to a Gaussian sigma, and add to the header of the kinematics file,"
   ]
  },
  {
   "cell_type": "code",
   "execution_count": 2,
   "id": "plain-termination",
   "metadata": {},
   "outputs": [],
   "source": [
    "seeing_fwhm = 2.1\n",
    "seeing_gauss_sigma = seeing_fwhm/2.35\n",
    "# add the psf to file header\n",
    "BayesLOSVD.add_psf_to_datafile(sigma=[seeing_gauss_sigma],\n",
    "                               weight=[1.],\n",
    "                               datafile=outfile)\n",
    "\n",
    "# re-create the BayesLOSVD object reading in the complete kinematics file\n",
    "BayesLOSVD = dyn.kinematics.BayesLOSVD(datafile=outfile,\n",
    "                                       weight=1.,\n",
    "                                       type='BayesLOSVD')"
   ]
  },
  {
   "cell_type": "markdown",
   "id": "offensive-return",
   "metadata": {},
   "source": [
    "Next create the auxillary `aperture.dat` and `bins.dat` files. This will require the galaxy's position angle. Table 3 of [Emsellem et al 2004](https://academic.oup.com/mnras/article/352/3/721/1210712), gives PA = 0."
   ]
  },
  {
   "cell_type": "code",
   "execution_count": 3,
   "id": "deadly-purpose",
   "metadata": {},
   "outputs": [],
   "source": [
    "position_angle = 0.\n",
    "angle_deg = 90. - position_angle\n",
    "dyn_input_direc = 'NGC4550_input/dynamite_input/'\n",
    "BayesLOSVD.write_aperture_and_bin_files(filename=infile,\n",
    "                                        angle_deg=angle_deg,\n",
    "                                        aperture_filename=dyn_input_direc+'aperture.dat',\n",
    "                                        bin_filename=dyn_input_direc+'bins.dat')"
   ]
  },
  {
   "cell_type": "markdown",
   "id": "sunset-coach",
   "metadata": {},
   "source": [
    "Finally we need the Multi Gaussian Expansion. MGEs for Atlas3D galaxies (including NGC4550) can be found under the link for the *MGE parameters for the deconvolved r-band surface brightness* on the [Atlas3D page](http://www-astro.physics.ox.ac.uk/atlas3d/). The MGE NGC4550 is provided in ``NGC4550_input/dynamite_input/``. We have already manually copied and pasted the MGE-data into the required Astropy ECSV format.\n",
    "\n",
    "The input directory `NGC4550_input` now contains all 4 required files:\n",
    "- ``mge_NGC4550.ecsv``\n",
    "- ``NGC4550_bayeslovd_kins.ecsv``\n",
    "- ``aperture.dat``\n",
    "- ``bins.dat``\n",
    "\n",
    "<a id=\"data_firstlook\"></a>\n",
    "## A look at the BayesLOSVD data\n",
    "\n",
    "We can take a look at the BayesLOSVD data. First let's read the data-files, and auxillary files, into a `dyn.kinematics.BayesLOSVD` objects,"
   ]
  },
  {
   "cell_type": "code",
   "execution_count": 4,
   "id": "compatible-rates",
   "metadata": {},
   "outputs": [],
   "source": [
    "BayesLOSVD = dyn.kinematics.BayesLOSVD(datafile=outfile,\n",
    "                                       aperturefile=dyn_input_direc+'aperture.dat',\n",
    "                                       binfile=dyn_input_direc+'bins.dat',\n",
    "                                       weight=1.,\n",
    "                                       type='BayesLOSVD')"
   ]
  },
  {
   "cell_type": "code",
   "execution_count": 5,
   "id": "choice-camera",
   "metadata": {},
   "outputs": [
    {
     "data": {
      "text/html": [
       "<i>Table length=196</i>\n",
       "<table id=\"table5929025488\" class=\"table-striped table-bordered table-condensed\">\n",
       "<thead><tr><th>binID_BayesLOSVD</th><th>binID_dynamite</th><th>v</th><th>sigma</th><th>xbin</th><th>ybin</th><th>losvd [23]</th><th>dlosvd [23]</th></tr></thead>\n",
       "<thead><tr><th>int64</th><th>int64</th><th>float64</th><th>float64</th><th>float64</th><th>float64</th><th>float64</th><th>float64</th></tr></thead>\n",
       "<tr><td>0</td><td>1</td><td>-27.293896226427233</td><td>101.06599292408347</td><td>0.0</td><td>0.0</td><td>0.001877570650529148 .. 0.00045702349780988856</td><td>0.005796355157323609 .. 0.001528398121858902</td></tr>\n",
       "<tr><td>1</td><td>2</td><td>-23.214214375096653</td><td>97.5708951601267</td><td>-0.8000000119209298</td><td>0.0</td><td>0.0018527769771814503 .. 0.0007490871915017111</td><td>0.005048836147011369 .. 0.002360505095186088</td></tr>\n",
       "<tr><td>2</td><td>3</td><td>-26.406760345461095</td><td>109.22381948444665</td><td>-0.8000000119209298</td><td>-0.8000000119209301</td><td>0.002423957578367969 .. 0.001000365615903395</td><td>0.0071085057508073896 .. 0.003056653595885316</td></tr>\n",
       "<tr><td>3</td><td>4</td><td>-25.09116007959488</td><td>100.73255673798913</td><td>0.0</td><td>-0.8000000119209301</td><td>0.0019270761767236372 .. 0.0009293394578833775</td><td>0.005723338675800961 .. 0.0026711641530100983</td></tr>\n",
       "<tr><td>4</td><td>5</td><td>-19.993536403369546</td><td>106.11588991103254</td><td>-1.6000000238418588</td><td>-0.8000000119209301</td><td>0.0015637340689927115 .. 0.0016337903704597514</td><td>0.004668877436741161 .. 0.0052026059487265165</td></tr>\n",
       "<tr><td>5</td><td>6</td><td>-22.201696079303815</td><td>109.52410122018316</td><td>-1.6000000238418588</td><td>0.0</td><td>0.0018562125442918769 .. 0.0055664115801933875</td><td>0.005131418394698504 .. 0.010552144292645138</td></tr>\n",
       "<tr><td>6</td><td>7</td><td>-28.724058100615096</td><td>114.55470358259088</td><td>-0.8000000119209298</td><td>-1.600000023841859</td><td>0.003970199516183359 .. 0.0018635129436087147</td><td>0.010521748183001734 .. 0.005935838920308562</td></tr>\n",
       "<tr><td>7</td><td>8</td><td>-30.45001285372943</td><td>118.32093213183235</td><td>-1.6000000238418588</td><td>-1.600000023841859</td><td>0.006286665671400907 .. 0.0011690508019077065</td><td>0.011517515739948763 .. 0.003629934188346309</td></tr>\n",
       "<tr><td>8</td><td>9</td><td>-25.041288627466244</td><td>115.86106883352005</td><td>0.0</td><td>-1.600000023841859</td><td>0.005489532344607579 .. 0.002428208202286824</td><td>0.009647819693699444 .. 0.006522024522821761</td></tr>\n",
       "<tr><td>9</td><td>10</td><td>-21.853247832252663</td><td>108.37983990074488</td><td>-0.8000000119209298</td><td>0.8000000119209278</td><td>0.0032341448765685196 .. 0.0012540252935631655</td><td>0.008396257789679302 .. 0.003901606245979837</td></tr>\n",
       "<tr><td>...</td><td>...</td><td>...</td><td>...</td><td>...</td><td>...</td><td>...</td><td>...</td></tr>\n",
       "<tr><td>186</td><td>187</td><td>-39.60506491646325</td><td>176.09030895918093</td><td>5.100000381469726</td><td>16.200000762939453</td><td>0.03415379986025254 .. 0.0005641985288390731</td><td>0.015543231881244651 .. 0.0018093523318428897</td></tr>\n",
       "<tr><td>187</td><td>188</td><td>-12.940069958302205</td><td>152.41231388447736</td><td>-4.9684205055236825</td><td>15.957895278930662</td><td>0.010405875241996817 .. 0.00187495086617453</td><td>0.012944321119125005 .. 0.005555020709517881</td></tr>\n",
       "<tr><td>188</td><td>189</td><td>-43.08040710375186</td><td>171.17197966293654</td><td>0.20000001788139254</td><td>16.200000762939453</td><td>0.001635378980539504 .. 0.009907452341754865</td><td>0.004881898253736847 .. 0.017039663524047018</td></tr>\n",
       "<tr><td>189</td><td>190</td><td>-49.031044087852564</td><td>147.30967753998092</td><td>2.2545456886291495</td><td>17.0181827545166</td><td>0.00845493700270979 .. 0.0010455299368035012</td><td>0.011289993392139147 .. 0.0030668132338080066</td></tr>\n",
       "<tr><td>190</td><td>191</td><td>-36.429819679797404</td><td>142.5263800612467</td><td>-2.0923075675964364</td><td>16.861539840698242</td><td>0.0025627478458178 .. 0.0011035201222057804</td><td>0.007554787887775987 .. 0.00363026128696391</td></tr>\n",
       "<tr><td>191</td><td>192</td><td>-47.639847701969764</td><td>220.72235567454945</td><td>9.103447914123535</td><td>18.77241325378418</td><td>0.07459944636689475 .. 0.0012142239330262523</td><td>0.015048598401078264 .. 0.0038192598051547825</td></tr>\n",
       "<tr><td>192</td><td>193</td><td>78.571851433371</td><td>201.0169487036079</td><td>-9.11186408996582</td><td>19.945762634277344</td><td>0.0003150259929539959 .. 0.05841796439824585</td><td>0.0010480844883806353 .. 0.02394983933057091</td></tr>\n",
       "<tr><td>193</td><td>194</td><td>-53.74995011732562</td><td>163.90482191723578</td><td>0.3809523880481711</td><td>20.114286422729492</td><td>0.008720735086491039 .. 0.0020194801538876263</td><td>0.013835170091574336 .. 0.006037933021200558</td></tr>\n",
       "<tr><td>194</td><td>195</td><td>-7.182143113767354</td><td>154.0340663424436</td><td>4.438709259033202</td><td>20.438709259033203</td><td>0.0036765564332515615 .. 0.0008267466101731183</td><td>0.008796414939906889 .. 0.0025331269059048556</td></tr>\n",
       "<tr><td>195</td><td>196</td><td>-5.968091928519854</td><td>159.35145564707557</td><td>-3.4588236808776864</td><td>20.611766815185547</td><td>0.0006895156474248768 .. 0.01164360361858012</td><td>0.0021894182467855983 .. 0.016238312290897425</td></tr>\n",
       "</table>"
      ],
      "text/plain": [
       "<Table length=196>\n",
       "binID_BayesLOSVD ...                  dlosvd [23]                 \n",
       "     int64       ...                    float64                   \n",
       "---------------- ... ---------------------------------------------\n",
       "               0 ...  0.005796355157323609 .. 0.001528398121858902\n",
       "               1 ...  0.005048836147011369 .. 0.002360505095186088\n",
       "               2 ... 0.0071085057508073896 .. 0.003056653595885316\n",
       "               3 ... 0.005723338675800961 .. 0.0026711641530100983\n",
       "               4 ... 0.004668877436741161 .. 0.0052026059487265165\n",
       "               5 ...  0.005131418394698504 .. 0.010552144292645138\n",
       "               6 ...  0.010521748183001734 .. 0.005935838920308562\n",
       "               7 ...  0.011517515739948763 .. 0.003629934188346309\n",
       "               8 ...  0.009647819693699444 .. 0.006522024522821761\n",
       "               9 ...  0.008396257789679302 .. 0.003901606245979837\n",
       "             ... ...                                           ...\n",
       "             186 ... 0.015543231881244651 .. 0.0018093523318428897\n",
       "             187 ...  0.012944321119125005 .. 0.005555020709517881\n",
       "             188 ...  0.004881898253736847 .. 0.017039663524047018\n",
       "             189 ... 0.011289993392139147 .. 0.0030668132338080066\n",
       "             190 ...   0.007554787887775987 .. 0.00363026128696391\n",
       "             191 ... 0.015048598401078264 .. 0.0038192598051547825\n",
       "             192 ...  0.0010480844883806353 .. 0.02394983933057091\n",
       "             193 ...  0.013835170091574336 .. 0.006037933021200558\n",
       "             194 ... 0.008796414939906889 .. 0.0025331269059048556\n",
       "             195 ... 0.0021894182467855983 .. 0.016238312290897425"
      ]
     },
     "execution_count": 5,
     "metadata": {},
     "output_type": "execute_result"
    }
   ],
   "source": [
    "BayesLOSVD.data"
   ]
  },
  {
   "cell_type": "markdown",
   "id": "cosmetic-yellow",
   "metadata": {},
   "source": [
    "The table has one row per spatial (in this case Voronoi) bin, and the following columns:\n",
    "\n",
    "- binID_BayesLOSVD: the bin ID used internally in BayesLOSVD \n",
    "- binID_dynamite: the bin ID used internally in DYNMAITE \n",
    "- v: the mean velocity in the bin\n",
    "- sigma: the velocity dispersion in the bin\n",
    "- xbin/ybin : the co-ords of the bin centers\n",
    "- losvd: array holding the LOSVD \n",
    "- dlosvd: array holding LOSVD uncertainties, given by 68% credible intervals per velocity bin (assumed independent)\n",
    "\n",
    "BayesLOSVD represents the LOSVD as a sequence of weights. Details of the velocity array are stored as metadata to the data table. Details of the LOSVD velocity array are stored as metadata to the data table,"
   ]
  },
  {
   "cell_type": "code",
   "execution_count": 6,
   "id": "covered-palestine",
   "metadata": {},
   "outputs": [
    {
     "name": "stdout",
     "output_type": "stream",
     "text": [
      "Bayes-LOSVD table contains meta-data about:  odict_keys(['dv', 'nbins', 'nvbins', 'vcent', 'PSF'])\n",
      "     velocity spacing of bins =  60.0\n",
      "     number of spatial bins =  196\n",
      "     number of velocty bins =  23\n",
      "     etc...\n"
     ]
    }
   ],
   "source": [
    "print('Bayes-LOSVD table contains meta-data about: ', BayesLOSVD.data.meta.keys())\n",
    "print('     velocity spacing of bins = ', BayesLOSVD.data.meta['dv'])\n",
    "print('     number of spatial bins = ', BayesLOSVD.data.meta['nbins'])\n",
    "print('     number of velocty bins = ', BayesLOSVD.data.meta['nvbins'])\n",
    "print('     etc...')"
   ]
  },
  {
   "cell_type": "markdown",
   "id": "romance-train",
   "metadata": {},
   "source": [
    "To plot kinematic maps, we can get get the `map_plotter` function from the kinematics object,"
   ]
  },
  {
   "cell_type": "code",
   "execution_count": 7,
   "id": "adopted-router",
   "metadata": {},
   "outputs": [
    {
     "data": {
      "image/png": "[encoded data removed]",
      "text/plain": [
       "<Figure size 432x288 with 2 Axes>"
      ]
     },
     "metadata": {
      "needs_background": "light"
     },
     "output_type": "display_data"
    }
   ],
   "source": [
    "map_plotter = BayesLOSVD.get_map_plotter()\n",
    "map_plotter(BayesLOSVD.data['v'],\n",
    "            cmap='sauron',\n",
    "            vmin=-100,\n",
    "            vmax=100,\n",
    "            colorbar=True)"
   ]
  },
  {
   "cell_type": "markdown",
   "id": "proof-opera",
   "metadata": {},
   "source": [
    "And we can pick a specific bin, and plot the LOSVD there,"
   ]
  },
  {
   "cell_type": "code",
   "execution_count": 8,
   "id": "muslim-institute",
   "metadata": {},
   "outputs": [
    {
     "data": {
      "image/png": "[encoded data removed]",
      "text/plain": [
       "<Figure size 432x288 with 1 Axes>"
      ]
     },
     "metadata": {
      "needs_background": "light"
     },
     "output_type": "display_data"
    }
   ],
   "source": [
    "bin_id = 105\n",
    "\n",
    "losvd_i = BayesLOSVD.data['losvd'][bin_id,:]\n",
    "dlosvd_i = BayesLOSVD.data['dlosvd'][bin_id,:]\n",
    "vcent = BayesLOSVD.data.meta['vcent']\n",
    "plt.plot(vcent, losvd_i, '-k', label='median')\n",
    "plt.plot(vcent, losvd_i+dlosvd_i, ':k', label='68% cred. ints.')\n",
    "plt.plot(vcent, losvd_i-dlosvd_i, ':k')\n",
    "plt.gca().set_xlabel('Velocity [km/s]')\n",
    "plt.gca().set_ylabel('LOSVD [km/s]')\n",
    "_ = plt.gca().set_title(f'LOSVD with 68% CIs in bin {bin_id}')\n",
    "plt.gca().legend()\n",
    "plt.show()"
   ]
  },
  {
   "cell_type": "markdown",
   "id": "public-utilization",
   "metadata": {},
   "source": [
    "For `bin_id=105` we see that the galaxy has a bimodal LOSVD (albeit with quite large uncertainties).\n",
    "\n",
    "The following are technical notes about BayesLOSVD data. If you're mainly interested in running DYNAMITE, you can skip below to the section [*Running DYNMAITE*](#run_dyn).\n",
    "\n",
    "#### Note 1: bin ID's\n",
    "\n",
    "The differences between `binID_BayesLOSVD` and `binID_DYNAMITE` are that: \n",
    "- `binID_BayesLOSVD` are zero-indexed, `binID_DYNAMITE` one-indexed. This is for compatibility with Fortran code,\n",
    "- `binID_BayesLOSVD` may have some gaps (as some bins may be masked) while DYNAMITE assumes the binIDs increase without gaps\n",
    "You shouldn't need to worry about this difference as bin IDs are handled internally, but be aware that of the difference for any later analysis.\n",
    "\n",
    "#### Note 2: LOSVD normalisations\n",
    "\n",
    "BayesLOSVD samples the multi-dimensional posterior on the LOSVD weights $L_i$. The full multidimensional posterior is not saved by defaut, however. What is saved, and what is given in the table above, is the median and 68% Bayesian credible intervals for the weight in each velocity bin.\n",
    "\n",
    "One important effect of this is on LOSVD normalisation. The posterior samples created by BayesLOSVD are normnalised to 1 i.e. \n",
    "\n",
    "$$\n",
    "\\sum_i L_i = 1\n",
    "$$\n",
    "\n",
    "(this is acheieved by using the `simplex` datatype in STAN). The default results file, however, gives median values per velocity bin. These are *not* normalised the same way. Let's call these median value,\n",
    "\n",
    "$$\n",
    "l_i = \\mathrm{median}(L_{i})\n",
    "$$\n",
    "\n",
    "and look at a histogram of the sums of the $l_i$ in each spatial bin,"
   ]
  },
  {
   "cell_type": "code",
   "execution_count": 9,
   "id": "twelve-minister",
   "metadata": {},
   "outputs": [
    {
     "data": {
      "image/png": "[encoded data removed]",
      "text/plain": [
       "<Figure size 432x288 with 1 Axes>"
      ]
     },
     "metadata": {
      "needs_background": "light"
     },
     "output_type": "display_data"
    }
   ],
   "source": [
    "plt.hist(np.sum(BayesLOSVD.data['losvd'], 1))\n",
    "plt.axvline(1., ls='--', color='r')\n",
    "plt.gca().set_xlabel('$\\sum_i l_{i}$')\n",
    "plt.gca().set_ylabel('$N$')\n",
    "plt.gca().set_xlim(0, 1.1)\n",
    "_ = plt.gca().set_title('LOSVD normalisation in different spatial bins')"
   ]
  },
  {
   "cell_type": "markdown",
   "id": "graduate-spare",
   "metadata": {},
   "source": [
    "This peaks around 0.9 and, in some cases, is as low as 0.5. \n",
    "\n",
    "#### Note 3: calculating moments\n",
    "\n",
    "When calculating LOSVD moments, we must acccount for the fact that LOSVDs are not normalised. Let's define the *normalised LOSVD* as\n",
    "\n",
    "$$\n",
    "\\hat{l}_{i} = \\frac{l_{i}}{\\sum_i l_{i}}\n",
    "$$\n",
    "\n",
    "The quantity $\\hat{l}_{i}$ is what we have used to make point estimates of the the LOSVD mean and standard deviation, which appear in the `v` and `sigma` columns of the data-table,\n",
    "\n",
    "$$\n",
    "v = \\sum_i v_i * \\hat{l}_{i}\n",
    "$$\n",
    "\n",
    "$$\n",
    "\\sigma = \\left[ \\sum_i (v_i-v)^2 * \\hat{l}_{i} \\right]^{\\frac{1}{2}}\n",
    "$$\n",
    "\n",
    "#### Note 4: inflated velocity dispersions\n",
    "\n",
    "Let's compare the BayesLOSVD result with a Gaussian LOSVD approximation in a particular bin,"
   ]
  },
  {
   "cell_type": "code",
   "execution_count": 10,
   "id": "adjustable-teacher",
   "metadata": {},
   "outputs": [
    {
     "data": {
      "image/png": "[encoded data removed]",
      "text/plain": [
       "<Figure size 432x288 with 1 Axes>"
      ]
     },
     "metadata": {
      "needs_background": "light"
     },
     "output_type": "display_data"
    }
   ],
   "source": [
    "bin_id = 100\n",
    "\n",
    "# plot BayesLOSVD result\n",
    "losvd_i = BayesLOSVD.data['losvd'][bin_id,:]\n",
    "dlosvd_i = BayesLOSVD.data['dlosvd'][bin_id,:]\n",
    "vcent = BayesLOSVD.data.meta['vcent']\n",
    "plt.plot(vcent, losvd_i, '-k', label='median')\n",
    "plt.plot(vcent, losvd_i+dlosvd_i, ':k', label='68% cred. ints.')\n",
    "plt.plot(vcent, losvd_i-dlosvd_i, ':k')\n",
    "\n",
    "# plot Gaussian approximation\n",
    "v = BayesLOSVD.data['v'][bin_id]\n",
    "sigma = BayesLOSVD.data['sigma'][bin_id]\n",
    "nrm = stats.norm(v, sigma)\n",
    "pdf = nrm.pdf(vcent)\n",
    "plt.gca().plot(vcent, pdf/np.sum(pdf), color='r', ls='--', label='Gauss. approx.')\n",
    "\n",
    "# labels\n",
    "plt.gca().set_xlabel('Velocity [km/s]')\n",
    "plt.gca().set_ylabel('LOSVD [km/s]')\n",
    "_ = plt.gca().set_title(f'LOSVD with 68% CIs in bin {bin_id}')\n",
    "plt.gca().legend()\n",
    "plt.show()"
   ]
  },
  {
   "cell_type": "markdown",
   "id": "young-melissa",
   "metadata": {},
   "source": [
    "The Gaussian approximation is much wider then the median BayesLOSVD result. Why is this? Let's look at the this plot again, this time on a log-scale,"
   ]
  },
  {
   "cell_type": "code",
   "execution_count": 11,
   "id": "rational-ratio",
   "metadata": {},
   "outputs": [
    {
     "data": {
      "image/png": "[encoded data removed]",
      "text/plain": [
       "<Figure size 432x288 with 1 Axes>"
      ]
     },
     "metadata": {
      "needs_background": "light"
     },
     "output_type": "display_data"
    }
   ],
   "source": [
    "bin_id = 100\n",
    "\n",
    "# plot BayesLOSVD result\n",
    "losvd_i = BayesLOSVD.data['losvd'][bin_id,:]\n",
    "dlosvd_i = BayesLOSVD.data['dlosvd'][bin_id,:]\n",
    "vcent = BayesLOSVD.data.meta['vcent']\n",
    "plt.plot(vcent, losvd_i, '-k', label='median')\n",
    "plt.plot(vcent, losvd_i+dlosvd_i, ':k', label='68% cred. ints.')\n",
    "plt.plot(vcent, losvd_i-dlosvd_i, ':k')\n",
    "\n",
    "# plot Gaussian approximation\n",
    "v = BayesLOSVD.data['v'][bin_id]\n",
    "sigma = BayesLOSVD.data['sigma'][bin_id]\n",
    "nrm = stats.norm(v, sigma)\n",
    "pdf = nrm.pdf(vcent)\n",
    "plt.gca().plot(vcent, pdf/np.sum(pdf), color='r', ls='--', label='Gauss. approx.')\n",
    "\n",
    "# labels\n",
    "plt.gca().set_xlabel('Velocity [km/s]')\n",
    "plt.gca().set_ylabel('LOSVD [km/s]')\n",
    "_ = plt.gca().set_title(f'LOSVD with 68% CIs in bin {bin_id}')\n",
    "plt.gca().legend()\n",
    "plt.gca().set_yscale('log')\n",
    "plt.show()"
   ]
  },
  {
   "cell_type": "markdown",
   "id": "arbitrary-cartoon",
   "metadata": {},
   "source": [
    "We see that BayesLOSVD does not force the LOSVD to decay at large velocities. The fat tails give rise to large standard deviations. Therefore, the `sigma` values in the data table are unrepresentative of the width of the main body of the distribution.\n",
    "\n",
    "For this reason, sigma-maps for BayesLOSVD output are not recommended. By default, for BayesLOSVD kinematic maps we will only plot mean velocities. In the future, we may extend this to plot LOSVD quantiles.\n",
    "\n",
    "<a id=\"run_dyn\"></a>\n",
    "## Running DYNMAITE \n",
    "\n",
    "#### 1. Prepare the configuration file\n",
    "\n",
    "Next prepare the DYNAMITE congfiguration file. We've included this file `NGC4550_config.yaml` in this directory. Here, we highlight a few importnat entries which are specific to fiting BayesLOSVD data. Firstly, we have to specify the type of the kinemtics as `BayesLOSVD`, i.e.\n",
    "\n",
    "    system_components:\n",
    "    ...\n",
    "        stars:\n",
    "            ...\n",
    "            kinematics:\n",
    "                sauron:\n",
    "                    weight: 1.0\n",
    "                    type: BayesLOSVD\n",
    "                    datafile: \"bayes_losvd_kins.ecsv\"\n",
    "                    aperturefile: \"aperture.dat\"\n",
    "                    binfile: \"bins.dat\"\n",
    "\n",
    "and ensure the `type` of the `weight_solver` is `NNLS` (since the aleternative, `LegacyWeightSolver` is incompatible with BayesLOSVD data), i.e.\n",
    "\n",
    "    weight_solver_settings:\n",
    "        type: \"NNLS\"\n",
    "        lum_intr_rel_err: 0.01\n",
    "        sb_proj_rel_err: 0.02\n",
    "        nnls_solver: 'scipy'\n",
    "\n",
    "Read the configuration file in,"
   ]
  },
  {
   "cell_type": "code",
   "execution_count": 12,
   "id": "precious-thread",
   "metadata": {},
   "outputs": [
    {
     "name": "stderr",
     "output_type": "stream",
     "text": [
      "[INFO] 15:07:04 - dynamite.config_reader.Configuration - Config file NGC4550_config.yaml read.\n",
      "[INFO] 15:07:04 - dynamite.config_reader.Configuration - io_settings...\n",
      "[INFO] 15:07:04 - dynamite.config_reader.Configuration - system_attributes...\n",
      "[INFO] 15:07:04 - dynamite.config_reader.Configuration - model_components...\n",
      "[INFO] 15:07:04 - dynamite.config_reader.Configuration - system_parameters...\n",
      "[INFO] 15:07:04 - dynamite.config_reader.Configuration - orblib_settings...\n",
      "[INFO] 15:07:04 - dynamite.config_reader.Configuration - weight_solver_settings...\n",
      "[INFO] 15:07:04 - dynamite.config_reader.Configuration - parameter_space_settings...\n",
      "[INFO] 15:07:04 - dynamite.config_reader.Configuration - multiprocessing_settings...\n",
      "[INFO] 15:07:04 - dynamite.config_reader.Configuration - ... using 4 CPUs.\n",
      "[INFO] 15:07:04 - dynamite.config_reader.Configuration - legacy_settings...\n",
      "[INFO] 15:07:04 - dynamite.config_reader.Configuration - System assembled\n",
      "[INFO] 15:07:04 - dynamite.config_reader.Configuration - Configuration validated\n",
      "[INFO] 15:07:04 - dynamite.config_reader.Configuration - Instantiated parameter space\n",
      "[INFO] 15:07:04 - dynamite.model.AllModels - No previous models (file NGC4550_output/all_models.ecsv) have been found: Making an empty table in AllModels.table\n",
      "[INFO] 15:07:04 - dynamite.config_reader.Configuration - Instantiated AllModels object\n",
      "[INFO] 15:07:04 - dynamite.config_reader.Configuration - Config file backup: NGC4550_output/NGC4550_config_000.yaml\n"
     ]
    }
   ],
   "source": [
    "c = dyn.config_reader.Configuration('NGC4550_config.yaml', reset_logging=True)"
   ]
  },
  {
   "cell_type": "markdown",
   "id": "flying-efficiency",
   "metadata": {},
   "source": [
    "#### 2. Run the models\n",
    "\n",
    "Currently, none of the automated plotting routines are compatible with BayesLOSVD data, so we must run the models with `plots=False` keyword set.\n",
    "\n",
    "This will take around 15 minutes with 4 ncpus."
   ]
  },
  {
   "cell_type": "code",
   "execution_count": null,
   "id": "simplified-final",
   "metadata": {
    "scrolled": true
   },
   "outputs": [
    {
     "name": "stderr",
     "output_type": "stream",
     "text": [
      "[INFO] 15:07:04 - dynamite.model_iterator.ModelIterator - LegacyGridSearch: \"iteration 0\"\n",
      "[INFO] 15:07:04 - dynamite.parameter_space.LegacyGridSearch - LegacyGridSearch added 1 new model(s) out of 1\n",
      "[INFO] 15:07:04 - dynamite.model_iterator.ModelInnerIterator - ... running model 1 out of 1\n",
      "[INFO] 15:07:04 - dynamite.orblib.LegacyOrbitLibrary - Calculating initial conditions\n",
      "[INFO] 15:09:48 - dynamite.orblib.LegacyOrbitLibrary - Integrating orbit library tube orbits\n",
      "[INFO] 15:10:05 - dynamite.orblib.LegacyOrbitLibrary - Integrating orbit library box orbits\n",
      "[INFO] 15:10:23 - dynamite.weight_solvers.NNLS - Using WeightSolver : NNLS\n",
      "[INFO] 15:10:25 - dynamite.weight_solvers.NNLS - NNLS problem solved\n",
      "[INFO] 15:10:25 - dynamite.model_iterator.ModelIterator - LegacyGridSearch: \"iteration 1\"\n",
      "[INFO] 15:10:25 - dynamite.parameter_space.LegacyGridSearch - LegacyGridSearch added 3 new model(s) out of 3\n",
      "[INFO] 15:10:25 - dynamite.model_iterator.ModelInnerIterator - ... running model 1 out of 3\n",
      "[INFO] 15:10:25 - dynamite.orblib.LegacyOrbitLibrary - Calculating initial conditions\n",
      "[INFO] 15:13:18 - dynamite.orblib.LegacyOrbitLibrary - Integrating orbit library tube orbits\n",
      "[INFO] 15:13:33 - dynamite.orblib.LegacyOrbitLibrary - Integrating orbit library box orbits\n",
      "[INFO] 15:13:48 - dynamite.weight_solvers.NNLS - Using WeightSolver : NNLS\n",
      "[INFO] 15:13:50 - dynamite.weight_solvers.NNLS - NNLS problem solved\n",
      "[INFO] 15:13:50 - dynamite.model_iterator.ModelInnerIterator - ... running model 2 out of 3\n",
      "[INFO] 15:13:50 - dynamite.model_iterator.ModelInnerIterator - ... running model 3 out of 3\n",
      "[INFO] 15:13:54 - dynamite.weight_solvers.NNLS - Using WeightSolver : NNLS\n",
      "[INFO] 15:13:54 - dynamite.weight_solvers.NNLS - Using WeightSolver : NNLS\n",
      "[INFO] 15:13:56 - dynamite.weight_solvers.NNLS - NNLS problem solved\n",
      "[INFO] 15:13:56 - dynamite.weight_solvers.NNLS - NNLS problem solved\n",
      "[INFO] 15:13:56 - dynamite.model_iterator.ModelIterator - LegacyGridSearch: \"iteration 2\"\n",
      "[INFO] 15:13:56 - dynamite.parameter_space.LegacyGridSearch - LegacyGridSearch added 3 new model(s) out of 3\n",
      "[INFO] 15:13:56 - dynamite.model_iterator.ModelInnerIterator - ... running model 1 out of 3\n",
      "[INFO] 15:13:56 - dynamite.orblib.LegacyOrbitLibrary - Calculating initial conditions\n",
      "[INFO] 15:16:39 - dynamite.orblib.LegacyOrbitLibrary - Integrating orbit library tube orbits\n",
      "[INFO] 15:16:57 - dynamite.orblib.LegacyOrbitLibrary - Integrating orbit library box orbits\n",
      "[INFO] 15:17:12 - dynamite.weight_solvers.NNLS - Using WeightSolver : NNLS\n",
      "[INFO] 15:17:14 - dynamite.weight_solvers.NNLS - NNLS problem solved\n",
      "[INFO] 15:17:14 - dynamite.model_iterator.ModelInnerIterator - ... running model 2 out of 3\n",
      "[INFO] 15:17:14 - dynamite.model_iterator.ModelInnerIterator - ... running model 3 out of 3\n",
      "[INFO] 15:17:18 - dynamite.weight_solvers.NNLS - Using WeightSolver : NNLS\n",
      "[INFO] 15:17:18 - dynamite.weight_solvers.NNLS - Using WeightSolver : NNLS\n",
      "[INFO] 15:17:20 - dynamite.weight_solvers.NNLS - NNLS problem solved\n",
      "[INFO] 15:17:20 - dynamite.weight_solvers.NNLS - NNLS problem solved\n",
      "[INFO] 15:17:20 - dynamite.model_iterator.ModelIterator - LegacyGridSearch: \"iteration 3\"\n",
      "[INFO] 15:17:20 - dynamite.parameter_space.LegacyGridSearch - LegacyGridSearch added 6 new model(s) out of 7\n",
      "[INFO] 15:17:20 - dynamite.model_iterator.ModelInnerIterator - ... running model 1 out of 6\n",
      "[INFO] 15:17:20 - dynamite.model_iterator.ModelInnerIterator - ... running model 2 out of 6\n",
      "[INFO] 15:17:20 - dynamite.orblib.LegacyOrbitLibrary - Calculating initial conditions\n",
      "[INFO] 15:17:20 - dynamite.orblib.LegacyOrbitLibrary - Calculating initial conditions\n"
     ]
    }
   ],
   "source": [
    "import time\n",
    "\n",
    "t = time.perf_counter()\n",
    "\n",
    "mod_iter = dyn.model_iterator.ModelIterator(\n",
    "    system=c.system,\n",
    "    all_models=c.all_models,\n",
    "    settings=c.settings,\n",
    "    ncpus=c.settings.multiprocessing_settings['ncpus'],\n",
    "    plots=False)\n",
    "\n",
    "delta_t = time.perf_counter()-t\n",
    "print(f'Computation time: {delta_t} seconds = {delta_t/60} minutes')"
   ]
  },
  {
   "cell_type": "markdown",
   "id": "extreme-laser",
   "metadata": {},
   "source": [
    "Look at the summary table,"
   ]
  },
  {
   "cell_type": "code",
   "execution_count": null,
   "id": "banned-treaty",
   "metadata": {},
   "outputs": [],
   "source": [
    "c.all_models.table"
   ]
  },
  {
   "cell_type": "markdown",
   "id": "nutritional-consultancy",
   "metadata": {},
   "source": [
    "#### 3. Plot the results\n",
    "\n",
    "While we can't use the `dyn.plotter.Plotter` to create BayesLOSVD plots, we can manually create some.\n",
    "\n",
    "Let's plot the evolution of the chi2 values against model ID"
   ]
  },
  {
   "cell_type": "code",
   "execution_count": null,
   "id": "severe-jungle",
   "metadata": {},
   "outputs": [],
   "source": [
    "plt.plot(c.all_models.table['kinchi2'])"
   ]
  },
  {
   "cell_type": "markdown",
   "id": "lesser-placement",
   "metadata": {},
   "source": [
    "Let's plot the chi2 grid over the (only) two free parameters,"
   ]
  },
  {
   "cell_type": "code",
   "execution_count": null,
   "id": "defensive-newsletter",
   "metadata": {},
   "outputs": [],
   "source": [
    "min_chi2 = np.min(c.all_models.table['kinchi2'])\n",
    "idx_min_chi2 = np.where(c.all_models.table['kinchi2'] == min_chi2)\n",
    "\n",
    "x = c.all_models.table['f-dm_halo']\n",
    "y = c.all_models.table['ml']\n",
    "color = c.all_models.table['kinchi2']\n",
    "\n",
    "plt.scatter(x, y, c=color, cmap=plt.cm.viridis_r, s=100)\n",
    "plt.plot(x[idx_min_chi2], y[idx_min_chi2], 'xk')\n",
    "\n",
    "plt.colorbar()\n",
    "\n",
    "plt.gca().set_xlabel('$M_{200}/M_*$')\n",
    "plt.gca().set_ylabel('ml')"
   ]
  },
  {
   "cell_type": "markdown",
   "id": "elementary-trash",
   "metadata": {},
   "source": [
    "And now let's compare the best fit model to compare with the data. First let's get the model, and it's orbit library and best fitting weights,"
   ]
  },
  {
   "cell_type": "code",
   "execution_count": null,
   "id": "continued-strap",
   "metadata": {},
   "outputs": [],
   "source": [
    "row_min_chi2 = idx_min_chi2[0][0]\n",
    "mod_min_chi2 = c.all_models.get_model_from_row(row_min_chi2)\n",
    "orblib = mod_min_chi2.get_orblib()\n",
    "weight_solver = mod_min_chi2.get_weights(orblib)\n",
    "weights, chi2, kinchi2 = weight_solver.solve(orblib)"
   ]
  },
  {
   "cell_type": "markdown",
   "id": "settled-buffer",
   "metadata": {},
   "source": [
    "We can reconstruct the model losvd by taking the dot product of the losvds per orbit with the orbital weights,"
   ]
  },
  {
   "cell_type": "code",
   "execution_count": null,
   "id": "induced-arbor",
   "metadata": {},
   "outputs": [],
   "source": [
    "model_losvd = np.dot(orblib.losvd_histograms[0].y.T, weights).T"
   ]
  },
  {
   "cell_type": "markdown",
   "id": "functional-massage",
   "metadata": {},
   "source": [
    "Let's compare the projected surface density of the data and model,"
   ]
  },
  {
   "cell_type": "code",
   "execution_count": null,
   "id": "cloudy-suite",
   "metadata": {},
   "outputs": [],
   "source": [
    "stars = c.system.get_component_from_name('stars')\n",
    "mge = stars.mge_lum\n",
    "obs_sd = mge.get_projected_masses_from_file(mod_min_chi2.directory_noml)\n",
    "mod_sd = np.sum(model_losvd, 0)\n",
    "\n",
    "# these are normalised differently - let's put them on the same scale:\n",
    "obs_sd /= np.sum(obs_sd)\n",
    "mod_sd /= np.sum(mod_sd)\n",
    "\n",
    "# plot the surface density maps\n",
    "map_plotter(np.log10(obs_sd), cmap='sauron', colorbar=True)\n",
    "plt.gca().set_title('Observed Surface Density')\n",
    "plt.show()\n",
    "\n",
    "map_plotter(np.log10(mod_sd), cmap='sauron', colorbar=True)\n",
    "plt.gca().set_title('Model Surface Density')\n",
    "plt.show()"
   ]
  },
  {
   "cell_type": "markdown",
   "id": "micro-macro",
   "metadata": {},
   "source": [
    "And next compare maps of mean velocity,"
   ]
  },
  {
   "cell_type": "code",
   "execution_count": null,
   "id": "endless-qatar",
   "metadata": {},
   "outputs": [],
   "source": [
    "# plot the observed velocity map\n",
    "map_plotter(BayesLOSVD.data['v'], cmap='sauron', colorbar=True, vmin=-40, vmax=40)\n",
    "plt.gca().set_title('Observed V map')\n",
    "plt.show()\n",
    "\n",
    "# reconstruct a mean velocity from the model losvds\n",
    "tmp = dyn.kinematics.Histogram(\n",
    "    xedg=orblib.losvd_histograms[0].xedg,\n",
    "    y=model_losvd[np.newaxis, :, :])\n",
    "v_model = tmp.get_mean()[0]\n",
    "\n",
    "# plot the model velocity map\n",
    "map_plotter(v_model, cmap='sauron', colorbar=True, vmin=-40, vmax=40)\n",
    "plt.gca().set_title('Model V map')\n",
    "plt.show()"
   ]
  },
  {
   "cell_type": "markdown",
   "id": "convenient-store",
   "metadata": {},
   "source": [
    "In this case the observed and modelled V maps do **not** agree well. In particular, the observed data is not centered at `V=0`. This non-zero mean velocity could never be reproduced by our orbit library, which is by design zero-centered.\n",
    "\n",
    "This is a mistake, and is something that should have been corrected at the data prepearation stage, either:\n",
    "\n",
    "- by using a different velocity center when we ran BayesLOSVD\n",
    "- or by re-centering the BayesLOSVD output when converting it into DYNAMITE input files\n",
    "\n",
    "## Conclusion\n",
    "\n",
    "This feature is still a little experimental, and there are some issues (e.g. plotting, velocity-centering, etc... ) still to sort out.\n",
    "\n",
    "However the main functionality is in place, and we will be developing this soon. Any users of BayesLOSVD would be more than welcome to join in the development!"
   ]
  }
 ],
 "metadata": {
  "kernelspec": {
   "display_name": "Python 3",
   "language": "python",
   "name": "python3"
  },
  "language_info": {
   "codemirror_mode": {
    "name": "ipython",
    "version": 3
   },
   "file_extension": ".py",
   "mimetype": "text/x-python",
   "name": "python",
   "nbconvert_exporter": "python",
   "pygments_lexer": "ipython3",
   "version": "3.7.9"
  }
 },
 "nbformat": 4,
 "nbformat_minor": 5
}
