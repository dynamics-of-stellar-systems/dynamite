{
 "cells": [
  {
   "cell_type": "markdown",
   "id": "expressed-sunrise",
   "metadata": {},
   "source": [
    "# BayesLOSVD and DYNAMITE\n",
    "\n",
    "This notebook will show how to run DYNAMITE orbit-based models using LOSVDs extracted using [BayesLOSVD](https://github.com/jfalconbarroso/BAYES-LOSVD). This is a Python library for the non-parametric extraction of the Line-Of-Sight Velocity Distributions in galaxies. Rather than describe the LOSVD using a Gauss-Hermite expansion, BayesLOSVD directly constrains the LOSVD in histogrammed velocity bins.\n",
    "\n",
    "## The galaxy\n",
    "\n",
    "We will model the galaxy NGC4550. The following is taken from Figure 7 of Falcón-Barroso & Martig 2020, showing LOSVDs extracted using BayesLOSVD at three regions,\n",
    "\n",
    "<img src=\"NGC4550_input/bayeslosvd_extractions.png\" width=\"400\">\n",
    "\n",
    "The galaxy has clearly bimodal LOSVD, indicating a strong counter-rotating stellar component.\n",
    "\n",
    "## Data preparation\n",
    "\n",
    "We require the ``*_results.hdf5`` output file from BayesLOSVD. Two such files for NGC4550 have been kindly provided by Jesus Falcón-Barroso, and can be found in the directory `NGC4550_input`. They differ in the form of LOSVD regularisation used,\n",
    "- `NGC4550_SAURON-SP_results.hdf5`: using simplex regularisation\n",
    "- `NGC4550_SAURON-RW_results.hdf5`: using random walk regularisation\n",
    "\n",
    "For details, and instructions on creating your own ``*_results.hdf5`` files, see the [BayesLOSVD](https://github.com/jfalconbarroso/BAYES-LOSVD) documentation.\n",
    "\n",
    "For use in DYNAMITE, we must convert this file to the Astropy ECSV format "
   ]
  },
  {
   "cell_type": "code",
   "execution_count": 1,
   "id": "psychological-secretariat",
   "metadata": {},
   "outputs": [
    {
     "name": "stdout",
     "output_type": "stream",
     "text": [
      "Using DYNAMITE version: 0.0.0\n",
      "Located at: ['/Users/pjethwa/miniconda3/envs/dyn_env_py37/lib/python3.7/site-packages/dynamite-0.0.0-py3.7.egg/dynamite']\n"
     ]
    }
   ],
   "source": [
    "import dynamite as dyn\n",
    "print('Using DYNAMITE version:', dyn.__version__)\n",
    "print('Located at:', dyn.__path__)\n",
    "    \n",
    "BayesLOSVD = dyn.kinematics.BayesLOSVD(weight=1.,\n",
    "                                       hist_width=1,\n",
    "                                       hist_center=0,\n",
    "                                       hist_bins=0,\n",
    "                                       type='BayesLOSVD')\n",
    "infile = 'NGC4550_input/NGC4550_SAURON-SP_results.hdf5'\n",
    "outfile = 'NGC4550_input/dynamite_input/bayes_losvd_kins.ecsv'\n",
    "BayesLOSVD.write_losvds_to_ecsv_format(infile, outfile=outfile)"
   ]
  },
  {
   "cell_type": "markdown",
   "id": "knowing-presentation",
   "metadata": {},
   "source": [
    "We next add the PSF to the kinematics. The seeing - from Table 3 of [Emsellem et al 2004](https://academic.oup.com/mnras/article/352/3/721/1210712) - has FWHM of 2.1 arcsec. We convert this to a Gaussian sigma, and add to the header of the kinematics file,"
   ]
  },
  {
   "cell_type": "code",
   "execution_count": 2,
   "id": "plain-termination",
   "metadata": {},
   "outputs": [],
   "source": [
    "seeing_fwhm = 2.1\n",
    "seeing_gauss_sigma = seeing_fwhm/2.35\n",
    "# add the psf to file header\n",
    "BayesLOSVD.add_psf_to_datafile(sigma=[seeing_gauss_sigma],\n",
    "                               weight=[1.],\n",
    "                               datafile=outfile)\n",
    "\n",
    "# re-create the BayesLOSVD object reading in the complete kinematics file\n",
    "BayesLOSVD = dyn.kinematics.BayesLOSVD(datafile=outfile,\n",
    "                                       weight=1.,\n",
    "                                       type='BayesLOSVD')"
   ]
  },
  {
   "cell_type": "markdown",
   "id": "offensive-return",
   "metadata": {},
   "source": [
    "Next create the auxillary `aperture.dat` and `bins.dat` files. This will require the galaxy's position angle. Table 3 of [Emsellem et al 2004](https://academic.oup.com/mnras/article/352/3/721/1210712), gives PA = 0."
   ]
  },
  {
   "cell_type": "code",
   "execution_count": 3,
   "id": "deadly-purpose",
   "metadata": {},
   "outputs": [],
   "source": [
    "position_angle = 0.\n",
    "angle_deg = 90. - position_angle\n",
    "dyn_input_direc = 'NGC4550_input/dynamite_input/'\n",
    "BayesLOSVD.write_aperture_and_bin_files(filename=infile,\n",
    "                                        angle_deg=angle_deg,\n",
    "                                        center='max_flux',\n",
    "                                        aperture_filename=dyn_input_direc+'aperture.dat',\n",
    "                                        bin_filename=dyn_input_direc+'bins.dat')"
   ]
  },
  {
   "cell_type": "markdown",
   "id": "sunset-coach",
   "metadata": {},
   "source": [
    "Finally we need the Multi Gaussian Expansion. MGEs for Atlas3D galaxies (including NGC4550) can be found in the `MGE parameters for the deconvolved r-band surface brightness` link of the [Atlas3D page](http://www-astro.physics.ox.ac.uk/atlas3d/). The MGE data for NGC4550 is provided here in the required Astropy ECSV format, ``NGC4550_input/dynamite_input/mge.ecsv``"
   ]
  },
  {
   "cell_type": "markdown",
   "id": "agreed-engineer",
   "metadata": {},
   "source": [
    "The input directory `NGC4550_input` now contains all 4 required files:\n",
    "- ``mge_NGC4550.ecsv``\n",
    "- ``NGC4550_bayeslovd_kins.ecsv``\n",
    "- ``aperture.dat``\n",
    "- ``bins.dat``\n",
    "\n",
    "## Preparing the configuration file\n",
    "\n",
    "Next prepare the DYNAMITE congfiguration file. We've included the file `NGC4550_config.yaml`,"
   ]
  },
  {
   "cell_type": "code",
   "execution_count": 5,
   "id": "precious-thread",
   "metadata": {},
   "outputs": [
    {
     "name": "stderr",
     "output_type": "stream",
     "text": [
      "[INFO] 14:27:41 - dynamite.config_reader.Configuration - Config file NGC4550_config.yaml read.\n",
      "[INFO] 14:27:41 - dynamite.config_reader.Configuration - io_settings...\n",
      "[INFO] 14:27:41 - dynamite.config_reader.Configuration - system_attributes...\n",
      "[INFO] 14:27:41 - dynamite.config_reader.Configuration - model_components...\n",
      "[INFO] 14:27:41 - dynamite.config_reader.Configuration - system_parameters...\n",
      "[INFO] 14:27:41 - dynamite.config_reader.Configuration - orblib_settings...\n",
      "[INFO] 14:27:41 - dynamite.config_reader.Configuration - weight_solver_settings...\n",
      "[INFO] 14:27:41 - dynamite.config_reader.Configuration - parameter_space_settings...\n",
      "[INFO] 14:27:41 - dynamite.config_reader.Configuration - multiprocessing_settings...\n",
      "[INFO] 14:27:41 - dynamite.config_reader.Configuration - ... using 4 CPUs.\n",
      "[INFO] 14:27:41 - dynamite.config_reader.Configuration - legacy_settings...\n",
      "[WARNING] 14:27:41 - dynamite.physical_system.System - System components should not contain underscores - model directory names may get confusing\n",
      "[INFO] 14:27:41 - dynamite.config_reader.Configuration - System assembled\n",
      "[INFO] 14:27:41 - dynamite.config_reader.Configuration - Configuration validated\n",
      "[INFO] 14:27:41 - dynamite.config_reader.Configuration - Instantiated parameter space\n",
      "[INFO] 14:27:41 - dynamite.model.AllModels - No previous models (file NGC4550_output/all_models.ecsv) have been found: Making an empty table in AllModels.table\n",
      "[INFO] 14:27:41 - dynamite.config_reader.Configuration - Instantiated AllModels object\n",
      "[INFO] 14:27:41 - dynamite.config_reader.Configuration - Config file backup: NGC4550_output/NGC4550_config_000.yaml\n"
     ]
    }
   ],
   "source": [
    "c = dyn.config_reader.Configuration('NGC4550_config.yaml', reset_logging=True)"
   ]
  },
  {
   "cell_type": "code",
   "execution_count": 6,
   "id": "friendly-greensboro",
   "metadata": {},
   "outputs": [
    {
     "data": {
      "text/plain": [
       "<dynamite.config_reader.Configuration at 0x164725790>"
      ]
     },
     "execution_count": 6,
     "metadata": {},
     "output_type": "execute_result"
    }
   ],
   "source": [
    "c"
   ]
  },
  {
   "cell_type": "code",
   "execution_count": null,
   "id": "rental-chile",
   "metadata": {},
   "outputs": [],
   "source": []
  }
 ],
 "metadata": {
  "kernelspec": {
   "display_name": "Python 3",
   "language": "python",
   "name": "python3"
  },
  "language_info": {
   "codemirror_mode": {
    "name": "ipython",
    "version": 3
   },
   "file_extension": ".py",
   "mimetype": "text/x-python",
   "name": "python",
   "nbconvert_exporter": "python",
   "pygments_lexer": "ipython3",
   "version": "3.7.9"
  }
 },
 "nbformat": 4,
 "nbformat_minor": 5
}
