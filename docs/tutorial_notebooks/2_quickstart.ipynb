{
 "cells": [
  {
   "cell_type": "markdown",
   "metadata": {},
   "source": [
    "# 2. Quickstart: Running a single Schwarzschild model"
   ]
  },
  {
   "cell_type": "markdown",
   "metadata": {},
   "source": [
    "By the end of the notebook, you will have run a Schwarzschild model. This will involve,\n",
    "1. understanding the configuration file\n",
    "2. executing commands to create and run a Schwarzschild model\n",
    "3. plotting some output for this model"
   ]
  },
  {
   "cell_type": "markdown",
   "metadata": {},
   "source": [
    "## Setup"
   ]
  },
  {
   "cell_type": "markdown",
   "metadata": {},
   "source": [
    "You should be in the directory ```docs/tutorial_notebooks```. To prepare the input data files, you should first run the CALIFA section of the previous tutorial \"Data Preparation for Gauss Hermite kinematics\" (``1_data_prep_for_gauss_hermites.ipynb``). If this is the first time you have run this tutorial, this directory should have the following structure, \n",
    "\n",
    "```\n",
    "tutorial_notebooks\n",
    "    |- ...\n",
    "    |- NGC6278_input\n",
    "        |- dynamite_input\n",
    "            |- aperture.dat\n",
    "            |- bins.dat\n",
    "            |- gauss_hermite_kins.ecvs\n",
    "            |- kinmaps.pdf\n",
    "            |- mge.ecsv\n",
    "            |- pafit.pdf\n",
    "        |- kinmaps.pdf\n",
    "        |- NGC6278.V1200.rscube_INDOUSv2_SN20_stellar_kin.fits\n",
    "    |- NGC6278_config.yaml\n",
    "    |- NGC6278_config_single.yaml\n",
    "    |- *.ipynb\n",
    "    |- ...\n",
    "```\n",
    "\n",
    "We have provided example input data files and a configution file for the galaxy NGC6278. The input data files are:\n",
    "\n",
    "- ``mge.ecvs`` - the Multi Gaussian Expansion (MGE) describing the stellar surface density\n",
    "- ``gauss_hermite_kins.ecsv`` - the kinematics extracted for this galaxy\n",
    "- ``aperture.dat`` - information about the spatial apertures/bins using for kinematic extraction\n",
    "- ``bins.dat`` - information about the spatial apertures/bins using for kinematic extraction\n",
    "- some diagnostic plots\n",
    "\n",
    "The MGE and kinematics files must be in the form of [Astropy ECSV files](https://docs.astropy.org/en/stable/api/astropy.io.ascii.Ecsv.html). This is a convenient and flexible file format, so we use it wherever possible for storing our input and output data.\n",
    "\n",
    "We have provided test data for one galaxy. A very basic set of instructions for generating your own input data is as follows,\n",
    "\n",
    "- fit and MGE to a photometric image e.g. using [mge](http://www-astro.physics.ox.ac.uk/~mxc/software/#mge)\n",
    "- Voronoi bin your IFU datacube e.g. using [e.g. vorbin](http://www-astro.physics.ox.ac.uk/~mxc/software/#binning)\n",
    "- extract kinematics from the binned datacube e.g. using [e.g. PPXF](http://www-astro.physics.ox.ac.uk/~mxc/software/#ppxf)\n",
    "- make the apertures and binfile files. An example script which has created these files is the file ``generate_input_califa.py`` in [this directory](https://github.com/dynamics-of-stellar-systems/triaxschwarz/tree/sabine/schwpy/data_prepare)\n",
    "\n",
    "In the future, we will provide more examples of test data, and more detailed instructions for preparing your own data.\n",
    "\n",
    "To get started, let's import DYNAMITE and print the version and installation path,"
   ]
  },
  {
   "cell_type": "code",
   "execution_count": 1,
   "metadata": {},
   "outputs": [
    {
     "name": "stdout",
     "output_type": "stream",
     "text": [
      "DYNAMITE\n",
      "    version 3.0.0\n"
     ]
    }
   ],
   "source": [
    "import dynamite as dyn\n",
    "\n",
    "print('DYNAMITE')\n",
    "print('    version', dyn.__version__)\n",
    "#print('    installed at ', dyn.__path__) # uncomment for complete DYNAMITE installation path"
   ]
  },
  {
   "cell_type": "markdown",
   "metadata": {},
   "source": [
    "## Reading the configuration file"
   ]
  },
  {
   "cell_type": "markdown",
   "metadata": {},
   "source": [
    "The configuration file controls all of the settings that you may wish to vary when running your Schwarschild models, e.g.\n",
    "\n",
    "- specifying the components of the gravitational potential\n",
    "- specifying the potential parameters, or parameter ranges, etc\n",
    "- specify what type of kinematic data you are providing, e.g.\n",
    "    - discrete vs continuous,\n",
    "    - Gauss-Hermite vs Histograms\n",
    "- the location of the input and output files\n",
    "- the number of models you want to run\n",
    "\n",
    "This list of options is incomplete - for a more detailed description of the configuration file, see the documentation.\n",
    "\n",
    "The configuration file for this tutorial is\n",
    "```\n",
    "NGC6278_config_single.yaml\n",
    "```\n",
    "Open this file in a text editor, alongside this notebook, to see how it is organised. The file is in ``yaml`` format. The basic structure of a yaml files are pairs of keys and values\n",
    "```\n",
    "key : value\n",
    "```\n",
    "which can be organised into hierarchical levels separated by tabs\n",
    "```\n",
    "main_key:\n",
    "    sub_key1 : value1\n",
    "    sub_key2 : value2\n",
    "```\n",
    "Comments begin with a ``#``. Values can be any type of variable e.g. integers, floats, strings, booleans etc.\n",
    "\n",
    "To read in the congfiguration file we can use the following command, creating a configuration object which here we call ``c``,"
   ]
  },
  {
   "cell_type": "code",
   "execution_count": 2,
   "metadata": {},
   "outputs": [
    {
     "name": "stderr",
     "output_type": "stream",
     "text": [
      "[INFO] 21:03:34 - dynamite.config_reader.Configuration - Config file NGC6278_config_single.yaml read.\n",
      "[INFO] 21:03:34 - dynamite.config_reader.Configuration - io_settings...\n",
      "[INFO] 21:03:34 - dynamite.config_reader.Configuration - Output directory tree: NGC6278_output/.\n",
      "[INFO] 21:03:34 - dynamite.config_reader.Configuration - system_attributes...\n",
      "[INFO] 21:03:34 - dynamite.config_reader.Configuration - model_components...\n",
      "[INFO] 21:03:34 - dynamite.config_reader.Configuration - system_parameters...\n",
      "[INFO] 21:03:34 - dynamite.config_reader.Configuration - orblib_settings...\n",
      "[INFO] 21:03:34 - dynamite.config_reader.Configuration - weight_solver_settings...\n",
      "[INFO] 21:03:34 - dynamite.config_reader.Configuration - Will attempt to recover partially run models.\n",
      "[INFO] 21:03:34 - dynamite.config_reader.Configuration - parameter_space_settings...\n",
      "[INFO] 21:03:34 - dynamite.config_reader.Configuration - multiprocessing_settings...\n",
      "[INFO] 21:03:34 - dynamite.config_reader.Configuration - ... using 4 CPUs for orbit integration.\n",
      "[INFO] 21:03:34 - dynamite.config_reader.Configuration - ... using 4 CPUs for weight solving.\n",
      "[INFO] 21:03:34 - dynamite.config_reader.Configuration - legacy_settings...\n",
      "[INFO] 21:03:34 - dynamite.config_reader.Configuration - System assembled\n",
      "[INFO] 21:03:34 - dynamite.config_reader.Configuration - Configuration validated\n",
      "[INFO] 21:03:34 - dynamite.config_reader.Configuration - Instantiated parameter space\n",
      "[INFO] 21:03:34 - dynamite.model.AllModels - No previous models (file NGC6278_output/all_models.ecsv) have been found: Made an empty table in AllModels.table\n",
      "[INFO] 21:03:34 - dynamite.config_reader.Configuration - Instantiated AllModels object\n"
     ]
    }
   ],
   "source": [
    "fname = 'NGC6278_config_single.yaml'\n",
    "c = dyn.config_reader.Configuration(fname, reset_logging=True)"
   ]
  },
  {
   "cell_type": "markdown",
   "metadata": {},
   "source": [
    "On making this object, some output is printed telling us whether any previous models have been found. Assuming that you're running this tutorial for the first time, then no models will be found and an empty table is created at ``AllModels.table``. This table holds holds information about all the models which have been run so far.\n",
    "\n",
    "The configuration object ``c`` is structured in a similar way to the the configuration file itself. For example, the configuration file is split into two sections. The top section defines aspects the physical system we wish to model - e.g. the globular cluster, galaxy or galaxy cluster - while the second section contains all other settings we need for running a model - e.g. settings about the orbit integration and input/output options. The two sections are stored in the ``system`` and ``settings`` attributes of the configuration object, respectively,"
   ]
  },
  {
   "cell_type": "code",
   "execution_count": 3,
   "metadata": {},
   "outputs": [
    {
     "name": "stdout",
     "output_type": "stream",
     "text": [
      "<class 'dynamite.physical_system.System'>\n",
      "<class 'dynamite.config_reader.Settings'>\n"
     ]
    }
   ],
   "source": [
    "print(type(c.system))\n",
    "print(type(c.settings))"
   ]
  },
  {
   "cell_type": "markdown",
   "metadata": {},
   "source": [
    "The physical system is comprised of components, which are stored in a list ``c.system.cmp_list``"
   ]
  },
  {
   "cell_type": "code",
   "execution_count": 4,
   "metadata": {},
   "outputs": [
    {
     "name": "stdout",
     "output_type": "stream",
     "text": [
      "cmp_list is a <class 'list'>\n",
      "cmp_list has length 3\n"
     ]
    }
   ],
   "source": [
    "print(f'cmp_list is a {type(c.system.cmp_list)}')\n",
    "print(f'cmp_list has length {len(c.system.cmp_list)}')"
   ]
  },
  {
   "cell_type": "markdown",
   "metadata": {},
   "source": [
    "Let's print information about the components,"
   ]
  },
  {
   "cell_type": "code",
   "execution_count": 5,
   "metadata": {},
   "outputs": [
    {
     "name": "stdout",
     "output_type": "stream",
     "text": [
      "Information about component 0:\n",
      "   name =  bh\n",
      "   has parameters : m-bh , a-bh , \n",
      "   type =  <class 'dynamite.physical_system.Plummer'>\n",
      "   contributes to the potential? -  True\n",
      "Information about component 1:\n",
      "   name =  dh\n",
      "   has parameters : c-dh , f-dh , \n",
      "   type =  <class 'dynamite.physical_system.NFW'>\n",
      "   contributes to the potential? -  True\n",
      "Information about component 2:\n",
      "   name =  stars\n",
      "   has parameters : q-stars , p-stars , u-stars , \n",
      "   type =  <class 'dynamite.physical_system.TriaxialVisibleComponent'>\n",
      "   contributes to the potential? -  True\n"
     ]
    }
   ],
   "source": [
    "for i in range(3):\n",
    "    \n",
    "    print(f'Information about component {i}:')\n",
    "\n",
    "    # extract component i from the component list\n",
    "    component = c.system.cmp_list[i]\n",
    "\n",
    "    # print the name\n",
    "    print(f'   name =  {component.name}')\n",
    "\n",
    "    # print a list of the names of the parameters of this component\n",
    "    parameters = component.parameters\n",
    "    parameter_names = [par0.name for par0 in parameters]\n",
    "    string = '   has parameters : '\n",
    "    for name in parameter_names:\n",
    "        string += f'{name} , '\n",
    "    print(string)\n",
    "\n",
    "    # print the type of this component\n",
    "    print(f'   type =  {type(component)}')\n",
    "\n",
    "    # does it contribute to the potential?\n",
    "    print(f'   contributes to the potential? -  {component.contributes_to_potential}')"
   ]
  },
  {
   "cell_type": "markdown",
   "metadata": {},
   "source": [
    "Each component has a name, some parameters, and a type. **Currently, dynamite only supports this exact combination of component types**, i.e.\n",
    "\n",
    "- one ``Plummer``  component representing the black hole\n",
    "- one component representing the dark halo (DYNAMITE supports ``NFW`` and a number of additional dark halos, see API documentation)\n",
    "- one ``TriaxialVisibleComponent`` representing the stellar body of the galaxy\n",
    "\n",
    "In the future, we want to support other components, and more flexible combinations of components.\n",
    "\n",
    "For the stars - i.e. component 2 - we must provide some input data files. The location of these files is specified in the configuration file, at\n",
    "```\n",
    "settings -> io_settings -> input_directory\n",
    "```\n",
    "which takes the value,"
   ]
  },
  {
   "cell_type": "code",
   "execution_count": 6,
   "metadata": {},
   "outputs": [
    {
     "data": {
      "text/plain": [
       "'NGC6278_input/dynamite_input/'"
      ]
     },
     "execution_count": 6,
     "metadata": {},
     "output_type": "execute_result"
    }
   ],
   "source": [
    "c.settings.io_settings['input_directory']"
   ]
  },
  {
   "cell_type": "markdown",
   "metadata": {},
   "source": [
    "The names of the following files are also specified in the configuration file, in the locations\n",
    "```\n",
    "system_components -> stars -> mge_pot\n",
    "system_components -> stars -> mge_lum\n",
    "system_components -> stars -> kinematics -> <kinematics name> --> datafile\n",
    "system_components -> stars -> kinematics -> <kinematics name> --> aperturefile\n",
    "system_components -> stars -> kinematics -> <kinematics name> --> binfile\n",
    "```\n",
    "which take values of the appropriate filenames. You are free to give these files whatever name you like, as long as it is specified in the configuration file.\n",
    "\n",
    "Let's have a look at the MGE,"
   ]
  },
  {
   "cell_type": "code",
   "execution_count": 7,
   "metadata": {},
   "outputs": [
    {
     "data": {
      "text/plain": [
       "(MGE({'name': None, 'datafile': 'mge.ecsv', 'input_directory': 'NGC6278_input/dynamite_input/', 'data': <Table length=6>\n",
       "    I      sigma      q    PA_twist\n",
       " float64  float64  float64 float64 \n",
       " -------- -------- ------- --------\n",
       " 26819.14  0.49416 0.89541      0.0\n",
       "  2456.39  2.04299 0.79093      0.0\n",
       "    456.8  2.44313  0.9999      0.0\n",
       "   645.49   6.5305 0.55097      0.0\n",
       "    14.73 17.41488  0.9999      0.0\n",
       "   123.85 21.84711 0.55097      0.0, 'logger': <Logger dynamite.mges.MGE (DEBUG)>}),\n",
       " MGE({'name': None, 'datafile': 'mge.ecsv', 'input_directory': 'NGC6278_input/dynamite_input/', 'data': <Table length=6>\n",
       "    I      sigma      q    PA_twist\n",
       " float64  float64  float64 float64 \n",
       " -------- -------- ------- --------\n",
       " 26819.14  0.49416 0.89541      0.0\n",
       "  2456.39  2.04299 0.79093      0.0\n",
       "    456.8  2.44313  0.9999      0.0\n",
       "   645.49   6.5305 0.55097      0.0\n",
       "    14.73 17.41488  0.9999      0.0\n",
       "   123.85 21.84711 0.55097      0.0, 'logger': <Logger dynamite.mges.MGE (DEBUG)>}))"
      ]
     },
     "execution_count": 7,
     "metadata": {},
     "output_type": "execute_result"
    }
   ],
   "source": [
    "c.system.cmp_list[2].mge_pot, c.system.cmp_list[2].mge_lum"
   ]
  },
  {
   "cell_type": "markdown",
   "metadata": {},
   "source": [
    "The kinematics are stored here,"
   ]
  },
  {
   "cell_type": "code",
   "execution_count": 8,
   "metadata": {},
   "outputs": [
    {
     "data": {
      "text/plain": [
       "list"
      ]
     },
     "execution_count": 8,
     "metadata": {},
     "output_type": "execute_result"
    }
   ],
   "source": [
    "type(c.system.cmp_list[2].kinematic_data)"
   ]
  },
  {
   "cell_type": "markdown",
   "metadata": {},
   "source": [
    "Note that this object has type ``list``. This is because a single component can have multiple different sets of kinematics. In this example, the first (and only) entry in the list is"
   ]
  },
  {
   "cell_type": "code",
   "execution_count": 9,
   "metadata": {},
   "outputs": [
    {
     "data": {
      "text/plain": [
       "dynamite.kinematics.GaussHermite"
      ]
     },
     "execution_count": 9,
     "metadata": {},
     "output_type": "execute_result"
    }
   ],
   "source": [
    "type(c.system.cmp_list[2].kinematic_data[0])"
   ]
  },
  {
   "cell_type": "markdown",
   "metadata": {},
   "source": [
    "We see that this kinematics object has type ``GaussHermite``. This has also been specified in the configuration file, under\n",
    "```\n",
    "system_components -> stars -> kinematics --> kinset1 --> type\n",
    "```\n",
    "In addition to ``GaussHermite``, DYNAMITE also supports ``BayesLOSVD`` kinematics (see documentation).\n",
    "\n",
    "The kinemtic data itself can be accessed as follows,"
   ]
  },
  {
   "cell_type": "code",
   "execution_count": 10,
   "metadata": {},
   "outputs": [
    {
     "data": {
      "text/html": [
       "<div><i>Table length=152</i>\n",
       "<table id=\"table140625300193920\" class=\"table-striped table-bordered table-condensed\">\n",
       "<thead><tr><th>vbin_id</th><th>v</th><th>dv</th><th>sigma</th><th>dsigma</th><th>h3</th><th>dh3</th><th>h4</th><th>dh4</th></tr></thead>\n",
       "<thead><tr><th>int64</th><th>float64</th><th>float64</th><th>float64</th><th>float64</th><th>float64</th><th>float64</th><th>float64</th><th>float64</th></tr></thead>\n",
       "<tr><td>1</td><td>-44.7518</td><td>2.0988</td><td>211.7829</td><td>1.9654</td><td>0.0</td><td>0.005</td><td>0.0</td><td>0.005</td></tr>\n",
       "<tr><td>2</td><td>-69.2798</td><td>2.3608</td><td>188.883</td><td>2.1766</td><td>0.0</td><td>0.005</td><td>0.0</td><td>0.005</td></tr>\n",
       "<tr><td>3</td><td>-70.8007</td><td>3.9338</td><td>177.095</td><td>3.7142</td><td>0.0</td><td>0.005</td><td>0.0</td><td>0.005</td></tr>\n",
       "<tr><td>4</td><td>-47.9191</td><td>3.4617</td><td>184.1865</td><td>3.0684</td><td>0.0</td><td>0.005</td><td>0.0</td><td>0.005</td></tr>\n",
       "<tr><td>5</td><td>-30.5932</td><td>2.386</td><td>208.2472</td><td>2.2207</td><td>0.0</td><td>0.005</td><td>0.0</td><td>0.005</td></tr>\n",
       "<tr><td>6</td><td>-76.5504</td><td>5.5494</td><td>162.3144</td><td>4.572</td><td>0.0</td><td>0.005</td><td>0.0</td><td>0.005</td></tr>\n",
       "<tr><td>7</td><td>-49.8285</td><td>4.4211</td><td>174.0705</td><td>3.6461</td><td>0.0</td><td>0.005</td><td>0.0</td><td>0.005</td></tr>\n",
       "<tr><td>8</td><td>-35.7514</td><td>3.5335</td><td>180.28</td><td>3.3672</td><td>0.0</td><td>0.005</td><td>0.0</td><td>0.005</td></tr>\n",
       "<tr><td>9</td><td>-75.4144</td><td>3.5041</td><td>139.9438</td><td>3.9235</td><td>0.0</td><td>0.005</td><td>0.0</td><td>0.005</td></tr>\n",
       "<tr><td>10</td><td>-43.617</td><td>4.1029</td><td>175.4291</td><td>3.7975</td><td>0.0</td><td>0.005</td><td>0.0</td><td>0.005</td></tr>\n",
       "<tr><td>11</td><td>-80.8035</td><td>4.942</td><td>150.4998</td><td>4.1311</td><td>0.0</td><td>0.005</td><td>0.0</td><td>0.005</td></tr>\n",
       "<tr><td>12</td><td>-0.6747</td><td>3.1619</td><td>193.1385</td><td>2.6654</td><td>0.0</td><td>0.005</td><td>0.0</td><td>0.005</td></tr>\n",
       "<tr><td>...</td><td>...</td><td>...</td><td>...</td><td>...</td><td>...</td><td>...</td><td>...</td><td>...</td></tr>\n",
       "<tr><td>141</td><td>112.2471</td><td>4.6657</td><td>119.3019</td><td>5.0147</td><td>0.0</td><td>0.005</td><td>0.0</td><td>0.005</td></tr>\n",
       "<tr><td>142</td><td>136.8294</td><td>4.5934</td><td>107.5522</td><td>4.9049</td><td>0.0</td><td>0.005</td><td>0.0</td><td>0.005</td></tr>\n",
       "<tr><td>143</td><td>130.3479</td><td>8.6243</td><td>119.4998</td><td>4.3771</td><td>0.0</td><td>0.005</td><td>0.0</td><td>0.005</td></tr>\n",
       "<tr><td>144</td><td>142.0869</td><td>13.3664</td><td>95.5229</td><td>6.7464</td><td>0.0</td><td>0.005</td><td>0.0</td><td>0.005</td></tr>\n",
       "<tr><td>145</td><td>111.6049</td><td>4.8763</td><td>120.454</td><td>4.4527</td><td>0.0</td><td>0.005</td><td>0.0</td><td>0.005</td></tr>\n",
       "<tr><td>146</td><td>120.9348</td><td>3.9434</td><td>107.9628</td><td>4.4038</td><td>0.0</td><td>0.005</td><td>0.0</td><td>0.005</td></tr>\n",
       "<tr><td>147</td><td>123.2916</td><td>5.2241</td><td>110.2003</td><td>5.0809</td><td>0.0</td><td>0.005</td><td>0.0</td><td>0.005</td></tr>\n",
       "<tr><td>148</td><td>146.468</td><td>5.5686</td><td>102.5112</td><td>4.2288</td><td>0.0</td><td>0.005</td><td>0.0</td><td>0.005</td></tr>\n",
       "<tr><td>149</td><td>185.5138</td><td>6.2494</td><td>78.0394</td><td>4.6495</td><td>0.0</td><td>0.005</td><td>0.0</td><td>0.005</td></tr>\n",
       "<tr><td>150</td><td>153.1489</td><td>4.2502</td><td>89.5659</td><td>4.0578</td><td>0.0</td><td>0.005</td><td>0.0</td><td>0.005</td></tr>\n",
       "<tr><td>151</td><td>114.6925</td><td>5.827</td><td>100.1592</td><td>6.2472</td><td>0.0</td><td>0.005</td><td>0.0</td><td>0.005</td></tr>\n",
       "<tr><td>152</td><td>197.743</td><td>3.9056</td><td>65.0177</td><td>5.4738</td><td>0.0</td><td>0.005</td><td>0.0</td><td>0.005</td></tr>\n",
       "</table></div>"
      ],
      "text/plain": [
       "<Table length=152>\n",
       "vbin_id    v        dv    sigma    dsigma    h3     dh3      h4     dh4  \n",
       " int64  float64  float64 float64  float64 float64 float64 float64 float64\n",
       "------- -------- ------- -------- ------- ------- ------- ------- -------\n",
       "      1 -44.7518  2.0988 211.7829  1.9654     0.0   0.005     0.0   0.005\n",
       "      2 -69.2798  2.3608  188.883  2.1766     0.0   0.005     0.0   0.005\n",
       "      3 -70.8007  3.9338  177.095  3.7142     0.0   0.005     0.0   0.005\n",
       "      4 -47.9191  3.4617 184.1865  3.0684     0.0   0.005     0.0   0.005\n",
       "      5 -30.5932   2.386 208.2472  2.2207     0.0   0.005     0.0   0.005\n",
       "      6 -76.5504  5.5494 162.3144   4.572     0.0   0.005     0.0   0.005\n",
       "      7 -49.8285  4.4211 174.0705  3.6461     0.0   0.005     0.0   0.005\n",
       "      8 -35.7514  3.5335   180.28  3.3672     0.0   0.005     0.0   0.005\n",
       "      9 -75.4144  3.5041 139.9438  3.9235     0.0   0.005     0.0   0.005\n",
       "     10  -43.617  4.1029 175.4291  3.7975     0.0   0.005     0.0   0.005\n",
       "     11 -80.8035   4.942 150.4998  4.1311     0.0   0.005     0.0   0.005\n",
       "     12  -0.6747  3.1619 193.1385  2.6654     0.0   0.005     0.0   0.005\n",
       "    ...      ...     ...      ...     ...     ...     ...     ...     ...\n",
       "    141 112.2471  4.6657 119.3019  5.0147     0.0   0.005     0.0   0.005\n",
       "    142 136.8294  4.5934 107.5522  4.9049     0.0   0.005     0.0   0.005\n",
       "    143 130.3479  8.6243 119.4998  4.3771     0.0   0.005     0.0   0.005\n",
       "    144 142.0869 13.3664  95.5229  6.7464     0.0   0.005     0.0   0.005\n",
       "    145 111.6049  4.8763  120.454  4.4527     0.0   0.005     0.0   0.005\n",
       "    146 120.9348  3.9434 107.9628  4.4038     0.0   0.005     0.0   0.005\n",
       "    147 123.2916  5.2241 110.2003  5.0809     0.0   0.005     0.0   0.005\n",
       "    148  146.468  5.5686 102.5112  4.2288     0.0   0.005     0.0   0.005\n",
       "    149 185.5138  6.2494  78.0394  4.6495     0.0   0.005     0.0   0.005\n",
       "    150 153.1489  4.2502  89.5659  4.0578     0.0   0.005     0.0   0.005\n",
       "    151 114.6925   5.827 100.1592  6.2472     0.0   0.005     0.0   0.005\n",
       "    152  197.743  3.9056  65.0177  5.4738     0.0   0.005     0.0   0.005"
      ]
     },
     "execution_count": 10,
     "metadata": {},
     "output_type": "execute_result"
    }
   ],
   "source": [
    "c.system.cmp_list[2].kinematic_data[0].data"
   ]
  },
  {
   "cell_type": "markdown",
   "metadata": {},
   "source": [
    "## Creating a Schwarzschild model"
   ]
  },
  {
   "cell_type": "markdown",
   "metadata": {},
   "source": [
    "Our next step will be to create a model, i.e. a `dyn.model.Model` object for a particular `parset`. This is a particular set of values for each of the parameters of the model. In the configuration file, every parameter has a been given a `value`. We can extract and inspect a parameter set specified by these values as follows,"
   ]
  },
  {
   "cell_type": "code",
   "execution_count": 11,
   "metadata": {},
   "outputs": [
    {
     "name": "stdout",
     "output_type": "stream",
     "text": [
      "  m-bh    a-bh c-dh f-dh q-stars p-stars u-stars  ml\n",
      "-------- ----- ---- ---- ------- ------- ------- ---\n",
      "100000.0 0.001  8.0 10.0    0.54    0.99  0.9999 5.0\n"
     ]
    }
   ],
   "source": [
    "parset = c.parspace.get_parset()\n",
    "print(parset)"
   ]
  },
  {
   "cell_type": "markdown",
   "metadata": {},
   "source": [
    "Note that, compared to values specified in the configuration file, parameters which have been specified as logarithmic, i.e. those configured as \n",
    "```\n",
    "parameters -> XXX -> logarithmic : True\n",
    "```\n",
    "have been exponentiated in this table. More details can be found in the tutorial/documentation \"Parameter Space\" (`5_parameter_space.ipynb`)."
   ]
  },
  {
   "cell_type": "markdown",
   "metadata": {},
   "source": [
    "DYNAMITE uses the `ModelIterator` object to run models. In our case, only one model is run because the configuration file fixes all parameters to their respective values (`fixed: True`). In a later tutorial \"Model Iterations and Plots\" (`3_model_iterations_and_plots.ipynb`) we will see how to run a suite of models. To help understand what the model iterator does, let's read the internal documentation (i.e. the docstring) for the class:\n",
    "```\n",
    "class ModelIterator(object):\n",
    "    \"\"\"Iterator for models\n",
    "\n",
    "    Creating this ``ModelIterator`` object will (i) generate parameters sets,\n",
    "    (ii) run models for those parameters, (iii) check stopping criteria, and\n",
    "    iterate this procedure till a stopping criterion is met. This is implemented\n",
    "    by creating a ``ModelInnerIterator`` object whose ``run_iteration`` method\n",
    "    is called a number of times.\n",
    "\n",
    "    Parameters\n",
    "    ----------\n",
    "    config : a ``dyn.config_reader.Configuration`` object\n",
    "    model_kwargs : dict\n",
    "        other kewyord argument required for this model\n",
    "    do_dummy_run : Bool\n",
    "        whether this is a dummy run - if so, dummy_chi2_funciton is executed\n",
    "        instead of the model (for testing!)\n",
    "    dummy_chi2_function : function\n",
    "        a function of model parameters to be executed instead of the real model\n",
    "    plots : bool\n",
    "        whether or not to make plots\n",
    "\n",
    "    \"\"\"\n",
    "    def __init__(self,\n",
    "                 config=None,\n",
    "                 model_kwargs={},\n",
    "                 do_dummy_run=None,\n",
    "                 dummy_chi2_function=None,\n",
    "                 plots=True):\n",
    "```\n",
    "All we need to do is pass the configuration object `c` when we instantiate the `ModelIterator`. The following step will take a few minutes:"
   ]
  },
  {
   "cell_type": "code",
   "execution_count": 12,
   "metadata": {},
   "outputs": [
    {
     "name": "stderr",
     "output_type": "stream",
     "text": [
      "[INFO] 21:03:41 - dynamite.model_iterator.ModelIterator - LegacyGridSearch: iterations 0 and 1\n",
      "[INFO] 21:03:41 - dynamite.parameter_space.LegacyGridSearch - LegacyGridSearch added 1 new model(s) out of 1\n",
      "[INFO] 21:03:41 - dynamite.parameter_space.LegacyGridSearch - LegacyGridSearch added 0 new model(s) out of 0\n",
      "[INFO] 21:03:41 - dynamite.model_iterator.ModelInnerIterator - ... running model 1 out of 1\n",
      "[INFO] 21:03:41 - dynamite.orblib.LegacyOrbitLibrary - Calculating initial conditions\n",
      "[INFO] 21:04:25 - dynamite.orblib.LegacyOrbitLibrary - ...done - cmd_orb_start exit code 0. Logfile: NGC6278_output/models/orblib_000_000/datfil/orbstart.log.\n",
      "[INFO] 21:04:25 - dynamite.orblib.LegacyOrbitLibrary - Integrating orbit library tube and box orbits\n",
      "[INFO] 21:04:34 - dynamite.orblib.LegacyOrbitLibrary - ...done - cmd_tube_box_orbs exit code 0. Logfiles: NGC6278_output/models/orblib_000_000/datfil/orblib.log, NGC6278_output/models/orblib_000_000/datfil/orblibbox.log, NGC6278_output/models/orblib_000_000/datfil/triaxmass.log, NGC6278_output/models/orblib_000_000/datfil/triaxmassbin.log.\n",
      "[INFO] 21:04:34 - dynamite.weight_solvers.LegacyWeightSolver - Using WeightSolver: LegacyWeightSolver\n",
      "[INFO] 21:04:34 - dynamite.weight_solvers.LegacyWeightSolver - Fitting orbit library to the kinematic data: ml05.00\n",
      "[INFO] 21:04:36 - dynamite.weight_solvers.LegacyWeightSolver - ...done, NNLS problem solved -  cmd_nnls_5.0 exit code 0. Logfile: NGC6278_output/models/orblib_000_000/ml05.00/nnls.log\n",
      "[INFO] 21:04:36 - dynamite.config_reader.Configuration - Config file copied to NGC6278_output/models/orblib_000_000/ml05.00/NGC6278_config_single.yaml.\n",
      "[INFO] 21:04:36 - dynamite.model_iterator.ModelInnerIterator - Model 1: NGC6278_output/models/orblib_000_000/ml05.00/model_done_staging.ecsv written.\n",
      "[INFO] 21:04:37 - dynamite.model_iterator.ModelInnerIterator - Iteration done, 1 model(s) calculated.\n",
      "[INFO] 21:04:37 - dynamite.model_iterator.ModelInnerIterator - 1 staging file(s) deleted.\n",
      "[INFO] 21:04:37 - dynamite.plotter.Plotter - kinchi2 vs. model id plot created (1 models).\n",
      "[INFO] 21:04:37 - dynamite.plotter.Plotter - Plot NGC6278_output/plots/kinchi2_progress_plot.png saved in NGC6278_output/plots/\n",
      "[INFO] 21:04:37 - dynamite.plotter.Plotter - Making chi2 plot scaled according to kinchi2\n",
      "[INFO] 21:04:37 - dynamite.plotter.Plotter - Plot NGC6278_output/plots/kinchi2_plot.png saved in NGC6278_output/plots/\n",
      "[INFO] 21:04:37 - dynamite.plotter.Plotter - Plotting kinematic maps for 1 kin_sets.\n",
      "[INFO] 21:04:37 - dynamite.plotter.Plotter - Plotting kinematic maps for kin_set no 0: califa\n",
      "[INFO] 21:04:41 - dynamite.model_iterator.ModelIterator - LegacyGridSearch: iteration 2\n",
      "[INFO] 21:04:41 - dynamite.parameter_space.LegacyGridSearch - LegacyGridSearch added 0 new model(s) out of 0\n",
      "[INFO] 21:04:41 - dynamite.plotter.Plotter - kinchi2 vs. model id plot created (1 models).\n",
      "[INFO] 21:04:41 - dynamite.plotter.Plotter - Plot NGC6278_output/plots/kinchi2_progress_plot.png saved in NGC6278_output/plots/\n",
      "[INFO] 21:04:41 - dynamite.plotter.Plotter - Making chi2 plot scaled according to kinchi2\n",
      "[INFO] 21:04:41 - dynamite.plotter.Plotter - Plot NGC6278_output/plots/kinchi2_plot.png saved in NGC6278_output/plots/\n",
      "[INFO] 21:04:41 - dynamite.plotter.Plotter - Plotting kinematic maps for 1 kin_sets.\n",
      "[INFO] 21:04:41 - dynamite.plotter.Plotter - Plotting kinematic maps for kin_set no 0: califa\n",
      "[INFO] 21:04:45 - dynamite.model_iterator.ModelIterator - Stopping at iteration 3\n"
     ]
    },
    {
     "data": {
      "text/plain": [
       "<dynamite.model_iterator.ModelIterator at 0x7fe5e113d880>"
      ]
     },
     "execution_count": 12,
     "metadata": {},
     "output_type": "execute_result"
    }
   ],
   "source": [
    "dyn.model_iterator.ModelIterator(config=c)"
   ]
  },
  {
   "cell_type": "markdown",
   "metadata": {},
   "source": [
    "A lot happened here:"
   ]
  },
  {
   "cell_type": "markdown",
   "metadata": {},
   "source": [
    "explain..."
   ]
  },
  {
   "cell_type": "markdown",
   "metadata": {},
   "source": [
    "Our next step will be to create a model i.e. a ``dyn.model.Model`` object. To help understand what the Model object is, let's read the internal documentation (i.e. the docstring) for the class:\n",
    "\n",
    "```\n",
    "class Model(object):\n",
    "    \"\"\"A DYNAMITE model.\n",
    "\n",
    "    The model can be run by running the methods (i) get_orblib, (ii) get_weights\n",
    "    and (iii) (in the future) do_orbit_colouring. Running each of these methods\n",
    "    will return the appropriate object, e.g. model.get_orblib() --> returns an\n",
    "    OrbitLibrary object model.get_weights(...) --> returns a WeightSolver object\n",
    "\n",
    "    Parameters\n",
    "    ----------\n",
    "    config : a ``dyn.config_reader.Configuration`` object\n",
    "    parset : row of an Astropy Table\n",
    "        contains the values of the potential parameters for this model\n",
    "    directory : str\n",
    "        The model directory name (without path). If None or not specified,\n",
    "        the all_models_file will be searched for the directory name. If the\n",
    "        all_models file does not exist, the model directory will be set to\n",
    "        ``orblib_000_000/ml{ml}``.\n",
    "\n",
    "    Returns\n",
    "    -------\n",
    "    Nothing returned. Attributes holding outputs are are added to the\n",
    "    object when methods are run.\n",
    "\n",
    "    \"\"\"\n",
    "    def __init__(self, config=None, parset=None, directory=None):\n",
    "```\n",
    "Looking at the init signature for this class, we see that a ``Model`` requires 3 input arguments. We've already met the first, the configuration object ``c``."
   ]
  },
  {
   "cell_type": "markdown",
   "metadata": {},
   "source": [
    "The remaining input parameter we need to provide is ``parset``. This is a particular set of values for each of the parameters of the model. In the configuration file, every parameter has a been given a ``value``. We can extract a parameter set specified by these values as follows,"
   ]
  },
  {
   "cell_type": "code",
   "execution_count": null,
   "metadata": {},
   "outputs": [],
   "source": [
    "parset = c.parspace.get_parset()\n",
    "print(parset)"
   ]
  },
  {
   "cell_type": "markdown",
   "metadata": {},
   "source": [
    "Note that, compared to values specified in the configuration file, parameters which have been specified as logarithmic, i.e. those configured as \n",
    "```\n",
    "parameters -> XXX -> logarithmic : True\n",
    "```\n",
    "have been exponentiated in this table. More details can be found in the tutorial/documentation `parameter_space.ipynb`.\n",
    "\n",
    "With the first 2 input arguments at hand, we can now create our model object,"
   ]
  },
  {
   "cell_type": "code",
   "execution_count": null,
   "metadata": {},
   "outputs": [],
   "source": [
    "model = dyn.model.Model(config=c, parset=parset)"
   ]
  },
  {
   "cell_type": "markdown",
   "metadata": {},
   "source": [
    "As this is our first model and we did not specify an explicit model directory, a standard directory name has been assigned to the model. Note that this path has not been created in the file system so far.\n",
    "\n",
    "Having created the model object, we can now run it. First, let's create directories for the output,"
   ]
  },
  {
   "cell_type": "code",
   "execution_count": null,
   "metadata": {},
   "outputs": [],
   "source": [
    "model.setup_directories()"
   ]
  },
  {
   "cell_type": "markdown",
   "metadata": {},
   "source": [
    "This should have created a directory, where the name has been specified in the config file, "
   ]
  },
  {
   "cell_type": "code",
   "execution_count": null,
   "metadata": {},
   "outputs": [],
   "source": [
    "c.settings.io_settings['output_directory']"
   ]
  },
  {
   "cell_type": "markdown",
   "metadata": {},
   "source": [
    "inside of which you should find \n",
    "```\n",
    "NGC6278_output/models/\n",
    "```\n",
    "inside of which a unique directory for *this particular* model has been created, called"
   ]
  },
  {
   "cell_type": "code",
   "execution_count": null,
   "metadata": {},
   "outputs": [],
   "source": [
    "model.get_model_directory()"
   ]
  },
  {
   "cell_type": "markdown",
   "metadata": {},
   "source": [
    "The directory name is constructed from the standard name for new, directly created models and their ``ml`` value.\n",
    "\n",
    "The next step is to calculate the orbit library. This step will take a few minutes,"
   ]
  },
  {
   "cell_type": "code",
   "execution_count": null,
   "metadata": {},
   "outputs": [],
   "source": [
    "model.get_orblib()"
   ]
  },
  {
   "cell_type": "markdown",
   "metadata": {},
   "source": [
    "Having calculated an orbit library, we now need to find out which orbits are useful for reproducing the observations. This is an Non-Negative Least Squares (NNLS) optimization problem, which can be solved as follows"
   ]
  },
  {
   "cell_type": "code",
   "execution_count": null,
   "metadata": {},
   "outputs": [],
   "source": [
    "model.get_weights()"
   ]
  },
  {
   "cell_type": "markdown",
   "metadata": {},
   "source": [
    "Congratulations! You have run your first Schwarzschild model using DYNAMITE. The chi-squared of this model is,"
   ]
  },
  {
   "cell_type": "code",
   "execution_count": null,
   "metadata": {},
   "outputs": [],
   "source": [
    "model.chi2"
   ]
  },
  {
   "cell_type": "markdown",
   "metadata": {},
   "source": [
    "Is that good? I don't know! To find out, we'll have to run more models and compare their chi-squared values. For information about this, see the tutorial `running_a_grid_of_models.ipynb`."
   ]
  },
  {
   "cell_type": "markdown",
   "metadata": {},
   "source": [
    "## Plot the Models\n",
    "\n",
    "Now let's look at some output for the model that we have just run"
   ]
  },
  {
   "cell_type": "code",
   "execution_count": null,
   "metadata": {},
   "outputs": [],
   "source": [
    "plotter = dyn.plotter.Plotter(config=c)\n",
    "\n",
    "figure = plotter.plot_kinematic_maps(model)"
   ]
  },
  {
   "cell_type": "markdown",
   "metadata": {},
   "source": [
    "The top row shows the data, the middle row shows the model, and the bottom row shows the residuals. The columns, from left to right, are the stellar surface density, $V$, $\\sigma$, $h_3$ and $h_4$. We can see the following features in the fit,\n",
    "\n",
    "- the model and data surface densities are very similar\n",
    "- the sense of rotation of the $v$ map is reproduced well, though the amplitude is lower than observed\n",
    "- the $\\sigma$, $h_3$ and $h_4$ maps are less well reproduced\n",
    "\n",
    "While the fit is certainly not perfect, it's reassuring to see that some features are reproduced well. To improve the fit, we will have to explore parameter space more fully. See the tutorial on \"running a grid of models\" for more details."
   ]
  },
  {
   "cell_type": "markdown",
   "metadata": {},
   "source": [
    "## Exercise\n",
    "\n",
    "Change one of the potential parameters, then run another Schwarzschild model. You could do this by creating a new configuration file, or manually changing one of the parameters in this notebook. For example, to change the parameter ``ml`` - which is the mass-to-light ratio of the stars - to six, then you can uncomment the next line,"
   ]
  },
  {
   "cell_type": "code",
   "execution_count": null,
   "metadata": {},
   "outputs": [],
   "source": [
    "parset['f-dh'] = 6.\n",
    "print(parset)"
   ]
  },
  {
   "cell_type": "markdown",
   "metadata": {},
   "source": [
    "Change any parameter you would like, then re-run a model and save the output plots."
   ]
  }
 ],
 "metadata": {
  "kernelspec": {
   "display_name": "Python 3 (ipykernel)",
   "language": "python",
   "name": "python3"
  },
  "language_info": {
   "codemirror_mode": {
    "name": "ipython",
    "version": 3
   },
   "file_extension": ".py",
   "mimetype": "text/x-python",
   "name": "python",
   "nbconvert_exporter": "python",
   "pygments_lexer": "ipython3",
   "version": "3.9.13"
  }
 },
 "nbformat": 4,
 "nbformat_minor": 4
}
