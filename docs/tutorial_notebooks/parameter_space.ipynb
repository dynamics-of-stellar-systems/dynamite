{
 "cells": [
  {
   "cell_type": "markdown",
   "metadata": {},
   "source": [
    "# Parameter Space"
   ]
  },
  {
   "cell_type": "markdown",
   "metadata": {},
   "source": [
    "Let's look at the parameter space"
   ]
  },
  {
   "cell_type": "code",
   "execution_count": 1,
   "metadata": {},
   "outputs": [
    {
     "name": "stdout",
     "output_type": "stream",
     "text": [
      "No previous models have been found:\n",
      "Making an empty table in AllModels.table\n"
     ]
    }
   ],
   "source": [
    "import dynamite as dyn\n",
    "\n",
    "fname = 'NGC6278_config.yaml'\n",
    "c = dyn.config_reader.Configuration(fname, silent=True)\n",
    "\n",
    "parset = c.parspace.get_parset()\n",
    "\n",
    "model = dyn.model.LegacySchwarzschildModel(\n",
    "    system=c.system,\n",
    "    settings=c.settings,\n",
    "    parspace=c.parspace,\n",
    "    executor=c.executor,\n",
    "    parset=parset)"
   ]
  },
  {
   "cell_type": "markdown",
   "metadata": {},
   "source": [
    "For now, let's extract a single parameter set to be able to create a model. For every parameter, in the configuration file we have specified a ``value``. Let's look at these values. To access them, we can loop over ``parspace``, which is a list of all the parameters,"
   ]
  },
  {
   "cell_type": "code",
   "execution_count": 2,
   "metadata": {},
   "outputs": [
    {
     "name": "stdout",
     "output_type": "stream",
     "text": [
      "Parameter / value :\n",
      "   mass = 6.0\n",
      "   a = 0.001\n",
      "   dc = 10.0\n",
      "   f = 100.0\n",
      "   q = 0.54\n",
      "   p = 0.99\n",
      "   u = 0.9999\n",
      "   ml = 3.0\n"
     ]
    }
   ],
   "source": [
    "print('Parameter / value :')\n",
    "for par in c.parspace:\n",
    "    print(f'   {par.name} = {par.value}')"
   ]
  },
  {
   "cell_type": "markdown",
   "metadata": {},
   "source": [
    "This is almost the ``parset`` that we need to make the model. One complication is that some parameters are specified in logarithmic units, i.e. \n",
    "```\n",
    "parameters -> XXX -> logarithmic : True\n",
    "```\n",
    "This can be useful for parameters (e.g. masses) for which it makes sense to take logarithmically spaced steps through parameter space. For other parameters (e.g. length scales) linearly spaced steps may be more appropriate. For other types of parameters (e.g. angles) a different spacing may be preferable.\n",
    "\n",
    "To handle these possibilities, we introduce the concept of ``raw`` parameter values, distinct from the values themselves. All values associated with parameter in the configuration file are given in ``raw`` units. When we step through parameter space, we take linear steps in ``raw`` values. The conversion from raw values to the parameter values is handles by the method\n",
    "```\n",
    "Parameter.get_par_value_from_raw_value\n",
    "```\n",
    "So to convert the above list from raw values, we can do the following,"
   ]
  },
  {
   "cell_type": "code",
   "execution_count": 3,
   "metadata": {},
   "outputs": [
    {
     "name": "stdout",
     "output_type": "stream",
     "text": [
      "Parameter / value :\n",
      "   mass = 1000000.0\n",
      "   a = 0.001\n",
      "   dc = 10.0\n",
      "   f = 100.0\n",
      "   q = 0.54\n",
      "   p = 0.99\n",
      "   u = 0.9999\n",
      "   ml = 3.0\n"
     ]
    }
   ],
   "source": [
    "print('Parameter / value :')\n",
    "for par in c.parspace:\n",
    "    raw_value = par.value\n",
    "    par_value = par.get_par_value_from_raw_value(raw_value)\n",
    "    print(f'   {par.name} = {par_value}')"
   ]
  },
  {
   "cell_type": "markdown",
   "metadata": {},
   "source": [
    "Lastly, we must pass a parameter set to the ``Model`` in the form of a row of an ``Astropy Table``, which we can create as follows,"
   ]
  },
  {
   "cell_type": "code",
   "execution_count": 4,
   "metadata": {},
   "outputs": [
    {
     "name": "stdout",
     "output_type": "stream",
     "text": [
      "   mass     a    dc    f    q    p     u     ml\n",
      "--------- ----- ---- ----- ---- ---- ------ ---\n",
      "1000000.0 0.001 10.0 100.0 0.54 0.99 0.9999 3.0\n"
     ]
    }
   ],
   "source": [
    "from astropy.table import Table\n",
    "\n",
    "t = Table()\n",
    "for par in c.parspace:\n",
    "    raw_value = par.value\n",
    "    par_value = par.get_par_value_from_raw_value(raw_value)\n",
    "    t[par.name] = [par_value]\n",
    "# extract 0th - i.e. the only - row from the table\n",
    "parset = t[0]\n",
    "\n",
    "print(parset)"
   ]
  },
  {
   "cell_type": "code",
   "execution_count": null,
   "metadata": {},
   "outputs": [],
   "source": []
  }
 ],
 "metadata": {
  "kernelspec": {
   "display_name": "Python 3",
   "language": "python",
   "name": "python3"
  },
  "language_info": {
   "codemirror_mode": {
    "name": "ipython",
    "version": 3
   },
   "file_extension": ".py",
   "mimetype": "text/x-python",
   "name": "python",
   "nbconvert_exporter": "python",
   "pygments_lexer": "ipython3",
   "version": "3.6.11"
  }
 },
 "nbformat": 4,
 "nbformat_minor": 4
}
