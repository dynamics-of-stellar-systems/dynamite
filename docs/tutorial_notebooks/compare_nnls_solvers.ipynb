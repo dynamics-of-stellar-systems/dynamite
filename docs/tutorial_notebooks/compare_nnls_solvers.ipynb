{
 "cells": [
  {
   "cell_type": "markdown",
   "metadata": {},
   "source": [
    "# Comparing NNLS solvers"
   ]
  },
  {
   "cell_type": "markdown",
   "metadata": {},
   "source": [
    "I'll compare the fortran and python implementations for accuracy and speed.\n",
    "\n",
    "I've already orbit libraries for 19 models, let's load these the config"
   ]
  },
  {
   "cell_type": "code",
   "execution_count": 3,
   "metadata": {},
   "outputs": [
    {
     "name": "stdout",
     "output_type": "stream",
     "text": [
      "Using DYNAMITE version: 0.0.0\n",
      "Located at: ['/Users/pjethwa/miniconda3/envs/dyn_env/lib/python3.6/site-packages/dynamite-0.0.0-py3.6.egg/dynamite']\n",
      "Previous models have been found:\n",
      "Reading NGC6278_output/all_models.ecsv into AllModels.table\n"
     ]
    }
   ],
   "source": [
    "import matplotlib.pyplot as plt\n",
    "\n",
    "import dynamite as dyn\n",
    "print('Using DYNAMITE version:', dyn.__version__)\n",
    "print('Located at:', dyn.__path__)\n",
    "\n",
    "# read configuration\n",
    "fname = 'test_reimplement_nnls.yaml'\n",
    "c = dyn.config_reader.Configuration(fname, silent=True)"
   ]
  },
  {
   "cell_type": "code",
   "execution_count": 4,
   "metadata": {},
   "outputs": [
    {
     "name": "stdout",
     "output_type": "stream",
     "text": [
      "[ 3  6  9 12]\n"
     ]
    }
   ],
   "source": [
    "import numpy as np\n",
    "ngh = 4\n",
    "k = np.arange(ngh) * 3 + 3\n",
    "\n",
    "print(k)"
   ]
  },
  {
   "cell_type": "markdown",
   "metadata": {},
   "source": [
    "Write come helper wrapper functions to solve for orbital weights in Fortran and Python.\n",
    "\n",
    "These do a number of things, (i) unzip the orbit libraries to file, (ii) read orbit libraries + intrinsic/projected masses, (iii) calculate GH coefficients, (iii) construct the NNLS matrix and constraint vector, (iv) optionally apply 'CRcut', (v) solve. This is all wrapped up in `triaxnnls_CRcut`. For fairness, in python implementation I do all of this also. Timing comparisons refer to this whole procedure.\n",
    "\n",
    "\n",
    "Define some helper wrapper functions,"
   ]
  },
  {
   "cell_type": "code",
   "execution_count": 5,
   "metadata": {},
   "outputs": [],
   "source": [
    "import os\n",
    "\n",
    "def reset_fortran_output(mod_idx):\n",
    "    parset0 = c.all_models.get_parset_from_row(mod_idx)\n",
    "    mod0 = dyn.model.LegacySchwarzschildModel(system=c.system,\n",
    "                                              settings=c.settings,\n",
    "                                              parspace=c.parspace,\n",
    "                                              parset=parset0)\n",
    "    direc0 = mod0.get_model_directory()\n",
    "    files = os.listdir(direc0)\n",
    "    for f in files:\n",
    "        os.remove(f'{direc0}{f}')\n",
    "    return\n",
    "\n",
    "def solve_with_fortran(mod_idx, CRcut=False):\n",
    "    reset_fortran_output(mod_idx)\n",
    "    parset0 = c.all_models.get_parset_from_row(mod_idx)\n",
    "    mod0 = dyn.model.LegacySchwarzschildModel(system=c.system,\n",
    "                                              settings=c.settings,\n",
    "                                              parspace=c.parspace,\n",
    "                                              parset=parset0)\n",
    "    weight_solver = dyn.weight_solvers.LegacyWeightSolver(\n",
    "        system=c.system,\n",
    "        settings=c.settings.weight_solver_settings,\n",
    "        mod_dir=mod0.directory_noml,\n",
    "        legacy_directory=c.settings.legacy_settings['directory'],\n",
    "        CRcut=CRcut,\n",
    "        ml=parset0['ml'])\n",
    "    chi2, kinchi2 = weight_solver.solve(None)\n",
    "    weight_solver.read_weights()\n",
    "    weights = weight_solver.weights['weight'].data\n",
    "    return weights, chi2\n",
    "\n",
    "def solve_with_python(mod_idx, CRcut=False):\n",
    "    parset0 = c.all_models.get_parset_from_row(mod_idx)\n",
    "    mod0 = dyn.model.LegacySchwarzschildModel(system=c.system,\n",
    "                                              settings=c.settings,\n",
    "                                              parspace=c.parspace,\n",
    "                                              parset=parset0)\n",
    "    orblib0 = mod0.get_orblib()\n",
    "    new_weight_solver = dyn.weight_solvers.PrashsCoolNewWeightSolver(\n",
    "        system=c.system,\n",
    "        settings=c.settings.weight_solver_settings,\n",
    "        directory_noml=mod0.directory_noml,\n",
    "        CRcut=CRcut)\n",
    "    weights, chi2 = new_weight_solver.solve(orblib0)\n",
    "    # = chi2 of hermite coefficients, only\n",
    "    return weights, chi2"
   ]
  },
  {
   "cell_type": "code",
   "execution_count": 6,
   "metadata": {},
   "outputs": [
    {
     "name": "stdout",
     "output_type": "stream",
     "text": [
      "Fit the orbit library to the kinematic data.\n",
      "NNLS problem solved\n",
      "Fit the orbit library to the kinematic data.\n",
      "NNLS problem solved\n"
     ]
    }
   ],
   "source": [
    "mod_idx = 0\n",
    "\n",
    "parset0 = c.all_models.get_parset_from_row(mod_idx)\n",
    "mod0 = dyn.model.LegacySchwarzschildModel(system=c.system,\n",
    "                                          settings=c.settings,\n",
    "                                          parspace=c.parspace,\n",
    "                                          parset=parset0)\n",
    "orblib0 = mod0.get_orblib()\n",
    "\n",
    "reset_fortran_output(mod_idx)\n",
    "weight_solver = dyn.weight_solvers.LegacyWeightSolver(\n",
    "    system=c.system,\n",
    "    settings=c.settings.weight_solver_settings,\n",
    "    mod_dir=mod0.directory_noml,\n",
    "    legacy_directory=c.settings.legacy_settings['directory'],\n",
    "    CRcut=True,\n",
    "    ml=parset0['ml'])\n",
    "chi2, kinchi2 = weight_solver.solve(None)\n",
    "weight_solver.read_weights()\n",
    "orbmat_f_crc, _, _ = weight_solver.read_nnls_orbmat_rhs_and_solution()\n",
    "\n",
    "reset_fortran_output(mod_idx)\n",
    "weight_solver = dyn.weight_solvers.LegacyWeightSolver(\n",
    "    system=c.system,\n",
    "    settings=c.settings.weight_solver_settings,\n",
    "    mod_dir=mod0.directory_noml,\n",
    "    legacy_directory=c.settings.legacy_settings['directory'],\n",
    "    CRcut=False,\n",
    "    ml=parset0['ml'])\n",
    "chi2, kinchi2 = weight_solver.solve(None)\n",
    "weight_solver.read_weights()\n",
    "orbmat_f_ncrc, _, _ = weight_solver.read_nnls_orbmat_rhs_and_solution()\n"
   ]
  },
  {
   "cell_type": "code",
   "execution_count": 7,
   "metadata": {},
   "outputs": [
    {
     "data": {
      "text/plain": [
       "<matplotlib.image.AxesImage at 0x16c319198>"
      ]
     },
     "execution_count": 7,
     "metadata": {},
     "output_type": "execute_result"
    },
    {
     "data": {
      "image/png": "[encoded data removed]",
      "text/plain": [
       "<Figure size 720x720 with 1 Axes>"
      ]
     },
     "metadata": {
      "needs_background": "light"
     },
     "output_type": "display_data"
    }
   ],
   "source": [
    "import numpy as np\n",
    "\n",
    "fig, ax = plt.subplots(1, 1, figsize=(10,10))\n",
    "ax.imshow(np.isclose(orbmat_f_crc, orbmat_f_ncrc), aspect='auto', interpolation='none', cmap=plt.cm.Greys_r)"
   ]
  },
  {
   "cell_type": "code",
   "execution_count": 20,
   "metadata": {},
   "outputs": [
    {
     "data": {
      "text/plain": [
       "array([[[0.00041553, 0.00041552, 0.0004155 , 0.00041548, 0.00041547,\n",
       "         0.00041546, 0.0012555 , 0.00125536, 0.00125512, 0.00125484],\n",
       "        [0.0012546 , 0.00125447, 0.00210663, 0.00210606, 0.00210507,\n",
       "         0.00210394, 0.00210295, 0.00210239, 0.00292538, 0.00292402],\n",
       "        [0.00292167, 0.00291895, 0.0029166 , 0.00291525, 0.00360535,\n",
       "         0.00360303, 0.00359901, 0.00359438, 0.00359038, 0.00358807],\n",
       "        [0.00400064, 0.00399763, 0.00399242, 0.00398643, 0.00398124,\n",
       "         0.00397826, 0.00011832, 0.00011832, 0.00011832, 0.00011831],\n",
       "        [0.0001183 , 0.0001183 , 0.00036099, 0.00036094, 0.00036085,\n",
       "         0.00036075, 0.00036067, 0.00036062, 0.00061819, 0.00061796],\n",
       "        [0.00061758, 0.00061713, 0.00061675, 0.00061653, 0.00088456,\n",
       "         0.00088397, 0.00088294, 0.00088176, 0.00088074, 0.00088015]],\n",
       "\n",
       "       [[0.00112579, 0.00112467, 0.00112274, 0.00112052, 0.0011186 ,\n",
       "         0.00111749, 0.00127626, 0.00127473, 0.00127207, 0.00126902],\n",
       "        [0.00126639, 0.00126488, 0.00020414, 0.00020414, 0.00020413,\n",
       "         0.00020412, 0.00020411, 0.00020411, 0.00062061, 0.00062054],\n",
       "        [0.00062044, 0.00062031, 0.0006202 , 0.00062014, 0.00105254,\n",
       "         0.00105228, 0.00105183, 0.00105131, 0.00105086, 0.00105061],\n",
       "        [0.00148001, 0.00147938, 0.00147829, 0.00147703, 0.00147594,\n",
       "         0.00147532, 0.00184425, 0.00184316, 0.00184128, 0.0018391 ],\n",
       "        [0.00183722, 0.00183614, 0.00205983, 0.0020584 , 0.00205593,\n",
       "         0.00205309, 0.00205063, 0.00204921, 0.00028686, 0.00028685],\n",
       "        [0.00028683, 0.00028681, 0.0002868 , 0.00028679, 0.00089508,\n",
       "         0.00089493, 0.00089467, 0.00089437, 0.00089412, 0.00089397]],\n",
       "\n",
       "       [[0.00159432, 0.00159364, 0.00159248, 0.00159114, 0.00158999,\n",
       "         0.00158932, 0.00238673, 0.00238493, 0.00238182, 0.00237824],\n",
       "        [0.00237514, 0.00237336, 0.00315541, 0.00315203, 0.00314617,\n",
       "         0.00313944, 0.00313362, 0.00313027, 0.00365375, 0.00364911],\n",
       "        [0.00364109, 0.00363186, 0.0036239 , 0.00361931, 0.00026178,\n",
       "         0.00026177, 0.00026176, 0.00026174, 0.00026173, 0.00026172],\n",
       "        [0.00083293, 0.00083279, 0.00083255, 0.00083227, 0.00083203,\n",
       "         0.00083189, 0.00154655, 0.00154584, 0.0015446 , 0.00154318],\n",
       "        [0.00154195, 0.00154124, 0.00246226, 0.00246003, 0.00245617,\n",
       "         0.00245173, 0.0024479 , 0.00244569, 0.00347892, 0.00347406],\n",
       "        [0.00346566, 0.00345602, 0.00344771, 0.00344294, 0.004211  ,\n",
       "         0.00420372, 0.00419115, 0.00417673, 0.00416432, 0.00415718]],\n",
       "\n",
       "       [[0.00020953, 0.00020952, 0.00020951, 0.00020949, 0.00020948,\n",
       "         0.00020947, 0.00070164, 0.0007015 , 0.00070126, 0.00070099],\n",
       "        [0.00070076, 0.00070062, 0.00144069, 0.00143994, 0.00143863,\n",
       "         0.00143712, 0.00143582, 0.00143507, 0.00261766, 0.00261505],\n",
       "        [0.00261055, 0.00260536, 0.00260088, 0.0025983 , 0.00418726,\n",
       "         0.00418107, 0.00417037, 0.00415808, 0.00414747, 0.00414136],\n",
       "        [0.00545882, 0.00544905, 0.00543219, 0.00541282, 0.00539613,\n",
       "         0.00538652, 0.00021354, 0.00021353, 0.00021352, 0.00021351],\n",
       "        [0.0002135 , 0.0002135 , 0.00069175, 0.00069165, 0.00069146,\n",
       "         0.00069125, 0.00069107, 0.00069096, 0.00139023, 0.00138949],\n",
       "        [0.00138819, 0.0013867 , 0.00138542, 0.00138467, 0.00271777,\n",
       "         0.00271406, 0.00270766, 0.0027003 , 0.00269396, 0.00269031]],\n",
       "\n",
       "       [[0.0051902 , 0.00517757, 0.0051558 , 0.00513083, 0.00510934,\n",
       "         0.00509699, 0.00786564, 0.00784085, 0.00779817, 0.00774926],\n",
       "        [0.00770722, 0.00768309, 0.00035791, 0.0003579 , 0.00035788,\n",
       "         0.00035786, 0.00035785, 0.00035784, 0.00114238, 0.00114225],\n",
       "        [0.00114201, 0.00114174, 0.00114151, 0.00114137, 0.00212721,\n",
       "         0.00212654, 0.00212539, 0.00212405, 0.0021229 , 0.00212223],\n",
       "        [0.00346053, 0.00345798, 0.00345358, 0.00344853, 0.00344417,\n",
       "         0.00344166, 0.00548817, 0.00547798, 0.00546045, 0.00544041],\n",
       "        [0.00542323, 0.00541338, 0.00797599, 0.00794948, 0.00790402,\n",
       "         0.00785224, 0.00780801, 0.00778272, 0.0003729 , 0.00037288],\n",
       "        [0.00037285, 0.00037282, 0.0003728 , 0.00037278, 0.00127184,\n",
       "         0.00127157, 0.00127109, 0.00127054, 0.00127007, 0.00126979]],\n",
       "\n",
       "       [[0.00270187, 0.00270031, 0.00269762, 0.00269451, 0.00269182,\n",
       "         0.00269027, 0.00510789, 0.00510245, 0.00509304, 0.00508221],\n",
       "        [0.00507285, 0.00506745, 0.00845828, 0.00844501, 0.00842208,\n",
       "         0.00839572, 0.00837297, 0.00835988, 0.01133446, 0.01131159],\n",
       "        [0.01127217, 0.01122697, 0.01118809, 0.01116576, 0.00016944,\n",
       "         0.00016943, 0.00016942, 0.00016941, 0.0001694 , 0.00016939],\n",
       "        [0.00058255, 0.0005824 , 0.00058213, 0.00058183, 0.00058157,\n",
       "         0.00058142, 0.00139727, 0.00139591, 0.00139355, 0.00139085],\n",
       "        [0.00138851, 0.00138717, 0.00371943, 0.00371062, 0.00369543,\n",
       "         0.00367799, 0.00366299, 0.00365436, 0.00992898, 0.00988822],\n",
       "        [0.00981814, 0.009738  , 0.00966928, 0.00962988, 0.01891732,\n",
       "         0.01881426, 0.01863744, 0.01843589, 0.01826357, 0.01816502]]])"
      ]
     },
     "execution_count": 20,
     "metadata": {},
     "output_type": "execute_result"
    }
   ],
   "source": [
    "mge = c.system.cmp_list[2].mge\n",
    "\n",
    "mge.get_intrinsic_masses_from_file(mod0.directory_noml)"
   ]
  },
  {
   "cell_type": "code",
   "execution_count": 8,
   "metadata": {},
   "outputs": [
    {
     "name": "stderr",
     "output_type": "stream",
     "text": [
      "/Users/pjethwa/miniconda3/envs/dyn_env/lib/python3.6/site-packages/dynamite-0.0.0-py3.6.egg/dynamite/kinematics.py:454: RuntimeWarning: invalid value encountered in true_divide\n",
      "  mean /= norm\n"
     ]
    }
   ],
   "source": [
    "mod0 = dyn.model.LegacySchwarzschildModel(system=c.system,\n",
    "                                          settings=c.settings,\n",
    "                                          parspace=c.parspace,\n",
    "                                          parset=parset0)\n",
    "new_weight_solver = dyn.weight_solvers.PrashsCoolNewWeightSolver(\n",
    "    system=c.system,\n",
    "    settings=c.settings.weight_solver_settings,\n",
    "    directory_noml=mod0.directory_noml,\n",
    "    CRcut=True)\n",
    "orbmat_p_crc, _ = new_weight_solver.construct_nnls_matrix_and_rhs(orblib0)\n",
    "\n",
    "\n",
    "new_weight_solver = dyn.weight_solvers.PrashsCoolNewWeightSolver(\n",
    "    system=c.system,\n",
    "    settings=c.settings.weight_solver_settings,\n",
    "    directory_noml=mod0.directory_noml,\n",
    "    CRcut=False)\n",
    "orbmat_p_ncrc, _ = new_weight_solver.construct_nnls_matrix_and_rhs(orblib0)\n"
   ]
  },
  {
   "cell_type": "code",
   "execution_count": 12,
   "metadata": {},
   "outputs": [
    {
     "data": {
      "text/plain": [
       "'NGC6278_output/models/mass_black_hole1e+05a_black_hole0.001dc_dark_halo12f_dark_halo10q_stars0.54p_stars0.99u_stars0.9999/ml5.00/'"
      ]
     },
     "execution_count": 12,
     "metadata": {},
     "output_type": "execute_result"
    }
   ],
   "source": [
    "mod0.get_model_directory()"
   ]
  },
  {
   "cell_type": "code",
   "execution_count": 9,
   "metadata": {},
   "outputs": [
    {
     "data": {
      "text/plain": [
       "<matplotlib.image.AxesImage at 0x16c319668>"
      ]
     },
     "execution_count": 9,
     "metadata": {},
     "output_type": "execute_result"
    },
    {
     "data": {
      "image/png": "[encoded data removed]",
      "text/plain": [
       "<Figure size 720x720 with 1 Axes>"
      ]
     },
     "metadata": {
      "needs_background": "light"
     },
     "output_type": "display_data"
    }
   ],
   "source": [
    "fig, ax = plt.subplots(1, 1, figsize=(10,10))\n",
    "ax.imshow(np.isclose(orbmat_p_crc.T, orbmat_p_ncrc.T),\n",
    "          aspect='auto',\n",
    "          interpolation='none',\n",
    "          cmap=plt.cm.Greys_r)"
   ]
  },
  {
   "cell_type": "code",
   "execution_count": 10,
   "metadata": {},
   "outputs": [
    {
     "data": {
      "text/plain": [
       "True"
      ]
     },
     "execution_count": 10,
     "metadata": {},
     "output_type": "execute_result"
    }
   ],
   "source": [
    "np.allclose(orbmat_f_ncrc, orbmat_p_ncrc.T)"
   ]
  },
  {
   "cell_type": "code",
   "execution_count": 11,
   "metadata": {},
   "outputs": [
    {
     "data": {
      "text/plain": [
       "False"
      ]
     },
     "execution_count": 11,
     "metadata": {},
     "output_type": "execute_result"
    }
   ],
   "source": [
    "np.allclose(orbmat_f_crc, orbmat_p_crc.T)"
   ]
  },
  {
   "cell_type": "code",
   "execution_count": 11,
   "metadata": {},
   "outputs": [
    {
     "ename": "NameError",
     "evalue": "name 'orbmat_f' is not defined",
     "output_type": "error",
     "traceback": [
      "\u001b[0;31m---------------------------------------------------------------------------\u001b[0m",
      "\u001b[0;31mNameError\u001b[0m                                 Traceback (most recent call last)",
      "\u001b[0;32m<ipython-input-11-0842fa68d915>\u001b[0m in \u001b[0;36m<module>\u001b[0;34m()\u001b[0m\n\u001b[1;32m      2\u001b[0m \u001b[0;34m\u001b[0m\u001b[0m\n\u001b[1;32m      3\u001b[0m \u001b[0mfig\u001b[0m\u001b[0;34m,\u001b[0m \u001b[0max\u001b[0m \u001b[0;34m=\u001b[0m \u001b[0mplt\u001b[0m\u001b[0;34m.\u001b[0m\u001b[0msubplots\u001b[0m\u001b[0;34m(\u001b[0m\u001b[0;36m1\u001b[0m\u001b[0;34m,\u001b[0m \u001b[0;36m1\u001b[0m\u001b[0;34m,\u001b[0m \u001b[0mfigsize\u001b[0m\u001b[0;34m=\u001b[0m\u001b[0;34m(\u001b[0m\u001b[0;36m10\u001b[0m\u001b[0;34m,\u001b[0m\u001b[0;36m10\u001b[0m\u001b[0;34m)\u001b[0m\u001b[0;34m)\u001b[0m\u001b[0;34m\u001b[0m\u001b[0;34m\u001b[0m\u001b[0m\n\u001b[0;32m----> 4\u001b[0;31m \u001b[0mis_close\u001b[0m \u001b[0;34m=\u001b[0m \u001b[0mnp\u001b[0m\u001b[0;34m.\u001b[0m\u001b[0misclose\u001b[0m\u001b[0;34m(\u001b[0m\u001b[0morbmat_f\u001b[0m\u001b[0;34m,\u001b[0m \u001b[0morbmat_p\u001b[0m\u001b[0;34m.\u001b[0m\u001b[0mT\u001b[0m\u001b[0;34m,\u001b[0m \u001b[0mrtol\u001b[0m\u001b[0;34m=\u001b[0m\u001b[0;36m1e-10\u001b[0m\u001b[0;34m,\u001b[0m \u001b[0matol\u001b[0m\u001b[0;34m=\u001b[0m\u001b[0;36m1e-10\u001b[0m\u001b[0;34m)\u001b[0m\u001b[0;34m\u001b[0m\u001b[0;34m\u001b[0m\u001b[0m\n\u001b[0m\u001b[1;32m      5\u001b[0m cm = ax.imshow(is_close,\n\u001b[1;32m      6\u001b[0m           aspect='auto', interpolation='none', cmap=plt.cm.Greys_r)\n",
      "\u001b[0;31mNameError\u001b[0m: name 'orbmat_f' is not defined"
     ]
    },
    {
     "data": {
      "image/png": "[encoded data removed]",
      "text/plain": [
       "<Figure size 720x720 with 1 Axes>"
      ]
     },
     "metadata": {
      "needs_background": "light"
     },
     "output_type": "display_data"
    }
   ],
   "source": [
    "import numpy as np\n",
    "\n",
    "fig, ax = plt.subplots(1, 1, figsize=(10,10))\n",
    "is_close = np.isclose(orbmat_f, orbmat_p.T, rtol=1e-10, atol=1e-10)\n",
    "cm = ax.imshow(is_close,\n",
    "          aspect='auto', interpolation='none', cmap=plt.cm.Greys_r)\n",
    "ax.axhline(size, c='r', alpha=0.2)\n",
    "ax.axhline(2*size, c='r', alpha=0.2)\n",
    "ax.axvline(361, c='r', alpha=0.2)\n",
    "ax.axvline(361+152, c='r', alpha=0.2)\n",
    "for i in range(4):\n",
    "    ax.axvline(361+152*(i+1), ls=':', c='r', alpha=0.2)\n",
    "ax.set_title('White <--> Equal ... Black <--> Not-Equal')\n",
    "ax.set_xlabel('constraint')\n",
    "ax.set_ylabel('orbit')\n",
    "plt.show()"
   ]
  },
  {
   "cell_type": "code",
   "execution_count": 21,
   "metadata": {},
   "outputs": [
    {
     "data": {
      "image/png": "[encoded data removed]",
      "text/plain": [
       "<Figure size 720x720 with 1 Axes>"
      ]
     },
     "metadata": {
      "needs_background": "light"
     },
     "output_type": "display_data"
    }
   ],
   "source": [
    "fig, ax = plt.subplots(1, 1, figsize=(10,10))\n",
    "cm = ax.imshow(is_close[size:2*size, 361+152:361+2*152],\n",
    "          aspect='auto', interpolation='none', cmap=plt.cm.Greys_r)\n",
    "ax.set_title('White <--> Equal ... Black <--> Not-Equal')\n",
    "ax.set_xlabel('constraint')\n",
    "ax.set_ylabel('orbit')\n",
    "plt.show()"
   ]
  },
  {
   "cell_type": "code",
   "execution_count": 23,
   "metadata": {},
   "outputs": [
    {
     "data": {
      "image/png": "[encoded data removed]",
      "text/plain": [
       "<Figure size 720x720 with 2 Axes>"
      ]
     },
     "metadata": {
      "needs_background": "light"
     },
     "output_type": "display_data"
    }
   ],
   "source": [
    "fig, ax = plt.subplots(1, 1, figsize=(10,10))\n",
    "cm = ax.imshow(orbmat_f[size:2*size, 361+152:361+2*152],\n",
    "          aspect='auto', interpolation='none', cmap=plt.cm.jet)\n",
    "ax.set_title('White <--> Equal ... Black <--> Not-Equal')\n",
    "ax.set_xlabel('constraint')\n",
    "ax.set_ylabel('orbit')\n",
    "fig.colorbar(cm)\n",
    "plt.show()"
   ]
  },
  {
   "cell_type": "code",
   "execution_count": 24,
   "metadata": {},
   "outputs": [
    {
     "data": {
      "image/png": "[encoded data removed]",
      "text/plain": [
       "<Figure size 720x720 with 2 Axes>"
      ]
     },
     "metadata": {
      "needs_background": "light"
     },
     "output_type": "display_data"
    }
   ],
   "source": [
    "fig, ax = plt.subplots(1, 1, figsize=(10,10))\n",
    "cm = ax.imshow(orbmat_p.T[size:2*size, 361+152:361+2*152],\n",
    "          aspect='auto', interpolation='none', cmap=plt.cm.jet)\n",
    "ax.set_title('White <--> Equal ... Black <--> Not-Equal')\n",
    "ax.set_xlabel('constraint')\n",
    "ax.set_ylabel('orbit')\n",
    "fig.colorbar(cm)\n",
    "plt.show()"
   ]
  },
  {
   "cell_type": "markdown",
   "metadata": {},
   "source": [
    "Most of the differences come from the ``h1`` of reversed tube orbits. This feels uncomfortably like something to do with CR cut.\n",
    "\n",
    "\n",
    "\n",
    "\n"
   ]
  },
  {
   "cell_type": "markdown",
   "metadata": {},
   "source": [
    "## Basic timing comparison"
   ]
  },
  {
   "cell_type": "code",
   "execution_count": null,
   "metadata": {},
   "outputs": [],
   "source": [
    "%time w_for, chi2_for = solve_with_fortran(0, CRcut=False)"
   ]
  },
  {
   "cell_type": "code",
   "execution_count": null,
   "metadata": {},
   "outputs": [],
   "source": [
    "%time w_py, chi2_py = solve_with_python(0, CRcut=False)"
   ]
  },
  {
   "cell_type": "markdown",
   "metadata": {},
   "source": [
    "## Compare weights"
   ]
  },
  {
   "cell_type": "code",
   "execution_count": null,
   "metadata": {},
   "outputs": [],
   "source": [
    "def compare_python_fortran(mod_idx, CRcut=False):\n",
    "    print(f'Model {mod_idx}')\n",
    "    print('Solving in Fortran')\n",
    "    w_for, chi2_for = solve_with_fortran(0, CRcut=CRcut)\n",
    "    print('Solving in Python')\n",
    "    w_py, chi2_py = solve_with_python(0, CRcut=CRcut)\n",
    "    print('Chi2 values:')\n",
    "    print(f'     ... fortran: {chi2_for}')\n",
    "    print(f'     ... python: {chi2_py}')\n",
    "    fig, ax = plt.subplots(2, 1, figsize=(14,5), sharex=True)\n",
    "    ax[0].plot(w_for, label='fortran')\n",
    "    ax[0].plot(w_py, ':', label='python')\n",
    "    ax[1].plot(w_py-w_for, '-')\n",
    "    ax[1].set_xlabel('orbit')\n",
    "    ax[0].set_ylabel('weight')\n",
    "    ax[1].set_ylabel('$w_{py} - w_{for}$')\n",
    "    ax[0].legend()\n",
    "    fig.tight_layout()\n",
    "    fig.subplots_adjust(hspace=0)"
   ]
  },
  {
   "cell_type": "code",
   "execution_count": null,
   "metadata": {},
   "outputs": [],
   "source": [
    "compare_python_fortran(0)"
   ]
  },
  {
   "cell_type": "markdown",
   "metadata": {},
   "source": [
    "A good match - but not perfect. Why not perfect?\n",
    "\n",
    "Possibly due to some difference in implementing CRcut. All Fortran results do include `CRcut`. I optionally can turn this on/off in python implementatiom. The comparison, when I turn this off, looks worse,\n"
   ]
  },
  {
   "cell_type": "code",
   "execution_count": null,
   "metadata": {},
   "outputs": [],
   "source": [
    "compare_python_fortran(0, CRcut=True)"
   ]
  },
  {
   "cell_type": "markdown",
   "metadata": {},
   "source": [
    "Notice the factor 10 increasse in the size of residuals.\n",
    "\n",
    "So `CRcut` does affect the results. So, why, when I *do* include it, do the comparisons not match perfectly? I still think it is some difference in how CRcut is implemented. Very different implementations, hard to pin down exactly.\n",
    "\n",
    "So, we can't expect identical results. TO-DO: comparison with CRcut turned off in fortran."
   ]
  },
  {
   "cell_type": "markdown",
   "metadata": {},
   "source": [
    "## Compare Chi2 values"
   ]
  },
  {
   "cell_type": "markdown",
   "metadata": {},
   "source": [
    "Now let's compare solutions over a grid of models. I have 18 orbit libraries calculated, lets calculte chi2 for each. First in Fortran"
   ]
  },
  {
   "cell_type": "code",
   "execution_count": null,
   "metadata": {},
   "outputs": [],
   "source": [
    "%time chi2_list_for = [solve_with_fortran(i)[1] for i in range(19)]"
   ]
  },
  {
   "cell_type": "code",
   "execution_count": null,
   "metadata": {},
   "outputs": [],
   "source": [
    "%time chi2_list_py = [solve_with_python(i)[1] for i in range(19)]"
   ]
  },
  {
   "cell_type": "code",
   "execution_count": null,
   "metadata": {},
   "outputs": [],
   "source": [
    "def plot_chi_vals(chi2_vals, vmin=None, vmax=None):\n",
    "    allmods = c.all_models.table\n",
    "    plt.scatter(allmods['f_dark_halo'],\n",
    "                allmods['ml'],\n",
    "                vmax=vmax,\n",
    "                vmin=vmin,\n",
    "                s=100,\n",
    "                c=chi2_vals)\n",
    "    plt.colorbar()\n",
    "    plt.gca().set_xscale('log')\n",
    "    plt.gca().set_ylabel('ml')\n",
    "    plt.gca().set_xlabel('$f_{DM}(<R_{200})$')"
   ]
  },
  {
   "cell_type": "code",
   "execution_count": null,
   "metadata": {},
   "outputs": [],
   "source": [
    "plot_chi_vals(chi2_list_for, vmin=2600, vmax=4000)"
   ]
  },
  {
   "cell_type": "code",
   "execution_count": null,
   "metadata": {},
   "outputs": [],
   "source": [
    "plot_chi_vals(chi2_list_py, vmin=2600, vmax=4000)"
   ]
  },
  {
   "cell_type": "markdown",
   "metadata": {},
   "source": [
    "And plotting the fractional difference,"
   ]
  },
  {
   "cell_type": "code",
   "execution_count": null,
   "metadata": {},
   "outputs": [],
   "source": [
    "import numpy as np\n",
    "chi2_list_py = np.array(chi2_list_py)\n",
    "chi2_list_for = np.array(chi2_list_for)\n",
    "delta_chi2 = (chi2_list_py-chi2_list_for)/chi2_list_for\n",
    "plot_chi_vals(delta_chi2)"
   ]
  },
  {
   "cell_type": "markdown",
   "metadata": {},
   "source": [
    "Differences of up to 10%. Not ideal! This could be down to\n",
    "- CR cut - will need to turn this off in the Fortran implementation to check\n",
    "- a different definiton of chi2. I think these two are comparible (just hermite coefficients), but there are several different chi2's used in fortran, and it's possible that the value shown here is not what I think it is"
   ]
  },
  {
   "cell_type": "markdown",
   "metadata": {},
   "source": [
    "# compare timings at different size orblibs"
   ]
  },
  {
   "cell_type": "code",
   "execution_count": null,
   "metadata": {},
   "outputs": [],
   "source": [
    "import time\n",
    "\n",
    "def time_nnls_solvers_vs_orblib_size(nE, nI2, nI3):\n",
    "    # set things up\n",
    "    outdir = f'nnls_time_vs_orblib_size/{nE}_{nI2}_{nI3}/'\n",
    "    c.settings.io_settings['output_directory'] = outdir\n",
    "    if os.path.isdir(outdir) is False:\n",
    "        os.mkdir(outdir)\n",
    "    c.settings.orblib_settings['nE'] = nE\n",
    "    c.settings.orblib_settings['I2'] = nI2\n",
    "    c.settings.orblib_settings['I3'] = nI3\n",
    "    parset0 = c.all_models.get_parset_from_row(0)\n",
    "    mod0 = dyn.model.LegacySchwarzschildModel(system=c.system,\n",
    "                                              settings=c.settings,\n",
    "                                              parspace=c.parspace,\n",
    "                                              parset=parset0)\n",
    "    mod0.setup_directories()\n",
    "    orblib0 = mod0.get_orblib()\n",
    "    # reset_fortran_output\n",
    "    direc0 = mod0.get_model_directory()\n",
    "    files = os.listdir(direc0)\n",
    "    for f in files:\n",
    "        os.remove(f'{direc0}{f}')\n",
    "    # solve with fortran\n",
    "    t_start = time.time()\n",
    "    ws0 = mod0.get_weights(None)\n",
    "    weights = ws0.weights['weight'].data\n",
    "    chi2 = mod0.chi2      # = chi2 of hermite coefficients only\n",
    "    t_end = time.time()\n",
    "    duration = t_end - t_start\n",
    "    result_for = {'weights':weights, 'chi2':chi2, 'duration':duration}\n",
    "    # solve with python\n",
    "    t_start = time.time()\n",
    "    orblib0.read_losvd_histograms()\n",
    "    new_weight_solver = dyn.weight_solvers.PrashsCoolNewWeightSolver(\n",
    "        system=c.system,\n",
    "        settings=c.settings.weight_solver_settings,\n",
    "        directory_noml=mod0.directory_noml,\n",
    "        CRcut=True)\n",
    "    weights, chi2 = new_weight_solver.solve(orblib0)\n",
    "    t_end = time.time()\n",
    "    duration = t_end - t_start\n",
    "    result_py = {'weights':weights, 'chi2':chi2, 'duration':duration}\n",
    "    size = nE*nI2*nI3\n",
    "    return size, result_for, result_py"
   ]
  },
  {
   "cell_type": "code",
   "execution_count": null,
   "metadata": {},
   "outputs": [],
   "source": [
    "result = []\n",
    "for (nE, nI2, nI3) in [(4,4,4), (8,8,4), (16,8,8), (16,16,16), (32,32,16)]:\n",
    "    result += [time_nnls_solvers_vs_orblib_size(nE, nI2, nI3)]"
   ]
  },
  {
   "cell_type": "markdown",
   "metadata": {},
   "source": [
    "Compare the weights,"
   ]
  },
  {
   "cell_type": "code",
   "execution_count": null,
   "metadata": {},
   "outputs": [],
   "source": [
    "for i in [0,2,4]:\n",
    "    fig, ax = plt.subplots(1, 1, figsize=(16,4))    \n",
    "    plt.plot(result[i][1]['weights'], label='fortran')\n",
    "    plt.plot(result[i][2]['weights'], '--', label='scipy')\n",
    "    plt.gca().legend()\n",
    "    size = result[i][0]\n",
    "    plt.gca().set_title(f'orblib size = {size}')\n",
    "    plt.show()"
   ]
  },
  {
   "cell_type": "markdown",
   "metadata": {},
   "source": [
    "Compare the times,"
   ]
  },
  {
   "cell_type": "code",
   "execution_count": null,
   "metadata": {},
   "outputs": [],
   "source": [
    "n = 5\n",
    "size = [result[i][0] for i in range(n)]\n",
    "fortran_time = [result[i][1]['duration'] for i in range(n)]\n",
    "scipy_time = [result[i][2]['duration'] for i in range(n)]\n",
    "\n",
    "plt.semilogx(size, fortran_time, '-o', label='fortran')\n",
    "plt.semilogx(size, scipy_time, '-o', label='scipy')\n",
    "plt.gca().legend()\n",
    "plt.gca().set_ylabel('time [s]')\n",
    "plt.gca().set_xlabel('number of orbits')"
   ]
  },
  {
   "cell_type": "markdown",
   "metadata": {},
   "source": [
    "Note: all of the above is with 152 apertures and 4 GH moments, giving a total number of rows of\n",
    "\n",
    "1 + 360 + 152 + 4x152 = 1121\n",
    "\n",
    "constraints (i.e total_mass, 3D density, surface density, GH moments). The time is max 18 seconds i.e. much much smaller than time to calculate the equivalent orbit libraries. We should test this for larger apertures.\n",
    "\n",
    "Next, let's compare chi2,"
   ]
  },
  {
   "cell_type": "code",
   "execution_count": null,
   "metadata": {},
   "outputs": [],
   "source": [
    "n = 5\n",
    "size = [result[i][0] for i in range(n)]\n",
    "fortran_chi2 = [result[i][1]['chi2'] for i in range(n)]\n",
    "python_chi2 = [result[i][2]['chi2'] for i in range(n)]\n",
    "\n",
    "plt.plot(size, fortran_chi2, '-o', label='fortran')\n",
    "plt.plot(size, python_chi2, '-o', label='python')\n",
    "plt.gca().legend()\n",
    "plt.gca().set_ylabel('chi2')\n",
    "plt.gca().set_xlabel('number of orbits')"
   ]
  },
  {
   "cell_type": "markdown",
   "metadata": {},
   "source": [
    "L curve - cool. But this orbit offset persists for all sizes."
   ]
  },
  {
   "cell_type": "markdown",
   "metadata": {},
   "source": [
    "## NNLS with cvxopt"
   ]
  },
  {
   "cell_type": "markdown",
   "metadata": {},
   "source": [
    "Let's try to solve the same problems with CVXOPT"
   ]
  },
  {
   "cell_type": "code",
   "execution_count": null,
   "metadata": {},
   "outputs": [],
   "source": [
    "import cvxopt\n",
    "cvxopt.solvers.options['show_progress'] = False # silence output - cvxopt makes a lot of it!\n",
    "\n",
    "def time_nnls_solvers_vs_orblib_size_cvxopt(nE, nI2, nI3):\n",
    "    # set things up\n",
    "    outdir = f'nnls_time_vs_orblib_size/{nE}_{nI2}_{nI3}/'\n",
    "    c.settings.io_settings['output_directory'] = outdir\n",
    "    if os.path.isdir(outdir) is False:\n",
    "        os.mkdir(outdir)\n",
    "    c.settings.orblib_settings['nE'] = nE\n",
    "    c.settings.orblib_settings['I2'] = nI2\n",
    "    c.settings.orblib_settings['I3'] = nI3\n",
    "    parset0 = c.all_models.get_parset_from_row(0)\n",
    "    mod0 = dyn.model.LegacySchwarzschildModel(system=c.system,\n",
    "                                              settings=c.settings,\n",
    "                                              parspace=c.parspace,\n",
    "                                              parset=parset0)\n",
    "    mod0.setup_directories()\n",
    "    orblib0 = mod0.get_orblib()\n",
    "    # solve with python/cvxopt\n",
    "    t_start = time.time()\n",
    "    orblib0.read_losvd_histograms()\n",
    "    new_weight_solver = dyn.weight_solvers.PrashsCoolNewWeightSolver(\n",
    "        system=c.system,\n",
    "        settings=c.settings.weight_solver_settings,\n",
    "        directory_noml=mod0.directory_noml,\n",
    "        CRcut=True,\n",
    "        nnls_solver='cvxopt')\n",
    "    weights, chi2 = new_weight_solver.solve(orblib0)\n",
    "    t_end = time.time()\n",
    "    duration = t_start-t_end\n",
    "    result_cvxopt = {'weights':weights, 'chi2':chi2, 'duration':duration}\n",
    "    return result_cvxopt\n",
    "\n",
    "# for (nE, nI2, nI3) in [(4,4,4), (8,8,4), (16,8,8), (16,16,16), (32,32,16)]:\n",
    "#     result += [time_nnls_solvers_vs_orblib_size(nE, nI2, nI3)]"
   ]
  },
  {
   "cell_type": "markdown",
   "metadata": {},
   "source": [
    "For the second largest orbit library,"
   ]
  },
  {
   "cell_type": "code",
   "execution_count": null,
   "metadata": {},
   "outputs": [],
   "source": [
    "%time result_cvxopt = time_nnls_solvers_vs_orblib_size_cvxopt(8, 8, 4)"
   ]
  },
  {
   "cell_type": "code",
   "execution_count": null,
   "metadata": {},
   "outputs": [],
   "source": [
    "all_close = np.allclose(result_scipy['weights'], result_cvxopt['weights'], rtol=1e-10, atol=1e-3)\n",
    "\n",
    "if all_close:\n",
    "    print('scipy and cvxopt AGREE within numerical accuracy')\n",
    "else:  \n",
    "    print('scipy and cvxopt DO NOT AGREE within numerical accuracy')\n",
    "\n",
    "result_scipy = result[1][2]\n",
    "fig, ax = plt.subplots(1, 1, figsize=(16,4))\n",
    "plt.plot(result_scipy['weights'], label='scipy')\n",
    "plt.plot(result_cvxopt['weights'], ':', label='cvxopt')\n",
    "plt.gca().legend()"
   ]
  },
  {
   "cell_type": "code",
   "execution_count": null,
   "metadata": {},
   "outputs": [],
   "source": [
    "%time result_cvxopt = time_nnls_solvers_vs_orblib_size_cvxopt(16, 8, 8)"
   ]
  },
  {
   "cell_type": "markdown",
   "metadata": {},
   "source": [
    "This last one fails! The matrix has become too ill-conditioned for `cvxopt` and we would need to add reguarisation to overcome this."
   ]
  }
 ],
 "metadata": {
  "kernelspec": {
   "display_name": "Python 3",
   "language": "python",
   "name": "python3"
  },
  "language_info": {
   "codemirror_mode": {
    "name": "ipython",
    "version": 3
   },
   "file_extension": ".py",
   "mimetype": "text/x-python",
   "name": "python",
   "nbconvert_exporter": "python",
   "pygments_lexer": "ipython3",
   "version": "3.6.11"
  }
 },
 "nbformat": 4,
 "nbformat_minor": 4
}
