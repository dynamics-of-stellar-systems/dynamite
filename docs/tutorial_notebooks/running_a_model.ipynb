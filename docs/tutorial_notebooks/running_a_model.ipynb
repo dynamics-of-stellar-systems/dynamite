{
 "cells": [
  {
   "cell_type": "code",
   "execution_count": 1,
   "metadata": {},
   "outputs": [],
   "source": [
    "%load_ext autoreload\n",
    "%autoreload 2"
   ]
  },
  {
   "cell_type": "markdown",
   "metadata": {},
   "source": [
    "# Running a single Schwarzschild model"
   ]
  },
  {
   "cell_type": "markdown",
   "metadata": {},
   "source": [
    "By the end of the notebook, you will have run a Schwarzschild model. This will involve,\n",
    "1. understanding the format of the configuration file\n",
    "2. executing commands to create and run a Schwarzschild model\n",
    "3. plotting some output for this model (kinematic maps)"
   ]
  },
  {
   "cell_type": "markdown",
   "metadata": {},
   "source": [
    "## Introduction\n",
    "\n",
    "What is Schwarzschild modelling?"
   ]
  },
  {
   "cell_type": "markdown",
   "metadata": {},
   "source": [
    "## Setup and reading the configuration file"
   ]
  },
  {
   "cell_type": "markdown",
   "metadata": {},
   "source": [
    "Let's first import DYNAMITE. For the time being, to do the import, we have to modify out path as follows,"
   ]
  },
  {
   "cell_type": "code",
   "execution_count": 2,
   "metadata": {},
   "outputs": [],
   "source": [
    "import sys\n",
    "sys.path.insert(0,'../../')\n",
    "import dynamite as dyn"
   ]
  },
  {
   "cell_type": "markdown",
   "metadata": {},
   "source": [
    "Next, let's read the model configuration file. This one file control all of the settings you may wish to vary when running your own Schwarschild models, e.g.\n",
    "\n",
    "- specifing the components of the gravitational potential\n",
    "- specifing settings controlling the potential parameters\n",
    "- specify what type of kinematic data you are providing, e.g.\n",
    "    - discrete vs continuous,\n",
    "    - or Gauss Hermite vs Histograms\n",
    "- the location of the input and output files\n",
    "- the number of models you want to run\n",
    "\n",
    "This list is incomplete - for a more detailed description of the configuration file, see the documentation.\n",
    "\n",
    "The configuration file for this tutorial is\n",
    "```\n",
    "NGC6278_config.yaml\n",
    "```\n",
    "Open this file in a text editor, alongside this notebook, to see how it is organised. The file is in ``yaml`` format. The basic structure of a yaml files are pairs of keys and values\n",
    "```\n",
    "key : value\n",
    "```\n",
    "which can be organised into hierarchical levels separated by tabs\n",
    "```\n",
    "key_level1:\n",
    "    keyA_level2 : valueA\n",
    "    keyB_level2 : valueB  \n",
    "```\n",
    "Comments begin with a ``#``. Values can be any type of variable e.g. integers, floats, strings, booleans etc.\n",
    "\n",
    "To read in the congfiguration file we can use the following command, creating a configuration object which here we call ``c``,"
   ]
  },
  {
   "cell_type": "code",
   "execution_count": 3,
   "metadata": {},
   "outputs": [
    {
     "name": "stdout",
     "output_type": "stream",
     "text": [
      "No previous models have been found:\n",
      "Making an empty table in AllModels.table\n"
     ]
    }
   ],
   "source": [
    "fname = 'NGC6278_config.yaml'\n",
    "c = dyn.config_reader.Configuration(fname, silent=True)"
   ]
  },
  {
   "cell_type": "markdown",
   "metadata": {},
   "source": [
    "On making this object, some output is printed telling us whether any previous models have been found. Assuming that you're running this tutorial for the first time, then no models will be found and an empty table is created at ``AllModels.table``. This table holds holds information about all the models which have been run so far.\n",
    "\n",
    "The configuration object ``c`` is structured in a similar way to the the configuration file itself. For example, the configuration file is split into two sections. The top section defines aspects the physical system we wish to model - e.g. the globular cluster, galaxy or galaxy cluster - while the second section contains all other settings we need for running a model - e.g. settings about the orbit integration and input/output options. The two sections are stored in the ``system`` and ``settings`` attributes of the configuration object, respectively,"
   ]
  },
  {
   "cell_type": "code",
   "execution_count": 4,
   "metadata": {},
   "outputs": [
    {
     "name": "stdout",
     "output_type": "stream",
     "text": [
      "<class 'physical_system.System'>\n",
      "<class 'dynamite.config_reader.Settings'>\n"
     ]
    }
   ],
   "source": [
    "print(type(c.system))\n",
    "print(type(c.settings))"
   ]
  },
  {
   "cell_type": "markdown",
   "metadata": {},
   "source": [
    "The physical system is comprised of components, which are stored in a list,"
   ]
  },
  {
   "cell_type": "code",
   "execution_count": 5,
   "metadata": {},
   "outputs": [
    {
     "name": "stdout",
     "output_type": "stream",
     "text": [
      "cmp_list is a <class 'list'>\n",
      "cmp_list has length 3\n",
      "The components are:\n",
      "   ...black_hole\n",
      "   ...dark_halo\n",
      "   ...stars\n"
     ]
    }
   ],
   "source": [
    "print(f'cmp_list is a {type(c.system.cmp_list)}')\n",
    "print(f'cmp_list has length {len(c.system.cmp_list)}')\n",
    "print('The components are:')\n",
    "for component in c.system.cmp_list:\n",
    "    print(f'   ...{component.name}')"
   ]
  },
  {
   "cell_type": "markdown",
   "metadata": {},
   "source": [
    "The following code cell prints information about a particular component,"
   ]
  },
  {
   "cell_type": "code",
   "execution_count": 6,
   "metadata": {},
   "outputs": [
    {
     "name": "stdout",
     "output_type": "stream",
     "text": [
      "Information about component 0:\n",
      "   name =  black_hole\n",
      "   has parameters : mass , a , \n",
      "   type =  <class 'physical_system.Plummer'>\n",
      "   contributes to the potantial? -  True\n"
     ]
    }
   ],
   "source": [
    "i = 0\n",
    "print(f'Information about component {i}:')\n",
    "\n",
    "# extract component i from the component list\n",
    "component = c.system.cmp_list[i]\n",
    "\n",
    "# print the name\n",
    "print(f'   name =  {component.name}')\n",
    "\n",
    "# print a list of the names of the parameters of this component\n",
    "parameters = component.parameters\n",
    "parameter_names = [par0.name for par0 in parameters]\n",
    "string = '   has parameters : '\n",
    "for name in parameter_names:\n",
    "    string += f'{name} , '\n",
    "print(string)\n",
    "\n",
    "# print the type of this component\n",
    "print(f'   type =  {type(component)}')\n",
    "\n",
    "# does it contribute to the potential?\n",
    "print(f'   contributes to the potantial? -  {component.contributes_to_potential}')"
   ]
  },
  {
   "cell_type": "markdown",
   "metadata": {},
   "source": [
    "**Exercise 1** : edit the cell to print information about the other components.\n",
    "\n",
    "For the black hole and dark halo (i.e. components 0 and 1), all information we need to run a model is contained in the configuration file. For the stars - i.e. component 2 - we must provide extra information in the form of input data files. The location of input data files is specified in the configuration file, at\n",
    "```\n",
    "settings -> io_settings -> input_directory\n",
    "```\n",
    "which takes the value,"
   ]
  },
  {
   "cell_type": "code",
   "execution_count": 7,
   "metadata": {},
   "outputs": [
    {
     "data": {
      "text/plain": [
       "'../../tests/NGC6278/input_data/'"
      ]
     },
     "execution_count": 7,
     "metadata": {},
     "output_type": "execute_result"
    }
   ],
   "source": [
    "c.settings.io_settings['input_directory']"
   ]
  },
  {
   "cell_type": "markdown",
   "metadata": {},
   "source": [
    "This directory contains four files, and the names of these four files are also specified in the configuration file, at\n",
    "```\n",
    "system_components -> stars -> mge_file\n",
    "system_components -> stars -> kinematics --> datafile\n",
    "system_components -> stars -> kinematics --> aperturefile\n",
    "system_components -> stars -> kinematics --> binfile\n",
    "```\n",
    "which take the values:\n",
    "- ``mge.ecvs`` - the Multi Gaussian Expansion (MGE) describing the stellar surface density\n",
    "- ``gauss_hermite_kins.ecvs`` - the kinematics extracted for this galaxy\n",
    "- ``aperture.dat`` - information about the spatial apertures/bins using for kinematic extraction\n",
    "- ``bins.dat`` - information about the spatial apertures/bins using for kinematic extraction"
   ]
  },
  {
   "cell_type": "markdown",
   "metadata": {},
   "source": [
    "The first two files are in ``Astropy ECSV`` format ([see here](https://docs.astropy.org/en/stable/api/astropy.io.ascii.Ecsv.html)). We have provided test data for one galaxy. A very basic set of instructions for generating your own input data are as follows,\n",
    "\n",
    "- fit and MGE to a photometric image e.g. using [mge](http://www-astro.physics.ox.ac.uk/~mxc/software/#mge)\n",
    "- apply voronoi binning to your IFU datacube e.g. using [e.g. vorbin](http://www-astro.physics.ox.ac.uk/~mxc/software/#binning)\n",
    "- extract kinematics from the binned datacube e.g. using [e.g. PPXF](http://www-astro.physics.ox.ac.uk/~mxc/software/#ppxf)\n",
    "- make the apertures and binfile files. An example script which has created these files is the file ``generate_input_califa.py`` in [this directory](https://github.com/dynamics-of-stellar-systems/triaxschwarz/tree/sabine/schwpy/data_prepare)\n",
    "\n",
    "In the future, we will provide more examples of test data, and more detailed instructions for preparing your own data.\n",
    "\n",
    "As an example of where this data is stored, the MGE can be accessed here,"
   ]
  },
  {
   "cell_type": "code",
   "execution_count": 8,
   "metadata": {},
   "outputs": [
    {
     "data": {
      "text/plain": [
       "MGE({'name': None, 'datafile': 'mge.ecvs', 'input_directory': '../../tests/NGC6278/input_data/', 'data': <Table length=6>\n",
       "   I      sigma      q    PA_twist\n",
       "float64  float64  float64 float64 \n",
       "-------- -------- ------- --------\n",
       "26819.14  0.49416 0.89541      0.0\n",
       " 2456.39  2.04299 0.79093      0.0\n",
       "   456.8  2.44313  0.9999      0.0\n",
       "  645.49   6.5305 0.55097      0.0\n",
       "   14.73 17.41488  0.9999      0.0\n",
       "  123.85 21.84711 0.55097      0.0})"
      ]
     },
     "execution_count": 8,
     "metadata": {},
     "output_type": "execute_result"
    }
   ],
   "source": [
    "c.system.cmp_list[2].mge"
   ]
  },
  {
   "cell_type": "markdown",
   "metadata": {},
   "source": [
    "while the kinematics are stored at"
   ]
  },
  {
   "cell_type": "code",
   "execution_count": 9,
   "metadata": {},
   "outputs": [
    {
     "data": {
      "text/plain": [
       "list"
      ]
     },
     "execution_count": 9,
     "metadata": {},
     "output_type": "execute_result"
    }
   ],
   "source": [
    "type(c.system.cmp_list[2].kinematic_data)"
   ]
  },
  {
   "cell_type": "markdown",
   "metadata": {},
   "source": [
    "Note that this object has type ``list``. This is so that - in the future - we could allow a single component to have multiple different sets of kinematics, For now, we only have one set of kinematics, which is the first (and only) entry in the list"
   ]
  },
  {
   "cell_type": "code",
   "execution_count": 10,
   "metadata": {},
   "outputs": [
    {
     "data": {
      "text/plain": [
       "kinematics.GaussHermite"
      ]
     },
     "execution_count": 10,
     "metadata": {},
     "output_type": "execute_result"
    }
   ],
   "source": [
    "type(c.system.cmp_list[2].kinematic_data[0])"
   ]
  },
  {
   "cell_type": "markdown",
   "metadata": {},
   "source": [
    "We see that this kinemtics object has type  ``GaussHermite``. This has also been specified in the configuration file, under\n",
    "```\n",
    "system_components -> stars -> kinematics --> set1 --> type\n",
    "```\n",
    "At present ``GaussHermite`` is the only type of kinematics available. In the future, we want to expand this to include other options. The kinemtic data itself can be accessed as follows,"
   ]
  },
  {
   "cell_type": "code",
   "execution_count": 11,
   "metadata": {},
   "outputs": [
    {
     "data": {
      "text/html": [
       "<i>Table length=152</i>\n",
       "<table id=\"table4799934984\" class=\"table-striped table-bordered table-condensed\">\n",
       "<thead><tr><th>vbin_id</th><th>v</th><th>dv</th><th>sigma</th><th>dsigma</th><th>h3</th><th>dh3</th><th>h4</th><th>dh4</th></tr></thead>\n",
       "<thead><tr><th>int64</th><th>float64</th><th>float64</th><th>float64</th><th>float64</th><th>float64</th><th>float64</th><th>float64</th><th>float64</th></tr></thead>\n",
       "<tr><td>1</td><td>-55.1457</td><td>2.0968</td><td>193.5</td><td>2.0798</td><td>0.077</td><td>0.3</td><td>0.0</td><td>0.3</td></tr>\n",
       "<tr><td>2</td><td>-72.0331</td><td>2.1187</td><td>173.297</td><td>2.2978</td><td>0.1006</td><td>0.3</td><td>0.0</td><td>0.3</td></tr>\n",
       "<tr><td>3</td><td>-70.3214</td><td>2.9704</td><td>157.694</td><td>3.0237</td><td>0.0983</td><td>0.3</td><td>0.0</td><td>0.3</td></tr>\n",
       "<tr><td>4</td><td>-59.3916</td><td>2.641</td><td>179.503</td><td>2.6</td><td>0.083</td><td>0.3</td><td>0.0</td><td>0.3</td></tr>\n",
       "<tr><td>5</td><td>-42.9252</td><td>2.627</td><td>203.949</td><td>2.4986</td><td>0.06</td><td>0.3</td><td>0.0</td><td>0.3</td></tr>\n",
       "<tr><td>6</td><td>-76.6923</td><td>4.1897</td><td>153.159</td><td>4.2396</td><td>0.1072</td><td>0.3</td><td>0.0</td><td>0.3</td></tr>\n",
       "<tr><td>7</td><td>-60.8558</td><td>2.8168</td><td>154.194</td><td>3.0038</td><td>0.085</td><td>0.3</td><td>0.0</td><td>0.3</td></tr>\n",
       "<tr><td>8</td><td>-45.534</td><td>2.6694</td><td>184.95</td><td>2.801</td><td>0.0636</td><td>0.3</td><td>0.0</td><td>0.3</td></tr>\n",
       "<tr><td>9</td><td>-73.7064</td><td>3.3263</td><td>133.986</td><td>3.5988</td><td>0.103</td><td>0.3</td><td>0.0</td><td>0.3</td></tr>\n",
       "<tr><td>10</td><td>-50.0778</td><td>3.2495</td><td>167.266</td><td>3.3232</td><td>0.07</td><td>0.3</td><td>0.0</td><td>0.3</td></tr>\n",
       "<tr><td>...</td><td>...</td><td>...</td><td>...</td><td>...</td><td>...</td><td>...</td><td>...</td><td>...</td></tr>\n",
       "<tr><td>143</td><td>122.448</td><td>4.2205</td><td>122.967</td><td>4.6168</td><td>-0.1711</td><td>0.3</td><td>0.0</td><td>0.3</td></tr>\n",
       "<tr><td>144</td><td>142.943</td><td>7.3856</td><td>87.7775</td><td>7.5116</td><td>-0.1997</td><td>0.3</td><td>0.0</td><td>0.3</td></tr>\n",
       "<tr><td>145</td><td>105.273</td><td>4.8995</td><td>122.078</td><td>5.2135</td><td>-0.1471</td><td>0.3</td><td>0.0</td><td>0.3</td></tr>\n",
       "<tr><td>146</td><td>117.864</td><td>3.543</td><td>111.039</td><td>3.9786</td><td>-0.1647</td><td>0.3</td><td>0.0</td><td>0.3</td></tr>\n",
       "<tr><td>147</td><td>116.63</td><td>4.5889</td><td>115.629</td><td>5.272</td><td>-0.163</td><td>0.3</td><td>0.0</td><td>0.3</td></tr>\n",
       "<tr><td>148</td><td>138.06</td><td>4.3715</td><td>111.025</td><td>4.5219</td><td>-0.1929</td><td>0.3</td><td>0.0</td><td>0.3</td></tr>\n",
       "<tr><td>149</td><td>184.203</td><td>4.1254</td><td>83.1491</td><td>4.9246</td><td>-0.2574</td><td>0.3</td><td>0.0</td><td>0.3</td></tr>\n",
       "<tr><td>150</td><td>149.848</td><td>3.1421</td><td>96.134</td><td>3.3605</td><td>-0.2094</td><td>0.3</td><td>0.0</td><td>0.3</td></tr>\n",
       "<tr><td>151</td><td>140.762</td><td>4.9469</td><td>86.2257</td><td>5.1853</td><td>-0.1967</td><td>0.3</td><td>0.0</td><td>0.3</td></tr>\n",
       "<tr><td>152</td><td>205.386</td><td>3.5998</td><td>63.1672</td><td>4.9364</td><td>-0.287</td><td>0.3</td><td>0.0</td><td>0.3</td></tr>\n",
       "</table>"
      ],
      "text/plain": [
       "<Table length=152>\n",
       "vbin_id    v        dv    sigma   dsigma    h3     dh3      h4     dh4  \n",
       " int64  float64  float64 float64 float64 float64 float64 float64 float64\n",
       "------- -------- ------- ------- ------- ------- ------- ------- -------\n",
       "      1 -55.1457  2.0968   193.5  2.0798   0.077     0.3     0.0     0.3\n",
       "      2 -72.0331  2.1187 173.297  2.2978  0.1006     0.3     0.0     0.3\n",
       "      3 -70.3214  2.9704 157.694  3.0237  0.0983     0.3     0.0     0.3\n",
       "      4 -59.3916   2.641 179.503     2.6   0.083     0.3     0.0     0.3\n",
       "      5 -42.9252   2.627 203.949  2.4986    0.06     0.3     0.0     0.3\n",
       "      6 -76.6923  4.1897 153.159  4.2396  0.1072     0.3     0.0     0.3\n",
       "      7 -60.8558  2.8168 154.194  3.0038   0.085     0.3     0.0     0.3\n",
       "      8  -45.534  2.6694  184.95   2.801  0.0636     0.3     0.0     0.3\n",
       "      9 -73.7064  3.3263 133.986  3.5988   0.103     0.3     0.0     0.3\n",
       "     10 -50.0778  3.2495 167.266  3.3232    0.07     0.3     0.0     0.3\n",
       "    ...      ...     ...     ...     ...     ...     ...     ...     ...\n",
       "    143  122.448  4.2205 122.967  4.6168 -0.1711     0.3     0.0     0.3\n",
       "    144  142.943  7.3856 87.7775  7.5116 -0.1997     0.3     0.0     0.3\n",
       "    145  105.273  4.8995 122.078  5.2135 -0.1471     0.3     0.0     0.3\n",
       "    146  117.864   3.543 111.039  3.9786 -0.1647     0.3     0.0     0.3\n",
       "    147   116.63  4.5889 115.629   5.272  -0.163     0.3     0.0     0.3\n",
       "    148   138.06  4.3715 111.025  4.5219 -0.1929     0.3     0.0     0.3\n",
       "    149  184.203  4.1254 83.1491  4.9246 -0.2574     0.3     0.0     0.3\n",
       "    150  149.848  3.1421  96.134  3.3605 -0.2094     0.3     0.0     0.3\n",
       "    151  140.762  4.9469 86.2257  5.1853 -0.1967     0.3     0.0     0.3\n",
       "    152  205.386  3.5998 63.1672  4.9364  -0.287     0.3     0.0     0.3"
      ]
     },
     "execution_count": 11,
     "metadata": {},
     "output_type": "execute_result"
    }
   ],
   "source": [
    "c.system.cmp_list[2].kinematic_data[0].data"
   ]
  },
  {
   "cell_type": "markdown",
   "metadata": {},
   "source": [
    "## Creating a Schwarzschild model"
   ]
  },
  {
   "cell_type": "markdown",
   "metadata": {},
   "source": [
    "Our next step will be to create a model. The init method (replace with docblock!) of the Model object (i.e. line 136 of ``dynmaite/model.py`` looks as follows\n",
    "```\n",
    "    def __init__(self,\n",
    "                 system=None,\n",
    "                 settings=None,\n",
    "                 parspace=None,\n",
    "                 executor=None,\n",
    "                 parset=None):\n",
    "```\n",
    "It requires 5 input parameters. We've already met the ``system`` and ``settings`` parameters. Two of the others are internally created when we run the configuration reader,"
   ]
  },
  {
   "cell_type": "code",
   "execution_count": 12,
   "metadata": {},
   "outputs": [
    {
     "name": "stdout",
     "output_type": "stream",
     "text": [
      "<class 'parameter_space.ParameterSpace'>\n",
      "<class 'executor.Local'>\n"
     ]
    }
   ],
   "source": [
    "print(type(c.parspace))\n",
    "print(type(c.executor))"
   ]
  },
  {
   "cell_type": "markdown",
   "metadata": {},
   "source": [
    "I'll describe ``parspace`` below. To learn more about the ``executor``, read the tutorial/documentation XXXXX about multiprocessing.\n",
    "\n",
    "The remaining input parameter we need to provide is ``parset``. This is a set of parameters needed to define the gravitational potential of the system. Properties about the parameters are set in the configuration file under the key ``parameters``. A detailed description of all these properties can be found in tutorial/documentaion XXXXX.\n",
    "\n",
    "For now, let's extract a single parameter set to be able to create a model. For every parameter, in the configuration file we have specified a ``value``. Let's look at these values. To access them, we can loop over ``parspace``, which is a list of all the parameters,"
   ]
  },
  {
   "cell_type": "code",
   "execution_count": 13,
   "metadata": {},
   "outputs": [
    {
     "name": "stdout",
     "output_type": "stream",
     "text": [
      "Parameter / value :\n",
      "   mass = 6.0\n",
      "   a = 0.001\n",
      "   dc = 10.0\n",
      "   f = 100.0\n",
      "   q = 0.54\n",
      "   p = 0.99\n",
      "   u = 0.9999\n",
      "   ml = 3.0\n"
     ]
    }
   ],
   "source": [
    "print('Parameter / value :')\n",
    "for par in c.parspace:\n",
    "    print(f'   {par.name} = {par.value}')"
   ]
  },
  {
   "cell_type": "markdown",
   "metadata": {},
   "source": [
    "This is almost the ``parset`` that we need to make the model. One complication is that some parameters are specified in logarithmic units, i.e. \n",
    "```\n",
    "parameters -> XXX -> logarithmic : True\n",
    "```\n",
    "This can be useful for parameters (e.g. masses) for which it makes sense to take logarithmically spaced steps through parameter space. For other parameters (e.g. length scales) linearly spaced steps may be more appropriate. For other types of parameters (e.g. angles) a different spacing may be preferable.\n",
    "\n",
    "To handle these possibilities, we introduce the concept of ``raw`` parameter values, distinct from the values themselves. All values associated with parameter in the configuration file are given in ``raw`` units. When we step through parameter space, we take linear steps in ``raw`` values. The conversion from raw values to the parameter values is handles by the method\n",
    "```\n",
    "Parameter.get_par_value_from_raw_value\n",
    "```\n",
    "So to convert the above list from raw values, we can do the following,"
   ]
  },
  {
   "cell_type": "code",
   "execution_count": 14,
   "metadata": {},
   "outputs": [
    {
     "name": "stdout",
     "output_type": "stream",
     "text": [
      "Parameter / value :\n",
      "   mass = 1000000.0\n",
      "   a = 0.001\n",
      "   dc = 10.0\n",
      "   f = 100.0\n",
      "   q = 0.54\n",
      "   p = 0.99\n",
      "   u = 0.9999\n",
      "   ml = 3.0\n"
     ]
    }
   ],
   "source": [
    "print('Parameter / value :')\n",
    "for par in c.parspace:\n",
    "    raw_value = par.value\n",
    "    par_value = par.get_par_value_from_raw_value(raw_value)\n",
    "    print(f'   {par.name} = {par_value}')"
   ]
  },
  {
   "cell_type": "markdown",
   "metadata": {},
   "source": [
    "Lastly, we must pass a parameter set to the ``Model`` in the form of a row of an ``Astropy Table``, which we can create as follows,"
   ]
  },
  {
   "cell_type": "code",
   "execution_count": 15,
   "metadata": {},
   "outputs": [
    {
     "name": "stdout",
     "output_type": "stream",
     "text": [
      "   mass     a    dc    f    q    p     u     ml\n",
      "--------- ----- ---- ----- ---- ---- ------ ---\n",
      "1000000.0 0.001 10.0 100.0 0.54 0.99 0.9999 3.0\n"
     ]
    }
   ],
   "source": [
    "from astropy.table import Table\n",
    "\n",
    "t = Table()\n",
    "for par in c.parspace:\n",
    "    raw_value = par.value\n",
    "    par_value = par.get_par_value_from_raw_value(raw_value)\n",
    "    t[par.name] = [par_value]\n",
    "# extract 0th - i.e. the only - row from the table\n",
    "parset = t[0]\n",
    "\n",
    "print(parset)"
   ]
  },
  {
   "cell_type": "markdown",
   "metadata": {},
   "source": [
    "OR... (maybe) move all this detail above about raw units, Astropy tables etc, to a different tutorial, and replace it with the following.\n",
    "\n",
    "Parameter values are specified in the configuration file. We can extract this set of values in the required format as follows"
   ]
  },
  {
   "cell_type": "code",
   "execution_count": 16,
   "metadata": {},
   "outputs": [
    {
     "name": "stdout",
     "output_type": "stream",
     "text": [
      "   mass     a    dc    f    q    p     u     ml\n",
      "--------- ----- ---- ----- ---- ---- ------ ---\n",
      "1000000.0 0.001 10.0 100.0 0.54 0.99 0.9999 3.0\n"
     ]
    }
   ],
   "source": [
    "parset = c.parspace.get_parset()\n",
    "print(parset)"
   ]
  },
  {
   "cell_type": "markdown",
   "metadata": {},
   "source": [
    "This is a row of an astropy Table object. Note that, compared to values specified in the configuration file, parameters which have been specified as logarithmic, i.e.\n",
    "```\n",
    "parameters -> XXX -> logarithmic : True\n",
    "```\n",
    "have been exponentiated in here. More details can be found in the tutorial/documenation XXXXX."
   ]
  },
  {
   "cell_type": "markdown",
   "metadata": {},
   "source": [
    "We can now create our model,"
   ]
  },
  {
   "cell_type": "code",
   "execution_count": 17,
   "metadata": {},
   "outputs": [],
   "source": [
    "model = dyn.model.LegacySchwarzschildModel(\n",
    "    system=c.system,\n",
    "    settings=c.settings,\n",
    "    parspace=c.parspace,\n",
    "    executor=c.executor,\n",
    "    parset=parset)"
   ]
  },
  {
   "cell_type": "markdown",
   "metadata": {},
   "source": [
    "Nothing happens. But soon it will."
   ]
  },
  {
   "cell_type": "markdown",
   "metadata": {},
   "source": [
    "## Running a model \n",
    "\n",
    "First, lets setup a directory for the output"
   ]
  },
  {
   "cell_type": "code",
   "execution_count": 18,
   "metadata": {},
   "outputs": [],
   "source": [
    "model.setup_directories()"
   ]
  },
  {
   "cell_type": "markdown",
   "metadata": {},
   "source": [
    "This should have create a directory called "
   ]
  },
  {
   "cell_type": "code",
   "execution_count": 19,
   "metadata": {},
   "outputs": [
    {
     "data": {
      "text/plain": [
       "'NGC6278_output/'"
      ]
     },
     "execution_count": 19,
     "metadata": {},
     "output_type": "execute_result"
    }
   ],
   "source": [
    "c.settings.io_settings['output_directory']"
   ]
  },
  {
   "cell_type": "markdown",
   "metadata": {},
   "source": [
    "inside of which you should find \n",
    "```\n",
    "NGC6278_output/models/\n",
    "```\n",
    "inside of which a unique directory for *this* model has been created, called"
   ]
  },
  {
   "cell_type": "code",
   "execution_count": 20,
   "metadata": {},
   "outputs": [
    {
     "data": {
      "text/plain": [
       "'NGC6278_output/models/mass1000000.00a0.00dc10.00f100.00q0.54p0.990u0.9999/ml3.00/'"
      ]
     },
     "execution_count": 20,
     "metadata": {},
     "output_type": "execute_result"
    }
   ],
   "source": [
    "model.get_model_directory()"
   ]
  },
  {
   "cell_type": "markdown",
   "metadata": {},
   "source": [
    "The next step is to calculate the orbit library. This step will take a few minutes,"
   ]
  },
  {
   "cell_type": "code",
   "execution_count": 21,
   "metadata": {},
   "outputs": [
    {
     "ename": "FileNotFoundError",
     "evalue": "[Errno 2] No such file or directory: '../../tests/NGC6278/input_data/kin_data.dat'",
     "output_type": "error",
     "traceback": [
      "\u001b[0;31m---------------------------------------------------------------------------\u001b[0m",
      "\u001b[0;31mFileNotFoundError\u001b[0m                         Traceback (most recent call last)",
      "\u001b[0;32m<ipython-input-21-11ba7c5240f2>\u001b[0m in \u001b[0;36m<module>\u001b[0;34m\u001b[0m\n\u001b[0;32m----> 1\u001b[0;31m \u001b[0mmodel\u001b[0m\u001b[0;34m.\u001b[0m\u001b[0mget_orblib\u001b[0m\u001b[0;34m(\u001b[0m\u001b[0;34m)\u001b[0m\u001b[0;34m\u001b[0m\u001b[0;34m\u001b[0m\u001b[0m\n\u001b[0m",
      "\u001b[0;32m~/Astro/Science/dynamite/dynamite_repo/dynamite/model.py\u001b[0m in \u001b[0;36mget_orblib\u001b[0;34m(self)\u001b[0m\n\u001b[1;32m    213\u001b[0m             \u001b[0;31m# TODO: create these input files via prepare_data\u001b[0m\u001b[0;34m\u001b[0m\u001b[0;34m\u001b[0m\u001b[0;34m\u001b[0m\u001b[0m\n\u001b[1;32m    214\u001b[0m             shutil.copyfile(self.in_dir+'kin_data.dat',\n\u001b[0;32m--> 215\u001b[0;31m                             self.directory_noml+'infil/kin_data.dat')\n\u001b[0m\u001b[1;32m    216\u001b[0m             shutil.copyfile(self.in_dir+'aperture.dat',\n\u001b[1;32m    217\u001b[0m                             self.directory_noml+'infil/aperture.dat')\n",
      "\u001b[0;32m~/miniconda3/envs/pjpy/lib/python3.7/shutil.py\u001b[0m in \u001b[0;36mcopyfile\u001b[0;34m(src, dst, follow_symlinks)\u001b[0m\n\u001b[1;32m    118\u001b[0m         \u001b[0mos\u001b[0m\u001b[0;34m.\u001b[0m\u001b[0msymlink\u001b[0m\u001b[0;34m(\u001b[0m\u001b[0mos\u001b[0m\u001b[0;34m.\u001b[0m\u001b[0mreadlink\u001b[0m\u001b[0;34m(\u001b[0m\u001b[0msrc\u001b[0m\u001b[0;34m)\u001b[0m\u001b[0;34m,\u001b[0m \u001b[0mdst\u001b[0m\u001b[0;34m)\u001b[0m\u001b[0;34m\u001b[0m\u001b[0;34m\u001b[0m\u001b[0m\n\u001b[1;32m    119\u001b[0m     \u001b[0;32melse\u001b[0m\u001b[0;34m:\u001b[0m\u001b[0;34m\u001b[0m\u001b[0;34m\u001b[0m\u001b[0m\n\u001b[0;32m--> 120\u001b[0;31m         \u001b[0;32mwith\u001b[0m \u001b[0mopen\u001b[0m\u001b[0;34m(\u001b[0m\u001b[0msrc\u001b[0m\u001b[0;34m,\u001b[0m \u001b[0;34m'rb'\u001b[0m\u001b[0;34m)\u001b[0m \u001b[0;32mas\u001b[0m \u001b[0mfsrc\u001b[0m\u001b[0;34m:\u001b[0m\u001b[0;34m\u001b[0m\u001b[0;34m\u001b[0m\u001b[0m\n\u001b[0m\u001b[1;32m    121\u001b[0m             \u001b[0;32mwith\u001b[0m \u001b[0mopen\u001b[0m\u001b[0;34m(\u001b[0m\u001b[0mdst\u001b[0m\u001b[0;34m,\u001b[0m \u001b[0;34m'wb'\u001b[0m\u001b[0;34m)\u001b[0m \u001b[0;32mas\u001b[0m \u001b[0mfdst\u001b[0m\u001b[0;34m:\u001b[0m\u001b[0;34m\u001b[0m\u001b[0;34m\u001b[0m\u001b[0m\n\u001b[1;32m    122\u001b[0m                 \u001b[0mcopyfileobj\u001b[0m\u001b[0;34m(\u001b[0m\u001b[0mfsrc\u001b[0m\u001b[0;34m,\u001b[0m \u001b[0mfdst\u001b[0m\u001b[0;34m)\u001b[0m\u001b[0;34m\u001b[0m\u001b[0;34m\u001b[0m\u001b[0m\n",
      "\u001b[0;31mFileNotFoundError\u001b[0m: [Errno 2] No such file or directory: '../../tests/NGC6278/input_data/kin_data.dat'"
     ]
    }
   ],
   "source": [
    "model.get_orblib()"
   ]
  },
  {
   "cell_type": "markdown",
   "metadata": {},
   "source": [
    "Having calculated an orbit library, we now need to find out which orbits are any good i.e. are useful in reproducing our observations. This is an Non-Negative Least Squares (NNLS) optimization problem, which is done as follows,"
   ]
  },
  {
   "cell_type": "code",
   "execution_count": null,
   "metadata": {},
   "outputs": [],
   "source": [
    "model.get_weights()"
   ]
  },
  {
   "cell_type": "markdown",
   "metadata": {},
   "source": [
    "Congratulations! You have run your first Schwarzschild model using DYNAMITE. The chi$^2$ of this model is,"
   ]
  },
  {
   "cell_type": "code",
   "execution_count": null,
   "metadata": {},
   "outputs": [],
   "source": [
    "model.chi2"
   ]
  },
  {
   "cell_type": "markdown",
   "metadata": {},
   "source": [
    "Is that good? I don't know! To find out, we'll have to run more models and compare their chi$^2$ values. For information about this, see the tutorial running_a_grid_of_models.\n",
    "\n",
    "For now, let's dive deeper into this one model that we *have* run."
   ]
  },
  {
   "cell_type": "markdown",
   "metadata": {},
   "source": [
    "## Plot the Models"
   ]
  },
  {
   "cell_type": "code",
   "execution_count": null,
   "metadata": {},
   "outputs": [],
   "source": [
    "plotter = dyn.plotter.Plotter(system=c.system,\n",
    "                              settings=c.settings,\n",
    "                              parspace=c.parspace,\n",
    "                              all_models=c.all_models)"
   ]
  },
  {
   "cell_type": "code",
   "execution_count": null,
   "metadata": {},
   "outputs": [],
   "source": [
    "figure = plotter.plot_kinematic_maps(model)"
   ]
  },
  {
   "cell_type": "markdown",
   "metadata": {},
   "source": [
    "## Exercises\n",
    "\n",
    "Stuff to try out:\n",
    "- change the number of Gauss Hermite coeffients used: does the problem go away?\n",
    "- can you find other LOSVDs problematic for the GH expansion?\n",
    "- what is the total weight of orbits which go through aperture 0?\n",
    "- what is the total weight of orbits which have negative velocity in apeture 0?\n",
    "- plot the observed/model/model-GH LOSVDs of the whole galaxy (i.e. combine all apertures together)\n",
    "- run another model with a larger orbit library\n",
    "- run another model with a larger orbit library"
   ]
  }
 ],
 "metadata": {
  "kernelspec": {
   "display_name": "Python 3",
   "language": "python",
   "name": "python3"
  },
  "language_info": {
   "codemirror_mode": {
    "name": "ipython",
    "version": 3
   },
   "file_extension": ".py",
   "mimetype": "text/x-python",
   "name": "python",
   "nbconvert_exporter": "python",
   "pygments_lexer": "ipython3",
   "version": "3.7.3"
  }
 },
 "nbformat": 4,
 "nbformat_minor": 4
}
