{
 "cells": [
  {
   "cell_type": "markdown",
   "metadata": {},
   "source": [
    "# Running a single model"
   ]
  },
  {
   "cell_type": "markdown",
   "metadata": {},
   "source": [
    "Here is a notebook for running a DYNAMITE model."
   ]
  },
  {
   "cell_type": "markdown",
   "metadata": {},
   "source": [
    "## Section 1"
   ]
  },
  {
   "cell_type": "code",
   "execution_count": 3,
   "metadata": {},
   "outputs": [],
   "source": [
    "import sys\n",
    "sys.path.insert(0,'../../')\n",
    "import dynamite as dyn"
   ]
  },
  {
   "cell_type": "code",
   "execution_count": 5,
   "metadata": {},
   "outputs": [],
   "source": [
    "fname = 'NGC6278_config.yaml'\n",
    "c = dyn.config_reader.ConfigurationReaderYaml(fname, silent=True)"
   ]
  },
  {
   "cell_type": "markdown",
   "metadata": {},
   "source": [
    "For now - replace the legacy directory with the version I have elsewhere, which is already compiled:"
   ]
  },
  {
   "cell_type": "code",
   "execution_count": 17,
   "metadata": {},
   "outputs": [],
   "source": [
    "tmp = '/Users/pjethwa/Astro/Science/dynamite/triaxschwarz/triaxschwarzschild'\n",
    "c.settings.legacy_settings['directory'] = tmp"
   ]
  },
  {
   "cell_type": "code",
   "execution_count": 18,
   "metadata": {},
   "outputs": [
    {
     "name": "stdout",
     "output_type": "stream",
     "text": [
      "NGC6278_output/all_models.ecsv\n",
      "making empty table attribute\n",
      "I love Slurm!\n",
      "I love Slurm even more!!\n"
     ]
    }
   ],
   "source": [
    "parspace = dyn.parameter_space.ParameterSpace(c.system)\n",
    "all_models = dyn.model.AllModels(parspace=parspace, settings=c.settings)\n",
    "kw_executor = {'system':c.system,\n",
    "               'legacy_directory':c.settings.legacy_settings['directory'],\n",
    "               'executor_settings':c.settings.executor_settings}\n",
    "executor_type = c.settings.executor_settings['type']\n",
    "executor = getattr(dyn.executor, executor_type)(**kw_executor)"
   ]
  },
  {
   "cell_type": "code",
   "execution_count": 19,
   "metadata": {},
   "outputs": [
    {
     "name": "stdout",
     "output_type": "stream",
     "text": [
      "Parameter / value :\n",
      "   mass = 5.0\n",
      "   a = 0.001\n",
      "   dc = 3.0\n",
      "   f = 1.0\n",
      "   q = 0.54\n",
      "   p = 0.99\n",
      "   u = 0.9999\n",
      "   ml = 5.0\n"
     ]
    }
   ],
   "source": [
    "print('Parameter / value :')\n",
    "for par in parspace:\n",
    "    print(f'   {par.name} = {par.value}')"
   ]
  },
  {
   "cell_type": "code",
   "execution_count": 20,
   "metadata": {},
   "outputs": [
    {
     "name": "stdout",
     "output_type": "stream",
     "text": [
      "Parameter / value :\n",
      "   mass = 100000.0\n",
      "   a = 0.001\n",
      "   dc = 1000.0\n",
      "   f = 10.0\n",
      "   q = 0.54\n",
      "   p = 0.99\n",
      "   u = 0.9999\n",
      "   ml = 5.0\n"
     ]
    }
   ],
   "source": [
    "print('Parameter / value :')\n",
    "for par in parspace:\n",
    "    raw_value = par.value\n",
    "    par_value = par.get_par_value_from_raw_value(raw_value)\n",
    "    print(f'   {par.name} = {par_value}')"
   ]
  },
  {
   "cell_type": "code",
   "execution_count": 21,
   "metadata": {},
   "outputs": [],
   "source": [
    "from astropy.table import Table"
   ]
  },
  {
   "cell_type": "code",
   "execution_count": 22,
   "metadata": {},
   "outputs": [
    {
     "name": "stdout",
     "output_type": "stream",
     "text": [
      "  mass     a     dc    f    q    p     u     ml\n",
      "-------- ----- ------ ---- ---- ---- ------ ---\n",
      "100000.0 0.001 1000.0 10.0 0.54 0.99 0.9999 5.0\n"
     ]
    }
   ],
   "source": [
    "t = Table()\n",
    "for par in parspace:\n",
    "    raw_value = par.value\n",
    "    par_value = par.get_par_value_from_raw_value(raw_value)\n",
    "    t[par.name] = [par_value]\n",
    "# extract 0th - i.e. the only - row from the table\n",
    "parset = t[0]\n",
    "\n",
    "print(parset)"
   ]
  },
  {
   "cell_type": "code",
   "execution_count": 23,
   "metadata": {},
   "outputs": [],
   "source": [
    "model = dyn.model.LegacySchwarzschildModel(\n",
    "    system=c.system,\n",
    "    settings=c.settings,\n",
    "    parspace=parspace,\n",
    "    executor=executor,\n",
    "    parset=parset)"
   ]
  },
  {
   "cell_type": "code",
   "execution_count": 24,
   "metadata": {},
   "outputs": [],
   "source": [
    "model.setup_directories()"
   ]
  },
  {
   "cell_type": "code",
   "execution_count": 25,
   "metadata": {},
   "outputs": [
    {
     "name": "stdout",
     "output_type": "stream",
     "text": [
      "Calculating the orbit library for the proposed potential.\n",
      "Orbit integration is finished.\n"
     ]
    }
   ],
   "source": [
    "model.get_orblib()"
   ]
  },
  {
   "cell_type": "code",
   "execution_count": 26,
   "metadata": {},
   "outputs": [
    {
     "name": "stdout",
     "output_type": "stream",
     "text": [
      "Fit the orbit library to the kinematic data.\n",
      "NNLS is finished.\n"
     ]
    }
   ],
   "source": [
    "model.get_weights()"
   ]
  },
  {
   "cell_type": "code",
   "execution_count": 27,
   "metadata": {},
   "outputs": [
    {
     "data": {
      "text/plain": [
       "3698.687185"
      ]
     },
     "execution_count": 27,
     "metadata": {},
     "output_type": "execute_result"
    }
   ],
   "source": [
    "model.chi2"
   ]
  }
 ],
 "metadata": {
  "kernelspec": {
   "display_name": "Python 3",
   "language": "python",
   "name": "python3"
  },
  "language_info": {
   "codemirror_mode": {
    "name": "ipython",
    "version": 3
   },
   "file_extension": ".py",
   "mimetype": "text/x-python",
   "name": "python",
   "nbconvert_exporter": "python",
   "pygments_lexer": "ipython3",
   "version": "3.7.3"
  }
 },
 "nbformat": 4,
 "nbformat_minor": 4
}
