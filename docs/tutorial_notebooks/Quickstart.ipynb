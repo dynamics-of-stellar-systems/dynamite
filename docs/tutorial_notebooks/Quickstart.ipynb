{
 "cells": [
  {
   "cell_type": "markdown",
   "id": "unexpected-patrol",
   "metadata": {},
   "source": [
    "# Quickstart: running DYNAMITE\n",
    "\n",
    "By the end of the notebook, you will have run a Schwarzschild model. This will involve the following steps:\n",
    "1. run a small grid of orbit-based models with DYNAMITE\n",
    "2. understand the structure of the output\n",
    "2. plot the output\n",
    "\n",
    "You should run this from the directory ``docs/tutorial_notebooks``.\n",
    "\n",
    "## Setup\n",
    "\n",
    "We will run DYNAMITE on CALIFA data of NGC 6278. To prepare the input data files, you should first run the tutorial \"Data Preparation for Gauss Hermite kinematics\" (``data_prep_for_gauss_hermites.ipynb``). The relevant files you need for this tutorial are:\n",
    "\n",
    "```\n",
    "| tutorial_notebooks\n",
    "| ├── NGC6278_input     \n",
    "| │   ├── dynamite_input                \n",
    "| │   │   ├── gauss_hermite_kins.ecsv\n",
    "| │   │   ├── aperture.dat\n",
    "| │   │   ├── bins.dat \n",
    "| │   │   ├── mge.ecsv\n",
    "| │   │   └── ...\n",
    "| │   └── ...\n",
    "| │   └── ...\n",
    "| └── NGC6278_config.yaml\n",
    "| └── *.ipynb\n",
    "|\n",
    "```\n",
    "\n",
    "## Read the configuration file "
   ]
  },
  {
   "cell_type": "code",
   "execution_count": 1,
   "id": "front-macintosh",
   "metadata": {},
   "outputs": [
    {
     "name": "stderr",
     "output_type": "stream",
     "text": [
      "[INFO] 16:32:18 - dynamite.config_reader.Configuration - Config file NGC6278_config.yaml read.\n",
      "[INFO] 16:32:18 - dynamite.config_reader.Configuration - io_settings...\n",
      "[INFO] 16:32:18 - dynamite.config_reader.Configuration - system_attributes...\n",
      "[INFO] 16:32:18 - dynamite.config_reader.Configuration - model_components...\n",
      "[INFO] 16:32:18 - dynamite.config_reader.Configuration - system_parameters...\n",
      "[INFO] 16:32:18 - dynamite.config_reader.Configuration - orblib_settings...\n",
      "[INFO] 16:32:18 - dynamite.config_reader.Configuration - weight_solver_settings...\n",
      "[INFO] 16:32:18 - dynamite.config_reader.Configuration - parameter_space_settings...\n",
      "[INFO] 16:32:18 - dynamite.config_reader.Configuration - multiprocessing_settings...\n",
      "[INFO] 16:32:18 - dynamite.config_reader.Configuration - ... using 4 CPUs.\n",
      "[INFO] 16:32:18 - dynamite.config_reader.Configuration - legacy_settings...\n",
      "[INFO] 16:32:18 - dynamite.config_reader.Configuration - System assembled\n",
      "[INFO] 16:32:18 - dynamite.config_reader.Configuration - Configuration validated\n",
      "[INFO] 16:32:18 - dynamite.config_reader.Configuration - Instantiated parameter space\n",
      "[INFO] 16:32:18 - dynamite.model.AllModels - No previous models (file NGC6278_output/all_models.ecsv) have been found: Making an empty table in AllModels.table\n",
      "[INFO] 16:32:18 - dynamite.config_reader.Configuration - Instantiated AllModels object\n"
     ]
    },
    {
     "name": "stdout",
     "output_type": "stream",
     "text": [
      "DYNAMITE\n",
      "    version 2.0.0\n",
      "    installed at  ['/Users/pjethwa/miniconda3/envs/dyn_env_py37/lib/python3.7/site-packages/dynamite-2.0.0-py3.7.egg/dynamite']\n"
     ]
    },
    {
     "name": "stderr",
     "output_type": "stream",
     "text": [
      "[INFO] 16:32:18 - dynamite.config_reader.Configuration - Config file backup: NGC6278_output/NGC6278_config_010.yaml.\n"
     ]
    }
   ],
   "source": [
    "import dynamite as dyn\n",
    "\n",
    "print('DYNAMITE')\n",
    "print('    version', dyn.__version__)\n",
    "print('    installed at ', dyn.__path__)\n",
    "\n",
    "fname = 'NGC6278_config.yaml'\n",
    "c = dyn.config_reader.Configuration(fname, reset_logging=True)"
   ]
  },
  {
   "cell_type": "markdown",
   "id": "packed-television",
   "metadata": {},
   "source": [
    "All the options in the configuration file are held in the object `c`. For example, let's look at the `io_settings`. Output from this tutorial will be saved in the `output_directory`."
   ]
  },
  {
   "cell_type": "code",
   "execution_count": 2,
   "id": "aac2bc0e",
   "metadata": {},
   "outputs": [
    {
     "name": "stderr",
     "output_type": "stream",
     "text": [
      "[INFO] 16:32:18 - dynamite.config_reader.Configuration - Model output tree NGC6278_output/models/ removed.\n",
      "[INFO] 16:32:18 - dynamite.model.AllModels - No previous models (file NGC6278_output/all_models.ecsv) have been found: Making an empty table in AllModels.table\n",
      "[INFO] 16:32:18 - dynamite.config_reader.Configuration - Instantiated empty AllModels object\n",
      "[INFO] 16:32:18 - dynamite.config_reader.Configuration - Config file backup: NGC6278_output/NGC6278_config_011.yaml.\n"
     ]
    }
   ],
   "source": [
    "# delete previous output if available\n",
    "c.remove_existing_orblibs()\n",
    "c.remove_existing_all_models_file(wipe_other_files=False)\n",
    "c.backup_config_file(keep=3, delete_other=True)"
   ]
  },
  {
   "cell_type": "code",
   "execution_count": 3,
   "id": "aggregate-freight",
   "metadata": {},
   "outputs": [
    {
     "data": {
      "text/plain": [
       "{'input_directory': 'NGC6278_input/dynamite_input/',\n",
       " 'output_directory': 'NGC6278_output/',\n",
       " 'all_models_file': 'all_models.ecsv',\n",
       " 'model_directory': 'NGC6278_output/models/',\n",
       " 'plot_directory': 'NGC6278_output/plots/'}"
      ]
     },
     "execution_count": 3,
     "metadata": {},
     "output_type": "execute_result"
    }
   ],
   "source": [
    "c.settings.io_settings"
   ]
  },
  {
   "cell_type": "markdown",
   "id": "induced-occasion",
   "metadata": {},
   "source": [
    "In fact, by creating the configuration object `c`, we have also created the `output_directory` and copied a version of the configuration file there,"
   ]
  },
  {
   "cell_type": "code",
   "execution_count": 4,
   "id": "complimentary-framing",
   "metadata": {},
   "outputs": [
    {
     "name": "stdout",
     "output_type": "stream",
     "text": [
      "NGC6278_config_008.yaml  NGC6278_config_010.yaml  \u001b[34mplots\u001b[m\u001b[m/\r\n",
      "NGC6278_config_009.yaml  NGC6278_config_011.yaml\r\n"
     ]
    }
   ],
   "source": [
    "ls NGC6278_output"
   ]
  },
  {
   "cell_type": "markdown",
   "id": "spread-prediction",
   "metadata": {},
   "source": [
    "## Run the models\n",
    "\n",
    "Making the `ModelIterator` object will start running a grid of orbit-based models. This next step will take about 5-10 minutes using 4 cpus  "
   ]
  },
  {
   "cell_type": "code",
   "execution_count": null,
   "id": "canadian-isolation",
   "metadata": {},
   "outputs": [
    {
     "name": "stderr",
     "output_type": "stream",
     "text": [
      "[INFO] 16:32:18 - dynamite.model_iterator.ModelIterator - LegacyGridSearch: \"iteration 0\"\n",
      "[INFO] 16:32:18 - dynamite.parameter_space.LegacyGridSearch - LegacyGridSearch added 1 new model(s) out of 1\n",
      "[INFO] 16:32:18 - dynamite.model_iterator.ModelInnerIterator - ... running model 1 out of 1\n",
      "[INFO] 16:32:18 - dynamite.orblib.LegacyOrbitLibrary - Calculating initial conditions\n",
      "[INFO] 16:33:17 - dynamite.orblib.LegacyOrbitLibrary - ...done - cmd_orb_start exit code 0. Logfile: NGC6278_output/models/orblib_000_000/datfil/orbstart.log.\n",
      "[INFO] 16:33:17 - dynamite.orblib.LegacyOrbitLibrary - Integrating orbit library tube orbits\n",
      "[INFO] 16:33:28 - dynamite.orblib.LegacyOrbitLibrary - ...done - cmd_tube_orbs exit code 0. Logfiles: NGC6278_output/models/orblib_000_000/datfil/orblib.log, NGC6278_output/models/orblib_000_000/datfil/triaxmass.log, NGC6278_output/models/orblib_000_000/datfil/triaxmassbin.log.\n",
      "[INFO] 16:33:28 - dynamite.orblib.LegacyOrbitLibrary - Integrating orbit library box orbits\n",
      "[INFO] 16:33:38 - dynamite.orblib.LegacyOrbitLibrary - ...done - cmd_box_orbs exit code 0. Logfile: NGC6278_output/models/orblib_000_000/datfil/orblibbox.log.\n",
      "[INFO] 16:33:41 - dynamite.weight_solvers.LegacyWeightSolver - Using WeightSolver: LegacyWeightSolver\n",
      "[INFO] 16:33:41 - dynamite.weight_solvers.LegacyWeightSolver - Fitting orbit library to the kinematic data: ml5.00\n",
      "[INFO] 16:33:44 - dynamite.weight_solvers.LegacyWeightSolver - ...done, NNLS problem solved -  cmd_nnls_5.0 exit code 0. Logfile: NGC6278_output/models/orblib_000_000/ml5.00/nnls.log\n",
      "[INFO] 16:33:46 - dynamite.plotter.Plotter - kinchi2 vs. model id plot created (1 models).\n",
      "[INFO] 16:33:46 - dynamite.plotter.Plotter - Plot NGC6278_output/plots/kinchi2_progress_plot.png saved in NGC6278_output/plots/\n",
      "[INFO] 16:33:46 - dynamite.plotter.Plotter - Making chi2 plot scaled according to kinchi2\n",
      "[INFO] 16:33:46 - dynamite.plotter.Plotter - Plot NGC6278_output/plots/kinchi2_plot.png saved in NGC6278_output/plots/\n",
      "[INFO] 16:33:46 - dynamite.plotter.Plotter - Plotting kinematic maps for 1 kin_sets.\n",
      "[INFO] 16:33:46 - dynamite.plotter.Plotter - Plotting kinematic maps for kin_set no 0: califa\n",
      "[INFO] 16:33:46 - dynamite.weight_solvers.LegacyWeightSolver - Using WeightSolver: LegacyWeightSolver\n",
      "[INFO] 16:33:46 - dynamite.weight_solvers.LegacyWeightSolver - NNLS solution read from existing output\n",
      "[INFO] 16:33:51 - dynamite.model_iterator.ModelIterator - LegacyGridSearch: \"iteration 1\"\n",
      "[INFO] 16:33:51 - dynamite.parameter_space.LegacyGridSearch - LegacyGridSearch added 4 new model(s) out of 4\n",
      "[INFO] 16:33:52 - dynamite.model_iterator.ModelInnerIterator - ... running model 1 out of 4\n",
      "[INFO] 16:33:52 - dynamite.model_iterator.ModelInnerIterator - ... running model 2 out of 4\n",
      "[INFO] 16:33:52 - dynamite.orblib.LegacyOrbitLibrary - Calculating initial conditions\n",
      "[INFO] 16:33:52 - dynamite.orblib.LegacyOrbitLibrary - Calculating initial conditions\n",
      "[INFO] 16:34:50 - dynamite.orblib.LegacyOrbitLibrary - ...done - cmd_orb_start exit code 0. Logfile: NGC6278_output/models/orblib_001_001/datfil/orbstart.log.\n",
      "[INFO] 16:34:50 - dynamite.orblib.LegacyOrbitLibrary - Integrating orbit library tube orbits\n",
      "[INFO] 16:34:51 - dynamite.orblib.LegacyOrbitLibrary - ...done - cmd_orb_start exit code 0. Logfile: NGC6278_output/models/orblib_001_000/datfil/orbstart.log.\n",
      "[INFO] 16:34:51 - dynamite.orblib.LegacyOrbitLibrary - Integrating orbit library tube orbits\n"
     ]
    }
   ],
   "source": [
    "import time\n",
    "\n",
    "t = time.perf_counter()\n",
    "\n",
    "smi = dyn.model_iterator.ModelIterator(config=c)\n",
    "\n",
    "delta_t = time.perf_counter()-t\n",
    "print(f'Computation time: {delta_t} seconds = {delta_t/60} minutes')"
   ]
  },
  {
   "cell_type": "markdown",
   "id": "forced-policy",
   "metadata": {},
   "source": [
    "The following files have been created in the models directory,"
   ]
  },
  {
   "cell_type": "code",
   "execution_count": null,
   "id": "innovative-introduction",
   "metadata": {},
   "outputs": [],
   "source": [
    "ls NGC6278_output/models"
   ]
  },
  {
   "cell_type": "markdown",
   "id": "thick-holly",
   "metadata": {},
   "source": [
    "Each directory holds a different orbit library \n",
    "\n",
    "    orblib_XXX_YYY\n",
    "\n",
    "where `XXX` labels the iteration when it was created, and `YYY` labels the position within that iteration. Looking inside one of these directories, we see the following files:"
   ]
  },
  {
   "cell_type": "code",
   "execution_count": null,
   "id": "egyptian-serbia",
   "metadata": {},
   "outputs": [],
   "source": [
    "ls NGC6278_output/models/orblib_000_000"
   ]
  },
  {
   "cell_type": "markdown",
   "id": "partial-group",
   "metadata": {},
   "source": [
    "which are:\n",
    "\n",
    "- `cmd_*`: bash scripts for running Fortran programs\n",
    "- `datfil/`: directory holding the orbit library for the reference potential\n",
    "- `infil/`: input files for running Fortran programs\n",
    "- `ml*/`: directories containing output orbital weights (and other results) for different values of `ml`\n",
    "\n",
    "Each `ml*` directory hold outputs for a re-scaled version of the same potential, where the value of `ml` is a mass scaling applied to a reference potential. The reference potential uses the the first value of `ml` encountered in the parameter search.\n",
    "\n",
    "Some plots are automatically created,"
   ]
  },
  {
   "cell_type": "code",
   "execution_count": null,
   "id": "intimate-oakland",
   "metadata": {},
   "outputs": [],
   "source": [
    "ls NGC6278_output/plots"
   ]
  },
  {
   "cell_type": "markdown",
   "id": "particular-sixth",
   "metadata": {},
   "source": [
    "and they represent the following quantities:\n",
    "\n",
    "1. `kinchi2_progress_plot` : chi2 values vs model ID\n",
    "<img src=\"NGC6278_output/plots/kinchi2_progress_plot.png\" width=\"400\">\n",
    "\n",
    "2. `kinchi2_progress_plot` : model parameters vs chi2 values. If more than 2 paramters were left free, this would be a traingle plot of chi2 values,\n",
    "<img src=\"NGC6278_output/plots/kinchi2_plot.png\" width=\"400\">\n",
    "\n",
    "3. `kinematic_map_califa.png` : the kinematic maps for the current minimum-chi2 model\n",
    "<img src=\"NGC6278_output/plots/kinematic_map_califa.png\" width=\"800\">"
   ]
  },
  {
   "cell_type": "markdown",
   "id": "collaborative-america",
   "metadata": {},
   "source": [
    "A summary of all the models run so far is saved in the file `NGC6278_output/all_models.ecsv`. This is an Astropy ECSV file. A table holding this data is stored in `c`, "
   ]
  },
  {
   "cell_type": "code",
   "execution_count": null,
   "id": "tender-google",
   "metadata": {},
   "outputs": [],
   "source": [
    "c.all_models.table"
   ]
  },
  {
   "cell_type": "markdown",
   "id": "pursuant-battlefield",
   "metadata": {},
   "source": [
    "At this stage, you could:\n",
    "    \n",
    "- run more models, perhaps first adjusting settings in the configuration file,\n",
    "    - increasing the `n_max_mods` and/or `n_max_iter`\n",
    "    - adjust parameter bounds and/or which parameters are kept free\n",
    "- plot other visualisations\n",
    "\n",
    "## Plotting \n",
    "\n",
    "DYNAMITE provides other plotting methods in the `Plotter`:"
   ]
  },
  {
   "cell_type": "code",
   "execution_count": null,
   "id": "preliminary-composition",
   "metadata": {},
   "outputs": [],
   "source": [
    "plotter = dyn.plotter.Plotter(config=c)"
   ]
  },
  {
   "cell_type": "markdown",
   "id": "guided-squad",
   "metadata": {},
   "source": [
    "In all the functions that require to use the values of the $\\chi^2$ to make the plots, the user can choose which $\\chi^2$ to use, by specifying the value of the parameter ``which_chi2``. The recommended value to use is ``which_chi2='kinchi2'``. \n",
    "\n",
    "The plots produced by the functions introduced below are all saved in the plot directory specified in the directory ``plots`` within the output directory specified in the configuration file. After running all the cells in this notebook, you will find your plots in the directory ``NGC6278_output/plots``.\n",
    "\n",
    "The ``mass_plot`` function generates a cumulative mass plot, showing the enclosed mass profiles for the mass-follows-light component (red), for the dark matter (blue), and for the sum of the two (black). The solid lines correspond to the best-fit model, the shaded areas represent 1 sigma uncertainties. You can specify the radial extent of the plot and the type of file you want to be saved with the figure (e.g., ``'.png'``, ``'.pdf'``, ... if ``figtype=None``, the default is used and a ``'.png'`` figure is created)."
   ]
  },
  {
   "cell_type": "code",
   "execution_count": null,
   "id": "photographic-debut",
   "metadata": {},
   "outputs": [],
   "source": [
    "fig1 = plotter.mass_plot(which_chi2='kinchi2', Rmax_arcs=50, figtype=None)"
   ]
  },
  {
   "cell_type": "markdown",
   "id": "protective-abraham",
   "metadata": {},
   "source": [
    "The ``orbit_plot`` function generates a plot showing the stellar orbit distribution, described as probability density of orbits; circularity (lambda_z) is represented here as a function of the distance from the galactic centre r (in arcsec). You can specify the type of file you want to be saved with the figure (e.g., ``'.png'``, ``'.pdf'``, ...). In this case, ``Rmax_arcs`` represents the upper radial limit for orbit selection, in arcsec, meaning that only orbits extending up to ``Rmax_arcs`` are plotted."
   ]
  },
  {
   "cell_type": "code",
   "execution_count": null,
   "id": "affecting-debut",
   "metadata": {},
   "outputs": [],
   "source": [
    "fig2 = plotter.orbit_plot(Rmax_arcs=50)"
   ]
  },
  {
   "cell_type": "markdown",
   "id": "recorded-school",
   "metadata": {},
   "source": [
    "The ``beta_plot`` function generates two plots, showing the intrinsic and projected anisotropy profiles."
   ]
  },
  {
   "cell_type": "code",
   "execution_count": null,
   "id": "statutory-assumption",
   "metadata": {},
   "outputs": [],
   "source": [
    "fig3, fig4 = plotter.beta_plot(which_chi2='kinchi2', Rmax_arcs=50)"
   ]
  },
  {
   "cell_type": "markdown",
   "id": "painful-program",
   "metadata": {},
   "source": [
    "The ``qpu_plot`` function creates a plot showing the intrinsic flattenings $q$ and $p$, with the blue and black lines respectively, as a function of the distance from the galactic centre (in arcsec). The value of $T = (1-p^2)/(1-q^2)$ is also shown (red line)."
   ]
  },
  {
   "cell_type": "code",
   "execution_count": null,
   "id": "internal-ridge",
   "metadata": {},
   "outputs": [],
   "source": [
    "fig5 = plotter.qpu_plot(which_chi2='kinchi2', Rmax_arcs=50,figtype =None)"
   ]
  },
  {
   "cell_type": "code",
   "execution_count": null,
   "id": "backed-basics",
   "metadata": {},
   "outputs": [],
   "source": []
  }
 ],
 "metadata": {
  "kernelspec": {
   "display_name": "Python 3",
   "language": "python",
   "name": "python3"
  },
  "language_info": {
   "codemirror_mode": {
    "name": "ipython",
    "version": 3
   },
   "file_extension": ".py",
   "mimetype": "text/x-python",
   "name": "python",
   "nbconvert_exporter": "python",
   "pygments_lexer": "ipython3",
   "version": "3.7.9"
  }
 },
 "nbformat": 4,
 "nbformat_minor": 5
}
