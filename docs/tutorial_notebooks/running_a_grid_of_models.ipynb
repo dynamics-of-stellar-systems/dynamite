{
 "cells": [
  {
   "cell_type": "markdown",
   "metadata": {},
   "source": [
    "# Running a grid of models"
   ]
  },
  {
   "cell_type": "markdown",
   "metadata": {},
   "source": [
    "Here is a notebook for running a grid of DYNAMITE models."
   ]
  },
  {
   "cell_type": "markdown",
   "metadata": {},
   "source": [
    "## Section 1"
   ]
  },
  {
   "cell_type": "code",
   "execution_count": 1,
   "metadata": {},
   "outputs": [],
   "source": [
    "import sys\n",
    "sys.path.insert(0,'../../')\n",
    "import dynamite as dyn"
   ]
  },
  {
   "cell_type": "code",
   "execution_count": 2,
   "metadata": {},
   "outputs": [
    {
     "name": "stdout",
     "output_type": "stream",
     "text": [
      "NGC6278_output/all_models.ecsv\n",
      "making empty table attribute\n",
      "I love Slurm!\n",
      "I love Slurm even more!!\n"
     ]
    }
   ],
   "source": [
    "fname = 'NGC6278_config.yaml'\n",
    "c = dyn.config_reader.ConfigurationReaderYaml(fname, silent=True)\n",
    "tmp = '/Users/pjethwa/Astro/Science/dynamite/triaxschwarz/triaxschwarzschild'\n",
    "c.settings.legacy_settings['directory'] = tmp\n",
    "\n",
    "parspace = dyn.parameter_space.ParameterSpace(c.system)\n",
    "all_models = dyn.model.AllModels(parspace=parspace, settings=c.settings)\n",
    "kw_executor = {'system':c.system,\n",
    "               'legacy_directory':c.settings.legacy_settings['directory'],\n",
    "               'executor_settings':c.settings.executor_settings}\n",
    "executor_type = c.settings.executor_settings['type']\n",
    "executor = getattr(dyn.executor, executor_type)(**kw_executor)"
   ]
  },
  {
   "cell_type": "code",
   "execution_count": 3,
   "metadata": {},
   "outputs": [
    {
     "name": "stdout",
     "output_type": "stream",
     "text": [
      "LegacyGridSearch: \"iteration 0\"\n",
      "LegacyGridSearch added 1 new model(s) out of 1\n",
      "... running model 1 out of 1\n",
      "Fit the orbit library to the kinematic data.\n",
      "NNLS is finished.\n",
      "LegacyGridSearch: \"iteration 1\"\n",
      "LegacyGridSearch added 4 new model(s) out of 4\n",
      "... running model 1 out of 4\n",
      "Fit the orbit library to the kinematic data.\n",
      "NNLS is finished.\n",
      "... running model 2 out of 4\n",
      "Fit the orbit library to the kinematic data.\n",
      "NNLS is finished.\n",
      "... running model 3 out of 4\n",
      "Fit the orbit library to the kinematic data.\n",
      "NNLS is finished.\n",
      "... running model 4 out of 4\n",
      "Fit the orbit library to the kinematic data.\n",
      "NNLS is finished.\n",
      "LegacyGridSearch: \"iteration 2\"\n",
      "LegacyGridSearch added 2 new model(s) out of 2\n",
      "... running model 1 out of 2\n",
      "Fit the orbit library to the kinematic data.\n",
      "NNLS is finished.\n",
      "... running model 2 out of 2\n",
      "Fit the orbit library to the kinematic data.\n",
      "NNLS is finished.\n",
      "LegacyGridSearch: \"iteration 3\"\n",
      "LegacyGridSearch added 3 new model(s) out of 3\n",
      "... running model 1 out of 3\n",
      "Fit the orbit library to the kinematic data.\n",
      "NNLS is finished.\n",
      "... running model 2 out of 3\n",
      "Fit the orbit library to the kinematic data.\n",
      "NNLS is finished.\n",
      "... running model 3 out of 3\n",
      "Fit the orbit library to the kinematic data.\n",
      "NNLS is finished.\n",
      "Stopping after iteration 4\n",
      "{'stop': True, 'n_new_models': 3, 'last_iter_added_no_new_models': False, 'n_max_mods_reached': True, 'n_max_iter_reached': False, 'min_delta_chi2_reached': True}\n"
     ]
    }
   ],
   "source": [
    "# \"run\" the models\n",
    "smi = dyn.model_iterator.ModelIterator(\n",
    "    system=c.system,\n",
    "    all_models=all_models,\n",
    "    settings=c.settings,\n",
    "    executor=executor)"
   ]
  },
  {
   "cell_type": "markdown",
   "metadata": {},
   "source": [
    "If you have previously run the notebook\n",
    "\n",
    "    running_a_model.ipynb\n",
    "\n",
    "then you may notice that 'model 1 out of 1' runs instantly. This is because the model has been run previously and the outputs have been saved, hence we can immediately read the output.\n",
    "\n",
    "After the grid of models has been run, the outputs are stored in \n",
    "\n",
    "    all_models.table\n",
    "\n",
    "which is an Astropy Table object,"
   ]
  },
  {
   "cell_type": "code",
   "execution_count": 4,
   "metadata": {},
   "outputs": [
    {
     "data": {
      "text/html": [
       "<i>Table length=10</i>\n",
       "<table id=\"table4884160808\" class=\"table-striped table-bordered table-condensed\">\n",
       "<thead><tr><th>mass</th><th>a</th><th>dc</th><th>f</th><th>q</th><th>p</th><th>u</th><th>ml</th><th>chi2</th><th>kinchi2</th><th>time_modified</th><th>orblib_done</th><th>weights_done</th><th>all_done</th><th>which_iter</th></tr></thead>\n",
       "<thead><tr><th>float64</th><th>float64</th><th>float64</th><th>float64</th><th>float64</th><th>float64</th><th>float64</th><th>float64</th><th>float64</th><th>float64</th><th>datetime64[ms]</th><th>bool</th><th>bool</th><th>bool</th><th>int64</th></tr></thead>\n",
       "<tr><td>100000.0</td><td>0.001</td><td>1000.0</td><td>10.0</td><td>0.54</td><td>0.99</td><td>0.9999</td><td>5.0</td><td>3698.687185</td><td>4122039.5353705524</td><td>2020-10-06T09:25:26.000</td><td>True</td><td>True</td><td>True</td><td>0</td></tr>\n",
       "<tr><td>100000.0</td><td>0.001</td><td>1000.0</td><td>3.1622776601683795</td><td>0.54</td><td>0.99</td><td>0.9999</td><td>5.0</td><td>5899.459565</td><td>1591901.2234776202</td><td>2020-10-06T09:25:26.000</td><td>True</td><td>True</td><td>True</td><td>1</td></tr>\n",
       "<tr><td>100000.0</td><td>0.001</td><td>1000.0</td><td>31.622776601683793</td><td>0.54</td><td>0.99</td><td>0.9999</td><td>5.0</td><td>5938.043959</td><td>6374943.12987605</td><td>2020-10-06T09:25:26.000</td><td>True</td><td>True</td><td>True</td><td>1</td></tr>\n",
       "<tr><td>100000.0</td><td>0.001</td><td>1000.0</td><td>10.0</td><td>0.54</td><td>0.99</td><td>0.9999</td><td>4.0</td><td>3040.11639</td><td>3095463.0381058846</td><td>2020-10-06T09:25:27.000</td><td>True</td><td>True</td><td>True</td><td>1</td></tr>\n",
       "<tr><td>100000.0</td><td>0.001</td><td>1000.0</td><td>10.0</td><td>0.54</td><td>0.99</td><td>0.9999</td><td>6.0</td><td>4196.9205919999995</td><td>5180885.681812385</td><td>2020-10-06T09:25:27.000</td><td>True</td><td>True</td><td>True</td><td>1</td></tr>\n",
       "<tr><td>100000.0</td><td>0.001</td><td>1000.0</td><td>3.1622776601683795</td><td>0.54</td><td>0.99</td><td>0.9999</td><td>4.0</td><td>5310.966293999999</td><td>1139972.3166882512</td><td>2020-10-06T09:25:27.000</td><td>True</td><td>True</td><td>True</td><td>2</td></tr>\n",
       "<tr><td>100000.0</td><td>0.001</td><td>1000.0</td><td>31.622776601683793</td><td>0.54</td><td>0.99</td><td>0.9999</td><td>4.0</td><td>5828.974666</td><td>4524051.6596517945</td><td>2020-10-06T09:25:28.000</td><td>True</td><td>True</td><td>True</td><td>2</td></tr>\n",
       "<tr><td>100000.0</td><td>0.001</td><td>1000.0</td><td>5.623413251903491</td><td>0.54</td><td>0.99</td><td>0.9999</td><td>4.0</td><td>3515.3490609999994</td><td>1903985.5351768227</td><td>2020-10-06T09:25:28.000</td><td>True</td><td>True</td><td>True</td><td>3</td></tr>\n",
       "<tr><td>100000.0</td><td>0.001</td><td>1000.0</td><td>17.78279410038923</td><td>0.54</td><td>0.99</td><td>0.9999</td><td>4.0</td><td>6071.567852</td><td>4405553.901934262</td><td>2020-10-06T09:25:28.000</td><td>True</td><td>True</td><td>True</td><td>3</td></tr>\n",
       "<tr><td>100000.0</td><td>0.001</td><td>1000.0</td><td>10.0</td><td>0.54</td><td>0.99</td><td>0.9999</td><td>4.5</td><td>3392.0512030000004</td><td>3604079.386060588</td><td>2020-10-06T09:25:29.000</td><td>True</td><td>True</td><td>True</td><td>3</td></tr>\n",
       "</table>"
      ],
      "text/plain": [
       "<Table length=10>\n",
       "  mass      a       dc           f          ... weights_done all_done which_iter\n",
       "float64  float64 float64      float64       ...     bool       bool     int64   \n",
       "-------- ------- ------- ------------------ ... ------------ -------- ----------\n",
       "100000.0   0.001  1000.0               10.0 ...         True     True          0\n",
       "100000.0   0.001  1000.0 3.1622776601683795 ...         True     True          1\n",
       "100000.0   0.001  1000.0 31.622776601683793 ...         True     True          1\n",
       "100000.0   0.001  1000.0               10.0 ...         True     True          1\n",
       "100000.0   0.001  1000.0               10.0 ...         True     True          1\n",
       "100000.0   0.001  1000.0 3.1622776601683795 ...         True     True          2\n",
       "100000.0   0.001  1000.0 31.622776601683793 ...         True     True          2\n",
       "100000.0   0.001  1000.0  5.623413251903491 ...         True     True          3\n",
       "100000.0   0.001  1000.0  17.78279410038923 ...         True     True          3\n",
       "100000.0   0.001  1000.0               10.0 ...         True     True          3"
      ]
     },
     "execution_count": 4,
     "metadata": {},
     "output_type": "execute_result"
    }
   ],
   "source": [
    "all_models.table"
   ]
  },
  {
   "cell_type": "code",
   "execution_count": 24,
   "metadata": {},
   "outputs": [
    {
     "data": {
      "image/png": "[encoded data removed]",
      "text/plain": [
       "<Figure size 432x288 with 2 Axes>"
      ]
     },
     "metadata": {
      "needs_background": "light"
     },
     "output_type": "display_data"
    },
    {
     "data": {
      "image/png": "[encoded data removed]",
      "text/plain": [
       "<Figure size 432x288 with 2 Axes>"
      ]
     },
     "metadata": {
      "needs_background": "light"
     },
     "output_type": "display_data"
    },
    {
     "data": {
      "image/png": "[encoded data removed]",
      "text/plain": [
       "<Figure size 432x288 with 2 Axes>"
      ]
     },
     "metadata": {
      "needs_background": "light"
     },
     "output_type": "display_data"
    },
    {
     "data": {
      "image/png": "[encoded data removed]",
      "text/plain": [
       "<Figure size 432x288 with 2 Axes>"
      ]
     },
     "metadata": {
      "needs_background": "light"
     },
     "output_type": "display_data"
    }
   ],
   "source": [
    "import numpy as np\n",
    "import matplotlib.pyplot as plt\n",
    "\n",
    "# extract the lo/hi limits for the two free parameters f and ml\n",
    "\n",
    "f = parspace.get_parameter_from_name('f')\n",
    "f_lims_raw = [f.par_generator_settings['lo'], f.par_generator_settings['hi']]\n",
    "f_lims = [f.get_par_value_from_raw_value(lim0) for lim0 in f_lims_raw]\n",
    "\n",
    "ml = parspace.get_parameter_from_name('ml')\n",
    "ml_lims_raw = [ml.par_generator_settings['lo'], ml.par_generator_settings['hi']]\n",
    "ml_lims = [ml.get_par_value_from_raw_value(lim0) for lim0 in ml_lims_raw]\n",
    "\n",
    "# get list of iterations\n",
    "iterations = np.unique(all_models.table['which_iter'])\n",
    "\n",
    "# plot chi2 of models vs iterations\n",
    "for iter0 in iterations:\n",
    "    table = all_models.table\n",
    "    table = table[table['which_iter']==iter0]\n",
    "    plt.scatter(table['f'],\n",
    "                table['ml'],\n",
    "                c=table['chi2'],\n",
    "                cmap=plt.cm.viridis_r,\n",
    "                s=200)\n",
    "    cbar = plt.colorbar()\n",
    "    cbar.set_label('$\\chi^2$')\n",
    "    plt.gca().set_title(f'iteration {iter0}')\n",
    "    plt.gca().set_xlim(*f_lims)\n",
    "    plt.gca().set_ylim(*ml_lims)\n",
    "    plt.gca().set_xscale('log')\n",
    "    plt.gca().set_yscale('log')\n",
    "    plt.show()"
   ]
  },
  {
   "cell_type": "code",
   "execution_count": 25,
   "metadata": {},
   "outputs": [
    {
     "data": {
      "image/png": "[encoded data removed]",
      "text/plain": [
       "<Figure size 432x288 with 2 Axes>"
      ]
     },
     "metadata": {
      "needs_background": "light"
     },
     "output_type": "display_data"
    }
   ],
   "source": [
    "# plot the models: f vs ml altogether\n",
    "plt.scatter(all_models.table['f'],\n",
    "            all_models.table['ml'],\n",
    "            c=all_models.table['chi2'],\n",
    "            cmap=plt.cm.viridis_r,\n",
    "            s=200)\n",
    "cbar = plt.colorbar()\n",
    "cbar.set_label('$\\chi^2$')\n",
    "plt.gca().set_title(f'all iterations')\n",
    "plt.gca().set_xlim(*f_lims)\n",
    "plt.gca().set_ylim(*ml_lims)\n",
    "plt.gca().set_xscale('log')\n",
    "plt.gca().set_yscale('log')\n",
    "plt.show()"
   ]
  },
  {
   "cell_type": "code",
   "execution_count": null,
   "metadata": {},
   "outputs": [],
   "source": []
  }
 ],
 "metadata": {
  "kernelspec": {
   "display_name": "Python 3",
   "language": "python",
   "name": "python3"
  },
  "language_info": {
   "codemirror_mode": {
    "name": "ipython",
    "version": 3
   },
   "file_extension": ".py",
   "mimetype": "text/x-python",
   "name": "python",
   "nbconvert_exporter": "python",
   "pygments_lexer": "ipython3",
   "version": "3.7.3"
  }
 },
 "nbformat": 4,
 "nbformat_minor": 4
}
