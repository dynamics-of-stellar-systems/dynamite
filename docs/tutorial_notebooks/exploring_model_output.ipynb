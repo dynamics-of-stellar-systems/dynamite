{
 "cells": [
  {
   "cell_type": "code",
   "execution_count": null,
   "metadata": {},
   "outputs": [],
   "source": [
    "%load_ext autoreload\n",
    "%autoreload 2"
   ]
  },
  {
   "cell_type": "markdown",
   "metadata": {},
   "source": [
    "# Exploring the model output: orbits and weights"
   ]
  },
  {
   "cell_type": "code",
   "execution_count": 2,
   "metadata": {},
   "outputs": [
    {
     "name": "stdout",
     "output_type": "stream",
     "text": [
      "NGC6278_output/all_models.ecsv\n",
      "making empty table attribute\n",
      "I love Slurm!\n",
      "I love Slurm even more!!\n"
     ]
    }
   ],
   "source": [
    "import sys\n",
    "sys.path.insert(0,'../../')\n",
    "import dynamite as dyn\n",
    "\n",
    "fname = 'NGC6278_config.yaml'\n",
    "c = dyn.config_reader.Configuration(fname, silent=True)\n",
    "\n",
    "parset = c.parspace.get_parset()\n",
    "\n",
    "model = dyn.model.LegacySchwarzschildModel(\n",
    "    system=c.system,\n",
    "    settings=c.settings,\n",
    "    parspace=c.parspace,\n",
    "    executor=c.executor,\n",
    "    parset=parset)"
   ]
  },
  {
   "cell_type": "markdown",
   "metadata": {},
   "source": [
    "## Looking at the orbit library\n",
    "\n",
    "We created an orbit library. It would be nice to look at some of these orbits, or at least their line-of-sight velocity distribtions (LOSVDs). To read them,"
   ]
  },
  {
   "cell_type": "code",
   "execution_count": 3,
   "metadata": {},
   "outputs": [],
   "source": [
    "model.get_orblib()\n",
    "model.orblib.read_losvd_histograms()"
   ]
  },
  {
   "cell_type": "markdown",
   "metadata": {},
   "source": [
    "which creates the object``model.orblib.losvd_histograms`` with the following properties"
   ]
  },
  {
   "cell_type": "code",
   "execution_count": 4,
   "metadata": {},
   "outputs": [
    {
     "name": "stdout",
     "output_type": "stream",
     "text": [
      "Orbits are stores as a <class 'kinematics.Histogram'>\n",
      "velocity array has shape (205,)\n",
      "LOSVD has shape (180, 205, 152)\n"
     ]
    }
   ],
   "source": [
    "print(f'Orbits are stores as a {type(model.orblib.losvd_histograms)}')\n",
    "print(f'velocity array has shape {model.orblib.losvd_histograms.x.shape}')\n",
    "print(f'LOSVD has shape {model.orblib.losvd_histograms.y.shape}')"
   ]
  },
  {
   "cell_type": "markdown",
   "metadata": {},
   "source": [
    "Where do these numbers come from? They are set by values in the configuration file of course! The length of the velocity array is given by"
   ]
  },
  {
   "cell_type": "code",
   "execution_count": 5,
   "metadata": {},
   "outputs": [
    {
     "data": {
      "text/plain": [
       "'205'"
      ]
     },
     "execution_count": 5,
     "metadata": {},
     "output_type": "execute_result"
    }
   ],
   "source": [
    "c.settings.orblib_settings['hist_bins']"
   ]
  },
  {
   "cell_type": "markdown",
   "metadata": {},
   "source": [
    "This is also the size of the second dimension of the LOSVD. The size of the first dimension - 180 - is the number of orbits in our library. This is also specified by values in the configuration file, i.e."
   ]
  },
  {
   "cell_type": "code",
   "execution_count": 6,
   "metadata": {},
   "outputs": [
    {
     "name": "stdout",
     "output_type": "stream",
     "text": [
      "180\n"
     ]
    }
   ],
   "source": [
    "tmp = c.settings.orblib_settings\n",
    "print(3 * tmp['nE'] * tmp['nI2'] * tmp['nI3'])"
   ]
  },
  {
   "cell_type": "markdown",
   "metadata": {},
   "source": [
    "The values (nE, nI2, nI3) are our specified grid size in orbtial integrals of motion. The factor of 3 comes from the fact that we combine three libraries with this grid size.\n",
    "\n",
    "The final dimension size of the LOSVD - 152 - is the number of spatial apertures. It should be equal (always? I think?) to the number of apertures for which we have provided kinematic data, i.e. the number of rows of the kinematic data file, i.e."
   ]
  },
  {
   "cell_type": "code",
   "execution_count": 7,
   "metadata": {},
   "outputs": [
    {
     "data": {
      "text/plain": [
       "152"
      ]
     },
     "execution_count": 7,
     "metadata": {},
     "output_type": "execute_result"
    }
   ],
   "source": [
    "len(c.system.cmp_list[2].kinematic_data[0].data)"
   ]
  },
  {
   "cell_type": "markdown",
   "metadata": {},
   "source": [
    "So - the LOSVD histogram has shape\n",
    "$$\n",
    "(n_\\mathrm{orbits}, n_\\mathrm{velocityBins}, n_\\mathrm{apertures})\n",
    "$$\n",
    "i.e. an LOSVD per orbit, per spatial aperture. Let's write simple plotting routine to look at some examples,"
   ]
  },
  {
   "cell_type": "code",
   "execution_count": 8,
   "metadata": {},
   "outputs": [],
   "source": [
    "import matplotlib.pyplot as plt\n",
    "import numpy as np\n",
    "\n",
    "def plot_losvds(losvd_histogram, orb_idx, aperture_idx_list):\n",
    "    v = losvd_histogram.x\n",
    "    losvd = losvd_histogram.y[orb_idx, :, :]\n",
    "    plt.plot(v, np.sum(losvd, 1), label='total')\n",
    "    for aperture_idx in aperture_idx_list:\n",
    "        plt.plot(v,\n",
    "                 losvd[:, aperture_idx],\n",
    "                 '--',\n",
    "                 label=f'aperture {aperture_idx}')\n",
    "    plt.gca().set_title(f'LOSVD of orbit {orb_idx}')\n",
    "    plt.gca().set_xlabel('v [km/s]')\n",
    "    plt.gca().set_yscale('log')\n",
    "    plt.gca().legend()\n",
    "    plt.tight_layout()\n",
    "    return"
   ]
  },
  {
   "cell_type": "code",
   "execution_count": 9,
   "metadata": {},
   "outputs": [
    {
     "data": {
      "image/png": "[encoded data removed]",
      "text/plain": [
       "<Figure size 432x288 with 1 Axes>"
      ]
     },
     "metadata": {
      "needs_background": "light"
     },
     "output_type": "display_data"
    }
   ],
   "source": [
    "orb_idx = 15\n",
    "aperture_idx_list = [0, 2, 20, 30]\n",
    "plot_losvds(model.orblib.losvd_histograms, orb_idx, aperture_idx_list)"
   ]
  },
  {
   "cell_type": "markdown",
   "metadata": {},
   "source": [
    "In some apertures, this orbit hardly contributes at all. One of these orbits looks interesting - the one in aperture 20. Let's plot this one on its own,"
   ]
  },
  {
   "cell_type": "code",
   "execution_count": 10,
   "metadata": {},
   "outputs": [
    {
     "data": {
      "image/png": "[encoded data removed]",
      "text/plain": [
       "<Figure size 432x288 with 1 Axes>"
      ]
     },
     "metadata": {
      "needs_background": "light"
     },
     "output_type": "display_data"
    }
   ],
   "source": [
    "orb_idx, aperture_idx = 15, 20\n",
    "v_arr = model.orblib.losvd_histograms.x\n",
    "losvd = model.orblib.losvd_histograms.y[orb_idx, :, aperture_idx]\n",
    "\n",
    "plt.plot(v_arr, losvd)\n",
    "plt.gca().set_xlabel('v [km/s]')\n",
    "title = f'LOSVD of orbit {orb_idx} in aperture {aperture_idx}'\n",
    "_ = plt.gca().set_title(title)"
   ]
  },
  {
   "cell_type": "markdown",
   "metadata": {},
   "source": [
    "It's bimodal!\n",
    "\n",
    "In order to compare the orbits we have calculated to the observations, we must transform the kinematics of the orbit to the same type as the observations. As described above, the only type of observed kinematics that we currently support are Gauss Hermite kinematics. Let's see how Gauss Hermite kinematics do at reproducing the bimodal LOSVD above.\n",
    "\n",
    "The function to do the transoformation from orbits to observed kinematics is held in the kinematcs object itself, so lets extract this,"
   ]
  },
  {
   "cell_type": "code",
   "execution_count": 11,
   "metadata": {},
   "outputs": [],
   "source": [
    "kinematics = c.system.cmp_list[2].kinematic_data[0]"
   ]
  },
  {
   "cell_type": "markdown",
   "metadata": {},
   "source": [
    "and lets extract the observed $v$ and sigma in the aperture of interest,"
   ]
  },
  {
   "cell_type": "code",
   "execution_count": 12,
   "metadata": {},
   "outputs": [
    {
     "name": "stdout",
     "output_type": "stream",
     "text": [
      "In aperture 20:\n",
      "   v = -16.4615 km/s\n",
      "   sigma = 143.857 km/s\n"
     ]
    }
   ],
   "source": [
    "row_idx = np.where(kinematics.data['vbin_id']==aperture_idx)[0][0]\n",
    "v, sigma = kinematics.data[row_idx]['v', 'sigma']\n",
    "print(f'In aperture {aperture_idx}:')\n",
    "print(f'   v = {v} km/s')\n",
    "print(f'   sigma = {sigma} km/s')"
   ]
  },
  {
   "cell_type": "markdown",
   "metadata": {},
   "source": [
    "Now let's fit a Gauss Hermite distirbution to the orbit's LOSVD. When we solved for the orbital weights earlier, this was all done \"under-the-hood\". Now let's see it in action,"
   ]
  },
  {
   "cell_type": "code",
   "execution_count": 13,
   "metadata": {},
   "outputs": [
    {
     "name": "stdout",
     "output_type": "stream",
     "text": [
      "GH coefficient:\n",
      "   h_0 = 0.9589395643473766\n",
      "   h_1 = 0.17675160662762332\n",
      "   h_2 = 0.2035668065225786\n",
      "   h_3 = 0.022320870590947103\n",
      "   h_4 = -0.2648117749784247\n"
     ]
    }
   ],
   "source": [
    "velhist = dyn.kinematics.Histogram(\n",
    "    xedg=model.orblib.losvd_histograms.xedg,\n",
    "    y=losvd)\n",
    "\n",
    "gh_coefficients = kinematics.get_gh_expansion_coefficients(\n",
    "    v_mu=v,\n",
    "    v_sig=sigma,\n",
    "    vel_hist=velhist,\n",
    "    max_order=4)\n",
    "\n",
    "tmp = np.squeeze(gh_coefficients) # removes unused empty dimensions\n",
    "print('GH coefficient:')\n",
    "for i, hi in enumerate(tmp):\n",
    "    print(f'   h_{i} = {hi}')"
   ]
  },
  {
   "cell_type": "code",
   "execution_count": 14,
   "metadata": {},
   "outputs": [
    {
     "data": {
      "image/png": "[encoded data removed]",
      "text/plain": [
       "<Figure size 432x288 with 1 Axes>"
      ]
     },
     "metadata": {
      "needs_background": "light"
     },
     "output_type": "display_data"
    }
   ],
   "source": [
    "gh_losvd = kinematics.evaluate_losvd(velhist.x,\n",
    "                                     np.array([v]),\n",
    "                                     np.array([sigma]),\n",
    "                                     gh_coefficients)\n",
    "gh_losvd = np.squeeze(gh_losvd)\n",
    "\n",
    "# normalise the two LOSVDs so that we can plot them on the same axis\n",
    "losvd /= np.sum(losvd) \n",
    "gh_losvd /= np.sum(gh_losvd)\n",
    "\n",
    "# plot\n",
    "plt.plot(v_arr, losvd)\n",
    "plt.plot(v_arr, gh_losvd, label='GH(4) expansion')\n",
    "plt.gca().legend()\n",
    "plt.gca().set_xlabel('v [km/s]')\n",
    "title = f'LOSVD of orbit {orb_idx} in aperture {aperture_idx}'\n",
    "_ = plt.gca().set_title(title)"
   ]
  },
  {
   "cell_type": "markdown",
   "metadata": {},
   "source": [
    "The Gauss Hermite parameterisaion of the LOSVD does an OK job at reproducing the bimodality of the LOSVD, although the peaks are somewhat underpredicted. The cost of this, however, are significant, unphysical negative wings!\n",
    "\n",
    "This isn't good! The LOSVD should not become negative. The fact that is does could bias our modelling. This is one of our key motivations for wanting to replace Gauss Hermites with different parametresiations of the LOSVD."
   ]
  },
  {
   "cell_type": "markdown",
   "metadata": {},
   "source": [
    "## Looking at the oribtal weights\n",
    "\n",
    "Let's look at the best fitting orbital weights,"
   ]
  },
  {
   "cell_type": "code",
   "execution_count": 15,
   "metadata": {},
   "outputs": [
    {
     "name": "stdout",
     "output_type": "stream",
     "text": [
      "NNLS solution read from existing output\n"
     ]
    },
    {
     "data": {
      "text/html": [
       "<i>Table length=180</i>\n",
       "<table id=\"table5034654296\" class=\"table-striped table-bordered table-condensed\">\n",
       "<thead><tr><th>orb_idx</th><th>E_idx</th><th>I2_idx</th><th>I3_idx</th><th>orb_type</th><th>weight</th><th>lcut</th></tr></thead>\n",
       "<thead><tr><th>int64</th><th>int64</th><th>int64</th><th>int64</th><th>int64</th><th>float64</th><th>int64</th></tr></thead>\n",
       "<tr><td>1</td><td>1</td><td>1</td><td>1</td><td>3</td><td>0.000602178</td><td>-1</td></tr>\n",
       "<tr><td>2</td><td>1</td><td>-1</td><td>1</td><td>3</td><td>0.0</td><td>-1</td></tr>\n",
       "<tr><td>3</td><td>1</td><td>1</td><td>2</td><td>3</td><td>0.0</td><td>-1</td></tr>\n",
       "<tr><td>4</td><td>1</td><td>-1</td><td>2</td><td>3</td><td>0.0</td><td>-1</td></tr>\n",
       "<tr><td>5</td><td>1</td><td>1</td><td>3</td><td>3</td><td>0.0</td><td>-1</td></tr>\n",
       "<tr><td>6</td><td>1</td><td>-1</td><td>3</td><td>3</td><td>0.0</td><td>-1</td></tr>\n",
       "<tr><td>7</td><td>1</td><td>2</td><td>1</td><td>3</td><td>0.0</td><td>-1</td></tr>\n",
       "<tr><td>8</td><td>1</td><td>-2</td><td>1</td><td>3</td><td>0.0</td><td>-1</td></tr>\n",
       "<tr><td>9</td><td>1</td><td>2</td><td>2</td><td>3</td><td>0.0</td><td>-1</td></tr>\n",
       "<tr><td>10</td><td>1</td><td>-2</td><td>2</td><td>3</td><td>0.0</td><td>-1</td></tr>\n",
       "<tr><td>...</td><td>...</td><td>...</td><td>...</td><td>...</td><td>...</td><td>...</td></tr>\n",
       "<tr><td>171</td><td>-5</td><td>1</td><td>3</td><td>4</td><td>0.00745174</td><td>-1</td></tr>\n",
       "<tr><td>172</td><td>-5</td><td>2</td><td>1</td><td>4</td><td>0.0</td><td>-1</td></tr>\n",
       "<tr><td>173</td><td>-5</td><td>2</td><td>2</td><td>4</td><td>0.0</td><td>-1</td></tr>\n",
       "<tr><td>174</td><td>-5</td><td>2</td><td>3</td><td>4</td><td>0.0</td><td>-1</td></tr>\n",
       "<tr><td>175</td><td>-5</td><td>3</td><td>1</td><td>4</td><td>0.00574814</td><td>-1</td></tr>\n",
       "<tr><td>176</td><td>-5</td><td>3</td><td>2</td><td>4</td><td>0.0177199</td><td>-1</td></tr>\n",
       "<tr><td>177</td><td>-5</td><td>3</td><td>3</td><td>4</td><td>0.0489347</td><td>-1</td></tr>\n",
       "<tr><td>178</td><td>-5</td><td>4</td><td>1</td><td>4</td><td>0.0</td><td>-1</td></tr>\n",
       "<tr><td>179</td><td>-5</td><td>4</td><td>2</td><td>4</td><td>0.0</td><td>-1</td></tr>\n",
       "<tr><td>180</td><td>-5</td><td>4</td><td>3</td><td>4</td><td>0.0</td><td>-1</td></tr>\n",
       "</table>"
      ],
      "text/plain": [
       "<Table length=180>\n",
       "orb_idx E_idx I2_idx I3_idx orb_type    weight    lcut\n",
       " int64  int64 int64  int64   int64     float64   int64\n",
       "------- ----- ------ ------ -------- ----------- -----\n",
       "      1     1      1      1        3 0.000602178    -1\n",
       "      2     1     -1      1        3         0.0    -1\n",
       "      3     1      1      2        3         0.0    -1\n",
       "      4     1     -1      2        3         0.0    -1\n",
       "      5     1      1      3        3         0.0    -1\n",
       "      6     1     -1      3        3         0.0    -1\n",
       "      7     1      2      1        3         0.0    -1\n",
       "      8     1     -2      1        3         0.0    -1\n",
       "      9     1      2      2        3         0.0    -1\n",
       "     10     1     -2      2        3         0.0    -1\n",
       "    ...   ...    ...    ...      ...         ...   ...\n",
       "    171    -5      1      3        4  0.00745174    -1\n",
       "    172    -5      2      1        4         0.0    -1\n",
       "    173    -5      2      2        4         0.0    -1\n",
       "    174    -5      2      3        4         0.0    -1\n",
       "    175    -5      3      1        4  0.00574814    -1\n",
       "    176    -5      3      2        4   0.0177199    -1\n",
       "    177    -5      3      3        4   0.0489347    -1\n",
       "    178    -5      4      1        4         0.0    -1\n",
       "    179    -5      4      2        4         0.0    -1\n",
       "    180    -5      4      3        4         0.0    -1"
      ]
     },
     "execution_count": 15,
     "metadata": {},
     "output_type": "execute_result"
    }
   ],
   "source": [
    "model.get_weights()\n",
    "model.weight_solver.read_weights()\n",
    "model.weight_solver.weights"
   ]
  },
  {
   "cell_type": "markdown",
   "metadata": {},
   "source": [
    "There is a row for every orbit, a weight for every orbit.\n",
    "\n",
    "What does the LOSVD look like for this set of weights? Again, if we just stick to the same aperture we were looking at earlier, then \n",
    "\n",
    "For this set of weights (found buy the NNL optimization routine) let's look at the model LOSVD that we produce, again in the same aperture we were looking at above, and compare it to the observed LOSVD there"
   ]
  },
  {
   "cell_type": "code",
   "execution_count": 16,
   "metadata": {},
   "outputs": [
    {
     "data": {
      "text/plain": [
       "<matplotlib.legend.Legend at 0x12c26feb8>"
      ]
     },
     "execution_count": 16,
     "metadata": {},
     "output_type": "execute_result"
    },
    {
     "data": {
      "image/png": "[encoded data removed]",
      "text/plain": [
       "<Figure size 432x288 with 1 Axes>"
      ]
     },
     "metadata": {
      "needs_background": "light"
     },
     "output_type": "display_data"
    }
   ],
   "source": [
    "# extract the model LOSVD for the orbital weights above\n",
    "w = model.weight_solver.weights['weight']\n",
    "orbit_losvds = model.orblib.losvd_histograms.y\n",
    "\n",
    "model_losvd = np.dot(orbit_losvds.T, w).T\n",
    "model_losvd /= np.sum(model_losvd, 0)\n",
    "\n",
    "# extract the observed LOSVD\n",
    "v, sigma, h3, h4 = kinematics.data[aperture_idx]['v', 'sigma', 'h3', 'h4']\n",
    "h0, h1, h2 = 1., 0., 0.\n",
    "gh_coefficients = np.array([[[h0, h1, h2, h3, h4]]])\n",
    "\n",
    "gh_losvd_obs = kinematics.evaluate_losvd(velhist.x,\n",
    "                                     np.array([v]),\n",
    "                                     np.array([sigma]),\n",
    "                                     gh_coefficients)\n",
    "gh_losvd_obs = np.squeeze(gh_losvd_obs)\n",
    "gh_losvd_obs /= np.sum(gh_losvd_obs)\n",
    "gh_losvd_obs = np.squeeze(gh_losvd_obs)\n",
    "\n",
    "# plot them\n",
    "plt.plot(v_arr, np.squeeze(gh_losvd_obs), label='Observed')\n",
    "plt.plot(v_arr, model_losvd[:, aperture_idx], label='Model')\n",
    "plt.gca().legend()"
   ]
  },
  {
   "cell_type": "markdown",
   "metadata": {},
   "source": [
    "The width is good! But what about the sharp peak!? What's that!?\n",
    "\n",
    "The 'model' LOSVD we plotted above is the weighted sum of the histogrammed orbit LOSVDS. But, the comparisaon against observations was done with Gauss Hermite expansions, not histograms. Let look at what the model distributions with Gauss Hermites would look like,"
   ]
  },
  {
   "cell_type": "code",
   "execution_count": 17,
   "metadata": {},
   "outputs": [
    {
     "data": {
      "text/plain": [
       "<matplotlib.legend.Legend at 0x12c4054a8>"
      ]
     },
     "execution_count": 17,
     "metadata": {},
     "output_type": "execute_result"
    },
    {
     "data": {
      "image/png": "[encoded data removed]",
      "text/plain": [
       "<Figure size 432x288 with 1 Axes>"
      ]
     },
     "metadata": {
      "needs_background": "light"
     },
     "output_type": "display_data"
    }
   ],
   "source": [
    "tmp = model.orblib.losvd_histograms.y[:,:,aperture_idx]\n",
    "vel_hist = dyn.kinematics.Histogram(\n",
    "    xedg=model.orblib.losvd_histograms.xedg,\n",
    "    y=tmp,\n",
    "    normalise=False)\n",
    "\n",
    "gh_coefficients = kinematics.get_gh_expansion_coefficients(\n",
    "    v_mu=kinematics.data['v'][aperture_idx],\n",
    "    v_sig=kinematics.data['sigma'][aperture_idx],\n",
    "    vel_hist=vel_hist,\n",
    "    max_order=4)\n",
    "\n",
    "gh_orb_losvd = kinematics.evaluate_losvd(\n",
    "    velhist.x,\n",
    "    kinematics.data['v'][[aperture_idx]],\n",
    "    kinematics.data['sigma'][[aperture_idx]],\n",
    "    gh_coefficients)\n",
    "gh_orb_losvd = np.squeeze(gh_orb_losvd)\n",
    "gh_orb_losvd = np.dot(gh_orb_losvd.T, w).T\n",
    "gh_orb_losvd /= np.sum(gh_orb_losvd)\n",
    "\n",
    "# plot them\n",
    "plt.plot(v_arr, np.squeeze(gh_losvd_obs), label='Observed')\n",
    "plt.plot(v_arr, model_losvd[:, aperture_idx], label='Model')\n",
    "plt.plot(v_arr, gh_orb_losvd, label='Model - GH')\n",
    "plt.gca().legend()"
   ]
  },
  {
   "cell_type": "markdown",
   "metadata": {},
   "source": [
    "By construciton, the GH representation of the model is a better match to the observations. But the fact that the GH representation of the model is visibly different from the model constructed from histograms is again a sign that the GH expansion is not ideal."
   ]
  },
  {
   "cell_type": "code",
   "execution_count": null,
   "metadata": {},
   "outputs": [],
   "source": []
  }
 ],
 "metadata": {
  "kernelspec": {
   "display_name": "Python 3",
   "language": "python",
   "name": "python3"
  },
  "language_info": {
   "codemirror_mode": {
    "name": "ipython",
    "version": 3
   },
   "file_extension": ".py",
   "mimetype": "text/x-python",
   "name": "python",
   "nbconvert_exporter": "python",
   "pygments_lexer": "ipython3",
   "version": "3.7.3"
  }
 },
 "nbformat": 4,
 "nbformat_minor": 4
}
