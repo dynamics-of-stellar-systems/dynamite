{
 "cells": [
  {
   "cell_type": "markdown",
   "metadata": {},
   "source": [
    "# Exploring model output: orbits and weights"
   ]
  },
  {
   "cell_type": "markdown",
   "metadata": {},
   "source": [
    "In this notebook we will look at the output of a Schwarzschild model in more detail. We will access the orbit library and the orbital weights for the model that we ran previously.\n",
    "\n",
    "As a side note, in this tutorial we will also see the that our current description of the line-of-sight velocity distribution - i.e. the Gauss Hermite expansion - has some undesirable features. This is the motivation for one of our upcoming code developments: using better descriptions of the LOSVD.\n",
    "\n",
    "Let's re-create the model that we previously ran"
   ]
  },
  {
   "cell_type": "code",
   "execution_count": 1,
   "metadata": {},
   "outputs": [
    {
     "name": "stdout",
     "output_type": "stream",
     "text": [
      "No previous models have been found:\n",
      "Making an empty table in AllModels.table\n",
      "NNLS solution read from existing output\n"
     ]
    }
   ],
   "source": [
    "import dynamite as dyn\n",
    "\n",
    "fname = 'NGC6278_config.yaml'\n",
    "c = dyn.config_reader.Configuration(fname, silent=True)\n",
    "\n",
    "parset = c.parspace.get_parset()\n",
    "\n",
    "model = dyn.model.LegacySchwarzschildModel(\n",
    "    system=c.system,\n",
    "    settings=c.settings,\n",
    "    parspace=c.parspace,\n",
    "    executor=c.executor,\n",
    "    parset=parset)\n",
    "\n",
    "model.get_orblib()\n",
    "model.get_weights()"
   ]
  },
  {
   "cell_type": "markdown",
   "metadata": {},
   "source": [
    "Again, the configuration reader says that no previous models have been found. This is because, after the previous tutorial, we did not save a table summarising all of the models run so far.  Compared to the previous run, however, we do not get a message about the orbit library being computed, and we are told that the NNLS solution is being read from existing output. These outputs are saved in the model directory.\n",
    "\n",
    "To read the orbit library for this model, we can do the following,"
   ]
  },
  {
   "cell_type": "code",
   "execution_count": 2,
   "metadata": {},
   "outputs": [],
   "source": [
    "model.orblib.read_losvd_histograms()"
   ]
  },
  {
   "cell_type": "markdown",
   "metadata": {},
   "source": [
    "This creates the object``model.orblib.losvd_histograms`` with the following properties"
   ]
  },
  {
   "cell_type": "code",
   "execution_count": 3,
   "metadata": {},
   "outputs": [
    {
     "name": "stdout",
     "output_type": "stream",
     "text": [
      "Orbits are stores as a <class 'kinematics.Histogram'>\n"
     ]
    }
   ],
   "source": [
    "print(f'Orbits are stores as a {type(model.orblib.losvd_histograms)}')"
   ]
  },
  {
   "cell_type": "markdown",
   "metadata": {},
   "source": [
    "This object has two attributes, ``x``, and ``y``, which are the velocity array, and and array of LOSVDs of the orbit library respectively. These arrays have the following shapes,"
   ]
  },
  {
   "cell_type": "code",
   "execution_count": 4,
   "metadata": {},
   "outputs": [
    {
     "name": "stdout",
     "output_type": "stream",
     "text": [
      "velocity array has shape (205,)\n",
      "LOSVD has shape (180, 205, 152)\n"
     ]
    }
   ],
   "source": [
    "print(f'velocity array has shape {model.orblib.losvd_histograms.x.shape}')\n",
    "print(f'LOSVD has shape {model.orblib.losvd_histograms.y.shape}')"
   ]
  },
  {
   "cell_type": "markdown",
   "metadata": {},
   "source": [
    "Where do these numbers come from? They are set by values in the configuration file. The length of the velocity array is given by"
   ]
  },
  {
   "cell_type": "code",
   "execution_count": 5,
   "metadata": {},
   "outputs": [
    {
     "data": {
      "text/plain": [
       "'205'"
      ]
     },
     "execution_count": 5,
     "metadata": {},
     "output_type": "execute_result"
    }
   ],
   "source": [
    "c.settings.orblib_settings['hist_bins']"
   ]
  },
  {
   "cell_type": "markdown",
   "metadata": {},
   "source": [
    "This is also the size of the second dimension of the LOSVD. The size of the first dimension - 180 - is the number of orbits in our library. This comes from three values which we also specified by values in the configuration file, i.e."
   ]
  },
  {
   "cell_type": "code",
   "execution_count": 6,
   "metadata": {},
   "outputs": [
    {
     "name": "stdout",
     "output_type": "stream",
     "text": [
      "nE =  5\n",
      "nI2 =  4\n",
      "nI3 =  3\n",
      "ndithering =  1\n"
     ]
    }
   ],
   "source": [
    "tmp = c.settings.orblib_settings\n",
    "print('nE = ', tmp['nE'])\n",
    "print('nI2 = ', tmp['nI2'])\n",
    "print('nI3 = ', tmp['nI3'])\n",
    "print('ndithering = ', tmp['dithering'])"
   ]
  },
  {
   "cell_type": "markdown",
   "metadata": {},
   "source": [
    "E, I2 and I3 are orbital integrals of motion. A grid over these values is used to specify initial conditions for the orbit library. Dithering is a the number of additional orbits which are calculated to regularise the solution. "
   ]
  },
  {
   "cell_type": "code",
   "execution_count": 7,
   "metadata": {},
   "outputs": [
    {
     "name": "stdout",
     "output_type": "stream",
     "text": [
      "Total orbit library size = 180\n"
     ]
    }
   ],
   "source": [
    "n_orbit_bundles = tmp['nE'] * tmp['nI2'] * tmp['nI3']\n",
    "n_orbits_per_bundle = tmp['dithering']**3\n",
    "size_of_box_orblib = n_orbits_per_bundle * n_orbit_bundles\n",
    "# tube orbits can be reflected, so we have twice as many tube orbits as box orbits\n",
    "size_of_tube_orblib = 2 * n_orbit_bundles * n_orbits_per_bundle \n",
    "size_of_total_orblib = size_of_box_orblib + size_of_tube_orblib\n",
    "print('Total orbit library size =', size_of_total_orblib)"
   ]
  },
  {
   "cell_type": "markdown",
   "metadata": {},
   "source": [
    "The final dimension size of the LOSVD - 152 - is the number of spatial apertures. It should be equal to the number of spatial apertures for which we have provided kinematic data, i.e. the number of rows of the kinematic data file, i.e."
   ]
  },
  {
   "cell_type": "code",
   "execution_count": 8,
   "metadata": {},
   "outputs": [
    {
     "data": {
      "text/plain": [
       "152"
      ]
     },
     "execution_count": 8,
     "metadata": {},
     "output_type": "execute_result"
    }
   ],
   "source": [
    "len(c.system.cmp_list[2].kinematic_data[0].data)"
   ]
  },
  {
   "cell_type": "markdown",
   "metadata": {},
   "source": [
    "So - in summary - the LOSVD histogram has shape\n",
    "\n",
    "$$\n",
    "(n_\\mathrm{orbits}, n_\\mathrm{velocityBins}, n_\\mathrm{apertures})\n",
    "$$\n",
    "\n",
    "i.e. we have one LOSVD per orbit, per spatial aperture. Let's write simple plotting routine to look at some examples,"
   ]
  },
  {
   "cell_type": "code",
   "execution_count": 9,
   "metadata": {},
   "outputs": [],
   "source": [
    "import matplotlib.pyplot as plt\n",
    "import numpy as np\n",
    "\n",
    "def plot_losvds(losvd_histogram, orb_idx, aperture_idx_list):\n",
    "    v = losvd_histogram.x\n",
    "    losvd = losvd_histogram.y[orb_idx, :, :]\n",
    "    plt.plot(v, np.sum(losvd, 1), label='total')\n",
    "    for aperture_idx in aperture_idx_list:\n",
    "        plt.plot(v,\n",
    "                 losvd[:, aperture_idx],\n",
    "                 '--',\n",
    "                 label=f'aperture {aperture_idx}')\n",
    "    plt.gca().set_title(f'LOSVD of orbit {orb_idx}')\n",
    "    plt.gca().set_xlabel('v [km/s]')\n",
    "    plt.gca().set_yscale('log')\n",
    "    plt.gca().legend()\n",
    "    plt.tight_layout()\n",
    "    return"
   ]
  },
  {
   "cell_type": "code",
   "execution_count": 10,
   "metadata": {},
   "outputs": [
    {
     "data": {
      "image/png": "[encoded data removed]",
      "text/plain": [
       "<Figure size 432x288 with 1 Axes>"
      ]
     },
     "metadata": {
      "needs_background": "light"
     },
     "output_type": "display_data"
    }
   ],
   "source": [
    "orb_idx = 15\n",
    "aperture_idx_list = [0, 2, 20, 30]\n",
    "plot_losvds(model.orblib.losvd_histograms, orb_idx, aperture_idx_list)"
   ]
  },
  {
   "cell_type": "markdown",
   "metadata": {},
   "source": [
    "In some apertures, this orbit hardly contributes at all. One of these orbits looks interesting - the one in aperture 20. Let's plot this one on its own,"
   ]
  },
  {
   "cell_type": "markdown",
   "metadata": {},
   "source": [
    "**Exercise**: plot the LOSVD of orbit 19 in apertures 0, 7, 9\n",
    "\n",
    "**Exercise**: which orbit has the narrowest LOSVD in aperture 0? Which orbit has the broadest LOSVD?"
   ]
  },
  {
   "cell_type": "markdown",
   "metadata": {},
   "source": [
    "One of the LOSVDs that we plotted above (orbit 15 in aperture 20) looks interesting. Let's focus in on it,"
   ]
  },
  {
   "cell_type": "code",
   "execution_count": 11,
   "metadata": {},
   "outputs": [
    {
     "data": {
      "image/png": "[encoded data removed]",
      "text/plain": [
       "<Figure size 432x288 with 1 Axes>"
      ]
     },
     "metadata": {
      "needs_background": "light"
     },
     "output_type": "display_data"
    }
   ],
   "source": [
    "orb_idx, aperture_idx = 15, 20\n",
    "v_arr = model.orblib.losvd_histograms.x\n",
    "losvd = model.orblib.losvd_histograms.y[orb_idx, :, aperture_idx]\n",
    "\n",
    "plt.plot(v_arr, losvd)\n",
    "plt.gca().set_xlabel('v [km/s]')\n",
    "title = f'LOSVD of orbit {orb_idx} in aperture {aperture_idx}'\n",
    "_ = plt.gca().set_title(title)"
   ]
  },
  {
   "cell_type": "markdown",
   "metadata": {},
   "source": [
    "It's bimodal!\n",
    "\n",
    "**Exercise**: can you find any other bimodal LOSVDs in the orbit library?\n",
    "\n",
    "In order to compare the orbits we have calculated to the observations, we must transform the kinematics of the orbit LOSVDs into their Gauss Hermite representations. Let's see how well Gauss Hermite expansion can do at reproducing the bimodal LOSVD above. The function to do the transoformation from orbits to observed kinematics is held in the kinematcs object itself, so lets extract this,"
   ]
  },
  {
   "cell_type": "code",
   "execution_count": 12,
   "metadata": {},
   "outputs": [],
   "source": [
    "kinematics = c.system.cmp_list[2].kinematic_data[0]"
   ]
  },
  {
   "cell_type": "markdown",
   "metadata": {},
   "source": [
    "and lets extract the observed $v$ and sigma in the aperture of interest,"
   ]
  },
  {
   "cell_type": "code",
   "execution_count": 13,
   "metadata": {},
   "outputs": [
    {
     "name": "stdout",
     "output_type": "stream",
     "text": [
      "In aperture 20:\n",
      "   v = -16.4615 km/s\n",
      "   sigma = 143.857 km/s\n"
     ]
    }
   ],
   "source": [
    "# extacting observed v, sigma in a given aperture\n",
    "\n",
    "# get the row of the table kinematics.dat which corrsponds to the aperture of interest\n",
    "row_idx = np.where(kinematics.data['vbin_id']==aperture_idx)[0][0]\n",
    "# extract v and sigma from that for of the table\n",
    "v, sigma = kinematics.data[row_idx]['v', 'sigma']\n",
    "# print result\n",
    "print(f'In aperture {aperture_idx}:')\n",
    "print(f'   v = {v} km/s')\n",
    "print(f'   sigma = {sigma} km/s')"
   ]
  },
  {
   "cell_type": "markdown",
   "metadata": {},
   "source": [
    "Now let's fit a Gauss Hermite distirbution to the orbit's LOSVD. When we solved for the orbital weights earlier, this was all done \"under-the-hood\". Now we can see it in action,"
   ]
  },
  {
   "cell_type": "code",
   "execution_count": 14,
   "metadata": {},
   "outputs": [
    {
     "name": "stdout",
     "output_type": "stream",
     "text": [
      "GH coefficient:\n",
      "   h_0 = 0.9684921692633193\n",
      "   h_1 = 0.1767338625275409\n",
      "   h_2 = 0.18854478566252747\n",
      "   h_3 = 0.01681739392079517\n",
      "   h_4 = -0.2700899195515563\n"
     ]
    }
   ],
   "source": [
    "# create a histogram object of the losvd we are interested in\n",
    "velhist = dyn.kinematics.Histogram(\n",
    "    xedg=model.orblib.losvd_histograms.xedg,\n",
    "    y=losvd)\n",
    "\n",
    "# git a gauss hermite expansion to this LOSVD\n",
    "gh_coefficients = kinematics.get_gh_expansion_coefficients(\n",
    "    v_mu=v,\n",
    "    v_sig=sigma,\n",
    "    vel_hist=velhist,\n",
    "    max_order=4)\n",
    "\n",
    "# remove unused empty dimension\n",
    "tmp = np.squeeze(gh_coefficients)\n",
    "\n",
    "# print best-fit gauss hermite coefficients\n",
    "print('GH coefficient:')\n",
    "for i, hi in enumerate(tmp):\n",
    "    print(f'   h_{i} = {hi}')"
   ]
  },
  {
   "cell_type": "markdown",
   "metadata": {},
   "source": [
    "Now let's look at the LOSVD given by these Gauss Hermite coefficients,"
   ]
  },
  {
   "cell_type": "code",
   "execution_count": 15,
   "metadata": {},
   "outputs": [
    {
     "data": {
      "image/png": "[encoded data removed]",
      "text/plain": [
       "<Figure size 432x288 with 1 Axes>"
      ]
     },
     "metadata": {
      "needs_background": "light"
     },
     "output_type": "display_data"
    }
   ],
   "source": [
    "# evaluate the losvd\n",
    "gh_losvd = kinematics.evaluate_losvd(velhist.x,\n",
    "                                     np.array([v]),\n",
    "                                     np.array([sigma]),\n",
    "                                     gh_coefficients)\n",
    "# remove unused empty dimension\n",
    "gh_losvd = np.squeeze(gh_losvd)\n",
    "\n",
    "# normalise the two LOSVDs so that we can plot them on the same axis\n",
    "losvd /= np.sum(losvd) \n",
    "gh_losvd /= np.sum(gh_losvd)\n",
    "\n",
    "# plot the LOSVDs\n",
    "plt.plot(v_arr, losvd)\n",
    "plt.plot(v_arr, gh_losvd, label='GH(4) expansion')\n",
    "plt.gca().legend()\n",
    "plt.gca().set_xlabel('v [km/s]')\n",
    "title = f'LOSVD of orbit {orb_idx} in aperture {aperture_idx}'\n",
    "_ = plt.gca().set_title(title)"
   ]
  },
  {
   "cell_type": "markdown",
   "metadata": {},
   "source": [
    "The Gauss Hermite parameterisaion of the LOSVD does an OK job at reproducing the bimodality of the LOSVD, although the peaks are somewhat underpredicted. The wings of the profile are significantly negative however. This isn't good! Negative LOSVDs are unphysical. The fact that Gauss Hermite expansions become negative could bias our modelling. This is one of our key motivations for wanting to replace Gauss Hermites with different parametresiations of the LOSVD."
   ]
  },
  {
   "cell_type": "markdown",
   "metadata": {},
   "source": [
    "**Exercise**: fit higher order GH expansions to the above LOSVD. How high do you need to go to improve the match and eliminate negative wings?\n",
    "\n",
    "**Exercise**: fit a GH expansion to the LOSVD of orbit 14 in aperture 19. Compare this to the histogrammed LOSVD in a plot."
   ]
  },
  {
   "cell_type": "markdown",
   "metadata": {},
   "source": [
    "## Looking at the oribtal weights\n",
    "\n",
    "Now let's look at the best fitting orbital weights,"
   ]
  },
  {
   "cell_type": "code",
   "execution_count": 16,
   "metadata": {},
   "outputs": [
    {
     "data": {
      "text/html": [
       "<i>Table length=180</i>\n",
       "<table id=\"table4541048760\" class=\"table-striped table-bordered table-condensed\">\n",
       "<thead><tr><th>orb_idx</th><th>E_idx</th><th>I2_idx</th><th>I3_idx</th><th>orb_type</th><th>weight</th><th>lcut</th></tr></thead>\n",
       "<thead><tr><th>int64</th><th>int64</th><th>int64</th><th>int64</th><th>int64</th><th>float64</th><th>int64</th></tr></thead>\n",
       "<tr><td>1</td><td>1</td><td>1</td><td>1</td><td>3</td><td>0.000519707</td><td>-1</td></tr>\n",
       "<tr><td>2</td><td>1</td><td>-1</td><td>1</td><td>3</td><td>0.0</td><td>-1</td></tr>\n",
       "<tr><td>3</td><td>1</td><td>1</td><td>2</td><td>3</td><td>0.0</td><td>-1</td></tr>\n",
       "<tr><td>4</td><td>1</td><td>-1</td><td>2</td><td>3</td><td>0.0</td><td>-1</td></tr>\n",
       "<tr><td>5</td><td>1</td><td>1</td><td>3</td><td>3</td><td>0.0</td><td>-1</td></tr>\n",
       "<tr><td>6</td><td>1</td><td>-1</td><td>3</td><td>3</td><td>0.0</td><td>-1</td></tr>\n",
       "<tr><td>7</td><td>1</td><td>2</td><td>1</td><td>3</td><td>0.0</td><td>-1</td></tr>\n",
       "<tr><td>8</td><td>1</td><td>-2</td><td>1</td><td>3</td><td>0.0</td><td>-1</td></tr>\n",
       "<tr><td>9</td><td>1</td><td>2</td><td>2</td><td>3</td><td>0.0</td><td>-1</td></tr>\n",
       "<tr><td>10</td><td>1</td><td>-2</td><td>2</td><td>3</td><td>0.0</td><td>-1</td></tr>\n",
       "<tr><td>...</td><td>...</td><td>...</td><td>...</td><td>...</td><td>...</td><td>...</td></tr>\n",
       "<tr><td>171</td><td>-5</td><td>1</td><td>3</td><td>4</td><td>0.00744693</td><td>-1</td></tr>\n",
       "<tr><td>172</td><td>-5</td><td>2</td><td>1</td><td>4</td><td>0.0</td><td>-1</td></tr>\n",
       "<tr><td>173</td><td>-5</td><td>2</td><td>2</td><td>4</td><td>0.0</td><td>-1</td></tr>\n",
       "<tr><td>174</td><td>-5</td><td>2</td><td>3</td><td>4</td><td>0.0</td><td>-1</td></tr>\n",
       "<tr><td>175</td><td>-5</td><td>3</td><td>1</td><td>4</td><td>0.00589259</td><td>-1</td></tr>\n",
       "<tr><td>176</td><td>-5</td><td>3</td><td>2</td><td>4</td><td>0.0163772</td><td>-1</td></tr>\n",
       "<tr><td>177</td><td>-5</td><td>3</td><td>3</td><td>4</td><td>0.0481435</td><td>-1</td></tr>\n",
       "<tr><td>178</td><td>-5</td><td>4</td><td>1</td><td>4</td><td>0.0</td><td>-1</td></tr>\n",
       "<tr><td>179</td><td>-5</td><td>4</td><td>2</td><td>4</td><td>0.0</td><td>-1</td></tr>\n",
       "<tr><td>180</td><td>-5</td><td>4</td><td>3</td><td>4</td><td>0.0</td><td>-1</td></tr>\n",
       "</table>"
      ],
      "text/plain": [
       "<Table length=180>\n",
       "orb_idx E_idx I2_idx I3_idx orb_type    weight    lcut\n",
       " int64  int64 int64  int64   int64     float64   int64\n",
       "------- ----- ------ ------ -------- ----------- -----\n",
       "      1     1      1      1        3 0.000519707    -1\n",
       "      2     1     -1      1        3         0.0    -1\n",
       "      3     1      1      2        3         0.0    -1\n",
       "      4     1     -1      2        3         0.0    -1\n",
       "      5     1      1      3        3         0.0    -1\n",
       "      6     1     -1      3        3         0.0    -1\n",
       "      7     1      2      1        3         0.0    -1\n",
       "      8     1     -2      1        3         0.0    -1\n",
       "      9     1      2      2        3         0.0    -1\n",
       "     10     1     -2      2        3         0.0    -1\n",
       "    ...   ...    ...    ...      ...         ...   ...\n",
       "    171    -5      1      3        4  0.00744693    -1\n",
       "    172    -5      2      1        4         0.0    -1\n",
       "    173    -5      2      2        4         0.0    -1\n",
       "    174    -5      2      3        4         0.0    -1\n",
       "    175    -5      3      1        4  0.00589259    -1\n",
       "    176    -5      3      2        4   0.0163772    -1\n",
       "    177    -5      3      3        4   0.0481435    -1\n",
       "    178    -5      4      1        4         0.0    -1\n",
       "    179    -5      4      2        4         0.0    -1\n",
       "    180    -5      4      3        4         0.0    -1"
      ]
     },
     "execution_count": 16,
     "metadata": {},
     "output_type": "execute_result"
    }
   ],
   "source": [
    "model.weight_solver.read_weights()\n",
    "model.weight_solver.weights"
   ]
  },
  {
   "cell_type": "markdown",
   "metadata": {},
   "source": [
    "There is a row for every orbit, a weight for every orbit. To extarct the weights column of this table, we can do the following,"
   ]
  },
  {
   "cell_type": "code",
   "execution_count": 17,
   "metadata": {},
   "outputs": [
    {
     "data": {
      "text/html": [
       "&lt;Column name=&apos;weight&apos; dtype=&apos;float64&apos; length=180&gt;\n",
       "<table>\n",
       "<tr><td>0.000519707</td></tr>\n",
       "<tr><td>0.0</td></tr>\n",
       "<tr><td>0.0</td></tr>\n",
       "<tr><td>0.0</td></tr>\n",
       "<tr><td>0.0</td></tr>\n",
       "<tr><td>0.0</td></tr>\n",
       "<tr><td>0.0</td></tr>\n",
       "<tr><td>0.0</td></tr>\n",
       "<tr><td>0.0</td></tr>\n",
       "<tr><td>0.0</td></tr>\n",
       "<tr><td>0.025183</td></tr>\n",
       "<tr><td>0.0</td></tr>\n",
       "<tr><td>...</td></tr>\n",
       "<tr><td>7.25449e-05</td></tr>\n",
       "<tr><td>0.0</td></tr>\n",
       "<tr><td>0.00744693</td></tr>\n",
       "<tr><td>0.0</td></tr>\n",
       "<tr><td>0.0</td></tr>\n",
       "<tr><td>0.0</td></tr>\n",
       "<tr><td>0.00589259</td></tr>\n",
       "<tr><td>0.0163772</td></tr>\n",
       "<tr><td>0.0481435</td></tr>\n",
       "<tr><td>0.0</td></tr>\n",
       "<tr><td>0.0</td></tr>\n",
       "<tr><td>0.0</td></tr>\n",
       "</table>"
      ],
      "text/plain": [
       "<Column name='weight' dtype='float64' length=180>\n",
       "0.000519707\n",
       "        0.0\n",
       "        0.0\n",
       "        0.0\n",
       "        0.0\n",
       "        0.0\n",
       "        0.0\n",
       "        0.0\n",
       "        0.0\n",
       "        0.0\n",
       "   0.025183\n",
       "        0.0\n",
       "        ...\n",
       "7.25449e-05\n",
       "        0.0\n",
       " 0.00744693\n",
       "        0.0\n",
       "        0.0\n",
       "        0.0\n",
       " 0.00589259\n",
       "  0.0163772\n",
       "  0.0481435\n",
       "        0.0\n",
       "        0.0\n",
       "        0.0"
      ]
     },
     "execution_count": 17,
     "metadata": {},
     "output_type": "execute_result"
    }
   ],
   "source": [
    "model.weight_solver.weights['weight']"
   ]
  },
  {
   "cell_type": "markdown",
   "metadata": {},
   "source": [
    "What does the LOSVD look like for this set of weights? To produce this, we need to weight the orbit library LOSVDs by the orbital weights. We can do "
   ]
  },
  {
   "cell_type": "code",
   "execution_count": 18,
   "metadata": {},
   "outputs": [
    {
     "name": "stdout",
     "output_type": "stream",
     "text": [
      "model_losvd has shape =  (205, 152)\n"
     ]
    }
   ],
   "source": [
    "# extract the orbital weights\n",
    "w = model.weight_solver.weights['weight']\n",
    "\n",
    "# extract the model LOSVD\n",
    "orbit_losvds = model.orblib.losvd_histograms.y\n",
    "\n",
    "# dot product of\n",
    "model_losvd = np.dot(orbit_losvds.T, w).T\n",
    "\n",
    "# normalise the model losvds so that later we can plot them on the same y-axis as the previous plots\n",
    "model_losvd /= np.sum(model_losvd, 0)\n",
    "\n",
    "print('model_losvd has shape = ', model_losvd.shape)"
   ]
  },
  {
   "cell_type": "markdown",
   "metadata": {},
   "source": [
    "This array is the model LOSVD. The first dimension corresponds to the velocity array, the second is the number of spatial apertures.\n",
    "\n",
    "**Exercise**: plot the model LOSVD in apertures 0, 20 and 50."
   ]
  },
  {
   "cell_type": "markdown",
   "metadata": {},
   "source": [
    "Let's compare the model LOSVD to to observed Gauss Hermite LOSVD in aperture 20,"
   ]
  },
  {
   "cell_type": "code",
   "execution_count": 19,
   "metadata": {},
   "outputs": [
    {
     "data": {
      "text/plain": [
       "<matplotlib.legend.Legend at 0x130f015f8>"
      ]
     },
     "execution_count": 19,
     "metadata": {},
     "output_type": "execute_result"
    },
    {
     "data": {
      "image/png": "[encoded data removed]",
      "text/plain": [
       "<Figure size 432x288 with 1 Axes>"
      ]
     },
     "metadata": {
      "needs_background": "light"
     },
     "output_type": "display_data"
    }
   ],
   "source": [
    "aperture_idx = 20\n",
    "\n",
    "# extract v, sigma and GH corefficients of the observed LOSVD in out aperture\n",
    "v, sigma, h3, h4 = kinematics.data[aperture_idx]['v', 'sigma', 'h3', 'h4']\n",
    "# set h0, h1 and h2 to their defaults\n",
    "h0, h1, h2 = 1., 0., 0.\n",
    "# combine all gh coefficients to one array\n",
    "gh_coefficients = np.array([[[h0, h1, h2, h3, h4]]])\n",
    "\n",
    "# evaluate the LOSVD of this \n",
    "gh_losvd_obs = kinematics.evaluate_losvd(velhist.x,\n",
    "                                     np.array([v]),\n",
    "                                     np.array([sigma]),\n",
    "                                     gh_coefficients)\n",
    "# remove un-used dimensions\n",
    "gh_losvd_obs = np.squeeze(gh_losvd_obs)\n",
    "# normalise\n",
    "gh_losvd_obs /= np.sum(gh_losvd_obs)\n",
    "\n",
    "# plot the \n",
    "plt.plot(v_arr, np.squeeze(gh_losvd_obs), label='Observed LOSVD')\n",
    "plt.plot(v_arr, model_losvd[:, aperture_idx], label='Model')\n",
    "plt.gca().legend()"
   ]
  },
  {
   "cell_type": "markdown",
   "metadata": {},
   "source": [
    "The model and observed LOSVD have similar widths. But the sharp, spiky peak in the model LOSVDs is not seen in the obseved LOSVD.\n",
    "\n",
    "The model LOSVD we just plotted is generated directly from the histogrammed LOSVDs of the orbits. We could instead look at the model LOSVD coming from the Gauss Hermite representation of the orbit library."
   ]
  },
  {
   "cell_type": "code",
   "execution_count": 20,
   "metadata": {},
   "outputs": [
    {
     "data": {
      "text/plain": [
       "<matplotlib.legend.Legend at 0x12b8b08d0>"
      ]
     },
     "execution_count": 20,
     "metadata": {},
     "output_type": "execute_result"
    },
    {
     "data": {
      "image/png": "[encoded data removed]",
      "text/plain": [
       "<Figure size 432x288 with 1 Axes>"
      ]
     },
     "metadata": {
      "needs_background": "light"
     },
     "output_type": "display_data"
    }
   ],
   "source": [
    "aperture_idx = 20\n",
    "\n",
    "# extract the losvd of all orbits in the aperture of index\n",
    "tmp = model.orblib.losvd_histograms.y[:,:,aperture_idx]\n",
    "\n",
    "# store them in a histogram object\n",
    "vel_hist = dyn.kinematics.Histogram(\n",
    "    xedg=model.orblib.losvd_histograms.xedg,\n",
    "    y=tmp,\n",
    "    normalise=False)\n",
    "\n",
    "# get the GH expansion coefficients for all of these orbits\n",
    "gh_coefficients = kinematics.get_gh_expansion_coefficients(\n",
    "    v_mu=kinematics.data['v'][aperture_idx],\n",
    "    v_sig=kinematics.data['sigma'][aperture_idx],\n",
    "    vel_hist=vel_hist,\n",
    "    max_order=4)\n",
    "\n",
    "# evaluate the losvd given these GH coefficients\n",
    "gh_model_losvd = kinematics.evaluate_losvd(\n",
    "    velhist.x,\n",
    "    kinematics.data['v'][[aperture_idx]],\n",
    "    kinematics.data['sigma'][[aperture_idx]],\n",
    "    gh_coefficients)\n",
    "\n",
    "# remove un-used dimensions\n",
    "gh_model_losvd = np.squeeze(gh_model_losvd)\n",
    "\n",
    "# weight the GH LOSVDs by the orbital weights\n",
    "gh_model_losvd = np.dot(gh_model_losvd.T, w).T\n",
    "\n",
    "# normalise\n",
    "gh_model_losvd /= np.sum(gh_model_losvd)\n",
    "\n",
    "# plot them\n",
    "plt.plot(v_arr, np.squeeze(gh_losvd_obs), label='Observed')\n",
    "plt.plot(v_arr, model_losvd[:, aperture_idx], label='Model - histogram')\n",
    "plt.plot(v_arr, gh_model_losvd, label='Model - GH')\n",
    "plt.gca().legend()"
   ]
  },
  {
   "cell_type": "markdown",
   "metadata": {},
   "source": [
    "The GH representation of the model is a better match to the observations, both in the wings and the body of the distribution. The Gauss Hermite expansion at order 4 has not, however, been able to reproduce the very sharp peak in the histogrammed version of the model LOSVD."
   ]
  }
 ],
 "metadata": {
  "kernelspec": {
   "display_name": "Python 3",
   "language": "python",
   "name": "python3"
  },
  "language_info": {
   "codemirror_mode": {
    "name": "ipython",
    "version": 3
   },
   "file_extension": ".py",
   "mimetype": "text/x-python",
   "name": "python",
   "nbconvert_exporter": "python",
   "pygments_lexer": "ipython3",
   "version": "3.6.11"
  }
 },
 "nbformat": 4,
 "nbformat_minor": 4
}
