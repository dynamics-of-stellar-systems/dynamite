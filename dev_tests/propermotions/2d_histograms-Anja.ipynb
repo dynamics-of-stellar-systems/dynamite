{
 "cells": [
  {
   "cell_type": "code",
   "execution_count": null,
   "id": "9f606cf2-aa6d-45ec-b29c-d73d55703263",
   "metadata": {},
   "outputs": [],
   "source": [
    "import os\n",
    "import numpy as np\n",
    "import shutil\n",
    "import matplotlib\n",
    "import matplotlib.pyplot as plt\n",
    "from astropy import table\n",
    "from astropy.io import ascii\n",
    "import cmasher as cmr\n",
    "import dynamite as dyn\n",
    "from plotbin import display_pixels"
   ]
  },
  {
   "cell_type": "code",
   "execution_count": null,
   "id": "3ae19a3d-a474-410c-9fdf-cae34e591d00",
   "metadata": {},
   "outputs": [],
   "source": [
    "# # Get an estimate for the weights from losvd optimization (config files MUST have the same parspace)\n",
    "# fname = 'F2_config11.yaml'\n",
    "# c = dyn.config_reader.Configuration(fname,\n",
    "#                                     reset_logging=True,\n",
    "#                                     user_logfile='test_nnls',\n",
    "#                                     reset_existing_output=True)\n",
    "# _ = dyn.model_iterator.ModelIterator(config=c)\n",
    "# best_model_idx = c.all_models.get_best_n_models_idx(n=1)[0]\n",
    "# model = c.all_models.get_model_from_row(best_model_idx)\n",
    "# parset = model.parset\n",
    "# table.Table(model.parset).write('parset.ecsv', format='ascii.ecsv', overwrite=True)\n",
    "# print(f'{parset=}')\n",
    "# orblib = model.get_orblib()\n",
    "# _ = model.get_weights(orblib)\n",
    "# weights = model.weights\n",
    "# print(f'{weights.shape=}')\n",
    "# orblib.read_vel_histograms()\n",
    "# print(f'{len(orblib.vel_histograms)=}\\t{len(orblib.intrinsic_masses)=}\\t{len(orblib.projected_masses)=}\\t{orblib.n_orbs=}')\n",
    "# shutil.copyfile(model.directory + 'orbit_weights.ecsv', 'weights.ecsv')"
   ]
  },
  {
   "cell_type": "code",
   "execution_count": null,
   "id": "c9c472bb-6975-456e-b666-63ad20c7fa32",
   "metadata": {},
   "outputs": [],
   "source": [
    "# Read proper motion data\n",
    "fname = 'F2_config11_with_pm.yaml'\n",
    "c = dyn.config_reader.Configuration(fname,\n",
    "                                    reset_logging=True,\n",
    "                                    user_logfile='test_nnls',\n",
    "                                    reset_existing_output=False)\n",
    "stars = c.system.get_unique_triaxial_visible_component()\n",
    "# print(f'stars.kinematic_data[0]:\\n{stars.kinematic_data[0]}\\n\\nstars.kinematic_data[1]:\\n{stars.kinematic_data[1]}')\n",
    "_ = dyn.model_iterator.ModelIterator(config=c)"
   ]
  },
  {
   "cell_type": "code",
   "execution_count": null,
   "id": "70bec395-8ba3-4962-bba5-58fb3aa9d6e3",
   "metadata": {},
   "outputs": [],
   "source": [
    "p = dyn.plotter.Plotter(c)"
   ]
  },
  {
   "cell_type": "code",
   "execution_count": null,
   "id": "72e37434-529b-419a-9f06-57f012064c33",
   "metadata": {},
   "outputs": [],
   "source": [
    "f = stars.kinematic_data[1].data\n",
    "print(sorted(f.files))\n",
    "print(f\"{f['PM_2dhist'].shape=}, {f['PM_2dhist_sigma'].shape=}\")\n",
    "print(f\"{f['PSF_sigma']=}, {f['PSF_sigma'].shape=}, {f['PSF_weight']=}, {f['PSF_weight'].shape=}\")\n",
    "print(f\"{f['binID_dynamite'].shape=}\")\n",
    "print(f\"{f['nstarbin'].shape=}\")\n",
    "print(f\"{f['vxrange']=}, {f['vxrange'].shape=}, {f['vyrange']=}, {f['vyrange'].shape=}\")\n",
    "print(f\"{f['xbin'].shape=}, {f['ybin'].shape=}\")\n",
    "# sanity check: dv <= sigma_global/4, boundaries at least 5*sigma_global\n",
    "dict(f)"
   ]
  },
  {
   "cell_type": "code",
   "execution_count": null,
   "id": "eba78d86-55e9-4052-b6a9-ef124d9563e8",
   "metadata": {},
   "outputs": [],
   "source": [
    "vx_mean = stars.kinematic_data[1].as_histogram2d().get_mean()[0][0]  # first index: vx/vy, second index: orb_idx\n",
    "vy_mean = stars.kinematic_data[1].as_histogram2d().get_mean()[1][0]  # first index: vx/vy, second index: orb_idx\n",
    "x, y = stars.kinematic_data[1].data['xbin'], stars.kinematic_data[1].data['ybin']\n",
    "u, v = vx_mean, vy_mean\n",
    "plt.quiver(x, y, u, v, color='g')\n",
    "plt.axis('equal')\n",
    "print(f'{stars.kinematic_data[1].as_histogram2d().get_mean()[0].shape=}')"
   ]
  },
  {
   "cell_type": "code",
   "execution_count": null,
   "id": "4acac840-42aa-4066-ad52-924de04d4578",
   "metadata": {},
   "outputs": [],
   "source": [
    "h2d = stars.kinematic_data[1].as_histogram2d()\n",
    "for sp_bin_idx in(11, 48, 75):\n",
    "    print(f'{sp_bin_idx=}')\n",
    "    _ = p.hist2d_plot(h2d, orb_idx=0, sp_bin_idx=sp_bin_idx, show_1d=True, empty_bins=True)\n",
    "h2d_global = dyn.kinematics.Histogram2D(xedg=h2d.xedg,\n",
    "                                        y=np.sum(h2d.y, axis=3)[:,:,:,np.newaxis],\n",
    "                                        normalise=False)\n",
    "_ = p.hist2d_plot(h2d_global, orb_idx=0, sp_bin_idx=0, show_1d=True, empty_bins=True)"
   ]
  },
  {
   "cell_type": "code",
   "execution_count": null,
   "id": "e8993648-6547-4066-a96e-11f78eb5b6aa",
   "metadata": {},
   "outputs": [],
   "source": [
    "sorted(stars.kinematic_data[1].data.files)"
   ]
  },
  {
   "cell_type": "code",
   "execution_count": null,
   "id": "2e334e93-eba2-44c2-b2ef-73b51a18f391",
   "metadata": {},
   "outputs": [],
   "source": [
    "os.chdir('/Users/maindl/Documents/DriveM/drtim/ClientsNonGAMS/DYNAMITE/dynamite/dev_tests/propermotions')\n",
    "os.getcwd()"
   ]
  },
  {
   "cell_type": "code",
   "execution_count": null,
   "id": "925006b7-f831-4f6f-8af4-9156939b775f",
   "metadata": {},
   "outputs": [],
   "source": [
    "parset = ascii.read('parset.ecsv')[0]\n",
    "orb_weights = ascii.read('weights.ecsv')['weights']\n",
    "print(f'{parset=}')\n",
    "model = dyn.model.Model(config=c, parset=parset)\n",
    "model.setup_directories()\n",
    "orblib = model.get_orblib()\n",
    "print(f'{orblib.parset=}')\n",
    "orblib.read_vel_histograms()\n",
    "print(f'{len(orblib.vel_histograms)=}\\t{len(orblib.intrinsic_masses)=}\\t{len(orblib.projected_masses)=}\\t{orblib.n_orbs=}')"
   ]
  },
  {
   "cell_type": "code",
   "execution_count": null,
   "id": "f90279cb-fc18-4854-8b2c-d461a8ebce9b",
   "metadata": {},
   "outputs": [],
   "source": [
    "for h in orblib.vel_histograms:\n",
    "    print(f'{h}: {h.y.shape=}\\n')\n",
    "    mean = h.get_mean()\n",
    "    sigma = h.get_sigma()\n",
    "    if type(h.xedg)==tuple:\n",
    "        print(f'{[x.shape for x in h.xedg]=}, {[x.shape for x in h.x]=}')\n",
    "        print(f'{[x.shape for x in mean]=}\\n{[x.shape for x in sigma]=}')\n",
    "    else:\n",
    "        print(f'{h.xedg.shape=}, {h.x.shape=}')\n",
    "        print(f'{mean.shape=}\\n{sigma.shape=}')"
   ]
  },
  {
   "cell_type": "code",
   "execution_count": null,
   "id": "72f56713-a924-4c1c-8882-ff33c9b78437",
   "metadata": {
    "scrolled": true
   },
   "outputs": [],
   "source": [
    "# plot pm histograms for all spatial bins\n",
    "hist2d = orblib.vel_histograms[1]\n",
    "n_orbits = hist2d.y.shape[0]\n",
    "n_bins = hist2d.y.shape[-1]\n",
    "\n",
    "vx_range = [hist2d.x[0].min(), hist2d.x[0].max()]\n",
    "vy_range = [hist2d.x[1].min(), hist2d.x[1].max()]\n",
    "ratio = (vy_range[1]-vy_range[0]) / (vx_range[1]-vx_range[0])\n",
    "print(f'{vx_range=}, {vy_range=}')\n",
    "\n",
    "fig = plt.figure(figsize=(20, 20 * (n_bins // 4 // 4 + 2) * ratio))\n",
    "for bin_idx in range(0, n_bins, 1):  ##################################\n",
    "#    data = np.einsum('ijkl,i', hist2d.y, orb_weights)[:,:,bin_idx]\n",
    "    data = np.dot(hist2d.y.T, orb_weights).T[:,:,bin_idx]\n",
    "    ax = plt.subplot(n_bins // 4 + (1 if n_bins % 4 > 0 else 0), 4, bin_idx + 1)\n",
    "    im = ax.imshow(data, aspect='equal', interpolation='bilinear', #cmap=cm.RdYlGn,\n",
    "                   origin='lower', extent=vx_range + vy_range,\n",
    "                   vmax=data.max(), vmin=0)\n",
    "    fig.colorbar(im, ax=ax, shrink=1)\n",
    "    ax.set_title(f'Bin {bin_idx}')\n",
    "\n",
    "plt.show()"
   ]
  },
  {
   "cell_type": "code",
   "execution_count": null,
   "id": "d14ec495-52db-4438-bd24-7f81afa99886",
   "metadata": {},
   "outputs": [],
   "source": [
    "# plot pm histograms for specific bin\n",
    "hist2d = orblib.vel_histograms[1]\n",
    "n_orbits = hist2d.y.shape[0]\n",
    "\n",
    "bin_idx = 31\n",
    "\n",
    "hist2d = orblib.vel_histograms[1]\n",
    "vx_range = [hist2d.x[0].min(), hist2d.x[0].max()]\n",
    "vy_range = [hist2d.x[1].min(), hist2d.x[1].max()]\n",
    "ratio = (vy_range[1]-vy_range[0]) / (vx_range[1]-vx_range[0])\n",
    "print(f'{vx_range=}, {vy_range=}')\n",
    "\n",
    "fig = plt.figure(figsize=(20, 20 * (n_orbits // 4 // 4 + 2) * ratio))\n",
    "for orb_idx in range(0, n_orbits, 1):  ##################################\n",
    "    data = hist2d.y[orb_idx,:,:,bin_idx]\n",
    "    ax = plt.subplot(n_orbits // 4 + (1 if n_orbits % 4 > 0 else 0), 4, orb_idx + 1)\n",
    "    im = ax.imshow(data, aspect='equal', interpolation='bilinear', #cmap=cm.RdYlGn,\n",
    "                   origin='lower', extent=vx_range + vy_range,\n",
    "                   vmax=data.max(), vmin=0)\n",
    "    fig.colorbar(im, ax=ax)\n",
    "    ax.set_title(f'Bin {bin_idx}, orbit {orb_idx}')\n",
    "\n",
    "plt.show()"
   ]
  },
  {
   "cell_type": "code",
   "execution_count": null,
   "id": "c3bdca5c-0fcf-4fbc-9d8e-11fd5c568be9",
   "metadata": {},
   "outputs": [],
   "source": [
    "# plot the losvd and pm histograms' mean values\n",
    "# mostly from plotter.py\n",
    "orb_skip = 50\n",
    "for i, orb_idx in enumerate(range(0, orblib.n_orbs, orb_skip)):\n",
    "\n",
    "    def create_plot(dp_args, data):\n",
    "        # get aperture and bin data\n",
    "        x = dp_args['x']\n",
    "        y = dp_args['y']\n",
    "        dx = dp_args['dx']\n",
    "        grid = dp_args['idx_bin_to_pix']\n",
    "        angle_deg = dp_args['angle']\n",
    "        # Only select the pixels that have a bin associated with them.\n",
    "        s = np.ravel(np.where((grid >= 0)))\n",
    "    \n",
    "        #fhist, _ = np.histogram(grid[s], bins=len(data))\n",
    "        #data = data / fhist\n",
    "        # plot settings\n",
    "        #data_min = min(data[grid[s]] / max(data))\n",
    "        #data_max = max(data[grid[s]] / max(data))\n",
    "        # The galaxy has NOT already rotated with PA to align major axis with x\n",
    "        map1 = cmr.get_sub_cmap('twilight_shifted', 0.05, 0.6)\n",
    "        kw_display_pixels1 = dict(pixelsize=dx,\n",
    "                                  angle=angle_deg,\n",
    "                                  colorbar=True,\n",
    "                                  nticks=7,\n",
    "                                  # cmap='sauron')\n",
    "                                  cmap=map1)\n",
    "        # PLOT THE DATA\n",
    "        #plt.figure()\n",
    "        #c_c = data[grid[s]] / max(data)\n",
    "        c_c = data[grid[s]]\n",
    "        display_pixels.display_pixels(x, y, c_c,\n",
    "                                      vmin=min(data[grid[s]]), vmax=max(data[grid[s]]),\n",
    "                                      label='velocity',\n",
    "                                      **kw_display_pixels1)\n",
    "        #plt.gca().set_title(title)\n",
    "        #plt.show()\n",
    "\n",
    "    fig = plt.figure(figsize=(20, 30))\n",
    "\n",
    "    n_rows, n_cols = orblib.n_orbs // orb_skip + 1, 3\n",
    "\n",
    "    ax = plt.subplot(n_rows, n_cols, n_cols * i + 1)\n",
    "    if len(orblib.vel_histograms) > 1:  # assuming that 1d histograms are first, if existing\n",
    "        ax.set_title(f'Orbit {orb_idx}, losvd')\n",
    "        mean = orblib.vel_histograms[0].get_mean()[orb_idx]\n",
    "        create_plot(stars.kinematic_data[0].dp_args, mean)\n",
    "\n",
    "    idx = 1 if len(orblib.vel_histograms) > 1 else 0  # assuming that 1d histograms are first, if existing\n",
    "\n",
    "    ax = plt.subplot(n_rows, n_cols, n_cols * i + 2)\n",
    "    ax.set_title(f'Orbit {orb_idx}, pm x')\n",
    "    mean = orblib.vel_histograms[idx].get_mean()[0][orb_idx]\n",
    "    create_plot(stars.kinematic_data[idx].dp_args, mean)\n",
    "\n",
    "    ax = plt.subplot(n_rows, n_cols, n_cols * i + 3)\n",
    "    ax.set_title(f'Orbit {orb_idx}, pm y')\n",
    "    mean = orblib.vel_histograms[idx].get_mean()[1][orb_idx]\n",
    "    create_plot(stars.kinematic_data[idx].dp_args, mean)"
   ]
  },
  {
   "cell_type": "code",
   "execution_count": null,
   "id": "8f6dc3c3-19c2-41d9-877e-8ef169613d43",
   "metadata": {},
   "outputs": [],
   "source": [
    "orb_idx = 336\n",
    "sp_bin_idx = 71\n",
    "_ = p.hist2d_plot(hist2d, orb_idx=orb_idx, sp_bin_idx=sp_bin_idx, show_1d=True, empty_bins=False)"
   ]
  },
  {
   "cell_type": "code",
   "execution_count": null,
   "id": "a8886d29-0db3-4b48-9cb0-cddd7c1ae858",
   "metadata": {},
   "outputs": [],
   "source": [
    "import datetime\n",
    "datetime.datetime.now()"
   ]
  },
  {
   "cell_type": "code",
   "execution_count": null,
   "id": "78a47b13-6401-471c-b57e-8dbd5169b7c0",
   "metadata": {},
   "outputs": [],
   "source": []
  }
 ],
 "metadata": {
  "kernelspec": {
   "display_name": "Python 3 (ipykernel)",
   "language": "python",
   "name": "python3"
  },
  "language_info": {
   "codemirror_mode": {
    "name": "ipython",
    "version": 3
   },
   "file_extension": ".py",
   "mimetype": "text/x-python",
   "name": "python",
   "nbconvert_exporter": "python",
   "pygments_lexer": "ipython3",
   "version": "3.11.10"
  }
 },
 "nbformat": 4,
 "nbformat_minor": 5
}
