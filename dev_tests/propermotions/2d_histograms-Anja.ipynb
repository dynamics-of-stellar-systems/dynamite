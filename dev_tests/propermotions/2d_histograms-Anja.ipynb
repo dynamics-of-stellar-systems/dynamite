{
 "cells": [
  {
   "cell_type": "code",
   "execution_count": null,
   "id": "9f606cf2-aa6d-45ec-b29c-d73d55703263",
   "metadata": {},
   "outputs": [],
   "source": [
    "import os\n",
    "import numpy as np\n",
    "import shutil\n",
    "import matplotlib\n",
    "import matplotlib.pyplot as plt\n",
    "from astropy import table\n",
    "from astropy.io import ascii\n",
    "import cmasher as cmr\n",
    "import dynamite as dyn\n",
    "from plotbin import display_pixels"
   ]
  },
  {
   "cell_type": "code",
   "execution_count": null,
   "id": "c9c472bb-6975-456e-b666-63ad20c7fa32",
   "metadata": {},
   "outputs": [],
   "source": [
    "# Get the DYNAMITE models\n",
    "fname = 'F2_config11_with_pm.yaml'\n",
    "c = dyn.config_reader.Configuration(fname,\n",
    "                                    reset_logging=True,\n",
    "                                    user_logfile='test_nnls',\n",
    "                                    reset_existing_output=False)\n",
    "stars = c.system.get_unique_triaxial_visible_component()\n",
    "# print(f'stars.kinematic_data[0]:\\n{stars.kinematic_data[0]}\\n\\nstars.kinematic_data[1]:\\n{stars.kinematic_data[1]}')\n",
    "_ = dyn.model_iterator.ModelIterator(config=c)"
   ]
  },
  {
   "cell_type": "code",
   "execution_count": null,
   "id": "70bec395-8ba3-4962-bba5-58fb3aa9d6e3",
   "metadata": {},
   "outputs": [],
   "source": [
    "p = dyn.plotter.Plotter(c)"
   ]
  },
  {
   "cell_type": "code",
   "execution_count": null,
   "id": "72e37434-529b-419a-9f06-57f012064c33",
   "metadata": {},
   "outputs": [],
   "source": [
    "# Structure of proper motion input data\n",
    "for i, k in enumerate(stars.kinematic_data):\n",
    "    if isinstance(k, dyn.kinematics.ProperMotions):\n",
    "        i_pm = i\n",
    "        pm_data = k.data\n",
    "        pm_input = k\n",
    "        break\n",
    "print('Shapes of proper motion input data:')\n",
    "for k in sorted(pm_data):\n",
    "    print(f\"{k}: {pm_data[k].shape}\")\n",
    "print(f\"{pm_data['vxrange'] = }, {pm_data['vyrange'] = }\")\n",
    "h2d = pm_input.as_histogram2d()\n",
    "print(f\"{pm_input.hist_width = }, {pm_input.hist_bins = }\")\n",
    "print(f\"{len(h2d.xedg[0]) = }, 2dhist vx-range: {h2d.xedg[0][0]}, {h2d.xedg[0][-1]}\")\n",
    "print(f\"{len(h2d.x[0]) = }, {h2d.x[0][0] = }, {h2d.x[0][-1] = }\")\n",
    "print(f\"h2d dv: {h2d.dx[0][0]}, {h2d.dx[0][-1]}\")"
   ]
  },
  {
   "cell_type": "code",
   "execution_count": null,
   "id": "08c1779c-5db7-4ad0-ac09-6a0313bd212e",
   "metadata": {},
   "outputs": [],
   "source": [
    "# Strange: nstarbin > sum of all PM_2dhist entries\n",
    "for i in range(0, pm_data['PM_2dhist'].shape[0], 10):  # don't print everything...\n",
    "    print(f\"Spatial bin {i}:\\t{pm_data['nstarbin'][i]=},\\t{np.sum(pm_data['PM_2dhist'][i])=}\")"
   ]
  },
  {
   "cell_type": "code",
   "execution_count": null,
   "id": "827d2952-ed4b-48d2-a5cb-a37ea88c29dc",
   "metadata": {},
   "outputs": [],
   "source": [
    "# Plot the input data\n",
    "h2d = pm_input.as_histogram2d()\n",
    "# First, a few individual spatial bins...\n",
    "for sp_bin_idx in(11, 48, 75):\n",
    "    print(f'{sp_bin_idx=}')\n",
    "    _ = p.hist2d_plot(h2d, orb_idx=0, sp_bin_idx=sp_bin_idx, show_1d=True, empty_bins=True)\n",
    "# Now the global 2d histogram...\n",
    "h2d_global = dyn.kinematics.Histogram2D(xedg=h2d.xedg,\n",
    "                                        y=np.sum(h2d.y, axis=3)[:,:,:,np.newaxis],\n",
    "                                        normalise=False)\n",
    "_ = p.hist2d_plot(h2d_global, orb_idx=0, sp_bin_idx=0, show_1d=True, empty_bins=True)"
   ]
  },
  {
   "cell_type": "code",
   "execution_count": null,
   "id": "99e13bf8-d0a5-4fdb-8daa-003ff2f96c5d",
   "metadata": {},
   "outputs": [],
   "source": [
    "# Experimental: quiver plot -> problem in get_mean or plotting...?\n",
    "v_mean = pm_input.as_histogram2d().get_mean()\n",
    "x, y = pm_data['xbin'], pm_data['ybin']\n",
    "u, v = v_mean[0][0], v_mean[1][0]  # first index: vx/vy, second index: orb_idx\n",
    "plt.quiver(x, y, u, v, color='g')\n",
    "plt.axis('equal')"
   ]
  },
  {
   "cell_type": "code",
   "execution_count": null,
   "id": "503ba5e4-0fb9-49fe-997f-c3f893ac8a25",
   "metadata": {},
   "outputs": [],
   "source": [
    "# Get best model\n",
    "best_model_idx = c.all_models.get_best_n_models_idx(n=1)[0]\n",
    "model = c.all_models.get_model_from_row(best_model_idx)\n",
    "orblib = model.get_orblib()\n",
    "print(f'{orblib.parset=}')\n",
    "_ = model.get_weights(orblib)\n",
    "orb_weights = model.weights\n",
    "hist2d_orblib = orblib.vel_histograms[i_pm]\n",
    "# print(f'{hist2d_orblib.y.shape = }')"
   ]
  },
  {
   "cell_type": "code",
   "execution_count": null,
   "id": "72f56713-a924-4c1c-8882-ff33c9b78437",
   "metadata": {
    "scrolled": true
   },
   "outputs": [],
   "source": [
    "# plot pm histograms for all spatial bins\n",
    "n_bins = hist2d_orblib.y.shape[-1]\n",
    "\n",
    "vx_range = [hist2d_orblib.x[0].min(), hist2d_orblib.x[0].max()]\n",
    "vy_range = [hist2d_orblib.x[1].min(), hist2d_orblib.x[1].max()]\n",
    "ratio = (vy_range[1]-vy_range[0]) / (vx_range[1]-vx_range[0])\n",
    "print('Ranges are different from input data due to velocity scaling:')\n",
    "print(f'{vx_range=}, {vy_range=}')\n",
    "print(f\"vx-range from xedg: {hist2d_orblib.xedg[0][0]}, {hist2d_orblib.xedg[0][-1]}\")\n",
    "print(f\"vy-range from xedg: {hist2d_orblib.xedg[1][0]}, {hist2d_orblib.xedg[1][-1]}\")\n",
    "\n",
    "# data = np.einsum('ijkl,i', hist2d.y, orb_weights)[:,:,bin_idx]\n",
    "data = np.dot(hist2d_orblib.y.T, orb_weights).T  # specific orbit: hist2d.y[orb_idx,:,:,bin_idx]\n",
    "\n",
    "fig = plt.figure(figsize=(20, 20 * (n_bins // 4 // 4 + 2) * ratio))\n",
    "for bin_idx in range(0, n_bins, 1):  ##################################\n",
    "    ax = plt.subplot(n_bins // 4 + (1 if n_bins % 4 > 0 else 0), 4, bin_idx + 1)\n",
    "    # im = ax.imshow(data, aspect='equal', interpolation='bilinear', #cmap=cm.RdYlGn,\n",
    "    im = ax.imshow(data[:,:,bin_idx], aspect='equal', interpolation='none', #cmap=cm.RdYlGn,\n",
    "                   origin='lower', extent=vx_range + vy_range,\n",
    "                   vmax=data.max(), vmin=0)\n",
    "    fig.colorbar(im, ax=ax, shrink=1)\n",
    "    ax.set_title(f'Bin {bin_idx}')\n",
    "plt.show()"
   ]
  },
  {
   "cell_type": "code",
   "execution_count": null,
   "id": "d14ec495-52db-4438-bd24-7f81afa99886",
   "metadata": {},
   "outputs": [],
   "source": [
    "# plot pm histograms for specific bin\n",
    "hist2d = orblib.vel_histograms[1]\n",
    "n_orbits = hist2d.y.shape[0]\n",
    "\n",
    "bin_idx = 31\n",
    "\n",
    "hist2d = orblib.vel_histograms[1]\n",
    "vx_range = [hist2d.x[0].min(), hist2d.x[0].max()]\n",
    "vy_range = [hist2d.x[1].min(), hist2d.x[1].max()]\n",
    "ratio = (vy_range[1]-vy_range[0]) / (vx_range[1]-vx_range[0])\n",
    "print(f'{vx_range=}, {vy_range=}')\n",
    "\n",
    "fig = plt.figure(figsize=(20, 20 * (n_orbits // 4 // 4 + 2) * ratio))\n",
    "for orb_idx in range(0, n_orbits, 1):  ##################################\n",
    "    data = hist2d.y[orb_idx,:,:,bin_idx]\n",
    "    ax = plt.subplot(n_orbits // 4 + (1 if n_orbits % 4 > 0 else 0), 4, orb_idx + 1)\n",
    "    im = ax.imshow(data, aspect='equal', interpolation='none', #cmap=cm.RdYlGn,\n",
    "                   origin='lower', extent=vx_range + vy_range,\n",
    "                   vmax=data.max(), vmin=0)\n",
    "    fig.colorbar(im, ax=ax)\n",
    "    ax.set_title(f'Bin {bin_idx}, orbit {orb_idx}')\n",
    "\n",
    "plt.show()"
   ]
  },
  {
   "cell_type": "code",
   "execution_count": null,
   "id": "c3bdca5c-0fcf-4fbc-9d8e-11fd5c568be9",
   "metadata": {},
   "outputs": [],
   "source": [
    "# plot the losvd and pm histograms' mean values\n",
    "# mostly from plotter.py\n",
    "orb_skip = 50\n",
    "for i, orb_idx in enumerate(range(0, orblib.n_orbs, orb_skip)):\n",
    "\n",
    "    def create_plot(dp_args, data):\n",
    "        # get aperture and bin data\n",
    "        x = dp_args['x']\n",
    "        y = dp_args['y']\n",
    "        dx = dp_args['dx']\n",
    "        grid = dp_args['idx_bin_to_pix']\n",
    "        angle_deg = dp_args['angle']\n",
    "        # Only select the pixels that have a bin associated with them.\n",
    "        s = np.ravel(np.where((grid >= 0)))\n",
    "    \n",
    "        #fhist, _ = np.histogram(grid[s], bins=len(data))\n",
    "        #data = data / fhist\n",
    "        # plot settings\n",
    "        #data_min = min(data[grid[s]] / max(data))\n",
    "        #data_max = max(data[grid[s]] / max(data))\n",
    "        # The galaxy has NOT already rotated with PA to align major axis with x\n",
    "        map1 = cmr.get_sub_cmap('twilight_shifted', 0.05, 0.6)\n",
    "        kw_display_pixels1 = dict(pixelsize=dx,\n",
    "                                  angle=angle_deg,\n",
    "                                  colorbar=True,\n",
    "                                  nticks=7,\n",
    "                                  # cmap='sauron')\n",
    "                                  cmap=map1)\n",
    "        # PLOT THE DATA\n",
    "        #plt.figure()\n",
    "        #c_c = data[grid[s]] / max(data)\n",
    "        c_c = data[grid[s]]\n",
    "        display_pixels.display_pixels(x, y, c_c,\n",
    "                                      vmin=min(data[grid[s]]), vmax=max(data[grid[s]]),\n",
    "                                      label='velocity',\n",
    "                                      **kw_display_pixels1)\n",
    "        #plt.gca().set_title(title)\n",
    "        #plt.show()\n",
    "\n",
    "    fig = plt.figure(figsize=(20, 30))\n",
    "\n",
    "    n_rows, n_cols = orblib.n_orbs // orb_skip + 1, 3\n",
    "\n",
    "    ax = plt.subplot(n_rows, n_cols, n_cols * i + 1)\n",
    "    if len(orblib.vel_histograms) > 1:  # assuming that 1d histograms are first, if existing\n",
    "        ax.set_title(f'Orbit {orb_idx}, losvd')\n",
    "        mean = orblib.vel_histograms[0].get_mean()[orb_idx]\n",
    "        create_plot(stars.kinematic_data[0].dp_args, mean)\n",
    "\n",
    "    idx = 1 if len(orblib.vel_histograms) > 1 else 0  # assuming that 1d histograms are first, if existing\n",
    "\n",
    "    ax = plt.subplot(n_rows, n_cols, n_cols * i + 2)\n",
    "    ax.set_title(f'Orbit {orb_idx}, pm x')\n",
    "    mean = orblib.vel_histograms[idx].get_mean()[0][orb_idx]\n",
    "    create_plot(stars.kinematic_data[idx].dp_args, mean)\n",
    "\n",
    "    ax = plt.subplot(n_rows, n_cols, n_cols * i + 3)\n",
    "    ax.set_title(f'Orbit {orb_idx}, pm y')\n",
    "    mean = orblib.vel_histograms[idx].get_mean()[1][orb_idx]\n",
    "    create_plot(stars.kinematic_data[idx].dp_args, mean)"
   ]
  },
  {
   "cell_type": "code",
   "execution_count": null,
   "id": "8f6dc3c3-19c2-41d9-877e-8ef169613d43",
   "metadata": {},
   "outputs": [],
   "source": [
    "# Orblib pm vs input pm for specific sp_bin_idx\n",
    "sp_bin_idx_list = [25, 48, 70]\n",
    "\n",
    "data = np.dot(hist2d_orblib.y.T, orb_weights).T\n",
    "print(f'{data.shape = }')\n",
    "print(f'{np.max(hist2d_orblib.y)=}')\n",
    "for sp_bin_idx in sp_bin_idx_list:\n",
    "    print(f'{sp_bin_idx = }')\n",
    "    hist_2d = dyn.kinematics.Histogram2D(xedg=hist2d_orblib.xedg,\n",
    "                                         y=data[np.newaxis,:,:,:],\n",
    "                                         normalise=False)\n",
    "    _ = p.hist2d_plot(hist_2d, orb_idx=0, sp_bin_idx=sp_bin_idx, show_1d=True, empty_bins=True)\n",
    "    _ = p.hist2d_plot(pm_input.as_histogram2d(), orb_idx=0, sp_bin_idx=sp_bin_idx, show_1d=True, empty_bins=True)"
   ]
  },
  {
   "cell_type": "code",
   "execution_count": null,
   "id": "a8886d29-0db3-4b48-9cb0-cddd7c1ae858",
   "metadata": {},
   "outputs": [],
   "source": [
    "import datetime\n",
    "datetime.datetime.now()"
   ]
  },
  {
   "cell_type": "code",
   "execution_count": null,
   "id": "78a47b13-6401-471c-b57e-8dbd5169b7c0",
   "metadata": {},
   "outputs": [],
   "source": [
    "import numpy as np"
   ]
  },
  {
   "cell_type": "code",
   "execution_count": null,
   "id": "97736429-d868-464a-b759-38a1044f63ec",
   "metadata": {},
   "outputs": [],
   "source": [
    "f=np.load('Francisco/rot_mod_d5kpc_i00deg/kinematics_hist2d.npz')"
   ]
  },
  {
   "cell_type": "code",
   "execution_count": null,
   "id": "48881b93-d32d-4ca5-a99c-1dbcba48c025",
   "metadata": {},
   "outputs": [],
   "source": [
    "f['PSF_weight']"
   ]
  },
  {
   "cell_type": "code",
   "execution_count": null,
   "id": "9b210134-32b9-4014-9aca-db039716cbb4",
   "metadata": {},
   "outputs": [],
   "source": [
    "a=np.load('dynamite_input/PM_kinfile_dv100.npz')\n",
    "a['PSF_sigma'], a['PSF_weight']"
   ]
  },
  {
   "cell_type": "code",
   "execution_count": null,
   "id": "33320db8-94c7-4e13-8d63-577cc2f6588a",
   "metadata": {},
   "outputs": [],
   "source": []
  }
 ],
 "metadata": {
  "kernelspec": {
   "display_name": "Python 3 (ipykernel)",
   "language": "python",
   "name": "python3"
  },
  "language_info": {
   "codemirror_mode": {
    "name": "ipython",
    "version": 3
   },
   "file_extension": ".py",
   "mimetype": "text/x-python",
   "name": "python",
   "nbconvert_exporter": "python",
   "pygments_lexer": "ipython3",
   "version": "3.11.10"
  }
 },
 "nbformat": 4,
 "nbformat_minor": 5
}
