{
 "cells": [
  {
   "cell_type": "markdown",
   "id": "dfe0fd3a-8c35-4763-af55-cbbcd3793ea8",
   "metadata": {},
   "source": [
    "# Coloring"
   ]
  },
  {
   "cell_type": "markdown",
   "id": "f463a057-9e09-4597-9d11-b2147d466642",
   "metadata": {},
   "source": [
    "## Prerequisites\n",
    "Import the required modules and run a few models with a small orbit library."
   ]
  },
  {
   "cell_type": "code",
   "execution_count": null,
   "id": "91267ba7-8793-4910-996a-10bd5442be3f",
   "metadata": {},
   "outputs": [],
   "source": [
    "import numpy as np\n",
    "from scipy.interpolate import griddata\n",
    "import matplotlib.pyplot as plt\n",
    "import cmasher\n",
    "\n",
    "from vorbin.voronoi_2d_binning import voronoi_2d_binning\n",
    "\n",
    "import dynamite as dyn"
   ]
  },
  {
   "cell_type": "code",
   "execution_count": null,
   "id": "80c78a71-b1a7-4ae8-a488-67b64ea5b4a2",
   "metadata": {},
   "outputs": [],
   "source": [
    "print('DYNAMITE version', dyn.__version__)\n",
    "print('    installed at ', dyn.__path__)  # Uncomment to print the complete DYNAMITE installation path\n",
    "\n",
    "fname = 'FCC167/FCC167.yaml'\n",
    "c = dyn.config_reader.Configuration(fname, reset_logging=True)\n",
    "# c = dyn.config_reader.Configuration(fname, reset_logging=True, reset_existing_output=True)\n",
    "# _ = dyn.model_iterator.ModelIterator(c)"
   ]
  },
  {
   "cell_type": "markdown",
   "id": "0f6e05ba-cb0c-4b06-92d6-cc881a242794",
   "metadata": {},
   "source": [
    "## Voronoi orbit binning\n",
    "Before binning the orbits, let's have a look at the $r$ - $\\lambda_z$ phase space."
   ]
  },
  {
   "cell_type": "code",
   "execution_count": null,
   "id": "01952fa0-4fd1-4b3a-939d-6b756539e381",
   "metadata": {},
   "outputs": [],
   "source": [
    "# Number of desired r and lambda_z bins\n",
    "nr = 6\n",
    "nl = 7"
   ]
  },
  {
   "cell_type": "code",
   "execution_count": null,
   "id": "8a88b30f-5a8a-4f5b-8ff8-c870c1168d8f",
   "metadata": {},
   "outputs": [],
   "source": [
    "plotter = dyn.plotter.Plotter(c)"
   ]
  },
  {
   "cell_type": "code",
   "execution_count": null,
   "id": "3c4c9901-818c-4a52-83a3-fdf9f40734cf",
   "metadata": {},
   "outputs": [],
   "source": [
    "# NOTE: when using force_lambda_z=True, then the titles of the orbit-distribution plots are incorrect: all orbits are shown in this distribution - not only short-axis tubes!\n",
    "fig1 = plotter.orbit_distribution(model=None, minr=None, maxr=None, r_scale='log', nr=nr, nl=nl,\n",
    "                                  orientation='vertical', subset='short', force_lambda_z=True)\n",
    "fig2 = plotter.orbit_distribution(model=None, minr=None, maxr=None, r_scale='linear', nr=nr, nl=nl,\n",
    "                                  orientation='vertical', subset='short', force_lambda_z=True)"
   ]
  },
  {
   "cell_type": "markdown",
   "id": "6ea2315e-944c-41bc-afa4-616b017e1f42",
   "metadata": {},
   "source": [
    "Perform Voronoi binning of orbits in the radius-circularity phase space, based on the best-fitting model so far. The goal is to group the original\n",
    "``n_orbits`` orbit bundles into fewer ``n_bundle`` Voronoi bundles with each of these Voronoi bundles accounting for\n",
    "a weight of at least ``vor_weight``.\n",
    "\n",
    "Note that each original orbit bundle is just one orbit if ``dithering=1``, but an actual bundle if ``dithering > 1``.\n",
    "\n",
    "The result is a tuple ``(vor_bundle_mapping, phase_space_binning)``:\n",
    "```\n",
    "vor_bundle_mapping :    np.array of shape (n_bundle, n_orbits)\n",
    "                        Mapping between the \"original\" orbit bundles and the Voronoi\n",
    "                        orbit bundles: vor_bundle_mapping(i_bundle, i_orbit) is the\n",
    "                        fraction of i_orbit assigned to i_bundle, multiplied by i_orbit's weight.\n",
    "phase_space_binning :   dict\n",
    "                        'in':   np.array of shape (3, nr*nl), the binning input:\n",
    "                                bin r, bin lambda_z, bin total weight\n",
    "                        'out':  np.array of shape (3, n_bundle), the Voronoi binning output:\n",
    "                                weighted Voronoi bin centroid coordinates r_bar, lambda_bar\n",
    "                                and Voronoi bin total weights\n",
    "                        'map':  np.array of shape (nr*nl,) the phase space mapping:\n",
    "                                Voronoi bin numbers for each input bin\n",
    "```"
   ]
  },
  {
   "cell_type": "code",
   "execution_count": null,
   "id": "1c87996d-d461-4f61-b6bc-3c646ace389a",
   "metadata": {},
   "outputs": [],
   "source": [
    "coloring = dyn.coloring.Coloring(c)  # the phase space binning resides in the Coloring class (might move to Analysis)\n",
    "vor_weight = 0.05  # define the desired (minimum) total orbital weight in each Voronoi bin\n",
    "vor_bundle_mapping, phase_space_binning = coloring.bin_phase_space(model=None,\n",
    "                                                                   minr='auto',\n",
    "                                                                   maxr='auto',\n",
    "                                                                   r_scale='linear',\n",
    "                                                                   nr=nr,\n",
    "                                                                   nl=nl,\n",
    "                                                                   vor_weight=vor_weight,\n",
    "                                                                   vor_ignore_zeros=False,\n",
    "                                                                   make_diagnostic_plots=True,\n",
    "                                                                   extra_diagnostic_output=True,\n",
    "                                                                   cvt=False,\n",
    "                                                                   wvt=False)"
   ]
  },
  {
   "cell_type": "markdown",
   "id": "0b00fee4-0749-48c4-aeb3-4189869aa534",
   "metadata": {},
   "source": [
    "Let's see how much weight each orbit contributes to each orbit bundle. If ``dithering=1``, then each orbit will contribute its weight to exactly one Voronoi bundle. If ``dithering > 1``, then each orbit actually represents a bundle by itself and can hence contribute to multiple (neighboring) Voronoi orbit bundles."
   ]
  },
  {
   "cell_type": "code",
   "execution_count": null,
   "id": "ac6e86d1-f552-49d9-acc3-602600c5bcdd",
   "metadata": {},
   "outputs": [],
   "source": [
    "# If dithering > 1, orbit bundles may contribute to multiple Voronoi orbit bundles\n",
    "plt.figure(figsize=(24,4))\n",
    "plt.gca().set_title('Weight that each orbit bundle contributes to Voronoi orbit bundles')\n",
    "plt.pcolormesh(np.log10(vor_bundle_mapping), shading='flat', cmap='Greys')\n",
    "plt.xlabel('Orbit bundle id')\n",
    "plt.ylabel('Voronoi orbit bundle id')\n",
    "plt.colorbar(label='log Weight')"
   ]
  },
  {
   "cell_type": "markdown",
   "id": "8cba5c1b-a2e1-4183-959d-f098d280f46f",
   "metadata": {},
   "source": [
    "Generate maps for each Voronoi orbit bundle. These are mass maps for mass-weighted and flux maps for light-weighted models and plot the mass/light contributed by the individual Voronoi orbital bundles at each aperture."
   ]
  },
  {
   "cell_type": "code",
   "execution_count": null,
   "id": "c153d06c-29c2-4e74-a590-d762a8a4b34e",
   "metadata": {},
   "outputs": [],
   "source": [
    "a = dyn.analysis.Analysis(c)  # orbit bundle maps are residing in the Analysis class"
   ]
  },
  {
   "cell_type": "code",
   "execution_count": null,
   "id": "ceae6d1e-cae1-4132-828f-243e9db0f6e6",
   "metadata": {},
   "outputs": [],
   "source": [
    "bundle_maps = a.get_flux_for_orbit_bundles(pop_set=0, bundle_mapping=vor_bundle_mapping, sb_maps=True)  # might rename the method to get_orbit_bundle_maps()"
   ]
  },
  {
   "cell_type": "markdown",
   "id": "ddddd667-fcde-4c42-98d1-a4dabdffd4ec",
   "metadata": {},
   "source": [
    "Orbit bundle maps:\n",
    "![sb_map](FCC167/output/plots/bundle_sb_maps_pop_pop1.png)"
   ]
  },
  {
   "cell_type": "markdown",
   "id": "a81a4f72-f844-4f00-91c1-bc8d2097045e",
   "metadata": {},
   "source": [
    "## Observed data"
   ]
  },
  {
   "cell_type": "markdown",
   "id": "2061fef8-6deb-432d-9aa2-9248871ae34b",
   "metadata": {},
   "source": [
    "Let's have a look at the observed data..."
   ]
  },
  {
   "cell_type": "code",
   "execution_count": null,
   "id": "ae0bd2a7-6dca-428f-973e-e32599c49f75",
   "metadata": {},
   "outputs": [],
   "source": [
    "stars = c.system.get_unique_triaxial_visible_component()\n",
    "pops = stars.population_data[0]\n",
    "#age, dage, met, dmet = np.array([pops.get_data()[i] for i in ('age', 'dage', 'met', 'dmet')])\n",
    "map_plotter = pops.get_map_plotter()\n",
    "# map_plotter(age, cmap=cmasher.get_sub_cmap('twilight_shifted',\n",
    "#                                                   0.05,\n",
    "#                                                   0.6))\n",
    "fig = plt.figure(figsize=(20, 10))\n",
    "fig.subplots_adjust(wspace=0.5)\n",
    "for i, col in enumerate(('age', 'dage', 'met', 'dmet')):\n",
    "    ax = plt.subplot(1, 4, i + 1)\n",
    "    dat = pops.get_data()[col]\n",
    "    map_plotter(dat,\n",
    "                vmin=min(dat),\n",
    "                vmax=max(dat),\n",
    "                label=col,\n",
    "                colorbar=True,\n",
    "                cmap=cmasher.get_sub_cmap('twilight_shifted', 0.05, 0.6))\n",
    "    ax.set_title(f'{col}')\n",
    "    ax.set_xlabel('x [arcsec]')\n",
    "    ax.set_ylabel('y [arcsec]')"
   ]
  },
  {
   "cell_type": "markdown",
   "id": "1c5dc691-d68a-4a32-b1b2-c872e4c27f3b",
   "metadata": {},
   "source": [
    "# Appendix"
   ]
  },
  {
   "cell_type": "markdown",
   "id": "038de66c-8539-4f15-b1c3-d2e3fcb7f8f6",
   "metadata": {},
   "source": [
    "## Testing the orbit binning\n",
    "As dithering=1, each \"original\" orbit bundle is just one orbit. Hence, 100% of each such orbit bundle will lie in a unique $r, \\lambda_z$ input bin and the `vor_bundle_mapping` will map these \"original\" orbit bundles to the Voronoi orbit bundles.\n",
    "\n",
    "To test the orbit binning, we will - for each Voronoi orbit bundle - identify the connected \"original\" orbit bundles and add up their weighted fractions. These should be the same whether computed (a) from the binning input data, (b) from the total weights in the Voronoi bins, and (c) from adding all \"original\" orbit bundles' contributions in the `vor_bundle_mapping`."
   ]
  },
  {
   "cell_type": "code",
   "execution_count": null,
   "id": "276096dd-39ef-4e43-a754-71bbb9f9ef8f",
   "metadata": {},
   "outputs": [],
   "source": [
    "for vor_bin in range(phase_space_binning['out'].shape[-1]):  # do the following for each Voronoi bin\n",
    "\n",
    "    input_bins = np.where(phase_space_binning['map']==vor_bin)[0]\n",
    "    print(f'\\ninput bins mapped to {vor_bin=}: {input_bins}')\n",
    "\n",
    "    # orbit weights in input bins:\n",
    "    weight_in = [phase_space_binning['in'][2][i] for i in input_bins]  # phase_space_binning['in'].shape=(3, nr*nl), holds r, l, w for each input bin\n",
    "    weight_in_total = sum(weight_in)\n",
    "    print(f'{weight_in=}, {weight_in_total=}')\n",
    "\n",
    "    vorbin_weight = phase_space_binning['out'][2][vor_bin]  # phase_space_binning['out'].shape=(3, n_bundle), holds r, l, w for each Voronoi bin\n",
    "    print(f'{vorbin_weight     = }')\n",
    "\n",
    "    vor_bundle_weight = np.sum(vor_bundle_mapping[vor_bin])  # vor_bundle_mapping.shape=(n_bundle, n_orbits), contribution of orbit-weights to Voronoi bins\n",
    "    print(f'{vor_bundle_weight = }')\n",
    "\n",
    "    print('Test succeeded? ', np.isclose(weight_in_total, vorbin_weight) and np.isclose(weight_in_total, vor_bundle_weight))"
   ]
  },
  {
   "cell_type": "code",
   "execution_count": null,
   "id": "ad5dde2c-4fda-414c-b91f-bf0fba9cb73c",
   "metadata": {},
   "outputs": [],
   "source": [
    "stars.population_data"
   ]
  },
  {
   "cell_type": "code",
   "execution_count": null,
   "id": "54fce550-b18f-4bc9-b903-a01c7d2d8ab5",
   "metadata": {},
   "outputs": [],
   "source": []
  },
  {
   "cell_type": "code",
   "execution_count": null,
   "id": "edc07000-5bf1-448e-97ad-76d293ef953d",
   "metadata": {},
   "outputs": [],
   "source": []
  },
  {
   "cell_type": "code",
   "execution_count": null,
   "id": "e3c876b7-16a7-40f9-a91b-f18132554302",
   "metadata": {},
   "outputs": [],
   "source": []
  },
  {
   "cell_type": "code",
   "execution_count": null,
   "id": "f446221c-4b7b-46af-820b-f22ccb969e11",
   "metadata": {},
   "outputs": [],
   "source": [
    "print(flux.shape, np.min(flux), np.max(flux))\n",
    "minf = min(np.array(list(map(np.log10, flux[grid[s]] / max(flux)))))\n",
    "maxf = max(np.array(list(map(np.log10, flux[grid[s]] / max(flux)))))\n",
    "minf, maxf"
   ]
  },
  {
   "cell_type": "code",
   "execution_count": null,
   "id": "74a94d36-aba5-4077-a43b-e87170c75b5b",
   "metadata": {},
   "outputs": [],
   "source": [
    "c_data = np.array(list(map(np.log10, flux[grid[s]] / max(flux))))\n",
    "c_data.shape, min(c_data), max(c_data)"
   ]
  },
  {
   "cell_type": "code",
   "execution_count": null,
   "id": "95abd869-d93c-4281-ad7d-c5b80ede9534",
   "metadata": {},
   "outputs": [],
   "source": [
    "from plotbin import display_pixels\n",
    "import cmasher as cmr"
   ]
  },
  {
   "cell_type": "code",
   "execution_count": null,
   "id": "d58d58d8-1c73-4db0-aad4-385fb73b37f6",
   "metadata": {},
   "outputs": [],
   "source": [
    "a = dyn.analysis.Analysis(c)"
   ]
  },
  {
   "cell_type": "code",
   "execution_count": null,
   "id": "08ef5ab0-898f-41e3-ba5c-2d0031175870",
   "metadata": {},
   "outputs": [],
   "source": [
    " model_gh_coef = a.get_gh_model_kinematic_maps(v_sigma_option='fit')"
   ]
  },
  {
   "cell_type": "code",
   "execution_count": null,
   "id": "bab03049-4b7d-42e3-8734-e490a8086a07",
   "metadata": {},
   "outputs": [],
   "source": []
  }
 ],
 "metadata": {
  "kernelspec": {
   "display_name": "Python 3 (ipykernel)",
   "language": "python",
   "name": "python3"
  },
  "language_info": {
   "codemirror_mode": {
    "name": "ipython",
    "version": 3
   },
   "file_extension": ".py",
   "mimetype": "text/x-python",
   "name": "python",
   "nbconvert_exporter": "python",
   "pygments_lexer": "ipython3",
   "version": "3.11.10"
  }
 },
 "nbformat": 4,
 "nbformat_minor": 5
}
