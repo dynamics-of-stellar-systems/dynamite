{
 "cells": [
  {
   "cell_type": "markdown",
   "id": "dfe0fd3a-8c35-4763-af55-cbbcd3793ea8",
   "metadata": {},
   "source": [
    "# Coloring"
   ]
  },
  {
   "cell_type": "markdown",
   "id": "f463a057-9e09-4597-9d11-b2147d466642",
   "metadata": {},
   "source": [
    "## Prerequisites\n",
    "Import the required modules and run a few models with a small orbit library."
   ]
  },
  {
   "cell_type": "code",
   "execution_count": null,
   "id": "91267ba7-8793-4910-996a-10bd5442be3f",
   "metadata": {},
   "outputs": [],
   "source": [
    "import numpy as np\n",
    "from scipy.interpolate import griddata\n",
    "import matplotlib.pyplot as plt\n",
    "import cmasher\n",
    "import pymc as pm\n",
    "from vorbin.voronoi_2d_binning import voronoi_2d_binning\n",
    "\n",
    "import dynamite as dyn"
   ]
  },
  {
   "cell_type": "code",
   "execution_count": null,
   "id": "80c78a71-b1a7-4ae8-a488-67b64ea5b4a2",
   "metadata": {},
   "outputs": [],
   "source": [
    "print('DYNAMITE version', dyn.__version__)\n",
    "print('    installed at ', dyn.__path__)  # Uncomment to print the complete DYNAMITE installation path\n",
    "\n",
    "fname = 'FCC167/FCC167.yaml'\n",
    "c = dyn.config_reader.Configuration(fname, reset_logging=True)\n",
    "# c = dyn.config_reader.Configuration(fname, reset_logging=True, reset_existing_output=True)\n",
    "# _ = dyn.model_iterator.ModelIterator(c)"
   ]
  },
  {
   "cell_type": "markdown",
   "id": "0f6e05ba-cb0c-4b06-92d6-cc881a242794",
   "metadata": {},
   "source": [
    "## Voronoi orbit binning\n",
    "Before binning the orbits, let's have a look at the $r$ - $\\lambda_z$ phase space."
   ]
  },
  {
   "cell_type": "code",
   "execution_count": null,
   "id": "01952fa0-4fd1-4b3a-939d-6b756539e381",
   "metadata": {},
   "outputs": [],
   "source": [
    "# Number of desired r and lambda_z bins\n",
    "nr = 6\n",
    "nl = 7"
   ]
  },
  {
   "cell_type": "code",
   "execution_count": null,
   "id": "8a88b30f-5a8a-4f5b-8ff8-c870c1168d8f",
   "metadata": {},
   "outputs": [],
   "source": [
    "plotter = dyn.plotter.Plotter(c)"
   ]
  },
  {
   "cell_type": "code",
   "execution_count": null,
   "id": "3c4c9901-818c-4a52-83a3-fdf9f40734cf",
   "metadata": {},
   "outputs": [],
   "source": [
    "# # NOTE: when using force_lambda_z=True, then the titles of the orbit-distribution plots are incorrect: all orbits are shown in this distribution - not only short-axis tubes!\n",
    "# fig1 = plotter.orbit_distribution(model=None, minr=None, maxr=None, r_scale='log', nr=nr, nl=nl,\n",
    "#                                   orientation='vertical', subset='short', force_lambda_z=True)\n",
    "# fig2 = plotter.orbit_distribution(model=None, minr=None, maxr=None, r_scale='linear', nr=nr, nl=nl,\n",
    "#                                   orientation='vertical', subset='short', force_lambda_z=True)"
   ]
  },
  {
   "cell_type": "markdown",
   "id": "6ea2315e-944c-41bc-afa4-616b017e1f42",
   "metadata": {},
   "source": [
    "Perform Voronoi binning of orbits in the radius-circularity phase space, based on the best-fitting model so far. The goal is to group the original\n",
    "``n_orbits`` orbit bundles into fewer ``n_bundle`` Voronoi bundles with each of these Voronoi bundles accounting for\n",
    "a weight of at least ``vor_weight``.\n",
    "\n",
    "Note that each original orbit bundle is just one orbit if ``dithering=1``, but an actual bundle if ``dithering > 1``.\n",
    "\n",
    "The result is a tuple ``(vor_bundle_mapping, phase_space_binning)``:\n",
    "```\n",
    "vor_bundle_mapping :    np.array of shape (n_bundle, n_orbits)\n",
    "                        Mapping between the \"original\" orbit bundles and the Voronoi\n",
    "                        orbit bundles: vor_bundle_mapping(i_bundle, i_orbit) is the\n",
    "                        fraction of i_orbit assigned to i_bundle, multiplied by i_orbit's weight.\n",
    "phase_space_binning :   dict\n",
    "                        'in':   np.array of shape (3, nr*nl), the binning input:\n",
    "                                bin r, bin lambda_z, bin total weight\n",
    "                        'out':  np.array of shape (3, n_bundle), the Voronoi binning output:\n",
    "                                weighted Voronoi bin centroid coordinates r_bar, lambda_bar\n",
    "                                and Voronoi bin total weights\n",
    "                        'map':  np.array of shape (nr*nl,) the phase space mapping:\n",
    "                                Voronoi bin numbers for each input bin\n",
    "```"
   ]
  },
  {
   "cell_type": "code",
   "execution_count": null,
   "id": "1c87996d-d461-4f61-b6bc-3c646ace389a",
   "metadata": {},
   "outputs": [],
   "source": [
    "coloring = dyn.coloring.Coloring(c)  # the phase space binning resides in the Coloring class (might move to Analysis)\n",
    "vor_weight = 0.05  # define the desired (minimum) total orbital weight in each Voronoi bin\n",
    "vor_bundle_mapping, phase_space_binning = coloring.bin_phase_space(model=None,\n",
    "                                                                   minr='auto',\n",
    "                                                                   maxr='auto',\n",
    "                                                                   r_scale='linear',\n",
    "                                                                   nr=nr,\n",
    "                                                                   nl=nl,\n",
    "                                                                   vor_weight=vor_weight,\n",
    "                                                                   vor_ignore_zeros=False,\n",
    "                                                                   make_diagnostic_plots=True,\n",
    "                                                                   extra_diagnostic_output=True,\n",
    "                                                                   cvt=False,\n",
    "                                                                   wvt=False)"
   ]
  },
  {
   "cell_type": "markdown",
   "id": "0b00fee4-0749-48c4-aeb3-4189869aa534",
   "metadata": {},
   "source": [
    "Let's see how much weight each orbit contributes to each orbit bundle. If ``dithering=1``, then each orbit will contribute its weight to exactly one Voronoi bundle. If ``dithering > 1``, then each orbit actually represents a bundle by itself and can hence contribute to multiple (neighboring) Voronoi orbit bundles."
   ]
  },
  {
   "cell_type": "code",
   "execution_count": null,
   "id": "ac6e86d1-f552-49d9-acc3-602600c5bcdd",
   "metadata": {},
   "outputs": [],
   "source": [
    "# If dithering > 1, orbit bundles may contribute to multiple Voronoi orbit bundles\n",
    "plt.figure(figsize=(24,4))\n",
    "plt.gca().set_title('Weight that each orbit bundle contributes to Voronoi orbit bundles')\n",
    "plt.pcolormesh(np.log10(vor_bundle_mapping), shading='flat', cmap='Greys')\n",
    "plt.xlabel('Orbit bundle id')\n",
    "plt.ylabel('Voronoi orbit bundle id')\n",
    "plt.colorbar(label='log Weight')"
   ]
  },
  {
   "cell_type": "markdown",
   "id": "8cba5c1b-a2e1-4183-959d-f098d280f46f",
   "metadata": {},
   "source": [
    "Generate maps for each Voronoi orbit bundle. These are mass maps for mass-weighted and flux maps for light-weighted models and plot the mass/light contributed by the individual Voronoi orbital bundles at each aperture."
   ]
  },
  {
   "cell_type": "code",
   "execution_count": null,
   "id": "c153d06c-29c2-4e74-a590-d762a8a4b34e",
   "metadata": {},
   "outputs": [],
   "source": [
    "a = dyn.analysis.Analysis(c)  # orbit bundle maps are residing in the Analysis class"
   ]
  },
  {
   "cell_type": "code",
   "execution_count": null,
   "id": "ceae6d1e-cae1-4132-828f-243e9db0f6e6",
   "metadata": {},
   "outputs": [],
   "source": [
    "bundle_maps, bundle_figure = a.get_orbit_bundle_maps(pop_set=0, bundle_mapping=vor_bundle_mapping, normalize=True, sb_maps=True)"
   ]
  },
  {
   "cell_type": "markdown",
   "id": "a81a4f72-f844-4f00-91c1-bc8d2097045e",
   "metadata": {},
   "source": [
    "## Observed data"
   ]
  },
  {
   "cell_type": "markdown",
   "id": "2061fef8-6deb-432d-9aa2-9248871ae34b",
   "metadata": {},
   "source": [
    "Let's have a look at the observed data..."
   ]
  },
  {
   "cell_type": "code",
   "execution_count": null,
   "id": "bd822679-172c-4822-ae05-e0e583a9e5f9",
   "metadata": {},
   "outputs": [],
   "source": [
    "fig = coloring.color_maps();"
   ]
  },
  {
   "cell_type": "code",
   "execution_count": null,
   "id": "b3acd3c7-5bc4-46d5-8ad2-bd9140215e6a",
   "metadata": {},
   "outputs": [],
   "source": []
  },
  {
   "cell_type": "markdown",
   "id": "7b1d9f47-4815-4b76-9703-242c3bd305e1",
   "metadata": {},
   "source": [
    "## Bayesian statistical analysis"
   ]
  },
  {
   "cell_type": "code",
   "execution_count": null,
   "id": "55c893b0-70af-4769-9e9b-33fe63c4f13d",
   "metadata": {},
   "outputs": [],
   "source": [
    "# Zhu et al. 2020\n",
    "# R1\n",
    "\n",
    "stars = c.system.get_unique_triaxial_visible_component()\n",
    "pops = stars.population_data[0]\n",
    "age, dage, met, dmet = [pops.get_data()[i] for i in ('age', 'dage', 'met', 'dmet')]\n",
    "\n",
    "prior_t = {'mu': np.random.normal(age.mean(), 2 * age.std(), size=len(vor_bundle_mapping)),  # (12)\n",
    "           'sigma': 2 * age.std(),  # (13)\n",
    "           'lower': 0,\n",
    "           'upper': 20}\n",
    "sample = {'n_draws': 500,\n",
    "          'n_tune': 2500,\n",
    "          'advi_init': 200000}\n",
    "\n",
    "flux_data_rel = np.array([bundle_maps[a] for a in bundle_maps.columns if a != 'flux_all']).T  # shape = n_spatial_bins, n_bundle\n",
    "\n",
    "model_t, trace_t = coloring.fit_normal(prior=prior_t,\n",
    "                                       flux_data_norm=flux_data_rel,\n",
    "                                       age=age,\n",
    "                                       sample=sample)\n",
    "\n",
    "# varnames = ['t_k', 'student_t_sigma', 'student_t_nu']\n",
    "# pm.plot_trace(trace_t, varnames, combined=True)\n",
    "pm.plot_trace(trace_t, combined=True)\n",
    "# fig = plt.gcf() # to get the current figure...\n",
    "# plt.close(fig)"
   ]
  },
  {
   "cell_type": "code",
   "execution_count": null,
   "id": "8c509fe3-a3e4-426f-b71e-5ff7edc85310",
   "metadata": {},
   "outputs": [],
   "source": [
    "pm.model_to_graphviz(model_t)"
   ]
  },
  {
   "cell_type": "code",
   "execution_count": null,
   "id": "f5d8f844-1fd8-4887-a4cd-e0c34151a311",
   "metadata": {},
   "outputs": [],
   "source": [
    "# Check how the model matches the data\n",
    "age_mean_R1 = trace_t.posterior['t_k'].mean(axis=(0,1))\n",
    "age_err_R1 = trace_t.posterior['t_k'].std(axis=(0,1))\n",
    "model_data = {'Age R1': (age_mean_R1, age_err_R1, None, None)}\n",
    "coloring.color_maps(model_data=model_data, flux_data_rel=flux_data_rel);"
   ]
  },
  {
   "cell_type": "code",
   "execution_count": null,
   "id": "a246b716-0382-42fc-9a32-276a5359dbe8",
   "metadata": {},
   "outputs": [],
   "source": [
    "age.mean()"
   ]
  },
  {
   "cell_type": "code",
   "execution_count": null,
   "id": "cd0dff70-87e0-49e2-a83f-0f3de51b4c11",
   "metadata": {},
   "outputs": [],
   "source": [
    "# Zhu et al. 2020\n",
    "# R2: fit t = t_0 + p * lambda_z to the R1 model results\n",
    "\n",
    "exclude_neg_lam_z = True  # exclude lamda_z < 0 from fitting?\n",
    "\n",
    "idx = np.where(phase_space_binning['out'][1] >= 0)[0]\n",
    "lam_z = phase_space_binning['out'][1][idx]\n",
    "t = age_mean_R1[idx]\n",
    "t_0, p = np.polynomial.polynomial.polyfit(lam_z, t, deg=1)\n",
    "print(f'Linear fit t = t_0 + p * lambda_z: {t_0=}, {p=}')\n",
    "plt.plot(lam_z, t, \"o\", label=\"R1 results\")\n",
    "plt.plot(lam_z, t_0 + p * lam_z, \"red\", label=f'Fit $t = {t_0:.3} + ({p:.3})*\\lambda_z$')\n",
    "plt.xlabel('$\\lambda_z$')\n",
    "plt.ylabel('$t$')\n",
    "plt.legend()\n",
    "plt.show()"
   ]
  },
  {
   "cell_type": "code",
   "execution_count": null,
   "id": "4be9bb4d-a23d-4dc9-941f-724a52cf0386",
   "metadata": {},
   "outputs": [],
   "source": [
    "phase_space_binning['out'][1]"
   ]
  },
  {
   "cell_type": "code",
   "execution_count": null,
   "id": "6e195652-60a4-417d-8b33-147ef1e3e36d",
   "metadata": {},
   "outputs": [],
   "source": [
    "# Zhu et al. 2020\n",
    "# R2: map fitting\n",
    "\n",
    "lambda_z = phase_space_binning['out'][1]  # shape = n_bundles\n",
    "\n",
    "mu_k = np.zeros_like(lambda_z)\n",
    "mu_k[lambda_z >= 0] = np.random.normal(t_0 + p * lambda_z[lambda_z >= 0], 2 * age.std() - np.abs(p) / 2)\n",
    "mu_k[lambda_z < 0] = t_0\n",
    "\n",
    "prior_t = {'mu': mu_k,  # (14)\n",
    "           'sigma': 2 * age.std(),  # (15)\n",
    "           'lower': 0,\n",
    "           'upper': 20}\n",
    "sample = {'n_draws': 500,\n",
    "          'n_tune': 2500,\n",
    "          'advi_init': 200000}\n",
    "\n",
    "flux_data_rel = np.array([bundle_maps[a] for a in bundle_maps.columns if a != 'flux_all']).T  # shape = n_spatial_bins, n_bundle\n",
    "\n",
    "model_t, trace_t = coloring.fit_normal(prior=prior_t,\n",
    "                                       flux_data_norm=flux_data_rel,\n",
    "                                       age=age,\n",
    "                                       sample=sample)\n",
    "\n",
    "# varnames = ['t_k', 'student_t_sigma', 'student_t_nu']\n",
    "# pm.plot_trace(trace_t, varnames, combined=True)\n",
    "pm.plot_trace(trace_t, combined=True)\n",
    "# fig = plt.gcf() # to get the current figure...\n",
    "# plt.close(fig)"
   ]
  },
  {
   "cell_type": "code",
   "execution_count": null,
   "id": "d75a35d4-278f-4846-8a52-3f0a16bf91d6",
   "metadata": {},
   "outputs": [],
   "source": [
    "# Check how the model matches the data\n",
    "age_mean_R2 = trace_t.posterior['t_k'].mean(axis=(0,1))\n",
    "age_err_R2 = trace_t.posterior['t_k'].std(axis=(0,1))\n",
    "model_data['Age R2'] = (age_mean_R2, age_err_R2, None, None)\n",
    "coloring.color_maps(model_data=model_data, flux_data_rel=flux_data_rel);"
   ]
  },
  {
   "cell_type": "code",
   "execution_count": null,
   "id": "c1108199-0149-4281-a2a1-f33dae6714dd",
   "metadata": {},
   "outputs": [],
   "source": [
    "# Zhu et al. 2020\n",
    "# Metallicity R1\n",
    "\n",
    "# stars = c.system.get_unique_triaxial_visible_component()\n",
    "# pops = stars.population_data[0]\n",
    "# age, dage, met, dmet = [pops.get_data()[i] for i in ('age', 'dage', 'met', 'dmet')]\n",
    "\n",
    "prior_z = {'mu': np.log(np.random.normal(met.mean(), met.std(), size=len(vor_bundle_mapping))),  # (17)\n",
    "           'sigma': met.std(),  # (18)\n",
    "           'lower': 0,\n",
    "           'upper': 10}\n",
    "sample = {'n_draws': 500,\n",
    "          'n_tune': 2500,\n",
    "          'advi_init': 200000}\n",
    "\n",
    "# print('######## Priors: ########')\n",
    "# fig = plt.figure(figsize = (10,5), layout='tight')\n",
    "# fig1 = plt.subplot(2, 2, 1)\n",
    "# plt.title('fit_agemet.py')\n",
    "# met_start_plot = met.mean() + np.abs(np.random.normal(0, met.std(), size = len(vor_bundle_mapping)))\n",
    "# sd_met_start_plot = met.std() + np.abs(np.random.normal(0, 0.01, size = len(vor_bundle_mapping)))\n",
    "# plt.plot(age_mean_R1, met_start_plot, 'k.')\n",
    "# plt.xlim(0, age_mean_R1.max())\n",
    "# plt.ylim(-1, met_start_plot.max() + 1)\n",
    "# plt.xlabel('t [Gyr]')\n",
    "# plt.ylabel('$Z/Z_{sun}$')\n",
    "\n",
    "# fig2 = plt.subplot(2, 2, 2)\n",
    "# plt.title('fit_agemet.py')\n",
    "# plt.plot(met_start_plot, sd_met_start_plot,'k.')\n",
    "# plt.xlabel('Z')\n",
    "# plt.ylabel('sigma(lnZ)')\n",
    "\n",
    "# fig3 = plt.subplot(2, 2, 3)\n",
    "# plt.title('DYNAMITE?')\n",
    "# plt.plot(age_mean_R1, np.exp(prior_z['mu']), 'k.')\n",
    "# plt.xlim(0, age_mean_R1.max())\n",
    "# plt.ylim(-1, np.exp(prior_z['mu']).max() + 1)\n",
    "# plt.xlabel('t [Gyr]')\n",
    "# plt.ylabel('$Z/Z_{sun}$')\n",
    "\n",
    "# fig2 = plt.subplot(2, 2, 4)\n",
    "# plt.title('DYNAMITE?')\n",
    "# plt.plot(np.exp(prior_z['mu']), prior_z['sigma']*np.ones(len(vor_bundle_mapping)),'k.')\n",
    "# plt.xlabel('Z')\n",
    "# plt.ylabel('sigma(lnZ)')\n",
    "\n",
    "# plt.show()\n",
    "\n",
    "print('######## MCMC: ########')\n",
    "\n",
    "# flux_data_rel = np.array([bundle_maps[a] for a in bundle_maps.columns if a != 'flux_all']).T  # shape = n_spatial_bins, n_bundle\n",
    "\n",
    "model_z, trace_z = coloring.fit_lognormal(prior=prior_z,\n",
    "                                          flux_data_norm=flux_data_rel,\n",
    "                                          metallicity=met,\n",
    "                                          sample=sample)\n",
    "\n",
    "# varnames = ['t_k', 'student_t_sigma', 'student_t_nu']\n",
    "# pm.plot_trace(trace_t, varnames, combined=True)\n",
    "pm.plot_trace(trace_z, combined=True)\n",
    "# fig = plt.gcf() # to get the current figure...\n",
    "# plt.close(fig)"
   ]
  },
  {
   "cell_type": "code",
   "execution_count": null,
   "id": "b4fd90af-8f88-4f9b-a6d8-c391b10b0b3c",
   "metadata": {},
   "outputs": [],
   "source": [
    "# Check how the model matches the data\n",
    "met_mean_R1 = trace_z.posterior['z_k'].mean(axis=(0,1))\n",
    "met_err_R1 = trace_z.posterior['z_k'].std(axis=(0,1))\n",
    "model_data['Metallicity R1'] = (age_mean_R1, age_err_R1, met_mean_R1, met_err_R1)\n",
    "coloring.color_maps(model_data=model_data, flux_data_rel=flux_data_rel);"
   ]
  },
  {
   "cell_type": "markdown",
   "id": "588cfb4c-f1f5-42b4-81b5-c0cc60366ed8",
   "metadata": {},
   "source": [
    "## AMR"
   ]
  },
  {
   "cell_type": "code",
   "execution_count": null,
   "id": "e44d55ea-d13d-4a9f-9c81-b01badae01dc",
   "metadata": {},
   "outputs": [],
   "source": [
    "fig = plt.figure(figsize = (10,5), layout='tight')\n",
    "ax = plt.subplot(2, 2, 1)\n",
    "plt.title('age R1 - met R1')\n",
    "# met_start_plot = met.mean() + np.abs(np.random.normal(0, met.std(), size = len(vor_bundle_mapping)))\n",
    "# sd_met_start_plot = met.std() + np.abs(np.random.normal(0, 0.01, size = len(vor_bundle_mapping)))\n",
    "plt.plot(age_mean_R1, met_mean_R1, 'k.')\n",
    "# plt.xlim(0, age_mean_R1.max())\n",
    "# plt.ylim(-1, met_start_plot.max() + 1)\n",
    "plt.xlabel('t [Gyr]')\n",
    "plt.ylabel('$Z/Z_{sun}$')\n",
    "ax = plt.subplot(2, 2, 2)\n",
    "plt.title('age R2 - met R1')\n",
    "plt.plot(age_mean_R2, met_mean_R1, 'k.')\n",
    "plt.xlabel('t [Gyr]')\n",
    "plt.ylabel('$Z/Z_{sun}$')\n",
    "plt.show()"
   ]
  },
  {
   "cell_type": "markdown",
   "id": "a8108b4b-48f4-4394-8e26-13b87e264e18",
   "metadata": {},
   "source": [
    "# Appendix"
   ]
  },
  {
   "cell_type": "markdown",
   "id": "038de66c-8539-4f15-b1c3-d2e3fcb7f8f6",
   "metadata": {},
   "source": [
    "## Testing the orbit binning\n",
    "As dithering=1, each \"original\" orbit bundle is just one orbit. Hence, 100% of each such orbit bundle will lie in a unique $r, \\lambda_z$ input bin and the `vor_bundle_mapping` will map these \"original\" orbit bundles to the Voronoi orbit bundles.\n",
    "\n",
    "To test the orbit binning, we will - for each Voronoi orbit bundle - identify the connected \"original\" orbit bundles and add up their weighted fractions. These should be the same whether computed (a) from the binning input data, (b) from the total weights in the Voronoi bins, and (c) from adding all \"original\" orbit bundles' contributions in the `vor_bundle_mapping`."
   ]
  },
  {
   "cell_type": "code",
   "execution_count": null,
   "id": "276096dd-39ef-4e43-a754-71bbb9f9ef8f",
   "metadata": {},
   "outputs": [],
   "source": [
    "for vor_bin in range(phase_space_binning['out'].shape[-1]):  # do the following for each Voronoi bin\n",
    "\n",
    "    input_bins = np.where(phase_space_binning['map']==vor_bin)[0]\n",
    "    print(f'\\ninput bins mapped to {vor_bin=}: {input_bins}')\n",
    "\n",
    "    # orbit weights in input bins:\n",
    "    weight_in = [phase_space_binning['in'][2][i] for i in input_bins]  # phase_space_binning['in'].shape=(3, nr*nl), holds r, l, w for each input bin\n",
    "    weight_in_total = sum(weight_in)\n",
    "    print(f'{weight_in=}, {weight_in_total=}')\n",
    "\n",
    "    vorbin_weight = phase_space_binning['out'][2][vor_bin]  # phase_space_binning['out'].shape=(3, n_bundle), holds r, l, w for each Voronoi bin\n",
    "    print(f'{vorbin_weight     = }')\n",
    "\n",
    "    vor_bundle_weight = np.sum(vor_bundle_mapping[vor_bin])  # vor_bundle_mapping.shape=(n_bundle, n_orbits), contribution of orbit-weights to Voronoi bins\n",
    "    print(f'{vor_bundle_weight = }')\n",
    "\n",
    "    print('Test succeeded? ', np.isclose(weight_in_total, vorbin_weight) and np.isclose(weight_in_total, vor_bundle_weight))"
   ]
  },
  {
   "cell_type": "code",
   "execution_count": null,
   "id": "ad5dde2c-4fda-414c-b91f-bf0fba9cb73c",
   "metadata": {},
   "outputs": [],
   "source": [
    "stars.population_data"
   ]
  },
  {
   "cell_type": "code",
   "execution_count": null,
   "id": "54fce550-b18f-4bc9-b903-a01c7d2d8ab5",
   "metadata": {},
   "outputs": [],
   "source": [
    "pm.model_to_graphviz(model_z)"
   ]
  },
  {
   "cell_type": "code",
   "execution_count": null,
   "id": "d3ef7a6c-f271-4d5b-8441-d2cd99e83933",
   "metadata": {},
   "outputs": [],
   "source": [
    "plotter.orbit_plot(Rmax_arcs=200)"
   ]
  },
  {
   "cell_type": "code",
   "execution_count": null,
   "id": "27495b5d-ca55-4aa0-bb77-925e7c96017b",
   "metadata": {},
   "outputs": [],
   "source": []
  }
 ],
 "metadata": {
  "kernelspec": {
   "display_name": "Python 3 (ipykernel)",
   "language": "python",
   "name": "python3"
  },
  "language_info": {
   "codemirror_mode": {
    "name": "ipython",
    "version": 3
   },
   "file_extension": ".py",
   "mimetype": "text/x-python",
   "name": "python",
   "nbconvert_exporter": "python",
   "pygments_lexer": "ipython3",
   "version": "3.11.10"
  }
 },
 "nbformat": 4,
 "nbformat_minor": 5
}
