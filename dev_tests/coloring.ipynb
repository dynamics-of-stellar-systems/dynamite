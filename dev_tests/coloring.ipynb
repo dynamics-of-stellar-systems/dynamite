{
 "cells": [
  {
   "cell_type": "markdown",
   "id": "0f6e05ba-cb0c-4b06-92d6-cc881a242794",
   "metadata": {},
   "source": [
    "# Voronoi orbit binning\n",
    "This testing notebook expects an existing all_models table and will act on its best-fit model."
   ]
  },
  {
   "cell_type": "code",
   "execution_count": null,
   "id": "80c78a71-b1a7-4ae8-a488-67b64ea5b4a2",
   "metadata": {},
   "outputs": [],
   "source": [
    "import dynamite as dyn\n",
    "\n",
    "import numpy as np\n",
    "from scipy.interpolate import griddata\n",
    "import matplotlib.pyplot as plt\n",
    "from vorbin.voronoi_2d_binning import voronoi_2d_binning\n",
    "\n",
    "print('DYNAMITE version', dyn.__version__)\n",
    "print('    installed at ', dyn.__path__)  # Uncomment to print the complete DYNAMITE installation path\n",
    "\n",
    "fname = 'user_test_config_ml.yaml'\n",
    "c = dyn.config_reader.Configuration(fname, reset_logging=True)\n",
    "# c = dyn.config_reader.Configuration(fname, reset_logging=True, reset_existing_output=True)\n",
    "# _ = dyn.model_iterator.ModelIterator(c)"
   ]
  },
  {
   "cell_type": "code",
   "execution_count": null,
   "id": "8e22ef75-099b-43d4-b6ac-5707dea90e4d",
   "metadata": {},
   "outputs": [],
   "source": [
    "# instantiate a Coloring object\n",
    "coloring = dyn.coloring.Coloring(c)"
   ]
  },
  {
   "cell_type": "code",
   "execution_count": null,
   "id": "01952fa0-4fd1-4b3a-939d-6b756539e381",
   "metadata": {},
   "outputs": [],
   "source": [
    "# define the number of r and lambda_z bins\n",
    "nr = 6\n",
    "nl = 7"
   ]
  },
  {
   "cell_type": "code",
   "execution_count": null,
   "id": "8a88b30f-5a8a-4f5b-8ff8-c870c1168d8f",
   "metadata": {},
   "outputs": [],
   "source": [
    "plotter = dyn.plotter.Plotter(c)"
   ]
  },
  {
   "cell_type": "code",
   "execution_count": null,
   "id": "3c4c9901-818c-4a52-83a3-fdf9f40734cf",
   "metadata": {},
   "outputs": [],
   "source": [
    "# get an overview of the orbit distribution\n",
    "# NOTE: when using force_lambda_z=True, then the titles of the orbit-distribution plots are incorrect.\n",
    "# All orbits are shown in this distribution - not only short-axis tubes!\n",
    "fig1 = plotter.orbit_distribution(model=None, minr=None, maxr=None, r_scale='log', nr=nr, nl=nl,\n",
    "                                  orientation='vertical', subset='short', force_lambda_z=True)\n",
    "fig2 = plotter.orbit_distribution(model=None, minr=None, maxr=None, r_scale='linear', nr=nr, nl=nl,\n",
    "                                  orientation='vertical', subset='short', force_lambda_z=True)"
   ]
  },
  {
   "cell_type": "code",
   "execution_count": null,
   "id": "1c87996d-d461-4f61-b6bc-3c646ace389a",
   "metadata": {},
   "outputs": [],
   "source": [
    "# Perform Voronoi binning of orbits in the radius-circularity phase space. The goal is to group the \"original\"\n",
    "# n_orbits orbit bundles into fewer n_bundle \"Voronoi\" bundles with each of these Voronoi bundles accounting for\n",
    "# a weight of at least ``vor_weight``.\n",
    "# The result is a tuple (vor_bundle_mapping, phase_space_binning):\n",
    "#     vor_bundle_mapping : np.array of shape (n_bundle, n_orbits)\n",
    "#         Mapping between the \"original\" orbit bundles and the Voronoi\n",
    "#         orbit bundles: vor_bundle_mapping(i_bundle, i_orbit) is the\n",
    "#         fraction of i_orbit assigned to i_bundle, multiplied by i_orbit's weight.\n",
    "#     phase_space_binning : dict\n",
    "#         'in': np.array of shape (3, nr*nl), the binning input:\n",
    "#         bin r, bin lambda_z, bin total weight\n",
    "#         'out': np.array of shape (3, n_bundle), the Voronoi binning output:\n",
    "#         weighted Voronoi bin centroid coordinates r_bar, lambda_bar\n",
    "#         and Voronoi bin total weights\n",
    "#         'map': np.array of shape (nr*nl,) the phase space mapping:\n",
    "#         Voronoi bin numbers for each input bin\n",
    "vor_weight = 0.05  # define the desired (minimum) total orbital weight in each Voronoi bin\n",
    "vor_bundle_mapping, phase_space_binning = coloring.bin_phase_space(model=None,\n",
    "                                                                   minr='auto',\n",
    "                                                                   maxr='auto',\n",
    "                                                                   r_scale='log',\n",
    "                                                                   nr=nr,\n",
    "                                                                   nl=nl,\n",
    "                                                                   vor_weight=vor_weight,\n",
    "                                                                   vor_ignore_zeros=False,\n",
    "                                                                   make_diagnostic_plots=True,\n",
    "                                                                   extra_diagnostic_output=True,\n",
    "                                                                   cvt=False,\n",
    "                                                                   wvt=False)"
   ]
  },
  {
   "cell_type": "code",
   "execution_count": null,
   "id": "c153d06c-29c2-4e74-a590-d762a8a4b34e",
   "metadata": {},
   "outputs": [],
   "source": [
    "a = dyn.analysis.Analysis(c)"
   ]
  },
  {
   "cell_type": "code",
   "execution_count": null,
   "id": "ceae6d1e-cae1-4132-828f-243e9db0f6e6",
   "metadata": {},
   "outputs": [],
   "source": [
    "bundle_maps = a.get_flux_for_selected_orbit_bundles(bundle_mapping=vor_bundle_mapping)"
   ]
  },
  {
   "cell_type": "code",
   "execution_count": null,
   "id": "7c9916b7-ea48-4871-8ca9-fe49860fd6df",
   "metadata": {},
   "outputs": [],
   "source": [
    "# Plot maps for every Voronoi bundle\n",
    "stars = c.system.get_unique_triaxial_visible_component()\n",
    "map_plotter = stars.kinematic_data[0].get_map_plotter()\n",
    "n_bundles = vor_bundle_mapping.shape[0]\n",
    "fig = plt.figure(figsize=(30,30 / (n_bundles + 1) * 4))\n",
    "fig.subplots_adjust(wspace=0.5)\n",
    "for i, colname in enumerate(bundle_maps.colnames):\n",
    "    ax = plt.subplot((n_bundles + 1) // 5 + (1 if n_bundles % 5 > 0 else 0), 5, i + 1)\n",
    "    map_plotter(bundle_maps[colname], label='weight contr.', colorbar=True)\n",
    "    ax.set_title(f'{colname}')\n",
    "    ax.set_xlabel('x [arcsec]')\n",
    "    ax.set_ylabel('y [arcsec]')\n",
    "plt.show()"
   ]
  },
  {
   "cell_type": "code",
   "execution_count": null,
   "id": "ac6e86d1-f552-49d9-acc3-602600c5bcdd",
   "metadata": {},
   "outputs": [],
   "source": [
    "# If dithering > 1, orbit bundles may contribute to multiple Voronoi orbit bundles\n",
    "plt.figure(figsize=(24,4))\n",
    "plt.gca().set_title('Weight that each orbit bundle contributes to Voronoi orbit bundles')\n",
    "plt.pcolormesh(np.log10(vor_bundle_mapping), shading='nearest', cmap='Greys')\n",
    "plt.xlabel('Orbit bundle id')\n",
    "plt.ylabel('Voronoi orbit bundle id')\n",
    "plt.colorbar(label='log Weight')"
   ]
  },
  {
   "cell_type": "code",
   "execution_count": null,
   "id": "07334e17-01b0-4cd3-bfe0-2689d2d0f0aa",
   "metadata": {},
   "outputs": [],
   "source": [
    "# for each input bin: r coordinate, lambda_z coordinate, total weight\n",
    "print(f'{phase_space_binning[\"in\"].shape=}')\n",
    "# phase_space_binning['in']"
   ]
  },
  {
   "cell_type": "code",
   "execution_count": null,
   "id": "59fcbcd1-7932-406d-923d-d59c7a4492fd",
   "metadata": {},
   "outputs": [],
   "source": [
    "# for each Voronoi bin: weighted centroid coordinates r_bar, lambda_bar and total weight\n",
    "print(f'{phase_space_binning[\"out\"].shape=}')\n",
    "# phase_space_binning['out']"
   ]
  },
  {
   "cell_type": "code",
   "execution_count": null,
   "id": "146452af-5b00-4eaa-b7f7-d5a2aed86fbb",
   "metadata": {},
   "outputs": [],
   "source": [
    "# phase space mapping: Voronoi bin numbers for each input bin\n",
    "print(f'{phase_space_binning[\"map\"].shape=}')\n",
    "phase_space_binning['map']"
   ]
  },
  {
   "cell_type": "code",
   "execution_count": null,
   "id": "75d44854-8a99-496c-8532-88ab84d91419",
   "metadata": {},
   "outputs": [],
   "source": [
    "# orbit bundle mapping: weighted contribution of each \"original\" orbit bundle to the Voronoi orbit bundles\n",
    "print(f'{vor_bundle_mapping.shape=}')"
   ]
  },
  {
   "cell_type": "markdown",
   "id": "038de66c-8539-4f15-b1c3-d2e3fcb7f8f6",
   "metadata": {},
   "source": [
    "## Testing the orbit binning\n",
    "As dithering=1, each \"original\" orbit bundle is just one orbit. Hence, 100% of each such orbit bundle will lie in a unique $r, \\lambda_z$ input bin and the `vor_bundle_mapping` will map these \"original\" orbit bundles to the Voronoi orbit bundles.\n",
    "\n",
    "To test the orbit binning, we will - for each Voronoi bin (corresponding to one Voronoi orbit bundle each) - identify the connected \"original\" orbit bundles and add up their weighted fractions. These should be the same whether computed (a) from the binning input data, (b) from the total weights in the Voronoi bins, and (c) from adding all \"original\" orbit bundles' contributions in the `vor_bundle_mapping`."
   ]
  },
  {
   "cell_type": "code",
   "execution_count": null,
   "id": "276096dd-39ef-4e43-a754-71bbb9f9ef8f",
   "metadata": {},
   "outputs": [],
   "source": [
    "for vor_bin in range(phase_space_binning['out'].shape[-1]):  # do the following for each Voronoi bin\n",
    "\n",
    "    input_bins = np.where(phase_space_binning['map']==vor_bin)[0]\n",
    "    print(f'\\ninput bins mapped to {vor_bin=}: {input_bins}')\n",
    "\n",
    "    # orbit weights in input bins:\n",
    "    weight_in = [phase_space_binning['in'][2][i] for i in input_bins]  # phase_space_binning['in'].shape=(3, nr*nl), holds r, l, w for each input bin\n",
    "    weight_in_total = sum(weight_in)\n",
    "    print(f'{weight_in=}, {weight_in_total=}')\n",
    "\n",
    "    vorbin_weight = phase_space_binning['out'][2][vor_bin]  # phase_space_binning['out'].shape=(3, n_bundle), holds r, l, w for each Voronoi bin\n",
    "    print(f'{vorbin_weight     = }')\n",
    "\n",
    "    vor_bundle_weight = np.sum(vor_bundle_mapping[vor_bin])  # vor_bundle_mapping.shape=(n_bundle, n_orbits), contribution of orbit-weights to Voronoi bins\n",
    "    print(f'{vor_bundle_weight = }')\n",
    "\n",
    "    print('Test succeeded? ', np.isclose(weight_in_total, vorbin_weight) and np.isclose(weight_in_total, vor_bundle_weight))"
   ]
  },
  {
   "cell_type": "code",
   "execution_count": null,
   "id": "ad5dde2c-4fda-414c-b91f-bf0fba9cb73c",
   "metadata": {},
   "outputs": [],
   "source": []
  }
 ],
 "metadata": {
  "kernelspec": {
   "display_name": "Python 3 (ipykernel)",
   "language": "python",
   "name": "python3"
  },
  "language_info": {
   "codemirror_mode": {
    "name": "ipython",
    "version": 3
   },
   "file_extension": ".py",
   "mimetype": "text/x-python",
   "name": "python",
   "nbconvert_exporter": "python",
   "pygments_lexer": "ipython3",
   "version": "3.11.10"
  }
 },
 "nbformat": 4,
 "nbformat_minor": 5
}
