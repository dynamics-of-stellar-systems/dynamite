{
 "cells": [
  {
   "cell_type": "code",
   "execution_count": null,
   "id": "9f606cf2-aa6d-45ec-b29c-d73d55703263",
   "metadata": {},
   "outputs": [],
   "source": [
    "import numpy as np\n",
    "import matplotlib\n",
    "import matplotlib.pyplot as plt\n",
    "from astropy import table\n",
    "import cmasher as cmr\n",
    "import dynamite as dyn\n",
    "from plotbin import display_pixels"
   ]
  },
  {
   "cell_type": "code",
   "execution_count": null,
   "id": "2f56ca0c-10f6-47b4-a1e7-9b3a89aeb0f9",
   "metadata": {},
   "outputs": [],
   "source": [
    "# First, create some models\n",
    "fname = 'user_test_config_ml.yaml'\n",
    "c = dyn.config_reader.Configuration(fname,                        #   |\n",
    "                                    reset_logging=True,           #   |\n",
    "                                    user_logfile='test_nnls',     #   v\n",
    "                                    reset_existing_output=True)   # 'False' saves time, use only if orblibs have been created with the current orblib_new_mirror\n",
    "_ = dyn.model_iterator.ModelIterator(c)\n",
    "c.all_models.table.pprint_all()\n",
    "which_chi2 = c.settings.parameter_space_settings['which_chi2']\n",
    "compare_file = f\"data/chi2_compare_ml_{c.settings.orblib_settings['nE']}{c.settings.orblib_settings['nI2']}{c.settings.orblib_settings['nI3']}.dat\"\n",
    "chi2_compare = table.Table.read(compare_file, format='ascii')\n",
    "# plot diagnostic output...\n",
    "plt.figure()\n",
    "plt.scatter(chi2_compare['model_id'], chi2_compare[which_chi2], s=2000, facecolors='none', edgecolors='black')\n",
    "plt.plot(range(len(c.all_models.table)), c.all_models.table[which_chi2], 'rx')\n",
    "plt.gca().set_title(f'calculated {which_chi2} (red) vs should-be range (black circles)')\n",
    "plt.xlabel('model_id')\n",
    "plt.xticks(range(len(c.all_models.table)))\n",
    "plt.ylabel(which_chi2)\n",
    "plt.show()"
   ]
  },
  {
   "cell_type": "code",
   "execution_count": null,
   "id": "616b5c5a-1eff-41f5-a56a-aa6410a019ba",
   "metadata": {},
   "outputs": [],
   "source": [
    "# inspect the populations data (so far we need only the apertures and binning)\n",
    "stars = c.system.get_unique_triaxial_visible_component()\n",
    "print(f'{len(stars.kinematic_data)=}, {len(stars.population_data)=}')\n",
    "pops = stars.population_data\n",
    "for pop in pops:\n",
    "    print(f'pop dataset {pop.name}: {pop.n_spatial_bins=}')  # one pop dataset uses the kinematics' apertures, one has its own (see config file)"
   ]
  },
  {
   "cell_type": "code",
   "execution_count": null,
   "id": "90ddb17a-a602-46c8-80d2-12320b932127",
   "metadata": {},
   "outputs": [],
   "source": [
    "# get the best model, its orblib and the populations' orbit densities\n",
    "model = c.all_models.get_model_from_row(c.all_models.get_best_n_models_idx(n=1)[0])\n",
    "orblib = model.get_orblib()\n",
    "orblib.read_losvd_histograms(pops=True)\n",
    "for pop_idx, p in enumerate(orblib.pops_projected_masses):\n",
    "    print(f'{pops[pop_idx].name} number of orbits and spatial bins: {p.shape}')"
   ]
  },
  {
   "cell_type": "code",
   "execution_count": null,
   "id": "c7e1594b-51aa-4a0d-a8ca-0d8e49550473",
   "metadata": {},
   "outputs": [],
   "source": [
    "# get model weights\n",
    "_ = model.get_weights(orblib)\n",
    "print(model.weights.shape)"
   ]
  },
  {
   "cell_type": "code",
   "execution_count": null,
   "id": "a26e5749-d8b3-48d4-b93e-66f8af3b9aa0",
   "metadata": {},
   "outputs": [],
   "source": [
    "# get the model orbit density by convoluting the pops_projected_masses with the orbit weights\n",
    "model_proj_masses = []\n",
    "for p in orblib.pops_projected_masses:\n",
    "    model_proj_masses.append(np.dot(p.T, model.weights)) # .shape = n_spatial_bins"
   ]
  },
  {
   "cell_type": "code",
   "execution_count": null,
   "id": "481cd26e-ce83-4255-94e9-7262c3c21ecf",
   "metadata": {},
   "outputs": [],
   "source": [
    "# plot the model's orbit density for the pops apertures\n",
    "\n",
    "# mostly from plotter.py\n",
    "\n",
    "for pop_idx, proj_mass in enumerate(model_proj_masses):\n",
    "    fluxm = proj_mass\n",
    "    # plotting borrowed from plotter.py...\n",
    "    # get aperture and bin data\n",
    "    dp_args = stars.population_data[pop_idx].dp_args\n",
    "    x = dp_args['x']\n",
    "    y = dp_args['y']\n",
    "    dx = dp_args['dx']\n",
    "    grid = dp_args['idx_bin_to_pix']\n",
    "    angle_deg = dp_args['angle']\n",
    "    # Only select the pixels that have a bin associated with them.\n",
    "    s = np.ravel(np.where((grid >= 0)))\n",
    "    fhist, _ = np.histogram(grid[s], bins=len(fluxm))\n",
    "    fluxm = fluxm / fhist\n",
    "    # plot settings\n",
    "    minsb = min(np.array(list(map(np.log10, fluxm[grid[s]] / max(fluxm)))))\n",
    "    maxsb = max(np.array(list(map(np.log10, fluxm[grid[s]] / max(fluxm)))))\n",
    "    # The galaxy has NOT already rotated with PA to align major axis with x\n",
    "    map1 = cmr.get_sub_cmap('twilight_shifted', 0.05, 0.6)\n",
    "    kw_display_pixels1 = dict(pixelsize=dx,\n",
    "                              angle=angle_deg,\n",
    "                              colorbar=True,\n",
    "                              nticks=7,\n",
    "                              # cmap='sauron')\n",
    "                              cmap=map1)\n",
    "    # PLOT THE MODEL DATA\n",
    "    plt.figure()\n",
    "    c_c = np.array(list(map(np.log10, fluxm[grid[s]] / max(fluxm))))\n",
    "    display_pixels.display_pixels(x, y, c_c,\n",
    "                                  vmin=minsb, vmax=maxsb,\n",
    "                                  label='surface brightness (log)',\n",
    "                                  **kw_display_pixels1)\n",
    "    plt.gca().set_title(pops[pop_idx].name)\n",
    "    plt.show()"
   ]
  },
  {
   "cell_type": "code",
   "execution_count": null,
   "id": "e1ed4edc-73e9-46b4-be67-72ef1c7eb5a9",
   "metadata": {},
   "outputs": [],
   "source": []
  }
 ],
 "metadata": {
  "kernelspec": {
   "display_name": "Python 3 (ipykernel)",
   "language": "python",
   "name": "python3"
  },
  "language_info": {
   "codemirror_mode": {
    "name": "ipython",
    "version": 3
   },
   "file_extension": ".py",
   "mimetype": "text/x-python",
   "name": "python",
   "nbconvert_exporter": "python",
   "pygments_lexer": "ipython3",
   "version": "3.11.10"
  }
 },
 "nbformat": 4,
 "nbformat_minor": 5
}
