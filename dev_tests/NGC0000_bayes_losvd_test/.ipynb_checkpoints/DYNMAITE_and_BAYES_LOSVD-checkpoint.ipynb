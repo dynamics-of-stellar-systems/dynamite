{
 "cells": [
  {
   "cell_type": "markdown",
   "id": "absolute-window",
   "metadata": {},
   "source": [
    "# Running DYNAMITE with BAYES-LOSVD output\n",
    "\n",
    "## Data Preparation\n",
    "\n",
    "Here are some helper functions to convert BAYES-LOSVD output to input files for DYNAMITE. I'll demonstrate on the example BAYES-LOSVD output file `NGC0000-SP_results.hdf5` in this directory. This file must correspond to the output file for *all* the bins combined (i.e. not the individual bin files).\n",
    "\n",
    "First let's make an \"empty\" BayesLOSVD object,"
   ]
  },
  {
   "cell_type": "code",
   "execution_count": 1,
   "id": "second-advocacy",
   "metadata": {},
   "outputs": [],
   "source": [
    "import dynamite as dyn\n",
    "BayesLOSVD = dyn.kinematics.BayesLOSVD()"
   ]
  },
  {
   "cell_type": "markdown",
   "id": "periodic-character",
   "metadata": {},
   "source": [
    "And then convert the LOSVDs to the DYNAMITE file type,"
   ]
  },
  {
   "cell_type": "code",
   "execution_count": 2,
   "id": "swiss-mattress",
   "metadata": {},
   "outputs": [],
   "source": [
    "filename = 'NGC0000-SP_results.hdf5'\n",
    "BayesLOSVD.write_losvds_to_ecsv_format(filename, outfile='bayes_losvd_kins.ecsv')"
   ]
  },
  {
   "cell_type": "markdown",
   "id": "vocational-brake",
   "metadata": {},
   "source": [
    "This creates a file `bayes_losvd_kins.ecsv`. Next add the PSF into the header of this file,"
   ]
  },
  {
   "cell_type": "code",
   "execution_count": 3,
   "id": "innocent-electricity",
   "metadata": {},
   "outputs": [],
   "source": [
    "BayesLOSVD.add_psf_to_datafile(sigma=[1.,2.],\n",
    "                               weight=[0.6,0.4],\n",
    "                               datafile='bayes_losvd_kins.ecsv')"
   ]
  },
  {
   "cell_type": "markdown",
   "id": "mighty-investigation",
   "metadata": {},
   "source": [
    "We can also create the `aperture.dat` and `bins.dat` files from the BAYES-LOSVD output,"
   ]
  },
  {
   "cell_type": "code",
   "execution_count": 4,
   "id": "italic-brake",
   "metadata": {},
   "outputs": [],
   "source": [
    "BayesLOSVD.write_aperture_and_bin_files(filename=filename,\n",
    "                                        angle_deg=0.,\n",
    "                                        aperture_filename='aperture.dat',\n",
    "                                        bin_filename='bins.dat')"
   ]
  },
  {
   "cell_type": "markdown",
   "id": "dying-apparel",
   "metadata": {},
   "source": [
    "Finally - all data preparation steps complete - we can read create a new BayesLOSVD object with all of this data loaded in,"
   ]
  },
  {
   "cell_type": "code",
   "execution_count": 5,
   "id": "considerable-pasta",
   "metadata": {},
   "outputs": [],
   "source": [
    "BayesLOSVD = dyn.kinematics.BayesLOSVD(datafile='bayes_losvd_kins.ecsv',\n",
    "                                       aperturefile='aperture.dat',\n",
    "                                       binfile='bins.dat')"
   ]
  },
  {
   "cell_type": "code",
   "execution_count": 6,
   "id": "obvious-gross",
   "metadata": {},
   "outputs": [
    {
     "name": "stdout",
     "output_type": "stream",
     "text": [
      "aperture.dat\n",
      "bins.dat\n"
     ]
    }
   ],
   "source": [
    "print(BayesLOSVD.aperturefile)\n",
    "print(BayesLOSVD.binfile)"
   ]
  },
  {
   "cell_type": "code",
   "execution_count": 7,
   "id": "beautiful-battery",
   "metadata": {},
   "outputs": [
    {
     "data": {
      "text/html": [
       "<i>Table length=7</i>\n",
       "<table id=\"table4447616144\" class=\"table-striped table-bordered table-condensed\">\n",
       "<thead><tr><th>binID</th><th>losvd [23]</th><th>dlosvd [23]</th></tr></thead>\n",
       "<thead><tr><th>int64</th><th>float64</th><th>float64</th></tr></thead>\n",
       "<tr><td>0</td><td>0.0009315995866962993 .. 0.007989723827563985</td><td>0.003172802321189809 .. 0.01102166055324799</td></tr>\n",
       "<tr><td>1</td><td>0.0015634178237070796 .. 0.006151026473988539</td><td>0.003712997553619381 .. 0.009886574216475348</td></tr>\n",
       "<tr><td>2</td><td>0.0014952076488095867 .. 0.005859423512956539</td><td>0.0038655642655624047 .. 0.008403823523786734</td></tr>\n",
       "<tr><td>3</td><td>0.0013006332291746199 .. 0.009580512117064139</td><td>0.004177944482585003 .. 0.011805837261544425</td></tr>\n",
       "<tr><td>4</td><td>0.0028644301986617835 .. 0.00998798369183298</td><td>0.006161749443131527 .. 0.014361196254301448</td></tr>\n",
       "<tr><td>5</td><td>0.004917973775501375 .. 0.0022960386030333913</td><td>0.00998954554930891 .. 0.00630723695089467</td></tr>\n",
       "<tr><td>6</td><td>0.0014222301304001907 .. 0.0032704850368621284</td><td>0.004284662236378622 .. 0.008359329127755902</td></tr>\n",
       "</table>"
      ],
      "text/plain": [
       "<Table length=7>\n",
       "binID ...                  dlosvd [23]                 \n",
       "int64 ...                    float64                   \n",
       "----- ... ---------------------------------------------\n",
       "    0 ...   0.003172802321189809 .. 0.01102166055324799\n",
       "    1 ...  0.003712997553619381 .. 0.009886574216475348\n",
       "    2 ... 0.0038655642655624047 .. 0.008403823523786734\n",
       "    3 ...  0.004177944482585003 .. 0.011805837261544425\n",
       "    4 ...  0.006161749443131527 .. 0.014361196254301448\n",
       "    5 ...    0.00998954554930891 .. 0.00630723695089467\n",
       "    6 ...  0.004284662236378622 .. 0.008359329127755902"
      ]
     },
     "execution_count": 7,
     "metadata": {},
     "output_type": "execute_result"
    }
   ],
   "source": [
    "BayesLOSVD.data"
   ]
  },
  {
   "cell_type": "markdown",
   "id": "celtic-visitor",
   "metadata": {},
   "source": [
    "Plot one example,"
   ]
  },
  {
   "cell_type": "code",
   "execution_count": 8,
   "id": "cross-canada",
   "metadata": {
    "scrolled": true
   },
   "outputs": [
    {
     "data": {
      "text/plain": [
       "[<matplotlib.lines.Line2D at 0x166eed950>]"
      ]
     },
     "execution_count": 8,
     "metadata": {},
     "output_type": "execute_result"
    },
    {
     "data": {
      "image/png": "[encoded data removed]",
      "text/plain": [
       "<Figure size 432x288 with 1 Axes>"
      ]
     },
     "metadata": {
      "needs_background": "light"
     },
     "output_type": "display_data"
    }
   ],
   "source": [
    "import matplotlib.pyplot as plt\n",
    "\n",
    "bin_idx = 5\n",
    "mu = BayesLOSVD.data['losvd'][bin_idx,:]\n",
    "sig = BayesLOSVD.data['dlosvd'][bin_idx,:]\n",
    "plt.plot(mu, '-k')\n",
    "plt.plot(mu+sig, ':k')\n",
    "plt.plot(mu-sig, ':k')"
   ]
  }
 ],
 "metadata": {
  "kernelspec": {
   "display_name": "Python 3",
   "language": "python",
   "name": "python3"
  },
  "language_info": {
   "codemirror_mode": {
    "name": "ipython",
    "version": 3
   },
   "file_extension": ".py",
   "mimetype": "text/x-python",
   "name": "python",
   "nbconvert_exporter": "python",
   "pygments_lexer": "ipython3",
   "version": "3.7.9"
  }
 },
 "nbformat": 4,
 "nbformat_minor": 5
}
