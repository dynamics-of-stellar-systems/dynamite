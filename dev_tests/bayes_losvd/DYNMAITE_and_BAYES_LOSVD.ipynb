{
 "cells": [
  {
   "cell_type": "markdown",
   "id": "absolute-window",
   "metadata": {},
   "source": [
    "# DYNAMITE and Bayes-LOSVD\n",
    "\n",
    "BayesLOSVD is a tool for extraction of histogrammed LOSVDs from galaxy-spectra. This notebook shows how to use BayesLOSVD output with DYNAMITE.\n",
    "\n",
    "## Data Preparation \n",
    "\n",
    "There are three steps in the data-preparation:\n",
    "\n",
    "1. convert Bayes-LOSVD output to ECSV file\n",
    "2. add the PSF to the ECSV file header\n",
    "3. create auxillary files aperture.dat and bins.dat\n",
    "\n",
    "\n",
    "I'll demonstrate these steps using Michela's CR galaxy IC0719.\n",
    "\n",
    "**Note for public release** - swap to the followwing: I'll demonstrate these steps using the example `NGC0000-SP_results.hdf5`. This file comes from running the example dataset provided with Bayes-LOSVD, and it contains LOSVDs for every spatial bin of a galaxy. See the [BayesLOSVD documentation](https://github.com/jfalconbarroso/BAYES-LOSVD) for instructions on how to create such files. For convenience, a copy of `NGC0000-SP_results.hdf5` is provided in this directory.\n",
    "\n",
    "#### Convert Bayes-LOSVD output to ECSV file\n",
    "\n",
    "First let's make an \"empty\" BayesLOSVD object,"
   ]
  },
  {
   "cell_type": "code",
   "execution_count": 1,
   "id": "second-advocacy",
   "metadata": {},
   "outputs": [],
   "source": [
    "import numpy as np\n",
    "import matplotlib.pyplot as plt\n",
    "import dynamite as dyn"
   ]
  },
  {
   "cell_type": "code",
   "execution_count": 2,
   "id": "mighty-navigation",
   "metadata": {},
   "outputs": [],
   "source": [
    "BayesLOSVD = dyn.kinematics.BayesLOSVD(weight=1.,\n",
    "                                       hist_width=1,\n",
    "                                       hist_center=0,\n",
    "                                       hist_bins=0,\n",
    "                                       type='BayesLOSVD')"
   ]
  },
  {
   "cell_type": "markdown",
   "id": "dependent-bookmark",
   "metadata": {},
   "source": [
    "We've had to provide some default values for certain keyword parameters, but they won't be used. All we want it to able to use the method `write_losvds_to_ecsv_format` to convert the results to the required ECSV format,"
   ]
  },
  {
   "cell_type": "code",
   "execution_count": 3,
   "id": "swiss-mattress",
   "metadata": {},
   "outputs": [],
   "source": [
    "filename = 'IC0719_input/IC0719_CaT_1-SP_results.hdf5'\n",
    "BayesLOSVD.write_losvds_to_ecsv_format(filename,\n",
    "                                       outfile='IC0719_input/bayes_losvd_kins.ecsv')"
   ]
  },
  {
   "cell_type": "markdown",
   "id": "vocational-brake",
   "metadata": {},
   "source": [
    "This creates a file `bayes_losvd_kins.ecsv`.\n",
    "\n",
    "#### add the PSF to the ECSV file header\n",
    "\n",
    "Next add the PSF into the header of this file. This is specified as a Gaussian mixture with a list of sigmas and weights. Change these numbers to the correct PSF for your data,"
   ]
  },
  {
   "cell_type": "code",
   "execution_count": 4,
   "id": "innocent-electricity",
   "metadata": {},
   "outputs": [],
   "source": [
    "BayesLOSVD.add_psf_to_datafile(sigma=[1.,2.],\n",
    "                               weight=[0.6,0.4],\n",
    "                               datafile='IC0719_input/bayes_losvd_kins.ecsv')"
   ]
  },
  {
   "cell_type": "markdown",
   "id": "sought-feeling",
   "metadata": {},
   "source": [
    "#### create auxillary files\n",
    "\n",
    "We now create some auxillary files (`aperture.dat` and `bins.dat` files) which are used to bin orbit libraries. We first need to re-create the `BayesLOSVD` object, readin-in the ECSV table,"
   ]
  },
  {
   "cell_type": "code",
   "execution_count": 5,
   "id": "instrumental-elephant",
   "metadata": {},
   "outputs": [],
   "source": [
    "BayesLOSVD = dyn.kinematics.BayesLOSVD(datafile='IC0719_input/bayes_losvd_kins.ecsv',\n",
    "                                       weight=1.,\n",
    "                                       type='BayesLOSVD')"
   ]
  },
  {
   "cell_type": "markdown",
   "id": "mighty-investigation",
   "metadata": {},
   "source": [
    "To create the auxillary files, we need to provide an angle (90 - position angle), and the galaxy center in pixel units. The center can either be a tuple $(x_0,y_0)$ or - as is done here - the string `'max_flux'` to use the pixel with maximum flux as center,"
   ]
  },
  {
   "cell_type": "code",
   "execution_count": 6,
   "id": "italic-brake",
   "metadata": {},
   "outputs": [],
   "source": [
    "BayesLOSVD.write_aperture_and_bin_files(filename=filename,\n",
    "                                        angle_deg=90.-53.,\n",
    "                                        center='max_flux',\n",
    "                                        aperture_filename='IC0719_input/aperture.dat',\n",
    "                                        bin_filename='IC0719_input/bins.dat')"
   ]
  },
  {
   "cell_type": "markdown",
   "id": "coated-jacksonville",
   "metadata": {},
   "source": [
    "The two files are created in the directory `IC0719_input`.\n",
    "\n",
    "All of these data preparation steps should be carried out before the main DYNAMITE run.\n",
    "\n",
    "## Looking at the BayesLOSVD output\n",
    "\n",
    "We can read create a new BayesLOSVD object, reading in all files we have just created,"
   ]
  },
  {
   "cell_type": "code",
   "execution_count": 7,
   "id": "considerable-pasta",
   "metadata": {},
   "outputs": [],
   "source": [
    "BayesLOSVD = dyn.kinematics.BayesLOSVD(datafile='IC0719_input/bayes_losvd_kins.ecsv',\n",
    "                                       aperturefile='IC0719_input/aperture.dat',\n",
    "                                       binfile='IC0719_input/bins.dat',\n",
    "                                       weight=1.,\n",
    "                                       type='BayesLOSVD')"
   ]
  },
  {
   "cell_type": "markdown",
   "id": "horizontal-compression",
   "metadata": {},
   "source": [
    "The data is stored in the data attribute,"
   ]
  },
  {
   "cell_type": "code",
   "execution_count": 8,
   "id": "beautiful-battery",
   "metadata": {},
   "outputs": [
    {
     "data": {
      "text/html": [
       "<i>Table length=235</i>\n",
       "<table id=\"table5971515472\" class=\"table-striped table-bordered table-condensed\">\n",
       "<thead><tr><th>binID_BayesLOSVD</th><th>binID_dynamite</th><th>v</th><th>sigma</th><th>xbin</th><th>ybin</th><th>losvd [35]</th><th>dlosvd [35]</th></tr></thead>\n",
       "<thead><tr><th>int64</th><th>int64</th><th>float64</th><th>float64</th><th>float64</th><th>float64</th><th>float64</th><th>float64</th></tr></thead>\n",
       "<tr><td>0</td><td>1</td><td>25.139417714854343</td><td>150.30443226059708</td><td>-0.3333333333333357</td><td>-0.26666666666666927</td><td>0.015259378139774543 .. 0.0019416323497681881</td><td>0.015259378139774543 .. 0.0019416323497681881</td></tr>\n",
       "<tr><td>1</td><td>2</td><td>20.64428749441824</td><td>135.913029588071</td><td>-0.20000000000000284</td><td>-0.5499999999999972</td><td>0.004106415902383198 .. 0.004508561382520821</td><td>0.004106415902383198 .. 0.004508561382520821</td></tr>\n",
       "<tr><td>2</td><td>3</td><td>12.405493855238928</td><td>155.33695847562882</td><td>0.10000000000000142</td><td>-0.3000000000000007</td><td>0.007710072525254317 .. 0.015386889344653404</td><td>0.007710072525254317 .. 0.015386889344653404</td></tr>\n",
       "<tr><td>3</td><td>4</td><td>28.126960053791034</td><td>122.30574005867527</td><td>-0.30000000000000426</td><td>0.09999999999999787</td><td>0.004090768456268483 .. 0.0007614242053367949</td><td>0.004090768456268483 .. 0.0007614242053367949</td></tr>\n",
       "<tr><td>4</td><td>5</td><td>13.213971588565506</td><td>114.6056209979196</td><td>0.10000000000000142</td><td>0.09999999999999787</td><td>0.0018553695864067883 .. 0.002205535931192645</td><td>0.0018553695864067883 .. 0.002205535931192645</td></tr>\n",
       "<tr><td>5</td><td>6</td><td>39.94863636717035</td><td>171.18152737870957</td><td>-0.6799999999999997</td><td>-0.23999999999999844</td><td>0.0189432749850374 .. 0.005585052051007471</td><td>0.0189432749850374 .. 0.005585052051007471</td></tr>\n",
       "<tr><td>6</td><td>7</td><td>42.91353616565235</td><td>158.24235963279546</td><td>-0.7199999999999989</td><td>0.23999999999999844</td><td>0.019946842755926494 .. 0.002535855487729973</td><td>0.019946842755926494 .. 0.002535855487729973</td></tr>\n",
       "<tr><td>7</td><td>8</td><td>26.973097959151097</td><td>125.46661842022787</td><td>-0.30000000000000426</td><td>0.6000000000000014</td><td>0.0043715624686085875 .. 0.0019774594743697392</td><td>0.0043715624686085875 .. 0.0019774594743697392</td></tr>\n",
       "<tr><td>8</td><td>9</td><td>29.120703908039957</td><td>141.27489949798658</td><td>0.20000000000000284</td><td>0.6000000000000014</td><td>0.013105487122553274 .. 0.001582232344009336</td><td>0.013105487122553274 .. 0.001582232344009336</td></tr>\n",
       "<tr><td>9</td><td>10</td><td>38.71780246322871</td><td>133.23188522361173</td><td>-0.7428571428571402</td><td>0.8000000000000007</td><td>0.009500333939260093 .. 0.0010772774229903036</td><td>0.009500333939260093 .. 0.0010772774229903036</td></tr>\n",
       "<tr><td>...</td><td>...</td><td>...</td><td>...</td><td>...</td><td>...</td><td>...</td><td>...</td></tr>\n",
       "<tr><td>227</td><td>226</td><td>-22.697251273051624</td><td>195.4440457860231</td><td>12.414457831325315</td><td>-9.807228915662655</td><td>0.002821486780195322 .. 0.0020212717871967265</td><td>0.002821486780195322 .. 0.0020212717871967265</td></tr>\n",
       "<tr><td>228</td><td>227</td><td>-39.545633956063554</td><td>171.2619500483086</td><td>12.878980891719749</td><td>-14.493630573248419</td><td>0.0020532463794162427 .. 0.003556851429180669</td><td>0.0020532463794162427 .. 0.003556851429180669</td></tr>\n",
       "<tr><td>229</td><td>228</td><td>-22.53364143495651</td><td>184.49476423694554</td><td>14.819130434782622</td><td>-9.747826086956522</td><td>0.003603333232815094 .. 0.0011758884137225555</td><td>0.003603333232815094 .. 0.0011758884137225555</td></tr>\n",
       "<tr><td>230</td><td>229</td><td>-12.192820795289055</td><td>196.68871446845</td><td>13.601562500000007</td><td>-11.664062500000007</td><td>0.013011565176309348 .. 0.0007372270066409365</td><td>0.013011565176309348 .. 0.0007372270066409365</td></tr>\n",
       "<tr><td>231</td><td>230</td><td>-14.430209842720657</td><td>185.29443549912375</td><td>17.755048859934867</td><td>-9.373941368078182</td><td>0.005777112594280011 .. 0.0012039675989902873</td><td>0.005777112594280011 .. 0.0012039675989902873</td></tr>\n",
       "<tr><td>232</td><td>231</td><td>-17.065597855050918</td><td>221.00631115603926</td><td>16.66701846965701</td><td>-15.853825857519803</td><td>0.005304476929191028 .. 0.010083455117004262</td><td>0.005304476929191028 .. 0.010083455117004262</td></tr>\n",
       "<tr><td>233</td><td>232</td><td>60.91817604046168</td><td>189.34856499573456</td><td>-18.926595744680867</td><td>11.672340425531925</td><td>0.001161440583423786 .. 0.0071039952831378405</td><td>0.001161440583423786 .. 0.0071039952831378405</td></tr>\n",
       "<tr><td>234</td><td>233</td><td>0.9559040150672158</td><td>217.71467073503916</td><td>19.63535911602211</td><td>-12.55745856353592</td><td>0.030309159606957247 .. 0.0015679715939720409</td><td>0.030309159606957247 .. 0.0015679715939720409</td></tr>\n",
       "<tr><td>235</td><td>234</td><td>-12.560316308610883</td><td>195.58785517936462</td><td>16.085308056872037</td><td>-12.418009478672996</td><td>0.01055574431136883 .. 0.001198211270709382</td><td>0.01055574431136883 .. 0.001198211270709382</td></tr>\n",
       "<tr><td>237</td><td>235</td><td>-4.408094319705245</td><td>232.06581862453226</td><td>20.936551724137942</td><td>-16.308965517241393</td><td>0.0309406675351486 .. 0.00636959167614537</td><td>0.0309406675351486 .. 0.00636959167614537</td></tr>\n",
       "</table>"
      ],
      "text/plain": [
       "<Table length=235>\n",
       "binID_BayesLOSVD ...                  dlosvd [35]                  \n",
       "     int64       ...                    float64                    \n",
       "---------------- ... ----------------------------------------------\n",
       "               0 ...  0.015259378139774543 .. 0.0019416323497681881\n",
       "               1 ...   0.004106415902383198 .. 0.004508561382520821\n",
       "               2 ...   0.007710072525254317 .. 0.015386889344653404\n",
       "               3 ...  0.004090768456268483 .. 0.0007614242053367949\n",
       "               4 ...  0.0018553695864067883 .. 0.002205535931192645\n",
       "               5 ...     0.0189432749850374 .. 0.005585052051007471\n",
       "               6 ...   0.019946842755926494 .. 0.002535855487729973\n",
       "               7 ... 0.0043715624686085875 .. 0.0019774594743697392\n",
       "               8 ...   0.013105487122553274 .. 0.001582232344009336\n",
       "               9 ...  0.009500333939260093 .. 0.0010772774229903036\n",
       "             ... ...                                            ...\n",
       "             227 ...  0.002821486780195322 .. 0.0020212717871967265\n",
       "             228 ...  0.0020532463794162427 .. 0.003556851429180669\n",
       "             229 ...  0.003603333232815094 .. 0.0011758884137225555\n",
       "             230 ...  0.013011565176309348 .. 0.0007372270066409365\n",
       "             231 ...  0.005777112594280011 .. 0.0012039675989902873\n",
       "             232 ...   0.005304476929191028 .. 0.010083455117004262\n",
       "             233 ...  0.001161440583423786 .. 0.0071039952831378405\n",
       "             234 ...  0.030309159606957247 .. 0.0015679715939720409\n",
       "             235 ...    0.01055574431136883 .. 0.001198211270709382\n",
       "             237 ...      0.0309406675351486 .. 0.00636959167614537"
      ]
     },
     "execution_count": 8,
     "metadata": {},
     "output_type": "execute_result"
    }
   ],
   "source": [
    "BayesLOSVD.data"
   ]
  },
  {
   "cell_type": "code",
   "execution_count": 16,
   "id": "final-nomination",
   "metadata": {},
   "outputs": [],
   "source": [
    "rbin = (BayesLOSVD.data['xbin']**2 + BayesLOSVD.data['ybin']**2.)**0.5"
   ]
  },
  {
   "cell_type": "code",
   "execution_count": 20,
   "id": "derived-messaging",
   "metadata": {},
   "outputs": [
    {
     "data": {
      "text/plain": [
       "(array([ 1.,  2.,  5.,  9., 19., 30., 49., 59., 41., 20.]),\n",
       " array([-0.849485  , -0.62214795, -0.3948109 , -0.16747385,  0.05986319,\n",
       "         0.28720024,  0.51453729,  0.74187434,  0.96921139,  1.19654844,\n",
       "         1.42388549]),\n",
       " <BarContainer object of 10 artists>)"
      ]
     },
     "execution_count": 20,
     "metadata": {},
     "output_type": "execute_result"
    },
    {
     "data": {
      "image/png": "[encoded data removed]",
      "text/plain": [
       "<Figure size 432x288 with 1 Axes>"
      ]
     },
     "metadata": {
      "needs_background": "light"
     },
     "output_type": "display_data"
    }
   ],
   "source": [
    "plt.hist(np.log10(rbin))"
   ]
  },
  {
   "cell_type": "code",
   "execution_count": 21,
   "id": "official-progressive",
   "metadata": {},
   "outputs": [
    {
     "data": {
      "text/plain": [
       "31.622776601683793"
      ]
     },
     "execution_count": 21,
     "metadata": {},
     "output_type": "execute_result"
    }
   ],
   "source": [
    "10.**1.5"
   ]
  },
  {
   "cell_type": "markdown",
   "id": "english-speech",
   "metadata": {},
   "source": [
    "**Note on bin IDs**: there are two binIDs in this table: BayesLOSVD and DYNMAITE. The differeces between these are:\n",
    "\n",
    "1. BayesLOSVD bins are zero-indexed, while DYNAMITE (specifically fortran code) requires that  bins are 1-indexed,\n",
    "2. BayesLOSVD bins may have some gaps (as some bins may be masked) while DYNATIMTE assumes the binIDs increase without gaps\n",
    "\n",
    "You won't need to worry about this difference when running DYNAMITE, but be aware that of the difference for any later analysis.\n",
    "\n",
    "The remaining columns are the LOSVD itself (`losvd`), the error on the LOSVD (`dlosvd`), its mean `v` and standard deviation `sigma`, and spatial bin co-ordinates (`xbin` and `ybin`). BayesLOSVD represents the LOSVD as a sequence of weights $L_i$ in velocity bins $v_i$. Details of the velocity array are stored as metadata to the data table,"
   ]
  },
  {
   "cell_type": "code",
   "execution_count": 9,
   "id": "advised-development",
   "metadata": {},
   "outputs": [
    {
     "name": "stdout",
     "output_type": "stream",
     "text": [
      "Bayes-LOSVD table contains meta-data about:  odict_keys(['dv', 'nbins', 'nvbins', 'vcent', 'PSF'])\n",
      "     velocity spacing of bins =  40.0\n",
      "     number of spatial bins =  235\n",
      "     number of velocty bins =  35\n",
      "     etc...\n"
     ]
    }
   ],
   "source": [
    "print('Bayes-LOSVD table contains meta-data about: ', BayesLOSVD.data.meta.keys())\n",
    "print('     velocity spacing of bins = ', BayesLOSVD.data.meta['dv'])\n",
    "print('     number of spatial bins = ', BayesLOSVD.data.meta['nbins'])\n",
    "print('     number of velocty bins = ', BayesLOSVD.data.meta['nvbins'])\n",
    "print('     etc...')"
   ]
  },
  {
   "cell_type": "markdown",
   "id": "creative-memorabilia",
   "metadata": {},
   "source": [
    "BayesLOSVD samples the multi-dimensional posterior on the LOSVD weights $L_i$. The full multidimensional posterior is not saved by defaut, however. What is saved, and what is given in the table above, is the median and 68% Bayesian credible intervals for the weight in each velocity bin.\n",
    "\n",
    "One important effect of this is on LOSVD normalisation. The posterior samples created by BayesLOSVD are normnalised to 1 i.e. \n",
    "\n",
    "$$\n",
    "\\sum_i L_i = 1\n",
    "$$\n",
    "\n",
    "(this is acheieved by using the `simplex` datatype in STAN). The default results file, however, gives median values per velocity bin. These are *not* normalised the same way. Let's call these median value,\n",
    "\n",
    "$$\n",
    "l_i = \\mathrm{median}(L_{i})\n",
    "$$\n",
    "\n",
    "and look at a histogram of the sums of the $l_i$ in each spatial bin,"
   ]
  },
  {
   "cell_type": "code",
   "execution_count": 10,
   "id": "operating-going",
   "metadata": {},
   "outputs": [
    {
     "data": {
      "image/png": "[encoded data removed]",
      "text/plain": [
       "<Figure size 432x288 with 1 Axes>"
      ]
     },
     "metadata": {
      "needs_background": "light"
     },
     "output_type": "display_data"
    }
   ],
   "source": [
    "plt.hist(np.sum(BayesLOSVD.data['losvd'], 1))\n",
    "plt.axvline(1., ls='--', color='r')\n",
    "plt.gca().set_xlabel('$\\sum_i l_{i}$')\n",
    "plt.gca().set_ylabel('$N$')\n",
    "_ = plt.gca().set_title('LOSVD normalisation in different spatial bins')"
   ]
  },
  {
   "cell_type": "markdown",
   "id": "organizational-venue",
   "metadata": {},
   "source": [
    "This peaks around 0.9 and, in some cases, is as low as 0.6, and it will be important to acccount for this. When calculating moments of the LOSVDs, for example, we will have to re-normalise. Let's define the re-normalised `losvd` as\n",
    "\n",
    "$$\n",
    "\\hat{l}_{i} = \\frac{l_{i}}{\\sum_i l_{i}}\n",
    "$$\n",
    "\n",
    "This quantity $\\hat{l}_{i}$ is what we will use to make point estimates of the the mean and standard deviation LOSVD which appear in the `v` and `sigma` columns of the data-table,\n",
    "\n",
    "$$\n",
    "v = \\sum_i v_i * \\hat{l}_{i}\n",
    "$$\n",
    "\n",
    "$$\n",
    "\\sigma = \\left[ \\sum_i (v_i-v)^2 * \\hat{l}_{i} \\right]^{\\frac{1}{2}}\n",
    "$$"
   ]
  },
  {
   "cell_type": "markdown",
   "id": "celtic-visitor",
   "metadata": {},
   "source": [
    "Let's plot a few examples of LOSVDs and their Gaussian approximations using `v` and `sigma` in different spatial bins,"
   ]
  },
  {
   "cell_type": "code",
   "execution_count": 11,
   "id": "cross-canada",
   "metadata": {
    "scrolled": false
   },
   "outputs": [
    {
     "data": {
      "image/png": "[encoded data removed]",
      "text/plain": [
       "<Figure size 432x288 with 1 Axes>"
      ]
     },
     "metadata": {
      "needs_background": "light"
     },
     "output_type": "display_data"
    },
    {
     "data": {
      "image/png": "[encoded data removed]",
      "text/plain": [
       "<Figure size 432x288 with 1 Axes>"
      ]
     },
     "metadata": {
      "needs_background": "light"
     },
     "output_type": "display_data"
    },
    {
     "data": {
      "image/png": "[encoded data removed]",
      "text/plain": [
       "<Figure size 432x288 with 1 Axes>"
      ]
     },
     "metadata": {
      "needs_background": "light"
     },
     "output_type": "display_data"
    }
   ],
   "source": [
    "from scipy import stats\n",
    "\n",
    "for bin_idx in [0, 90, 120]:\n",
    "    mu = BayesLOSVD.data['losvd'][bin_idx,:]\n",
    "    sig = BayesLOSVD.data['dlosvd'][bin_idx,:]\n",
    "    vcent = BayesLOSVD.data.meta['vcent']\n",
    "    plt.plot(vcent, mu, '-k', label='BayesLOSVD')\n",
    "    plt.plot(vcent, mu+sig, ':k')\n",
    "    plt.plot(vcent, mu-sig, ':k')\n",
    "    v, sig = BayesLOSVD.data['v'][bin_idx], BayesLOSVD.data['sigma'][bin_idx]\n",
    "    plt.gca().axvline(v, color='r', ls=':', label='v')\n",
    "    nrm = stats.norm(v, sig)\n",
    "    pdf = nrm.pdf(vcent)\n",
    "    plt.gca().plot(vcent, pdf/np.sum(pdf), color='r', ls='--', label='N(v,sigma)')\n",
    "    plt.gca().set_xlabel('Velocity [km/s]')\n",
    "    plt.gca().set_ylabel('LOSVD [km/s]')\n",
    "    _ = plt.gca().set_title(f'LOSVD and errors in bin {bin_idx}')\n",
    "    plt.gca().legend()\n",
    "    plt.show()"
   ]
  },
  {
   "cell_type": "markdown",
   "id": "material-bradford",
   "metadata": {},
   "source": [
    "In the final example, the LOSVD is bimodal, and this is clearly not well matched at all by the Gaussian. But even in the previous two, unimodal, examples, the Gaussian approximations is not good. The Gaussians are much wider that the BayesLOSVD histograms. Why is this? Let's look at the two unimodal LOSVDs again, this time on a log-scale,"
   ]
  },
  {
   "cell_type": "code",
   "execution_count": 12,
   "id": "included-message",
   "metadata": {},
   "outputs": [
    {
     "data": {
      "image/png": "[encoded data removed]",
      "text/plain": [
       "<Figure size 432x288 with 1 Axes>"
      ]
     },
     "metadata": {
      "needs_background": "light"
     },
     "output_type": "display_data"
    },
    {
     "data": {
      "image/png": "[encoded data removed]",
      "text/plain": [
       "<Figure size 432x288 with 1 Axes>"
      ]
     },
     "metadata": {
      "needs_background": "light"
     },
     "output_type": "display_data"
    }
   ],
   "source": [
    "for bin_idx in [0, 90]:\n",
    "    mu = BayesLOSVD.data['losvd'][bin_idx,:]\n",
    "    sig = BayesLOSVD.data['dlosvd'][bin_idx,:]\n",
    "    vcent = BayesLOSVD.data.meta['vcent']\n",
    "    plt.plot(vcent, mu, '-k', label='BayesLOSVD')\n",
    "    plt.plot(vcent, mu+sig, ':k')\n",
    "    plt.plot(vcent, mu-sig, ':k')\n",
    "    v, sig = BayesLOSVD.data['v'][bin_idx], BayesLOSVD.data['sigma'][bin_idx]\n",
    "    plt.gca().axvline(v, color='r', ls=':', label='v')\n",
    "    nrm = stats.norm(v, sig)\n",
    "    pdf = nrm.pdf(vcent)\n",
    "    plt.gca().plot(vcent, pdf/np.sum(pdf), color='r', ls='--', label='N(v,sigma)')\n",
    "    plt.gca().set_xlabel('Velocity [km/s]')\n",
    "    plt.gca().set_ylabel('LOSVD [km/s]')\n",
    "    _ = plt.gca().set_title(f'LOSVD with 68% CIs in bin {bin_idx}')\n",
    "    plt.gca().legend()\n",
    "    plt.gca().set_yscale('log')\n",
    "    plt.show()"
   ]
  },
  {
   "cell_type": "markdown",
   "id": "attractive-monaco",
   "metadata": {},
   "source": [
    "we see that BayesLOSVD does not force the LOSVD to decay at large velocities. The fat tails give rise to large standard deviations. The `sigma` are unrepresentative of the width of the main body of the distribution. So, sigma maps for BayesLOSVD output would likely not be very useful. Quantile maps may be better.\n",
    "\n",
    "## Running DYNAMITE\n",
    "\n",
    "To run DYNAMITE with BayesLOSVD output, you need to specify `type: BayesLOSVD` in the kinemtics section of the configuration file. An example `IC0719_dynmaite_config.yaml` is provided in this directory. The relevant part for us is the following,\n",
    "\n",
    "    system_components:\n",
    "        ...\n",
    "        stars:\n",
    "            ...\n",
    "            kinematics:\n",
    "                MUSE_CaT:\n",
    "                    weight: 1.0\n",
    "                    type: BayesLOSVD\n",
    "                    datafile: \"bayes_losvd_kins.ecsv\"\n",
    "                    aperturefile: \"aperture.dat\"\n",
    "                    binfile: \"bins.dat\"\n",
    "\n",
    "The entry `MUSE_caT` is a descriptive name, which can be any name we wish to use for this kinematic dataset. In this case, the kinematics came from the calcium triplet using MUSE data, hence `MUSE_caT`. The `type` must be `BayesLOSVD`, and the filenames should be those produced in the data-preparaition step.\n",
    "\n",
    "To read the configuration file,"
   ]
  },
  {
   "cell_type": "code",
   "execution_count": 13,
   "id": "numerous-singapore",
   "metadata": {},
   "outputs": [
    {
     "name": "stderr",
     "output_type": "stream",
     "text": [
      "[INFO] 12:07:47 - dynamite.config_reader.Configuration - Config file IC0719_dynamite_config.yaml read.\n",
      "[INFO] 12:07:47 - dynamite.config_reader.Configuration - io_settings...\n",
      "[INFO] 12:07:47 - dynamite.config_reader.Configuration - system_attributes...\n",
      "[INFO] 12:07:47 - dynamite.config_reader.Configuration - model_components...\n",
      "[INFO] 12:07:47 - dynamite.config_reader.Configuration - system_parameters...\n",
      "[INFO] 12:07:47 - dynamite.config_reader.Configuration - orblib_settings...\n",
      "[INFO] 12:07:47 - dynamite.config_reader.Configuration - weight_solver_settings...\n",
      "[INFO] 12:07:47 - dynamite.config_reader.Configuration - parameter_space_settings...\n",
      "[INFO] 12:07:47 - dynamite.config_reader.Configuration - legacy_settings...\n",
      "[INFO] 12:07:47 - dynamite.config_reader.Configuration - multiprocessing_settings...\n",
      "[INFO] 12:07:47 - dynamite.config_reader.Configuration - ... using 4 CPUs.\n",
      "[INFO] 12:07:47 - dynamite.config_reader.Configuration - System assembled\n",
      "[INFO] 12:07:47 - dynamite.config_reader.Configuration - Configuration validated\n",
      "[INFO] 12:07:47 - dynamite.config_reader.Configuration - Instantiated parameter space\n",
      "[INFO] 12:07:47 - model.AllModels - No previous models (file IC0719_output/all_models.ecsv) have been found: Making an empty table in AllModels.table\n",
      "[INFO] 12:07:47 - dynamite.config_reader.Configuration - Instantiated AllModels object\n",
      "[INFO] 12:07:47 - dynamite.config_reader.Configuration - Config file backup: IC0719_output/IC0719_dynamite_config_001.yaml\n",
      "[INFO] 12:07:47 - dynamite.config_reader.Configuration - Output directory tree IC0719_output/ removed.\n",
      "[INFO] 12:07:47 - model.AllModels - No previous models (file IC0719_output/all_models.ecsv) have been found: Making an empty table in AllModels.table\n",
      "[INFO] 12:07:47 - dynamite.config_reader.Configuration - Instantiated empty AllModels object\n",
      "[INFO] 12:07:47 - dynamite.config_reader.Configuration - Config file backup: IC0719_output/IC0719_dynamite_config_000.yaml\n"
     ]
    }
   ],
   "source": [
    "fname = 'IC0719_dynamite_config.yaml'\n",
    "c = dyn.config_reader.Configuration(fname, reset_logging=True)\n",
    "c.remove_all_existing_output(wipe_all=True)"
   ]
  },
  {
   "cell_type": "markdown",
   "id": "resistant-investing",
   "metadata": {},
   "source": [
    "When the configuration file is read into the configration object `c`. A `BayesLOSVD` object has been created, and we can extract this: it belongs to the `stars` component, and is the first (and in this case only) data set in the list of kinematic_data,"
   ]
  },
  {
   "cell_type": "code",
   "execution_count": null,
   "id": "looking-isolation",
   "metadata": {},
   "outputs": [],
   "source": [
    "stars = c.system.get_component_from_name('stars')\n",
    "BayesLOSVD = stars.kinematic_data[0]\n",
    "print(type(BayesLOSVD))"
   ]
  },
  {
   "cell_type": "markdown",
   "id": "intimate-guyana",
   "metadata": {},
   "source": [
    "Some quantites have been automatically set when the ocnfiguration has been read in. For example, the following settings define the histogram bins for storing LOSVDs of the orbit libraries,"
   ]
  },
  {
   "cell_type": "code",
   "execution_count": null,
   "id": "higher-surge",
   "metadata": {},
   "outputs": [],
   "source": [
    "print('Orbit LOSVD histogram width = ', BayesLOSVD.hist_width)\n",
    "print('Orbit LOSVD histogram n bins = ', BayesLOSVD.hist_bins)\n",
    "print('Orbit LOSVD histogram velocity spacing = ', BayesLOSVD.hist_width/BayesLOSVD.hist_bins)"
   ]
  },
  {
   "cell_type": "markdown",
   "id": "latter-control",
   "metadata": {},
   "source": [
    "These defaultss will scale with the input data provided - the range is double the data range, and the velocity spacing is about a tenth of the data spacing. To override the defaults, you can alternatively set the quantities in the configuration file, e.g.\n",
    "\n",
    "    kinematics:\n",
    "        MUSE_CaT\n",
    "            hist_width: ...\n",
    "            hist_bins: ...\n",
    "            ...\n",
    "                  \n",
    "Let's run an orbit library...?"
   ]
  },
  {
   "cell_type": "code",
   "execution_count": null,
   "id": "supported-reynolds",
   "metadata": {},
   "outputs": [],
   "source": [
    "parset0 = c.all_models.parspace.get_parset()\n",
    "\n",
    "mod0 = dyn.model.Model(system=c.system, settings=c.settings, parspace=c.parspace, parset=parset0)\n",
    "mod0.setup_directories()"
   ]
  },
  {
   "cell_type": "code",
   "execution_count": null,
   "id": "thrown-collect",
   "metadata": {},
   "outputs": [],
   "source": [
    "orblib0 = mod0.get_orblib()"
   ]
  },
  {
   "cell_type": "code",
   "execution_count": null,
   "id": "historic-motor",
   "metadata": {},
   "outputs": [],
   "source": [
    "fig, ax = plt.subplots(1, 1, figsize=(10,10))\n",
    "ax.imshow(np.log10(np.sum(orblib0.losvd_histograms[0].y, (1))))\n",
    "ax.axhline(6*4*3*2, ls='-', color='C1', lw=1)"
   ]
  },
  {
   "cell_type": "code",
   "execution_count": null,
   "id": "motivated-liver",
   "metadata": {},
   "outputs": [],
   "source": [
    "from plotbin import display_pixels\n"
   ]
  },
  {
   "cell_type": "code",
   "execution_count": null,
   "id": "freelance-chaos",
   "metadata": {},
   "outputs": [],
   "source": [
    "aperture_fname = c.settings.io_settings['input_directory']+BayesLOSVD.aperturefile\n",
    "\n",
    "lines = [line.rstrip('\\n').split() for line in open(aperture_fname)]\n",
    "strhead = lines[0]\n",
    "minx = float(lines[1][0])\n",
    "miny = float(lines[1][1])\n",
    "sx = float(lines[2][0])\n",
    "sy = float(lines[2][1])\n",
    "maxx = sx + minx\n",
    "sy = sy + miny\n",
    "angle_deg = float(lines[3][0])  # - 90.0 + 180\n",
    "nx = int(lines[4][0])\n",
    "ny = int(lines[4][1])\n",
    "dx = sx / nx\n",
    "\n",
    "xr = np.arange(nx, dtype=float) * dx + minx + 0.5 * dx\n",
    "yc = np.arange(ny, dtype=float) * dx + miny + 0.5 * dx\n",
    "\n",
    "xi = np.outer(xr, (yc * 0 + 1))\n",
    "xt = xi.T.flatten()\n",
    "yi = np.outer((xr * 0 + 1), yc)\n",
    "yt = yi.T.flatten()\n",
    "\n",
    "radeg = 57.2958\n",
    "xi = xt\n",
    "yi = yt\n",
    "\n",
    "bin_fname = c.settings.io_settings['input_directory']+BayesLOSVD.binfile\n",
    "lines_bins = [line.rstrip('\\n').split() for line in open(bin_fname)]\n",
    "i = 0\n",
    "str_head = []\n",
    "i_var = []\n",
    "grid = []\n",
    "while i < len(lines_bins):\n",
    "    for x in lines_bins[i]:\n",
    "        if i == 0:\n",
    "            str_head.append(str(x))\n",
    "        if i == 1:\n",
    "            i_var.append(int(x))\n",
    "        if i > 1:\n",
    "            grid.append(int(x))\n",
    "    i += 1\n",
    "str_head = str(str_head[0])\n",
    "i_var = int(i_var[0])\n",
    "grid = np.ravel(np.array(grid))\n",
    "\n",
    "# bins start counting at 1 in fortran and at 0 in idl:\n",
    "grid = grid - 1\n",
    "\n",
    "# Only select the pixels that have a bin associated with them.\n",
    "s = np.ravel(np.where((grid >= 0)))\n",
    "\n",
    "x, y = xi[s], yi[s]"
   ]
  },
  {
   "cell_type": "code",
   "execution_count": null,
   "id": "actual-trailer",
   "metadata": {},
   "outputs": [],
   "source": [
    "display_pixels.display_pixels(x, y, BayesLOSVD.data['v'][grid[s]],\n",
    "                              pixelsize=dx,\n",
    "                              angle=angle_deg,\n",
    "                              cmap='sauron',\n",
    "                              vmin=-100,\n",
    "                              vmax=100,\n",
    "                              colorbar=True)"
   ]
  },
  {
   "cell_type": "markdown",
   "id": "dress-classification",
   "metadata": {},
   "source": [
    "Some orbits look fine:"
   ]
  },
  {
   "cell_type": "code",
   "execution_count": null,
   "id": "statutory-jacksonville",
   "metadata": {},
   "outputs": [],
   "source": [
    "img = np.log10(np.sum(orblib0.losvd_histograms[0].y, (1,))[0])\n",
    "display_pixels.display_pixels(x, y,\n",
    "                              img[grid[s]],\n",
    "                              pixelsize=dx,\n",
    "                              angle=angle_deg,\n",
    "                              cmap='sauron',\n",
    "                              vmin=-6, vmax=-2,\n",
    "                              colorbar=True)"
   ]
  },
  {
   "cell_type": "code",
   "execution_count": null,
   "id": "awful-welcome",
   "metadata": {},
   "outputs": [],
   "source": [
    "img = np.log10(np.sum(orblib0.losvd_histograms[0].y, (1,))[56])\n",
    "display_pixels.display_pixels(x, y,\n",
    "                              img[grid[s]],\n",
    "                              pixelsize=dx,\n",
    "                              angle=angle_deg,\n",
    "                              cmap='sauron',\n",
    "                              vmin=-6, vmax=-2,\n",
    "                              colorbar=True)"
   ]
  },
  {
   "cell_type": "code",
   "execution_count": null,
   "id": "baking-watts",
   "metadata": {},
   "outputs": [],
   "source": [
    "img = np.log10(np.sum(orblib0.losvd_histograms[0].y, (1,))[87])\n",
    "display_pixels.display_pixels(x, y,\n",
    "                              img[grid[s]],\n",
    "                              pixelsize=dx,\n",
    "                              angle=angle_deg,\n",
    "                              cmap='sauron',\n",
    "                              vmin=-6, vmax=-2,\n",
    "                              colorbar=True)"
   ]
  },
  {
   "cell_type": "markdown",
   "id": "amazing-gross",
   "metadata": {},
   "source": [
    "But some are so... weird!? e.g."
   ]
  },
  {
   "cell_type": "code",
   "execution_count": null,
   "id": "stone-cover",
   "metadata": {},
   "outputs": [],
   "source": [
    "img = np.log10(np.sum(orblib0.losvd_histograms[0].y, (1,))[47])\n",
    "display_pixels.display_pixels(x, y,\n",
    "                              img[grid[s]],\n",
    "                              pixelsize=dx,\n",
    "                              angle=angle_deg,\n",
    "                              cmap='sauron',\n",
    "                              vmin=-6, vmax=-2,\n",
    "                              colorbar=True)"
   ]
  },
  {
   "cell_type": "code",
   "execution_count": null,
   "id": "applied-discipline",
   "metadata": {},
   "outputs": [],
   "source": [
    "img = np.log10(np.sum(orblib0.losvd_histograms[0].y, (1,))[44])\n",
    "display_pixels.display_pixels(x, y,\n",
    "                              img[grid[s]],\n",
    "                              pixelsize=dx,\n",
    "                              angle=angle_deg,\n",
    "                              cmap='sauron',\n",
    "                              vmin=-6, vmax=-2,\n",
    "                              colorbar=True)"
   ]
  },
  {
   "cell_type": "markdown",
   "id": "underlying-relationship",
   "metadata": {},
   "source": [
    "Looks like a banana orbit, perhaps... but aren't these meant to be point symmetrized?"
   ]
  },
  {
   "cell_type": "code",
   "execution_count": null,
   "id": "returning-dream",
   "metadata": {},
   "outputs": [],
   "source": [
    "img = np.log10(np.sum(orblib0.losvd_histograms[0].y, (1,))[151])\n",
    "display_pixels.display_pixels(x, y,\n",
    "                              img[grid[s]],\n",
    "                              pixelsize=dx,\n",
    "                              angle=angle_deg,\n",
    "                              cmap='sauron',\n",
    "                              vmin=-6, vmax=-2,\n",
    "                              colorbar=True)"
   ]
  },
  {
   "cell_type": "markdown",
   "id": "naughty-bolivia",
   "metadata": {},
   "source": [
    "And then many don't exist... at all!"
   ]
  },
  {
   "cell_type": "code",
   "execution_count": null,
   "id": "placed-hunger",
   "metadata": {},
   "outputs": [],
   "source": [
    "img = np.log10(np.sum(orblib0.losvd_histograms[0].y, (1,))[153])\n",
    "display_pixels.display_pixels(x, y,\n",
    "                              img[grid[s]],\n",
    "                              pixelsize=dx,\n",
    "                              angle=angle_deg,\n",
    "                              cmap='sauron',\n",
    "                              vmin=-6, vmax=-2,\n",
    "                              colorbar=True)"
   ]
  },
  {
   "cell_type": "markdown",
   "id": "russian-sending",
   "metadata": {},
   "source": [
    "Is this a problems with the mge not being correct? Or with the PA? Or the potential parameters...? I have no idea.\n",
    "\n",
    "Let's look at some box orbits:"
   ]
  },
  {
   "cell_type": "code",
   "execution_count": null,
   "id": "equipped-console",
   "metadata": {},
   "outputs": [],
   "source": [
    "img = np.log10(np.sum(orblib0.losvd_histograms[0].y, (1,))[189])\n",
    "display_pixels.display_pixels(x, y,\n",
    "                              img[grid[s]],\n",
    "                              pixelsize=dx,\n",
    "                              angle=angle_deg,\n",
    "                              cmap='sauron',\n",
    "                              vmin=-6, vmax=-2,\n",
    "                              colorbar=True)"
   ]
  },
  {
   "cell_type": "code",
   "execution_count": null,
   "id": "abstract-portugal",
   "metadata": {},
   "outputs": [],
   "source": [
    "img = np.log10(np.sum(orblib0.losvd_histograms[0].y, (1,))[215])\n",
    "display_pixels.display_pixels(x, y,\n",
    "                              img[grid[s]],\n",
    "                              pixelsize=dx,\n",
    "                              angle=angle_deg,\n",
    "                              cmap='sauron',\n",
    "                              vmin=-6, vmax=-2,\n",
    "                              colorbar=True)"
   ]
  },
  {
   "cell_type": "code",
   "execution_count": null,
   "id": "historical-peeing",
   "metadata": {},
   "outputs": [],
   "source": [
    "fig, ax = plt.subplots(1, 1, figsize=(10,10))\n",
    "ax.imshow(np.log10(np.sum(orblib0.losvd_histograms[0].y, (1))))\n",
    "ax.axhline(6*4*3*2, ls='-', color='C1', lw=1)"
   ]
  },
  {
   "cell_type": "code",
   "execution_count": null,
   "id": "colored-department",
   "metadata": {},
   "outputs": [],
   "source": [
    "np.sum(np.sum(orblib0.losvd_histograms[0].y, (1,))==0., 1).shape"
   ]
  },
  {
   "cell_type": "code",
   "execution_count": null,
   "id": "medieval-think",
   "metadata": {},
   "outputs": [],
   "source": [
    "n_bins_empty = np.sum(np.sum(orblib0.losvd_histograms[0].y, (1,))==0., 1)\n",
    "n_bins_tot = orblib0.losvd_histograms[0].y.shape[2]\n",
    "frac_bins_empty = n_bins_empty/n_bins_tot\n",
    "fig, ax = plt.subplots(1, 1, figsize=(15,3))\n",
    "ax.plot(frac_bins_empty, '-o', ms=2)\n",
    "ax.set_ylim(0, 1)"
   ]
  },
  {
   "cell_type": "code",
   "execution_count": null,
   "id": "earlier-highlight",
   "metadata": {},
   "outputs": [],
   "source": [
    "img = np.log10(np.sum(orblib0.losvd_histograms[0].y, (1,))[136])\n",
    "display_pixels.display_pixels(x, y,\n",
    "                              img[grid[s]],\n",
    "                              pixelsize=dx,\n",
    "                              angle=angle_deg,\n",
    "                              cmap='sauron',\n",
    "                              vmin=-6, vmax=-3,\n",
    "                              colorbar=True)"
   ]
  }
 ],
 "metadata": {
  "kernelspec": {
   "display_name": "Python 3",
   "language": "python",
   "name": "python3"
  },
  "language_info": {
   "codemirror_mode": {
    "name": "ipython",
    "version": 3
   },
   "file_extension": ".py",
   "mimetype": "text/x-python",
   "name": "python",
   "nbconvert_exporter": "python",
   "pygments_lexer": "ipython3",
   "version": "3.7.9"
  }
 },
 "nbformat": 4,
 "nbformat_minor": 5
}
